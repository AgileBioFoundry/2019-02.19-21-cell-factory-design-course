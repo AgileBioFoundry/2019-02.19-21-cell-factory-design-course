{
 "cells": [
  {
   "cell_type": "markdown",
   "metadata": {
    "toc": true
   },
   "source": [
    "<h1>Table of Contents<span class=\"tocSkip\"></span></h1>\n",
    "<div class=\"toc\"><ul class=\"toc-item\"><li><span><a href=\"#Predict-expression-modulation-targets\" data-toc-modified-id=\"Predict-expression-modulation-targets-1\"><span class=\"toc-item-num\">1&nbsp;&nbsp;</span>Predict expression modulation targets</a></span><ul class=\"toc-item\"><li><span><a href=\"#Succinate-production\" data-toc-modified-id=\"Succinate-production-1.1\"><span class=\"toc-item-num\">1.1&nbsp;&nbsp;</span>Succinate production</a></span></li><li><span><a href=\"#Flux-Scanning-based-on-Enforced-Objective-Flux\" data-toc-modified-id=\"Flux-Scanning-based-on-Enforced-Objective-Flux-1.2\"><span class=\"toc-item-num\">1.2&nbsp;&nbsp;</span>Flux Scanning based on Enforced Objective Flux</a></span></li><li><span><a href=\"#Differential-flux-variability-analysis\" data-toc-modified-id=\"Differential-flux-variability-analysis-1.3\"><span class=\"toc-item-num\">1.3&nbsp;&nbsp;</span>Differential flux variability analysis</a></span></li></ul></li><li><span><a href=\"#References\" data-toc-modified-id=\"References-2\"><span class=\"toc-item-num\">2&nbsp;&nbsp;</span>References</a></span></li></ul></div>"
   ]
  },
  {
   "cell_type": "markdown",
   "metadata": {},
   "source": [
    "# Predict expression modulation targets\n",
    "\n",
    "Cameo provides algorithms to search for genes or reactions that can be over or down regulated in order to achieve a given biological objective."
   ]
  },
  {
   "cell_type": "code",
   "execution_count": null,
   "metadata": {
    "ExecuteTime": {
     "end_time": "2019-02-28T08:11:19.042424Z",
     "start_time": "2019-02-28T08:11:16.586528Z"
    }
   },
   "outputs": [],
   "source": [
    "from cobra.io import read_sbml_model\n",
    "from cameo import phenotypic_phase_plane"
   ]
  },
  {
   "cell_type": "markdown",
   "metadata": {},
   "source": [
    "Load the E. coli core model."
   ]
  },
  {
   "cell_type": "code",
   "execution_count": null,
   "metadata": {
    "ExecuteTime": {
     "end_time": "2019-02-28T08:11:19.473477Z",
     "start_time": "2019-02-28T08:11:19.291047Z"
    }
   },
   "outputs": [],
   "source": [
    "model = read_sbml_model('data/e_coli_core.xml.gz')"
   ]
  },
  {
   "cell_type": "markdown",
   "metadata": {},
   "source": [
    "## Succinate production"
   ]
  },
  {
   "cell_type": "markdown",
   "metadata": {},
   "source": [
    "The production envelope looks like this."
   ]
  },
  {
   "cell_type": "code",
   "execution_count": null,
   "metadata": {
    "ExecuteTime": {
     "end_time": "2019-02-28T08:11:45.700688Z",
     "start_time": "2019-02-28T08:11:45.335363Z"
    }
   },
   "outputs": [],
   "source": [
    "production_envelope = phenotypic_phase_plane(model, \n",
    "                                             variables=[model.reactions.BIOMASS_Ecoli_core_w_GAM],\n",
    "                                             objective=model.metabolites.succ_e)\n",
    "production_envelope.plot()"
   ]
  },
  {
   "cell_type": "markdown",
   "metadata": {},
   "source": [
    "## Flux Scanning based on Enforced Objective Flux\n",
    "\n",
    "We wish to find gene amplification targets by searching for reaction fluxes that increase as the production target flux is increased. [[Choi 2010](#references)]\n",
    "![FSEOF](FSEOF.png)"
   ]
  },
  {
   "cell_type": "code",
   "execution_count": null,
   "metadata": {
    "ExecuteTime": {
     "end_time": "2019-02-25T09:05:55.889418Z",
     "start_time": "2019-02-25T09:05:55.647168Z"
    }
   },
   "outputs": [],
   "source": [
    "from cameo.strain_design.deterministic.flux_variability_based import FSEOF"
   ]
  },
  {
   "cell_type": "code",
   "execution_count": null,
   "metadata": {
    "ExecuteTime": {
     "end_time": "2019-02-25T09:05:59.162027Z",
     "start_time": "2019-02-25T09:05:59.159217Z"
    }
   },
   "outputs": [],
   "source": [
    "fseof = FSEOF(model)"
   ]
  },
  {
   "cell_type": "code",
   "execution_count": null,
   "metadata": {
    "ExecuteTime": {
     "end_time": "2019-02-25T09:06:00.868324Z",
     "start_time": "2019-02-25T09:06:00.815804Z"
    }
   },
   "outputs": [],
   "source": [
    "result = fseof.run(target=model.reactions.EX_succ_e)"
   ]
  },
  {
   "cell_type": "code",
   "execution_count": null,
   "metadata": {
    "ExecuteTime": {
     "end_time": "2019-02-25T09:06:03.481015Z",
     "start_time": "2019-02-25T09:06:03.241960Z"
    }
   },
   "outputs": [],
   "source": [
    "result.data_frame"
   ]
  },
  {
   "cell_type": "code",
   "execution_count": null,
   "metadata": {
    "ExecuteTime": {
     "end_time": "2019-02-25T09:06:11.241936Z",
     "start_time": "2019-02-25T09:06:10.658832Z"
    }
   },
   "outputs": [],
   "source": [
    "from matplotlib import pyplot as plt\n",
    "result.data_frame.T.plot()\n",
    "plt.legend(loc='center left', bbox_to_anchor=(1, 0.5))\n",
    "plt.show()"
   ]
  },
  {
   "cell_type": "markdown",
   "metadata": {},
   "source": [
    "## Differential flux variability analysis\n",
    "\n",
    "Compares flux ranges of a reference model to a set of models that have been parameterized to lie on a grid of evenly spaced points in the n-dimensional production envelope (n being the number of reaction bounds to be varied)."
   ]
  },
  {
   "cell_type": "code",
   "execution_count": null,
   "metadata": {
    "ExecuteTime": {
     "end_time": "2019-02-28T08:15:42.066783Z",
     "start_time": "2019-02-28T08:15:41.764591Z"
    }
   },
   "outputs": [],
   "source": [
    "from cameo.strain_design.deterministic import DifferentialFVA"
   ]
  },
  {
   "cell_type": "markdown",
   "metadata": {},
   "source": [
    "Set up a model that represents a reference state (in this case a model with a constrained growth rate)."
   ]
  },
  {
   "cell_type": "code",
   "execution_count": null,
   "metadata": {
    "ExecuteTime": {
     "end_time": "2019-02-28T08:15:43.493633Z",
     "start_time": "2019-02-28T08:15:43.459223Z"
    }
   },
   "outputs": [],
   "source": [
    "model.reactions.EX_o2_e.lower_bound = 0\n",
    "reference_model = model.copy()\n",
    "biomass_rxn = reference_model.reactions.BIOMASS_Ecoli_core_w_GAM\n",
    "biomass_rxn.lower_bound = 0.\n",
    "target = reference_model.metabolites.succ_e"
   ]
  },
  {
   "cell_type": "markdown",
   "metadata": {},
   "source": [
    "Set up the differential flux variability analysis strain design method."
   ]
  },
  {
   "cell_type": "code",
   "execution_count": null,
   "metadata": {
    "ExecuteTime": {
     "end_time": "2019-02-28T08:15:45.580413Z",
     "start_time": "2019-02-28T08:15:45.498357Z"
    }
   },
   "outputs": [],
   "source": [
    "diff_fva = DifferentialFVA(design_space_model=model,\n",
    "                           reference_model=reference_model,\n",
    "                           objective=target,\n",
    "                           variables=[biomass_rxn],\n",
    "                           normalize_ranges_by=biomass_rxn,\n",
    "                           points=10)"
   ]
  },
  {
   "cell_type": "markdown",
   "metadata": {},
   "source": [
    "Run differential flux variability analysis (only on the surface of the production envelope)"
   ]
  },
  {
   "cell_type": "code",
   "execution_count": null,
   "metadata": {
    "ExecuteTime": {
     "end_time": "2019-02-28T08:15:50.309699Z",
     "start_time": "2019-02-28T08:15:48.899367Z"
    },
    "scrolled": false
   },
   "outputs": [],
   "source": [
    "%time result = diff_fva.run(surface_only=True)\n",
    "result.plot()"
   ]
  },
  {
   "cell_type": "code",
   "execution_count": null,
   "metadata": {
    "ExecuteTime": {
     "end_time": "2019-02-28T08:15:56.189556Z",
     "start_time": "2019-02-28T08:15:56.145908Z"
    }
   },
   "outputs": [],
   "source": [
    "result.plot(5, variables=['FBP', 'G6PDH2r', 'PGL', 'PGK'])"
   ]
  },
  {
   "cell_type": "code",
   "execution_count": null,
   "metadata": {
    "ExecuteTime": {
     "end_time": "2019-02-28T08:15:59.837458Z",
     "start_time": "2019-02-28T08:15:59.650715Z"
    }
   },
   "outputs": [],
   "source": [
    "result"
   ]
  },
  {
   "cell_type": "code",
   "execution_count": null,
   "metadata": {
    "ExecuteTime": {
     "end_time": "2019-02-28T08:16:20.144473Z",
     "start_time": "2019-02-28T08:16:20.063645Z"
    }
   },
   "outputs": [],
   "source": [
    "result.display_on_map(5, map_name=\"iJO1366.Central metabolism\")"
   ]
  },
  {
   "cell_type": "markdown",
   "metadata": {},
   "source": [
    "<a id=\"references\"></a>\n",
    "# References\n",
    "\n",
    "[Choi2010]: Choi, H. S., Lee, S. Y., Kim, T. Y., & Woo, H. M. (2010). In silico identification of gene amplification targets for improvement of lycopene production. Applied and Environmental Microbiology, 76(10), 3097–105. https://doi.org/10.1128/AEM.00115-10\n"
   ]
  }
 ],
 "metadata": {
  "anaconda-cloud": {},
  "kernelspec": {
   "display_name": "Cell factory design course",
   "language": "python",
   "name": "cell-factory-design-course"
  },
  "language_info": {
   "codemirror_mode": {
    "name": "ipython",
    "version": 3
   },
   "file_extension": ".py",
   "mimetype": "text/x-python",
   "name": "python",
   "nbconvert_exporter": "python",
   "pygments_lexer": "ipython3",
   "version": "3.6.0"
  },
  "toc": {
   "base_numbering": 1,
   "nav_menu": {},
   "number_sections": true,
   "sideBar": true,
   "skip_h1_title": false,
   "title_cell": "Table of Contents",
   "title_sidebar": "Contents",
   "toc_cell": true,
   "toc_position": {},
   "toc_section_display": true,
   "toc_window_display": false
  },
  "varInspector": {
   "cols": {
    "lenName": 16,
    "lenType": 16,
    "lenVar": 40
   },
   "kernels_config": {
    "python": {
     "delete_cmd_postfix": "",
     "delete_cmd_prefix": "del ",
     "library": "var_list.py",
     "varRefreshCmd": "print(var_dic_list())"
    },
    "r": {
     "delete_cmd_postfix": ") ",
     "delete_cmd_prefix": "rm(",
     "library": "var_list.r",
     "varRefreshCmd": "cat(var_dic_list()) "
    }
   },
   "types_to_exclude": [
    "module",
    "function",
    "builtin_function_or_method",
    "instance",
    "_Feature"
   ],
   "window_display": false
  },
  "widgets": {
   "state": {
    "1d69d8402bee4ffd95fb3c3bdb3fcd2c": {
     "views": [
      {
       "cell_index": 20
      }
     ]
    },
    "5892a0da475d446b8e73a90fcdecdabf": {
     "views": [
      {
       "cell_index": 22
      }
     ]
    }
   },
   "version": "1.2.0"
  }
 },
 "nbformat": 4,
 "nbformat_minor": 2
}
