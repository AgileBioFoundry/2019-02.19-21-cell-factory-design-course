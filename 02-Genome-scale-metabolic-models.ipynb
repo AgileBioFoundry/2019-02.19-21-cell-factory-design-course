{
 "cells": [
  {
   "cell_type": "markdown",
   "metadata": {
    "toc": true
   },
   "source": [
    "<h1>Table of Contents<span class=\"tocSkip\"></span></h1>\n",
    "<div class=\"toc\"><ul class=\"toc-item\"><li><span><a href=\"#Genome-scale-metabolic-models\" data-toc-modified-id=\"Genome-scale-metabolic-models-1\"><span class=\"toc-item-num\">1&nbsp;&nbsp;</span>Genome-scale metabolic models</a></span><ul class=\"toc-item\"><li><span><a href=\"#Preparation\" data-toc-modified-id=\"Preparation-1.1\"><span class=\"toc-item-num\">1.1&nbsp;&nbsp;</span>Preparation</a></span></li><li><span><a href=\"#Model-content\" data-toc-modified-id=\"Model-content-1.2\"><span class=\"toc-item-num\">1.2&nbsp;&nbsp;</span>Model content</a></span><ul class=\"toc-item\"><li><span><a href=\"#Metabolites\" data-toc-modified-id=\"Metabolites-1.2.1\"><span class=\"toc-item-num\">1.2.1&nbsp;&nbsp;</span>Metabolites</a></span></li><li><span><a href=\"#Reactions\" data-toc-modified-id=\"Reactions-1.2.2\"><span class=\"toc-item-num\">1.2.2&nbsp;&nbsp;</span>Reactions</a></span></li></ul></li><li><span><a href=\"#Objective\" data-toc-modified-id=\"Objective-1.3\"><span class=\"toc-item-num\">1.3&nbsp;&nbsp;</span>Objective</a></span></li><li><span><a href=\"#ATP-maintenance-requirement\" data-toc-modified-id=\"ATP-maintenance-requirement-1.4\"><span class=\"toc-item-num\">1.4&nbsp;&nbsp;</span>ATP maintenance requirement</a></span></li><li><span><a href=\"#The-math-(scary!)\" data-toc-modified-id=\"The-math-(scary!)-1.5\"><span class=\"toc-item-num\">1.5&nbsp;&nbsp;</span>The math (scary!)</a></span></li><li><span><a href=\"#Gene-Protein-Reaction-associations\" data-toc-modified-id=\"Gene-Protein-Reaction-associations-1.6\"><span class=\"toc-item-num\">1.6&nbsp;&nbsp;</span>Gene-Protein-Reaction associations</a></span></li><li><span><a href=\"#Finding-things\" data-toc-modified-id=\"Finding-things-1.7\"><span class=\"toc-item-num\">1.7&nbsp;&nbsp;</span>Finding things</a></span></li><li><span><a href=\"#The-stoichiometric-matrix-S\" data-toc-modified-id=\"The-stoichiometric-matrix-S-1.8\"><span class=\"toc-item-num\">1.8&nbsp;&nbsp;</span>The stoichiometric matrix S</a></span></li><li><span><a href=\"#Simulating-models\" data-toc-modified-id=\"Simulating-models-1.9\"><span class=\"toc-item-num\">1.9&nbsp;&nbsp;</span>Simulating models</a></span></li></ul></li></ul></div>"
   ]
  },
  {
   "cell_type": "markdown",
   "metadata": {},
   "source": [
    "# Genome-scale metabolic models\n",
    "We are now transitioning from simple toy models to genome-scale models. Rather than build these models from scratch as we did with the ABC model, from now on, we will be loading models that have already been built. Successful development of genome-scale models nowadays really requires software engineering methodologies to manage the complexity, but that is beyond the scope of this workshop. If you are interested in learning more, I recommend you start with the following BioRxiv pre-print:\n",
    "\n",
    "Mendoza, S. N., Olivier, B. G., Molenaar, D, Teusink, B. (bioRxiv). [A Systematic Assessment Of Current Genome-Scale Metabolic Reconstruction Tools](https://doi.org/10.1101/558411)\n",
    "\n"
   ]
  },
  {
   "cell_type": "markdown",
   "metadata": {},
   "source": [
    "## Preparation\n",
    "\n",
    "Fortunately, most of the concepts we have already learned will continue to be applicable. Nonetheless there are a few technical details about these real-world models that are worth mentioning. The first is that there is a standard for representing genome-scale models called the Systems Biology Markup Language with Flux Balance Constraints, or [SBMLv3 with the fbc package](http://sbml.org/Documents/Specifications/SBML_Level_3/Packages/Flux_Balance_Constraints_(flux)):"
   ]
  },
  {
   "cell_type": "code",
   "execution_count": 1,
   "metadata": {
    "ExecuteTime": {
     "end_time": "2019-02-26T19:27:29.132473Z",
     "start_time": "2019-02-26T19:27:24.122782Z"
    }
   },
   "outputs": [],
   "source": [
    "from cobra.io import read_sbml_model\n",
    "model = read_sbml_model('data/iJO1366.xml.gz')"
   ]
  },
  {
   "cell_type": "markdown",
   "metadata": {},
   "source": [
    "## Model content"
   ]
  },
  {
   "cell_type": "markdown",
   "metadata": {},
   "source": [
    "### Metabolites"
   ]
  },
  {
   "cell_type": "markdown",
   "metadata": {},
   "source": [
    "The model contains a list of metabolites. Here are the first ten."
   ]
  },
  {
   "cell_type": "code",
   "execution_count": 2,
   "metadata": {
    "ExecuteTime": {
     "end_time": "2019-02-26T19:27:52.422634Z",
     "start_time": "2019-02-26T19:27:52.411105Z"
    }
   },
   "outputs": [
    {
     "data": {
      "text/plain": [
       "[<Metabolite 10fthf_c at 0x126d7e198>,\n",
       " <Metabolite 12dgr120_c at 0x126d6fdd8>,\n",
       " <Metabolite 12dgr140_c at 0x121a39ac8>,\n",
       " <Metabolite 12dgr141_c at 0x126d7ec18>,\n",
       " <Metabolite 12dgr160_c at 0x126d7ef98>,\n",
       " <Metabolite 12dgr161_c at 0x126d96358>,\n",
       " <Metabolite 12dgr180_c at 0x126d966d8>,\n",
       " <Metabolite 12dgr181_c at 0x126d96a58>,\n",
       " <Metabolite 12ppd__R_c at 0x126d96dd8>,\n",
       " <Metabolite 12ppd__S_c at 0x126d9d198>]"
      ]
     },
     "execution_count": 2,
     "metadata": {},
     "output_type": "execute_result"
    }
   ],
   "source": [
    "model.metabolites[0:10]"
   ]
  },
  {
   "cell_type": "markdown",
   "metadata": {},
   "source": [
    "There are 1805 metabolites in the model."
   ]
  },
  {
   "cell_type": "code",
   "execution_count": 3,
   "metadata": {
    "ExecuteTime": {
     "end_time": "2019-02-26T19:28:21.650123Z",
     "start_time": "2019-02-26T19:28:21.645814Z"
    }
   },
   "outputs": [
    {
     "data": {
      "text/plain": [
       "1805"
      ]
     },
     "execution_count": 3,
     "metadata": {},
     "output_type": "execute_result"
    }
   ],
   "source": [
    "len(model.metabolites)"
   ]
  },
  {
   "cell_type": "markdown",
   "metadata": {},
   "source": [
    "One can access a specific metabolite using dot notation."
   ]
  },
  {
   "cell_type": "code",
   "execution_count": 4,
   "metadata": {
    "ExecuteTime": {
     "end_time": "2019-02-26T19:28:41.393741Z",
     "start_time": "2019-02-26T19:28:41.389352Z"
    }
   },
   "outputs": [
    {
     "data": {
      "text/html": [
       "\n",
       "        <table>\n",
       "            <tr>\n",
       "                <td><strong>Metabolite identifier</strong></td><td>g3p_c</td>\n",
       "            </tr><tr>\n",
       "                <td><strong>Name</strong></td><td>Glyceraldehyde 3-phosphate</td>\n",
       "            </tr><tr>\n",
       "                <td><strong>Memory address</strong></td>\n",
       "                <td>0x0126f0e940</td>\n",
       "            </tr><tr>\n",
       "                <td><strong>Formula</strong></td><td>C3H5O6P</td>\n",
       "            </tr><tr>\n",
       "                <td><strong>Compartment</strong></td><td>c</td>\n",
       "            </tr><tr>\n",
       "                <td><strong>In 14 reaction(s)</strong></td><td>\n",
       "                    DXPS, TALA, F6PA, EDA, TPI, TRPS1, TRPS3, DDPGALA, DRPA, TKT1, GAPD, TGBPA, TKT2, FBA</td>\n",
       "            </tr>\n",
       "        </table>"
      ],
      "text/plain": [
       "<Metabolite g3p_c at 0x126f0e940>"
      ]
     },
     "execution_count": 4,
     "metadata": {},
     "output_type": "execute_result"
    }
   ],
   "source": [
    "model.metabolites.g3p_c"
   ]
  },
  {
   "cell_type": "markdown",
   "metadata": {},
   "source": [
    "<div class=\"alert alert-warning\">\n",
    "\n",
    "**Warning:** One cannot use dot notation to access metabolites, reactions, or genes if their identifiers do not resemble proper Python variable names.\n",
    "\n",
    "</div>"
   ]
  },
  {
   "cell_type": "code",
   "execution_count": 5,
   "metadata": {
    "ExecuteTime": {
     "end_time": "2019-02-26T19:29:29.755060Z",
     "start_time": "2019-02-26T19:29:29.751049Z"
    }
   },
   "outputs": [
    {
     "ename": "SyntaxError",
     "evalue": "invalid syntax (<ipython-input-5-2d9f6c5b57e5>, line 1)",
     "output_type": "error",
     "traceback": [
      "\u001b[0;36m  File \u001b[0;32m\"<ipython-input-5-2d9f6c5b57e5>\"\u001b[0;36m, line \u001b[0;32m1\u001b[0m\n\u001b[0;31m    model.metabolites.10fthf_c\u001b[0m\n\u001b[0m                       ^\u001b[0m\n\u001b[0;31mSyntaxError\u001b[0m\u001b[0;31m:\u001b[0m invalid syntax\n"
     ]
    }
   ],
   "source": [
    "model.metabolites.10fthf_c"
   ]
  },
  {
   "cell_type": "markdown",
   "metadata": {},
   "source": [
    "<div class=\"alert alert-success\">\n",
    "\n",
    "**Solution:** Use the method `get_by_id` instead!\n",
    "\n",
    "</div>"
   ]
  },
  {
   "cell_type": "code",
   "execution_count": 6,
   "metadata": {
    "ExecuteTime": {
     "end_time": "2019-02-26T19:29:49.893030Z",
     "start_time": "2019-02-26T19:29:49.888539Z"
    }
   },
   "outputs": [
    {
     "data": {
      "text/html": [
       "\n",
       "        <table>\n",
       "            <tr>\n",
       "                <td><strong>Metabolite identifier</strong></td><td>10fthf_c</td>\n",
       "            </tr><tr>\n",
       "                <td><strong>Name</strong></td><td>10-Formyltetrahydrofolate</td>\n",
       "            </tr><tr>\n",
       "                <td><strong>Memory address</strong></td>\n",
       "                <td>0x0126d7e198</td>\n",
       "            </tr><tr>\n",
       "                <td><strong>Formula</strong></td><td>C20H21N7O7</td>\n",
       "            </tr><tr>\n",
       "                <td><strong>Compartment</strong></td><td>c</td>\n",
       "            </tr><tr>\n",
       "                <td><strong>In 9 reaction(s)</strong></td><td>\n",
       "                    FTHFLi, MTHFC, ULA4NFT, FMETTRS, FTHFD, AICART, BIOMASS_Ec_iJO1366_WT_53p95M, GARFT, BIOMASS_Ec_iJO1366_core_53p95M</td>\n",
       "            </tr>\n",
       "        </table>"
      ],
      "text/plain": [
       "<Metabolite 10fthf_c at 0x126d7e198>"
      ]
     },
     "execution_count": 6,
     "metadata": {},
     "output_type": "execute_result"
    }
   ],
   "source": [
    "model.metabolites.get_by_id('10fthf_c')"
   ]
  },
  {
   "cell_type": "markdown",
   "metadata": {},
   "source": [
    "Metabolites are associated with compartments in the cell. Glyceraldehyde 3-phosphate (`g3p_c`) is associated with the `c` (Cytosol) compartment."
   ]
  },
  {
   "cell_type": "code",
   "execution_count": 7,
   "metadata": {
    "ExecuteTime": {
     "end_time": "2019-02-26T19:30:07.930261Z",
     "start_time": "2019-02-26T19:30:07.925983Z"
    }
   },
   "outputs": [
    {
     "data": {
      "text/plain": [
       "'c'"
      ]
     },
     "execution_count": 7,
     "metadata": {},
     "output_type": "execute_result"
    }
   ],
   "source": [
    "model.metabolites.g3p_c.compartment"
   ]
  },
  {
   "cell_type": "markdown",
   "metadata": {},
   "source": [
    "The _E. coli_ model has three compartments."
   ]
  },
  {
   "cell_type": "code",
   "execution_count": 8,
   "metadata": {
    "ExecuteTime": {
     "end_time": "2019-02-26T19:30:20.857976Z",
     "start_time": "2019-02-26T19:30:20.851771Z"
    }
   },
   "outputs": [
    {
     "data": {
      "text/plain": [
       "{'c': 'cytosol', 'e': 'extracellular space', 'p': 'periplasm'}"
      ]
     },
     "execution_count": 8,
     "metadata": {},
     "output_type": "execute_result"
    }
   ],
   "source": [
    "model.compartments"
   ]
  },
  {
   "cell_type": "markdown",
   "metadata": {},
   "source": [
    "Some metabolites (like Glucose for example) can be associated with multiple compartments."
   ]
  },
  {
   "cell_type": "code",
   "execution_count": 9,
   "metadata": {
    "ExecuteTime": {
     "end_time": "2019-02-26T19:31:13.192664Z",
     "start_time": "2019-02-26T19:31:13.188290Z"
    }
   },
   "outputs": [
    {
     "data": {
      "text/plain": [
       "'c'"
      ]
     },
     "execution_count": 9,
     "metadata": {},
     "output_type": "execute_result"
    }
   ],
   "source": [
    "model.metabolites.glc__D_c.compartment"
   ]
  },
  {
   "cell_type": "code",
   "execution_count": 10,
   "metadata": {
    "ExecuteTime": {
     "end_time": "2019-02-26T19:31:19.490058Z",
     "start_time": "2019-02-26T19:31:19.485532Z"
    }
   },
   "outputs": [
    {
     "data": {
      "text/plain": [
       "'p'"
      ]
     },
     "execution_count": 10,
     "metadata": {},
     "output_type": "execute_result"
    }
   ],
   "source": [
    "model.metabolites.glc__D_p.compartment"
   ]
  },
  {
   "cell_type": "markdown",
   "metadata": {},
   "source": [
    "The full name of the metabolite is available via the `.name` attribute. "
   ]
  },
  {
   "cell_type": "code",
   "execution_count": 11,
   "metadata": {
    "ExecuteTime": {
     "end_time": "2019-02-26T19:31:55.552064Z",
     "start_time": "2019-02-26T19:31:55.547291Z"
    }
   },
   "outputs": [
    {
     "data": {
      "text/plain": [
       "'D-Glucose'"
      ]
     },
     "execution_count": 11,
     "metadata": {},
     "output_type": "execute_result"
    }
   ],
   "source": [
    "model.metabolites.glc__D_c.name"
   ]
  },
  {
   "cell_type": "markdown",
   "metadata": {},
   "source": [
    "One can look up the molecular formula of glucose."
   ]
  },
  {
   "cell_type": "code",
   "execution_count": 12,
   "metadata": {
    "ExecuteTime": {
     "end_time": "2019-02-26T19:32:03.565165Z",
     "start_time": "2019-02-26T19:32:03.560414Z"
    }
   },
   "outputs": [
    {
     "data": {
      "text/plain": [
       "'C3H5O6P'"
      ]
     },
     "execution_count": 12,
     "metadata": {},
     "output_type": "execute_result"
    }
   ],
   "source": [
    "model.metabolites.g3p_c.formula"
   ]
  },
  {
   "cell_type": "markdown",
   "metadata": {},
   "source": [
    "The `.elements` attribute returns a dictionary representation of the formula."
   ]
  },
  {
   "cell_type": "code",
   "execution_count": 13,
   "metadata": {
    "ExecuteTime": {
     "end_time": "2019-02-26T19:32:13.032948Z",
     "start_time": "2019-02-26T19:32:13.027345Z"
    }
   },
   "outputs": [
    {
     "data": {
      "text/plain": [
       "{'C': 3, 'H': 5, 'O': 6, 'P': 1}"
      ]
     },
     "execution_count": 13,
     "metadata": {},
     "output_type": "execute_result"
    }
   ],
   "source": [
    "model.metabolites.g3p_c.elements"
   ]
  },
  {
   "cell_type": "markdown",
   "metadata": {},
   "source": [
    "Furthermore, one can look up the molecular weight of a metabolite."
   ]
  },
  {
   "cell_type": "code",
   "execution_count": 14,
   "metadata": {
    "ExecuteTime": {
     "end_time": "2019-02-26T19:32:35.443136Z",
     "start_time": "2019-02-26T19:32:35.438499Z"
    }
   },
   "outputs": [
    {
     "data": {
      "text/plain": [
       "168.041961"
      ]
     },
     "execution_count": 14,
     "metadata": {},
     "output_type": "execute_result"
    }
   ],
   "source": [
    "model.metabolites.g3p_c.formula_weight"
   ]
  },
  {
   "cell_type": "markdown",
   "metadata": {},
   "source": [
    "One can gather additional information (like references to external datbases) about the metabolite through the annotation attribute."
   ]
  },
  {
   "cell_type": "code",
   "execution_count": 15,
   "metadata": {
    "ExecuteTime": {
     "end_time": "2019-02-26T19:32:51.341220Z",
     "start_time": "2019-02-26T19:32:51.336356Z"
    }
   },
   "outputs": [
    {
     "data": {
      "text/plain": [
       "{'sbo': 'SBO:0000247',\n",
       " 'bigg.metabolite': 'g3p',\n",
       " 'seed.compound': 'cpd00102',\n",
       " 'metanetx.chemical': 'MNXM2378',\n",
       " 'kegg.compound': ['C00118', 'C00661'],\n",
       " 'hmdb': 'HMDB01112',\n",
       " 'chebi': ['CHEBI:12983',\n",
       "  'CHEBI:12984',\n",
       "  'CHEBI:14333',\n",
       "  'CHEBI:17138',\n",
       "  'CHEBI:181',\n",
       "  'CHEBI:18324',\n",
       "  'CHEBI:21026',\n",
       "  'CHEBI:29052',\n",
       "  'CHEBI:5446',\n",
       "  'CHEBI:58027',\n",
       "  'CHEBI:59776'],\n",
       " 'unipathway.compound': ['UPC00118', 'UPC00661'],\n",
       " 'biocyc': 'META:GAP',\n",
       " 'reactome': '29578'}"
      ]
     },
     "execution_count": 15,
     "metadata": {},
     "output_type": "execute_result"
    }
   ],
   "source": [
    "model.metabolites.g3p_c.annotation"
   ]
  },
  {
   "cell_type": "markdown",
   "metadata": {},
   "source": [
    "One can use these annotations to look up the compound on [KEGG](http://www.genome.jp/dbget-bin/www_bget?cpd:C00118) for example."
   ]
  },
  {
   "cell_type": "markdown",
   "metadata": {},
   "source": [
    "Metabolites are not isolated things. They participate in reactions as substrates and products."
   ]
  },
  {
   "cell_type": "code",
   "execution_count": 16,
   "metadata": {
    "ExecuteTime": {
     "end_time": "2019-02-26T19:34:28.479892Z",
     "start_time": "2019-02-26T19:34:28.475119Z"
    }
   },
   "outputs": [
    {
     "data": {
      "text/plain": [
       "frozenset({<Reaction DDPGALA at 0x127b356a0>,\n",
       "           <Reaction DRPA at 0x127bc06a0>,\n",
       "           <Reaction DXPS at 0x127bfb438>,\n",
       "           <Reaction EDA at 0x127c49940>,\n",
       "           <Reaction F6PA at 0x127ae88d0>,\n",
       "           <Reaction FBA at 0x127cdc7f0>,\n",
       "           <Reaction GAPD at 0x127e07748>,\n",
       "           <Reaction TALA at 0x128811470>,\n",
       "           <Reaction TGBPA at 0x1285ad390>,\n",
       "           <Reaction TKT1 at 0x12886ab38>,\n",
       "           <Reaction TKT2 at 0x12886afd0>,\n",
       "           <Reaction TPI at 0x12886a940>,\n",
       "           <Reaction TRPS1 at 0x12883b160>,\n",
       "           <Reaction TRPS3 at 0x128811e48>})"
      ]
     },
     "execution_count": 16,
     "metadata": {},
     "output_type": "execute_result"
    }
   ],
   "source": [
    "model.metabolites.g3p_c.reactions"
   ]
  },
  {
   "cell_type": "markdown",
   "metadata": {},
   "source": [
    "### Reactions"
   ]
  },
  {
   "cell_type": "markdown",
   "metadata": {},
   "source": [
    "The model contains a list of reactions. Here are the first 10 of them."
   ]
  },
  {
   "cell_type": "code",
   "execution_count": 17,
   "metadata": {
    "ExecuteTime": {
     "end_time": "2019-02-26T19:35:06.465172Z",
     "start_time": "2019-02-26T19:35:06.460676Z"
    }
   },
   "outputs": [
    {
     "data": {
      "text/plain": [
       "[<Reaction DM_4crsol_c at 0x127490a20>,\n",
       " <Reaction DM_5drib_c at 0x127490e10>,\n",
       " <Reaction DM_aacald_c at 0x1274b42b0>,\n",
       " <Reaction DM_amob_c at 0x1274b4358>,\n",
       " <Reaction DM_mththf_c at 0x1274b44a8>,\n",
       " <Reaction DM_oxam_c at 0x1274b4588>,\n",
       " <Reaction BIOMASS_Ec_iJO1366_WT_53p95M at 0x1274b46d8>,\n",
       " <Reaction BIOMASS_Ec_iJO1366_core_53p95M at 0x1274aabe0>,\n",
       " <Reaction EX_12ppd__R_e at 0x1274d87f0>,\n",
       " <Reaction EX_12ppd__S_e at 0x1274b4ba8>]"
      ]
     },
     "execution_count": 17,
     "metadata": {},
     "output_type": "execute_result"
    }
   ],
   "source": [
    "model.reactions[0:10]"
   ]
  },
  {
   "cell_type": "markdown",
   "metadata": {},
   "source": [
    "There are 2583 reactions in the model."
   ]
  },
  {
   "cell_type": "code",
   "execution_count": 18,
   "metadata": {
    "ExecuteTime": {
     "end_time": "2019-02-26T19:35:11.796007Z",
     "start_time": "2019-02-26T19:35:11.791163Z"
    }
   },
   "outputs": [
    {
     "data": {
      "text/plain": [
       "2583"
      ]
     },
     "execution_count": 18,
     "metadata": {},
     "output_type": "execute_result"
    }
   ],
   "source": [
    "len(model.reactions)"
   ]
  },
  {
   "cell_type": "markdown",
   "metadata": {},
   "source": [
    "Let's take a closer look at the reactions associated with Glyceraldehyde 3-phosphate (`g3p`)."
   ]
  },
  {
   "cell_type": "code",
   "execution_count": 19,
   "metadata": {
    "ExecuteTime": {
     "end_time": "2019-02-26T19:36:18.780140Z",
     "start_time": "2019-02-26T19:36:18.774039Z"
    }
   },
   "outputs": [
    {
     "name": "stdout",
     "output_type": "stream",
     "text": [
      "DXPS DXPS: g3p_c + h_c + pyr_c --> co2_c + dxyl5p_c 1-deoxy-D-xylulose 5-phosphate synthase\n",
      "TALA TALA: g3p_c + s7p_c <=> e4p_c + f6p_c Transaldolase\n",
      "F6PA F6PA: f6p_c <=> dha_c + g3p_c Fructose 6-phosphate aldolase\n",
      "EDA EDA: 2ddg6p_c --> g3p_c + pyr_c 2-dehydro-3-deoxy-phosphogluconate aldolase\n",
      "TPI TPI: dhap_c <=> g3p_c Triose-phosphate isomerase\n",
      "TRPS1 TRPS1: 3ig3p_c + ser__L_c --> g3p_c + h2o_c + trp__L_c Tryptophan synthase (indoleglycerol phosphate)\n",
      "TRPS3 TRPS3: 3ig3p_c --> g3p_c + indole_c Tryptophan synthase (indoleglycerol phosphate)\n",
      "DDPGALA DDPGALA: 2dh3dgal6p_c <=> g3p_c + pyr_c 2-dehydro-3-deoxy-6-phosphogalactonate aldolase\n",
      "DRPA DRPA: 2dr5p_c --> acald_c + g3p_c Deoxyribose-phosphate aldolase\n",
      "TKT1 TKT1: r5p_c + xu5p__D_c <=> g3p_c + s7p_c Transketolase\n",
      "GAPD GAPD: g3p_c + nad_c + pi_c <=> 13dpg_c + h_c + nadh_c Glyceraldehyde-3-phosphate dehydrogenase\n",
      "TGBPA TGBPA: tagdp__D_c <=> dhap_c + g3p_c Tagatose-bisphosphate aldolase\n",
      "TKT2 TKT2: e4p_c + xu5p__D_c <=> f6p_c + g3p_c Transketolase\n",
      "FBA FBA: fdp_c <=> dhap_c + g3p_c Fructose-bisphosphate aldolase\n"
     ]
    }
   ],
   "source": [
    "for reaction in model.metabolites.g3p_c.reactions:\n",
    "    print(reaction.id, reaction, reaction.name)"
   ]
  },
  {
   "cell_type": "markdown",
   "metadata": {},
   "source": [
    "The second reaction in this list is Glyceraldehyde-3-phosphate dehydrogenase (GAPD)."
   ]
  },
  {
   "cell_type": "code",
   "execution_count": 20,
   "metadata": {
    "ExecuteTime": {
     "end_time": "2019-02-26T19:36:46.714407Z",
     "start_time": "2019-02-26T19:36:46.709798Z"
    }
   },
   "outputs": [
    {
     "data": {
      "text/plain": [
       "'Glyceraldehyde-3-phosphate dehydrogenase'"
      ]
     },
     "execution_count": 20,
     "metadata": {},
     "output_type": "execute_result"
    }
   ],
   "source": [
    "model.reactions.GAPD.name"
   ]
  },
  {
   "cell_type": "markdown",
   "metadata": {},
   "source": [
    "## Objective"
   ]
  },
  {
   "cell_type": "code",
   "execution_count": 21,
   "metadata": {
    "ExecuteTime": {
     "end_time": "2019-02-26T19:37:05.006499Z",
     "start_time": "2019-02-26T19:37:04.996851Z"
    }
   },
   "outputs": [
    {
     "name": "stdout",
     "output_type": "stream",
     "text": [
      "Maximize\n",
      "1.0*BIOMASS_Ec_iJO1366_core_53p95M - 1.0*BIOMASS_Ec_iJO1366_core_53p95M_reverse_5c8b1\n"
     ]
    }
   ],
   "source": [
    "print(model.objective)"
   ]
  },
  {
   "cell_type": "markdown",
   "metadata": {},
   "source": [
    "## ATP maintenance requirement"
   ]
  },
  {
   "cell_type": "code",
   "execution_count": 22,
   "metadata": {
    "ExecuteTime": {
     "end_time": "2019-02-26T19:37:54.235081Z",
     "start_time": "2019-02-26T19:37:54.230495Z"
    }
   },
   "outputs": [
    {
     "data": {
      "text/html": [
       "\n",
       "        <table>\n",
       "            <tr>\n",
       "                <td><strong>Reaction identifier</strong></td><td>ATPM</td>\n",
       "            </tr><tr>\n",
       "                <td><strong>Name</strong></td><td>ATP maintenance requirement</td>\n",
       "            </tr><tr>\n",
       "                <td><strong>Memory address</strong></td>\n",
       "                <td>0x01279527b8</td>\n",
       "            </tr><tr>\n",
       "                <td><strong>Stoichiometry</strong></td>\n",
       "                <td>\n",
       "                    <p style='text-align:right'>atp_c + h2o_c --> adp_c + h_c + pi_c</p>\n",
       "                    <p style='text-align:right'>ATP + H2O --> ADP + H+ + Phosphate</p>\n",
       "                </td>\n",
       "            </tr><tr>\n",
       "                <td><strong>GPR</strong></td><td></td>\n",
       "            </tr><tr>\n",
       "                <td><strong>Lower bound</strong></td><td>3.15</td>\n",
       "            </tr><tr>\n",
       "                <td><strong>Upper bound</strong></td><td>1000.0</td>\n",
       "            </tr>\n",
       "        </table>\n",
       "        "
      ],
      "text/plain": [
       "<Reaction ATPM at 0x1279527b8>"
      ]
     },
     "execution_count": 22,
     "metadata": {},
     "output_type": "execute_result"
    }
   ],
   "source": [
    "model.reactions.ATPM"
   ]
  },
  {
   "cell_type": "markdown",
   "metadata": {},
   "source": [
    "## The math (scary!)"
   ]
  },
  {
   "cell_type": "code",
   "execution_count": 23,
   "metadata": {
    "ExecuteTime": {
     "end_time": "2019-02-26T19:38:33.879897Z",
     "start_time": "2019-02-26T19:38:33.848437Z"
    }
   },
   "outputs": [
    {
     "name": "stdout",
     "output_type": "stream",
     "text": [
      "\\* Problem: Unknown *\\\n",
      "\n",
      "Maximize\n",
      " obj: + BIOMASS_Ec_iJO1366_core_53p95M\n",
      " - BIOMASS_Ec_iJO1366_core_53p95M_reverse_5c8b1\n",
      "\n",
      "Subject To\n",
      " r_1: + ULA4NFT_reverse_07217 - ULA4NFT - MTHFC_reverse_f6fcc + MTHFC\n",
      " + GARFT_reverse_7ecb6 - GARFT - FTHFLi_reverse_a6dc7 + FTHFLi\n",
      " + FTHFD_reverse_44321 - FTHFD + FMETTRS_reverse_3b6c6 - FMETTRS\n",
      " + AICART_reverse_b7b59 - AICART\n",
      " + 0.000223 BIOMASS_Ec_iJO1366_core_53p95M_reverse_5c8b1\n",
      " - 0.000223 BIOMASS_Ec_iJO1366_core_53p95M\n",
      " + 0.000223 BIOMASS_Ec_iJO1366_WT_53p95M_reverse_06c4a\n",
      " - 0.000223 BIOMASS_Ec_iJO1366_WT_53p95M = 0\n",
      " r_2: - PAPA120_reverse_75d70 + PAPA120 + DAGK120_reverse_7cd00\n",
      " - DAGK120 - s_666 + x_665 = 0\n",
      " r_3: - PAPA140_reverse_255f5 + PAPA140 + DAGK140_reverse_87f8f\n",
      " - DAGK140 - s_668 + x_667 = 0\n",
      " r_4: - PAPA141_reverse_945ab + PAPA141 + DAGK141_reverse_f6e5f\n",
      " - DAGK141 - s_670 + x_669 = 0\n",
      " r_5: - PAPA160_reverse_c64df + PAPA160 + DAGK160_reverse_0238d\n",
      " - DAGK160 - s_672 + x_671 = 0\n",
      " r_6: - PAPA161_reverse_1bc33 + PAPA161 + DAGK161_reverse_9bfe7\n",
      " - DAGK161 - s_674 + x_673 = 0\n",
      " r_7: - PAPA180_reverse_9f7f6 + PAPA180 + DAGK180_reverse_eb3e3\n",
      " - DAGK180 - s_676 + x_675 = 0\n",
      " r_8: - PAPA181_reverse_fb09e + PAPA181 + DAGK181_reverse_8c0c8\n",
      " - DAGK181 - s_678 + x_677 = 0\n",
      " r_9: - LCARR_reverse_9213d + LCARR - ALR4x_reverse_17ebf + ALR4x\n",
      " - x_682 + x_681 = 0\n",
      " r_10: - LCARS_reverse_66c3d + LCARS - x_686 + x_685 = 0\n",
      " r_11: - PGK_reverse_02696 + PGK - GAPD_reverse_459c1 + GAPD = 0\n",
      " r_12: + DHNCOAT_reverse_58c26 - DHNCOAT - DHNCOAS_reverse_af3a9\n",
      " + DHNCOAS = 0\n",
      " r_13: + AAMYL_reverse_58557 - AA\n"
     ]
    }
   ],
   "source": [
    "print(model.solver.__str__()[0:1550])"
   ]
  },
  {
   "cell_type": "markdown",
   "metadata": {},
   "source": [
    "## Gene-Protein-Reaction associations"
   ]
  },
  {
   "cell_type": "markdown",
   "metadata": {},
   "source": [
    "Glyceraldehyde-3-phosphate dehydrogenase is associated with a single gene. "
   ]
  },
  {
   "cell_type": "code",
   "execution_count": 24,
   "metadata": {
    "ExecuteTime": {
     "end_time": "2019-02-26T19:39:52.211811Z",
     "start_time": "2019-02-26T19:39:52.206842Z"
    }
   },
   "outputs": [
    {
     "data": {
      "text/plain": [
       "'b1779'"
      ]
     },
     "execution_count": 24,
     "metadata": {},
     "output_type": "execute_result"
    }
   ],
   "source": [
    "model.reactions.GAPD.gene_reaction_rule"
   ]
  },
  {
   "cell_type": "markdown",
   "metadata": {},
   "source": [
    "Phosphofructokinase (PFK) on the other hand seems to be associated with to isozymes."
   ]
  },
  {
   "cell_type": "code",
   "execution_count": 25,
   "metadata": {
    "ExecuteTime": {
     "end_time": "2019-02-26T19:40:05.126192Z",
     "start_time": "2019-02-26T19:40:05.121150Z"
    }
   },
   "outputs": [
    {
     "data": {
      "text/plain": [
       "'b3916 or b1723'"
      ]
     },
     "execution_count": 25,
     "metadata": {},
     "output_type": "execute_result"
    }
   ],
   "source": [
    "model.reactions.PFK.gene_reaction_rule"
   ]
  },
  {
   "cell_type": "markdown",
   "metadata": {},
   "source": [
    "One can display the gene names (typical 4 letter gene codes) instead of the identifiers (Blattner numbers in this case)."
   ]
  },
  {
   "cell_type": "code",
   "execution_count": 26,
   "metadata": {
    "ExecuteTime": {
     "end_time": "2019-02-26T19:40:52.778381Z",
     "start_time": "2019-02-26T19:40:52.773824Z"
    }
   },
   "outputs": [
    {
     "data": {
      "text/plain": [
       "'pfkA or pfkB'"
      ]
     },
     "execution_count": 26,
     "metadata": {},
     "output_type": "execute_result"
    }
   ],
   "source": [
    "model.reactions.PFK.gene_name_reaction_rule"
   ]
  },
  {
   "cell_type": "markdown",
   "metadata": {},
   "source": [
    "Here a very complicated gene to reaction mapping (ATP synthase)."
   ]
  },
  {
   "cell_type": "code",
   "execution_count": 27,
   "metadata": {
    "ExecuteTime": {
     "end_time": "2019-02-26T19:41:10.241654Z",
     "start_time": "2019-02-26T19:41:10.236778Z"
    }
   },
   "outputs": [
    {
     "data": {
      "text/plain": [
       "'(atpA and atpD and atpC and atpG and atpH and atpE and atpF and atpB and atpI) or (atpB and atpF and atpE and atpH and atpG and atpC and atpD and atpA)'"
      ]
     },
     "execution_count": 27,
     "metadata": {},
     "output_type": "execute_result"
    }
   ],
   "source": [
    "model.reactions.ATPS4rpp.gene_name_reaction_rule"
   ]
  },
  {
   "cell_type": "code",
   "execution_count": 28,
   "metadata": {
    "ExecuteTime": {
     "end_time": "2019-02-26T19:41:29.864312Z",
     "start_time": "2019-02-26T19:41:29.859894Z"
    }
   },
   "outputs": [
    {
     "data": {
      "text/plain": [
       "'ATP synthase (four protons for one ATP) (periplasm)'"
      ]
     },
     "execution_count": 28,
     "metadata": {},
     "output_type": "execute_result"
    }
   ],
   "source": [
    "model.reactions.ATPS4rpp.name"
   ]
  },
  {
   "cell_type": "markdown",
   "metadata": {},
   "source": [
    "## Finding things"
   ]
  },
  {
   "cell_type": "markdown",
   "metadata": {},
   "source": [
    "One can use `.query('search term', 'attribute_to_search_in')` to search in model metabolites, reactions, and genes. For example, one can search metabolites that contain the term _glucose_ in their name."
   ]
  },
  {
   "cell_type": "code",
   "execution_count": 29,
   "metadata": {
    "ExecuteTime": {
     "end_time": "2019-02-26T19:42:54.372449Z",
     "start_time": "2019-02-26T19:42:54.366004Z"
    }
   },
   "outputs": [
    {
     "name": "stdout",
     "output_type": "stream",
     "text": [
      "6-Acetyl-D-glucose\n",
      "ADPglucose\n",
      "DTDP-4-dehydro-6-deoxy-D-glucose\n",
      "DTDPglucose\n",
      "UDPglucose\n",
      "UDPglucose\n",
      "UDPglucose\n"
     ]
    }
   ],
   "source": [
    "for metabolite in model.metabolites.query('glucose', 'name'):\n",
    "    print(metabolite.name)"
   ]
  },
  {
   "cell_type": "markdown",
   "metadata": {},
   "source": [
    "## The stoichiometric matrix S"
   ]
  },
  {
   "cell_type": "code",
   "execution_count": 31,
   "metadata": {
    "ExecuteTime": {
     "end_time": "2019-02-26T19:45:04.062056Z",
     "start_time": "2019-02-26T19:45:03.908169Z"
    }
   },
   "outputs": [
    {
     "data": {
      "text/html": [
       "<div>\n",
       "<style scoped>\n",
       "    .dataframe tbody tr th:only-of-type {\n",
       "        vertical-align: middle;\n",
       "    }\n",
       "\n",
       "    .dataframe tbody tr th {\n",
       "        vertical-align: top;\n",
       "    }\n",
       "\n",
       "    .dataframe thead th {\n",
       "        text-align: right;\n",
       "    }\n",
       "</style>\n",
       "<table border=\"1\" class=\"dataframe\">\n",
       "  <thead>\n",
       "    <tr style=\"text-align: right;\">\n",
       "      <th></th>\n",
       "      <th>DM_4crsol_c</th>\n",
       "      <th>DM_5drib_c</th>\n",
       "      <th>DM_aacald_c</th>\n",
       "      <th>DM_amob_c</th>\n",
       "      <th>DM_mththf_c</th>\n",
       "      <th>DM_oxam_c</th>\n",
       "      <th>BIOMASS_Ec_iJO1366_WT_53p95M</th>\n",
       "      <th>BIOMASS_Ec_iJO1366_core_53p95M</th>\n",
       "      <th>EX_12ppd__R_e</th>\n",
       "      <th>EX_12ppd__S_e</th>\n",
       "      <th>...</th>\n",
       "      <th>XYLUt2pp</th>\n",
       "      <th>XYLUtex</th>\n",
       "      <th>XYLabcpp</th>\n",
       "      <th>XYLt2pp</th>\n",
       "      <th>XYLtex</th>\n",
       "      <th>ZN2abcpp</th>\n",
       "      <th>ZN2t3pp</th>\n",
       "      <th>ZN2tpp</th>\n",
       "      <th>ZNabcpp</th>\n",
       "      <th>Zn2tex</th>\n",
       "    </tr>\n",
       "  </thead>\n",
       "  <tbody>\n",
       "    <tr>\n",
       "      <th>10fthf_c</th>\n",
       "      <td>0.0</td>\n",
       "      <td>0.0</td>\n",
       "      <td>0.0</td>\n",
       "      <td>0.0</td>\n",
       "      <td>0.0</td>\n",
       "      <td>0.0</td>\n",
       "      <td>-0.000223</td>\n",
       "      <td>-0.000223</td>\n",
       "      <td>0.0</td>\n",
       "      <td>0.0</td>\n",
       "      <td>...</td>\n",
       "      <td>0.0</td>\n",
       "      <td>0.0</td>\n",
       "      <td>0.0</td>\n",
       "      <td>0.0</td>\n",
       "      <td>0.0</td>\n",
       "      <td>0.0</td>\n",
       "      <td>0.0</td>\n",
       "      <td>0.0</td>\n",
       "      <td>0.0</td>\n",
       "      <td>0.0</td>\n",
       "    </tr>\n",
       "    <tr>\n",
       "      <th>12dgr120_c</th>\n",
       "      <td>0.0</td>\n",
       "      <td>0.0</td>\n",
       "      <td>0.0</td>\n",
       "      <td>0.0</td>\n",
       "      <td>0.0</td>\n",
       "      <td>0.0</td>\n",
       "      <td>0.000000</td>\n",
       "      <td>0.000000</td>\n",
       "      <td>0.0</td>\n",
       "      <td>0.0</td>\n",
       "      <td>...</td>\n",
       "      <td>0.0</td>\n",
       "      <td>0.0</td>\n",
       "      <td>0.0</td>\n",
       "      <td>0.0</td>\n",
       "      <td>0.0</td>\n",
       "      <td>0.0</td>\n",
       "      <td>0.0</td>\n",
       "      <td>0.0</td>\n",
       "      <td>0.0</td>\n",
       "      <td>0.0</td>\n",
       "    </tr>\n",
       "    <tr>\n",
       "      <th>12dgr140_c</th>\n",
       "      <td>0.0</td>\n",
       "      <td>0.0</td>\n",
       "      <td>0.0</td>\n",
       "      <td>0.0</td>\n",
       "      <td>0.0</td>\n",
       "      <td>0.0</td>\n",
       "      <td>0.000000</td>\n",
       "      <td>0.000000</td>\n",
       "      <td>0.0</td>\n",
       "      <td>0.0</td>\n",
       "      <td>...</td>\n",
       "      <td>0.0</td>\n",
       "      <td>0.0</td>\n",
       "      <td>0.0</td>\n",
       "      <td>0.0</td>\n",
       "      <td>0.0</td>\n",
       "      <td>0.0</td>\n",
       "      <td>0.0</td>\n",
       "      <td>0.0</td>\n",
       "      <td>0.0</td>\n",
       "      <td>0.0</td>\n",
       "    </tr>\n",
       "    <tr>\n",
       "      <th>12dgr141_c</th>\n",
       "      <td>0.0</td>\n",
       "      <td>0.0</td>\n",
       "      <td>0.0</td>\n",
       "      <td>0.0</td>\n",
       "      <td>0.0</td>\n",
       "      <td>0.0</td>\n",
       "      <td>0.000000</td>\n",
       "      <td>0.000000</td>\n",
       "      <td>0.0</td>\n",
       "      <td>0.0</td>\n",
       "      <td>...</td>\n",
       "      <td>0.0</td>\n",
       "      <td>0.0</td>\n",
       "      <td>0.0</td>\n",
       "      <td>0.0</td>\n",
       "      <td>0.0</td>\n",
       "      <td>0.0</td>\n",
       "      <td>0.0</td>\n",
       "      <td>0.0</td>\n",
       "      <td>0.0</td>\n",
       "      <td>0.0</td>\n",
       "    </tr>\n",
       "    <tr>\n",
       "      <th>12dgr160_c</th>\n",
       "      <td>0.0</td>\n",
       "      <td>0.0</td>\n",
       "      <td>0.0</td>\n",
       "      <td>0.0</td>\n",
       "      <td>0.0</td>\n",
       "      <td>0.0</td>\n",
       "      <td>0.000000</td>\n",
       "      <td>0.000000</td>\n",
       "      <td>0.0</td>\n",
       "      <td>0.0</td>\n",
       "      <td>...</td>\n",
       "      <td>0.0</td>\n",
       "      <td>0.0</td>\n",
       "      <td>0.0</td>\n",
       "      <td>0.0</td>\n",
       "      <td>0.0</td>\n",
       "      <td>0.0</td>\n",
       "      <td>0.0</td>\n",
       "      <td>0.0</td>\n",
       "      <td>0.0</td>\n",
       "      <td>0.0</td>\n",
       "    </tr>\n",
       "    <tr>\n",
       "      <th>12dgr161_c</th>\n",
       "      <td>0.0</td>\n",
       "      <td>0.0</td>\n",
       "      <td>0.0</td>\n",
       "      <td>0.0</td>\n",
       "      <td>0.0</td>\n",
       "      <td>0.0</td>\n",
       "      <td>0.000000</td>\n",
       "      <td>0.000000</td>\n",
       "      <td>0.0</td>\n",
       "      <td>0.0</td>\n",
       "      <td>...</td>\n",
       "      <td>0.0</td>\n",
       "      <td>0.0</td>\n",
       "      <td>0.0</td>\n",
       "      <td>0.0</td>\n",
       "      <td>0.0</td>\n",
       "      <td>0.0</td>\n",
       "      <td>0.0</td>\n",
       "      <td>0.0</td>\n",
       "      <td>0.0</td>\n",
       "      <td>0.0</td>\n",
       "    </tr>\n",
       "    <tr>\n",
       "      <th>12dgr180_c</th>\n",
       "      <td>0.0</td>\n",
       "      <td>0.0</td>\n",
       "      <td>0.0</td>\n",
       "      <td>0.0</td>\n",
       "      <td>0.0</td>\n",
       "      <td>0.0</td>\n",
       "      <td>0.000000</td>\n",
       "      <td>0.000000</td>\n",
       "      <td>0.0</td>\n",
       "      <td>0.0</td>\n",
       "      <td>...</td>\n",
       "      <td>0.0</td>\n",
       "      <td>0.0</td>\n",
       "      <td>0.0</td>\n",
       "      <td>0.0</td>\n",
       "      <td>0.0</td>\n",
       "      <td>0.0</td>\n",
       "      <td>0.0</td>\n",
       "      <td>0.0</td>\n",
       "      <td>0.0</td>\n",
       "      <td>0.0</td>\n",
       "    </tr>\n",
       "    <tr>\n",
       "      <th>12dgr181_c</th>\n",
       "      <td>0.0</td>\n",
       "      <td>0.0</td>\n",
       "      <td>0.0</td>\n",
       "      <td>0.0</td>\n",
       "      <td>0.0</td>\n",
       "      <td>0.0</td>\n",
       "      <td>0.000000</td>\n",
       "      <td>0.000000</td>\n",
       "      <td>0.0</td>\n",
       "      <td>0.0</td>\n",
       "      <td>...</td>\n",
       "      <td>0.0</td>\n",
       "      <td>0.0</td>\n",
       "      <td>0.0</td>\n",
       "      <td>0.0</td>\n",
       "      <td>0.0</td>\n",
       "      <td>0.0</td>\n",
       "      <td>0.0</td>\n",
       "      <td>0.0</td>\n",
       "      <td>0.0</td>\n",
       "      <td>0.0</td>\n",
       "    </tr>\n",
       "    <tr>\n",
       "      <th>12ppd__R_c</th>\n",
       "      <td>0.0</td>\n",
       "      <td>0.0</td>\n",
       "      <td>0.0</td>\n",
       "      <td>0.0</td>\n",
       "      <td>0.0</td>\n",
       "      <td>0.0</td>\n",
       "      <td>0.000000</td>\n",
       "      <td>0.000000</td>\n",
       "      <td>0.0</td>\n",
       "      <td>0.0</td>\n",
       "      <td>...</td>\n",
       "      <td>0.0</td>\n",
       "      <td>0.0</td>\n",
       "      <td>0.0</td>\n",
       "      <td>0.0</td>\n",
       "      <td>0.0</td>\n",
       "      <td>0.0</td>\n",
       "      <td>0.0</td>\n",
       "      <td>0.0</td>\n",
       "      <td>0.0</td>\n",
       "      <td>0.0</td>\n",
       "    </tr>\n",
       "    <tr>\n",
       "      <th>12ppd__S_c</th>\n",
       "      <td>0.0</td>\n",
       "      <td>0.0</td>\n",
       "      <td>0.0</td>\n",
       "      <td>0.0</td>\n",
       "      <td>0.0</td>\n",
       "      <td>0.0</td>\n",
       "      <td>0.000000</td>\n",
       "      <td>0.000000</td>\n",
       "      <td>0.0</td>\n",
       "      <td>0.0</td>\n",
       "      <td>...</td>\n",
       "      <td>0.0</td>\n",
       "      <td>0.0</td>\n",
       "      <td>0.0</td>\n",
       "      <td>0.0</td>\n",
       "      <td>0.0</td>\n",
       "      <td>0.0</td>\n",
       "      <td>0.0</td>\n",
       "      <td>0.0</td>\n",
       "      <td>0.0</td>\n",
       "      <td>0.0</td>\n",
       "    </tr>\n",
       "    <tr>\n",
       "      <th>13dpg_c</th>\n",
       "      <td>0.0</td>\n",
       "      <td>0.0</td>\n",
       "      <td>0.0</td>\n",
       "      <td>0.0</td>\n",
       "      <td>0.0</td>\n",
       "      <td>0.0</td>\n",
       "      <td>0.000000</td>\n",
       "      <td>0.000000</td>\n",
       "      <td>0.0</td>\n",
       "      <td>0.0</td>\n",
       "      <td>...</td>\n",
       "      <td>0.0</td>\n",
       "      <td>0.0</td>\n",
       "      <td>0.0</td>\n",
       "      <td>0.0</td>\n",
       "      <td>0.0</td>\n",
       "      <td>0.0</td>\n",
       "      <td>0.0</td>\n",
       "      <td>0.0</td>\n",
       "      <td>0.0</td>\n",
       "      <td>0.0</td>\n",
       "    </tr>\n",
       "    <tr>\n",
       "      <th>14dhncoa_c</th>\n",
       "      <td>0.0</td>\n",
       "      <td>0.0</td>\n",
       "      <td>0.0</td>\n",
       "      <td>0.0</td>\n",
       "      <td>0.0</td>\n",
       "      <td>0.0</td>\n",
       "      <td>0.000000</td>\n",
       "      <td>0.000000</td>\n",
       "      <td>0.0</td>\n",
       "      <td>0.0</td>\n",
       "      <td>...</td>\n",
       "      <td>0.0</td>\n",
       "      <td>0.0</td>\n",
       "      <td>0.0</td>\n",
       "      <td>0.0</td>\n",
       "      <td>0.0</td>\n",
       "      <td>0.0</td>\n",
       "      <td>0.0</td>\n",
       "      <td>0.0</td>\n",
       "      <td>0.0</td>\n",
       "      <td>0.0</td>\n",
       "    </tr>\n",
       "    <tr>\n",
       "      <th>14glucan_c</th>\n",
       "      <td>0.0</td>\n",
       "      <td>0.0</td>\n",
       "      <td>0.0</td>\n",
       "      <td>0.0</td>\n",
       "      <td>0.0</td>\n",
       "      <td>0.0</td>\n",
       "      <td>0.000000</td>\n",
       "      <td>0.000000</td>\n",
       "      <td>0.0</td>\n",
       "      <td>0.0</td>\n",
       "      <td>...</td>\n",
       "      <td>0.0</td>\n",
       "      <td>0.0</td>\n",
       "      <td>0.0</td>\n",
       "      <td>0.0</td>\n",
       "      <td>0.0</td>\n",
       "      <td>0.0</td>\n",
       "      <td>0.0</td>\n",
       "      <td>0.0</td>\n",
       "      <td>0.0</td>\n",
       "      <td>0.0</td>\n",
       "    </tr>\n",
       "    <tr>\n",
       "      <th>15dap_c</th>\n",
       "      <td>0.0</td>\n",
       "      <td>0.0</td>\n",
       "      <td>0.0</td>\n",
       "      <td>0.0</td>\n",
       "      <td>0.0</td>\n",
       "      <td>0.0</td>\n",
       "      <td>0.000000</td>\n",
       "      <td>0.000000</td>\n",
       "      <td>0.0</td>\n",
       "      <td>0.0</td>\n",
       "      <td>...</td>\n",
       "      <td>0.0</td>\n",
       "      <td>0.0</td>\n",
       "      <td>0.0</td>\n",
       "      <td>0.0</td>\n",
       "      <td>0.0</td>\n",
       "      <td>0.0</td>\n",
       "      <td>0.0</td>\n",
       "      <td>0.0</td>\n",
       "      <td>0.0</td>\n",
       "      <td>0.0</td>\n",
       "    </tr>\n",
       "    <tr>\n",
       "      <th>1ddecg3p_c</th>\n",
       "      <td>0.0</td>\n",
       "      <td>0.0</td>\n",
       "      <td>0.0</td>\n",
       "      <td>0.0</td>\n",
       "      <td>0.0</td>\n",
       "      <td>0.0</td>\n",
       "      <td>0.000000</td>\n",
       "      <td>0.000000</td>\n",
       "      <td>0.0</td>\n",
       "      <td>0.0</td>\n",
       "      <td>...</td>\n",
       "      <td>0.0</td>\n",
       "      <td>0.0</td>\n",
       "      <td>0.0</td>\n",
       "      <td>0.0</td>\n",
       "      <td>0.0</td>\n",
       "      <td>0.0</td>\n",
       "      <td>0.0</td>\n",
       "      <td>0.0</td>\n",
       "      <td>0.0</td>\n",
       "      <td>0.0</td>\n",
       "    </tr>\n",
       "    <tr>\n",
       "      <th>1hdec9eg3p_c</th>\n",
       "      <td>0.0</td>\n",
       "      <td>0.0</td>\n",
       "      <td>0.0</td>\n",
       "      <td>0.0</td>\n",
       "      <td>0.0</td>\n",
       "      <td>0.0</td>\n",
       "      <td>0.000000</td>\n",
       "      <td>0.000000</td>\n",
       "      <td>0.0</td>\n",
       "      <td>0.0</td>\n",
       "      <td>...</td>\n",
       "      <td>0.0</td>\n",
       "      <td>0.0</td>\n",
       "      <td>0.0</td>\n",
       "      <td>0.0</td>\n",
       "      <td>0.0</td>\n",
       "      <td>0.0</td>\n",
       "      <td>0.0</td>\n",
       "      <td>0.0</td>\n",
       "      <td>0.0</td>\n",
       "      <td>0.0</td>\n",
       "    </tr>\n",
       "    <tr>\n",
       "      <th>1hdecg3p_c</th>\n",
       "      <td>0.0</td>\n",
       "      <td>0.0</td>\n",
       "      <td>0.0</td>\n",
       "      <td>0.0</td>\n",
       "      <td>0.0</td>\n",
       "      <td>0.0</td>\n",
       "      <td>0.000000</td>\n",
       "      <td>0.000000</td>\n",
       "      <td>0.0</td>\n",
       "      <td>0.0</td>\n",
       "      <td>...</td>\n",
       "      <td>0.0</td>\n",
       "      <td>0.0</td>\n",
       "      <td>0.0</td>\n",
       "      <td>0.0</td>\n",
       "      <td>0.0</td>\n",
       "      <td>0.0</td>\n",
       "      <td>0.0</td>\n",
       "      <td>0.0</td>\n",
       "      <td>0.0</td>\n",
       "      <td>0.0</td>\n",
       "    </tr>\n",
       "    <tr>\n",
       "      <th>1odec11eg3p_c</th>\n",
       "      <td>0.0</td>\n",
       "      <td>0.0</td>\n",
       "      <td>0.0</td>\n",
       "      <td>0.0</td>\n",
       "      <td>0.0</td>\n",
       "      <td>0.0</td>\n",
       "      <td>0.000000</td>\n",
       "      <td>0.000000</td>\n",
       "      <td>0.0</td>\n",
       "      <td>0.0</td>\n",
       "      <td>...</td>\n",
       "      <td>0.0</td>\n",
       "      <td>0.0</td>\n",
       "      <td>0.0</td>\n",
       "      <td>0.0</td>\n",
       "      <td>0.0</td>\n",
       "      <td>0.0</td>\n",
       "      <td>0.0</td>\n",
       "      <td>0.0</td>\n",
       "      <td>0.0</td>\n",
       "      <td>0.0</td>\n",
       "    </tr>\n",
       "    <tr>\n",
       "      <th>1odecg3p_c</th>\n",
       "      <td>0.0</td>\n",
       "      <td>0.0</td>\n",
       "      <td>0.0</td>\n",
       "      <td>0.0</td>\n",
       "      <td>0.0</td>\n",
       "      <td>0.0</td>\n",
       "      <td>0.000000</td>\n",
       "      <td>0.000000</td>\n",
       "      <td>0.0</td>\n",
       "      <td>0.0</td>\n",
       "      <td>...</td>\n",
       "      <td>0.0</td>\n",
       "      <td>0.0</td>\n",
       "      <td>0.0</td>\n",
       "      <td>0.0</td>\n",
       "      <td>0.0</td>\n",
       "      <td>0.0</td>\n",
       "      <td>0.0</td>\n",
       "      <td>0.0</td>\n",
       "      <td>0.0</td>\n",
       "      <td>0.0</td>\n",
       "    </tr>\n",
       "    <tr>\n",
       "      <th>1pyr5c_c</th>\n",
       "      <td>0.0</td>\n",
       "      <td>0.0</td>\n",
       "      <td>0.0</td>\n",
       "      <td>0.0</td>\n",
       "      <td>0.0</td>\n",
       "      <td>0.0</td>\n",
       "      <td>0.000000</td>\n",
       "      <td>0.000000</td>\n",
       "      <td>0.0</td>\n",
       "      <td>0.0</td>\n",
       "      <td>...</td>\n",
       "      <td>0.0</td>\n",
       "      <td>0.0</td>\n",
       "      <td>0.0</td>\n",
       "      <td>0.0</td>\n",
       "      <td>0.0</td>\n",
       "      <td>0.0</td>\n",
       "      <td>0.0</td>\n",
       "      <td>0.0</td>\n",
       "      <td>0.0</td>\n",
       "      <td>0.0</td>\n",
       "    </tr>\n",
       "    <tr>\n",
       "      <th>1tdec7eg3p_c</th>\n",
       "      <td>0.0</td>\n",
       "      <td>0.0</td>\n",
       "      <td>0.0</td>\n",
       "      <td>0.0</td>\n",
       "      <td>0.0</td>\n",
       "      <td>0.0</td>\n",
       "      <td>0.000000</td>\n",
       "      <td>0.000000</td>\n",
       "      <td>0.0</td>\n",
       "      <td>0.0</td>\n",
       "      <td>...</td>\n",
       "      <td>0.0</td>\n",
       "      <td>0.0</td>\n",
       "      <td>0.0</td>\n",
       "      <td>0.0</td>\n",
       "      <td>0.0</td>\n",
       "      <td>0.0</td>\n",
       "      <td>0.0</td>\n",
       "      <td>0.0</td>\n",
       "      <td>0.0</td>\n",
       "      <td>0.0</td>\n",
       "    </tr>\n",
       "    <tr>\n",
       "      <th>1tdecg3p_c</th>\n",
       "      <td>0.0</td>\n",
       "      <td>0.0</td>\n",
       "      <td>0.0</td>\n",
       "      <td>0.0</td>\n",
       "      <td>0.0</td>\n",
       "      <td>0.0</td>\n",
       "      <td>0.000000</td>\n",
       "      <td>0.000000</td>\n",
       "      <td>0.0</td>\n",
       "      <td>0.0</td>\n",
       "      <td>...</td>\n",
       "      <td>0.0</td>\n",
       "      <td>0.0</td>\n",
       "      <td>0.0</td>\n",
       "      <td>0.0</td>\n",
       "      <td>0.0</td>\n",
       "      <td>0.0</td>\n",
       "      <td>0.0</td>\n",
       "      <td>0.0</td>\n",
       "      <td>0.0</td>\n",
       "      <td>0.0</td>\n",
       "    </tr>\n",
       "    <tr>\n",
       "      <th>23dappa_c</th>\n",
       "      <td>0.0</td>\n",
       "      <td>0.0</td>\n",
       "      <td>0.0</td>\n",
       "      <td>0.0</td>\n",
       "      <td>0.0</td>\n",
       "      <td>0.0</td>\n",
       "      <td>0.000000</td>\n",
       "      <td>0.000000</td>\n",
       "      <td>0.0</td>\n",
       "      <td>0.0</td>\n",
       "      <td>...</td>\n",
       "      <td>0.0</td>\n",
       "      <td>0.0</td>\n",
       "      <td>0.0</td>\n",
       "      <td>0.0</td>\n",
       "      <td>0.0</td>\n",
       "      <td>0.0</td>\n",
       "      <td>0.0</td>\n",
       "      <td>0.0</td>\n",
       "      <td>0.0</td>\n",
       "      <td>0.0</td>\n",
       "    </tr>\n",
       "    <tr>\n",
       "      <th>23ddhb_c</th>\n",
       "      <td>0.0</td>\n",
       "      <td>0.0</td>\n",
       "      <td>0.0</td>\n",
       "      <td>0.0</td>\n",
       "      <td>0.0</td>\n",
       "      <td>0.0</td>\n",
       "      <td>0.000000</td>\n",
       "      <td>0.000000</td>\n",
       "      <td>0.0</td>\n",
       "      <td>0.0</td>\n",
       "      <td>...</td>\n",
       "      <td>0.0</td>\n",
       "      <td>0.0</td>\n",
       "      <td>0.0</td>\n",
       "      <td>0.0</td>\n",
       "      <td>0.0</td>\n",
       "      <td>0.0</td>\n",
       "      <td>0.0</td>\n",
       "      <td>0.0</td>\n",
       "      <td>0.0</td>\n",
       "      <td>0.0</td>\n",
       "    </tr>\n",
       "    <tr>\n",
       "      <th>23dhacoa_c</th>\n",
       "      <td>0.0</td>\n",
       "      <td>0.0</td>\n",
       "      <td>0.0</td>\n",
       "      <td>0.0</td>\n",
       "      <td>0.0</td>\n",
       "      <td>0.0</td>\n",
       "      <td>0.000000</td>\n",
       "      <td>0.000000</td>\n",
       "      <td>0.0</td>\n",
       "      <td>0.0</td>\n",
       "      <td>...</td>\n",
       "      <td>0.0</td>\n",
       "      <td>0.0</td>\n",
       "      <td>0.0</td>\n",
       "      <td>0.0</td>\n",
       "      <td>0.0</td>\n",
       "      <td>0.0</td>\n",
       "      <td>0.0</td>\n",
       "      <td>0.0</td>\n",
       "      <td>0.0</td>\n",
       "      <td>0.0</td>\n",
       "    </tr>\n",
       "    <tr>\n",
       "      <th>23dhb_c</th>\n",
       "      <td>0.0</td>\n",
       "      <td>0.0</td>\n",
       "      <td>0.0</td>\n",
       "      <td>0.0</td>\n",
       "      <td>0.0</td>\n",
       "      <td>0.0</td>\n",
       "      <td>0.000000</td>\n",
       "      <td>0.000000</td>\n",
       "      <td>0.0</td>\n",
       "      <td>0.0</td>\n",
       "      <td>...</td>\n",
       "      <td>0.0</td>\n",
       "      <td>0.0</td>\n",
       "      <td>0.0</td>\n",
       "      <td>0.0</td>\n",
       "      <td>0.0</td>\n",
       "      <td>0.0</td>\n",
       "      <td>0.0</td>\n",
       "      <td>0.0</td>\n",
       "      <td>0.0</td>\n",
       "      <td>0.0</td>\n",
       "    </tr>\n",
       "    <tr>\n",
       "      <th>23dhba_c</th>\n",
       "      <td>0.0</td>\n",
       "      <td>0.0</td>\n",
       "      <td>0.0</td>\n",
       "      <td>0.0</td>\n",
       "      <td>0.0</td>\n",
       "      <td>0.0</td>\n",
       "      <td>0.000000</td>\n",
       "      <td>0.000000</td>\n",
       "      <td>0.0</td>\n",
       "      <td>0.0</td>\n",
       "      <td>...</td>\n",
       "      <td>0.0</td>\n",
       "      <td>0.0</td>\n",
       "      <td>0.0</td>\n",
       "      <td>0.0</td>\n",
       "      <td>0.0</td>\n",
       "      <td>0.0</td>\n",
       "      <td>0.0</td>\n",
       "      <td>0.0</td>\n",
       "      <td>0.0</td>\n",
       "      <td>0.0</td>\n",
       "    </tr>\n",
       "    <tr>\n",
       "      <th>23dhbzs_c</th>\n",
       "      <td>0.0</td>\n",
       "      <td>0.0</td>\n",
       "      <td>0.0</td>\n",
       "      <td>0.0</td>\n",
       "      <td>0.0</td>\n",
       "      <td>0.0</td>\n",
       "      <td>0.000000</td>\n",
       "      <td>0.000000</td>\n",
       "      <td>0.0</td>\n",
       "      <td>0.0</td>\n",
       "      <td>...</td>\n",
       "      <td>0.0</td>\n",
       "      <td>0.0</td>\n",
       "      <td>0.0</td>\n",
       "      <td>0.0</td>\n",
       "      <td>0.0</td>\n",
       "      <td>0.0</td>\n",
       "      <td>0.0</td>\n",
       "      <td>0.0</td>\n",
       "      <td>0.0</td>\n",
       "      <td>0.0</td>\n",
       "    </tr>\n",
       "    <tr>\n",
       "      <th>23dhdp_c</th>\n",
       "      <td>0.0</td>\n",
       "      <td>0.0</td>\n",
       "      <td>0.0</td>\n",
       "      <td>0.0</td>\n",
       "      <td>0.0</td>\n",
       "      <td>0.0</td>\n",
       "      <td>0.000000</td>\n",
       "      <td>0.000000</td>\n",
       "      <td>0.0</td>\n",
       "      <td>0.0</td>\n",
       "      <td>...</td>\n",
       "      <td>0.0</td>\n",
       "      <td>0.0</td>\n",
       "      <td>0.0</td>\n",
       "      <td>0.0</td>\n",
       "      <td>0.0</td>\n",
       "      <td>0.0</td>\n",
       "      <td>0.0</td>\n",
       "      <td>0.0</td>\n",
       "      <td>0.0</td>\n",
       "      <td>0.0</td>\n",
       "    </tr>\n",
       "    <tr>\n",
       "      <th>23dhmb_c</th>\n",
       "      <td>0.0</td>\n",
       "      <td>0.0</td>\n",
       "      <td>0.0</td>\n",
       "      <td>0.0</td>\n",
       "      <td>0.0</td>\n",
       "      <td>0.0</td>\n",
       "      <td>0.000000</td>\n",
       "      <td>0.000000</td>\n",
       "      <td>0.0</td>\n",
       "      <td>0.0</td>\n",
       "      <td>...</td>\n",
       "      <td>0.0</td>\n",
       "      <td>0.0</td>\n",
       "      <td>0.0</td>\n",
       "      <td>0.0</td>\n",
       "      <td>0.0</td>\n",
       "      <td>0.0</td>\n",
       "      <td>0.0</td>\n",
       "      <td>0.0</td>\n",
       "      <td>0.0</td>\n",
       "      <td>0.0</td>\n",
       "    </tr>\n",
       "    <tr>\n",
       "      <th>...</th>\n",
       "      <td>...</td>\n",
       "      <td>...</td>\n",
       "      <td>...</td>\n",
       "      <td>...</td>\n",
       "      <td>...</td>\n",
       "      <td>...</td>\n",
       "      <td>...</td>\n",
       "      <td>...</td>\n",
       "      <td>...</td>\n",
       "      <td>...</td>\n",
       "      <td>...</td>\n",
       "      <td>...</td>\n",
       "      <td>...</td>\n",
       "      <td>...</td>\n",
       "      <td>...</td>\n",
       "      <td>...</td>\n",
       "      <td>...</td>\n",
       "      <td>...</td>\n",
       "      <td>...</td>\n",
       "      <td>...</td>\n",
       "      <td>...</td>\n",
       "    </tr>\n",
       "    <tr>\n",
       "      <th>tre_p</th>\n",
       "      <td>0.0</td>\n",
       "      <td>0.0</td>\n",
       "      <td>0.0</td>\n",
       "      <td>0.0</td>\n",
       "      <td>0.0</td>\n",
       "      <td>0.0</td>\n",
       "      <td>0.000000</td>\n",
       "      <td>0.000000</td>\n",
       "      <td>0.0</td>\n",
       "      <td>0.0</td>\n",
       "      <td>...</td>\n",
       "      <td>0.0</td>\n",
       "      <td>0.0</td>\n",
       "      <td>0.0</td>\n",
       "      <td>0.0</td>\n",
       "      <td>0.0</td>\n",
       "      <td>0.0</td>\n",
       "      <td>0.0</td>\n",
       "      <td>0.0</td>\n",
       "      <td>0.0</td>\n",
       "      <td>0.0</td>\n",
       "    </tr>\n",
       "    <tr>\n",
       "      <th>trp__L_p</th>\n",
       "      <td>0.0</td>\n",
       "      <td>0.0</td>\n",
       "      <td>0.0</td>\n",
       "      <td>0.0</td>\n",
       "      <td>0.0</td>\n",
       "      <td>0.0</td>\n",
       "      <td>0.000000</td>\n",
       "      <td>0.000000</td>\n",
       "      <td>0.0</td>\n",
       "      <td>0.0</td>\n",
       "      <td>...</td>\n",
       "      <td>0.0</td>\n",
       "      <td>0.0</td>\n",
       "      <td>0.0</td>\n",
       "      <td>0.0</td>\n",
       "      <td>0.0</td>\n",
       "      <td>0.0</td>\n",
       "      <td>0.0</td>\n",
       "      <td>0.0</td>\n",
       "      <td>0.0</td>\n",
       "      <td>0.0</td>\n",
       "    </tr>\n",
       "    <tr>\n",
       "      <th>tsul_p</th>\n",
       "      <td>0.0</td>\n",
       "      <td>0.0</td>\n",
       "      <td>0.0</td>\n",
       "      <td>0.0</td>\n",
       "      <td>0.0</td>\n",
       "      <td>0.0</td>\n",
       "      <td>0.000000</td>\n",
       "      <td>0.000000</td>\n",
       "      <td>0.0</td>\n",
       "      <td>0.0</td>\n",
       "      <td>...</td>\n",
       "      <td>0.0</td>\n",
       "      <td>0.0</td>\n",
       "      <td>0.0</td>\n",
       "      <td>0.0</td>\n",
       "      <td>0.0</td>\n",
       "      <td>0.0</td>\n",
       "      <td>0.0</td>\n",
       "      <td>0.0</td>\n",
       "      <td>0.0</td>\n",
       "      <td>0.0</td>\n",
       "    </tr>\n",
       "    <tr>\n",
       "      <th>ttdca_p</th>\n",
       "      <td>0.0</td>\n",
       "      <td>0.0</td>\n",
       "      <td>0.0</td>\n",
       "      <td>0.0</td>\n",
       "      <td>0.0</td>\n",
       "      <td>0.0</td>\n",
       "      <td>0.000000</td>\n",
       "      <td>0.000000</td>\n",
       "      <td>0.0</td>\n",
       "      <td>0.0</td>\n",
       "      <td>...</td>\n",
       "      <td>0.0</td>\n",
       "      <td>0.0</td>\n",
       "      <td>0.0</td>\n",
       "      <td>0.0</td>\n",
       "      <td>0.0</td>\n",
       "      <td>0.0</td>\n",
       "      <td>0.0</td>\n",
       "      <td>0.0</td>\n",
       "      <td>0.0</td>\n",
       "      <td>0.0</td>\n",
       "    </tr>\n",
       "    <tr>\n",
       "      <th>ttdcea_p</th>\n",
       "      <td>0.0</td>\n",
       "      <td>0.0</td>\n",
       "      <td>0.0</td>\n",
       "      <td>0.0</td>\n",
       "      <td>0.0</td>\n",
       "      <td>0.0</td>\n",
       "      <td>0.000000</td>\n",
       "      <td>0.000000</td>\n",
       "      <td>0.0</td>\n",
       "      <td>0.0</td>\n",
       "      <td>...</td>\n",
       "      <td>0.0</td>\n",
       "      <td>0.0</td>\n",
       "      <td>0.0</td>\n",
       "      <td>0.0</td>\n",
       "      <td>0.0</td>\n",
       "      <td>0.0</td>\n",
       "      <td>0.0</td>\n",
       "      <td>0.0</td>\n",
       "      <td>0.0</td>\n",
       "      <td>0.0</td>\n",
       "    </tr>\n",
       "    <tr>\n",
       "      <th>ttrcyc_p</th>\n",
       "      <td>0.0</td>\n",
       "      <td>0.0</td>\n",
       "      <td>0.0</td>\n",
       "      <td>0.0</td>\n",
       "      <td>0.0</td>\n",
       "      <td>0.0</td>\n",
       "      <td>0.000000</td>\n",
       "      <td>0.000000</td>\n",
       "      <td>0.0</td>\n",
       "      <td>0.0</td>\n",
       "      <td>...</td>\n",
       "      <td>0.0</td>\n",
       "      <td>0.0</td>\n",
       "      <td>0.0</td>\n",
       "      <td>0.0</td>\n",
       "      <td>0.0</td>\n",
       "      <td>0.0</td>\n",
       "      <td>0.0</td>\n",
       "      <td>0.0</td>\n",
       "      <td>0.0</td>\n",
       "      <td>0.0</td>\n",
       "    </tr>\n",
       "    <tr>\n",
       "      <th>tungs_p</th>\n",
       "      <td>0.0</td>\n",
       "      <td>0.0</td>\n",
       "      <td>0.0</td>\n",
       "      <td>0.0</td>\n",
       "      <td>0.0</td>\n",
       "      <td>0.0</td>\n",
       "      <td>0.000000</td>\n",
       "      <td>0.000000</td>\n",
       "      <td>0.0</td>\n",
       "      <td>0.0</td>\n",
       "      <td>...</td>\n",
       "      <td>0.0</td>\n",
       "      <td>0.0</td>\n",
       "      <td>0.0</td>\n",
       "      <td>0.0</td>\n",
       "      <td>0.0</td>\n",
       "      <td>0.0</td>\n",
       "      <td>0.0</td>\n",
       "      <td>0.0</td>\n",
       "      <td>0.0</td>\n",
       "      <td>0.0</td>\n",
       "    </tr>\n",
       "    <tr>\n",
       "      <th>tym_p</th>\n",
       "      <td>0.0</td>\n",
       "      <td>0.0</td>\n",
       "      <td>0.0</td>\n",
       "      <td>0.0</td>\n",
       "      <td>0.0</td>\n",
       "      <td>0.0</td>\n",
       "      <td>0.000000</td>\n",
       "      <td>0.000000</td>\n",
       "      <td>0.0</td>\n",
       "      <td>0.0</td>\n",
       "      <td>...</td>\n",
       "      <td>0.0</td>\n",
       "      <td>0.0</td>\n",
       "      <td>0.0</td>\n",
       "      <td>0.0</td>\n",
       "      <td>0.0</td>\n",
       "      <td>0.0</td>\n",
       "      <td>0.0</td>\n",
       "      <td>0.0</td>\n",
       "      <td>0.0</td>\n",
       "      <td>0.0</td>\n",
       "    </tr>\n",
       "    <tr>\n",
       "      <th>tyr__L_p</th>\n",
       "      <td>0.0</td>\n",
       "      <td>0.0</td>\n",
       "      <td>0.0</td>\n",
       "      <td>0.0</td>\n",
       "      <td>0.0</td>\n",
       "      <td>0.0</td>\n",
       "      <td>0.000000</td>\n",
       "      <td>0.000000</td>\n",
       "      <td>0.0</td>\n",
       "      <td>0.0</td>\n",
       "      <td>...</td>\n",
       "      <td>0.0</td>\n",
       "      <td>0.0</td>\n",
       "      <td>0.0</td>\n",
       "      <td>0.0</td>\n",
       "      <td>0.0</td>\n",
       "      <td>0.0</td>\n",
       "      <td>0.0</td>\n",
       "      <td>0.0</td>\n",
       "      <td>0.0</td>\n",
       "      <td>0.0</td>\n",
       "    </tr>\n",
       "    <tr>\n",
       "      <th>tyrp_p</th>\n",
       "      <td>0.0</td>\n",
       "      <td>0.0</td>\n",
       "      <td>0.0</td>\n",
       "      <td>0.0</td>\n",
       "      <td>0.0</td>\n",
       "      <td>0.0</td>\n",
       "      <td>0.000000</td>\n",
       "      <td>0.000000</td>\n",
       "      <td>0.0</td>\n",
       "      <td>0.0</td>\n",
       "      <td>...</td>\n",
       "      <td>0.0</td>\n",
       "      <td>0.0</td>\n",
       "      <td>0.0</td>\n",
       "      <td>0.0</td>\n",
       "      <td>0.0</td>\n",
       "      <td>0.0</td>\n",
       "      <td>0.0</td>\n",
       "      <td>0.0</td>\n",
       "      <td>0.0</td>\n",
       "      <td>0.0</td>\n",
       "    </tr>\n",
       "    <tr>\n",
       "      <th>uLa4n_p</th>\n",
       "      <td>0.0</td>\n",
       "      <td>0.0</td>\n",
       "      <td>0.0</td>\n",
       "      <td>0.0</td>\n",
       "      <td>0.0</td>\n",
       "      <td>0.0</td>\n",
       "      <td>0.000000</td>\n",
       "      <td>0.000000</td>\n",
       "      <td>0.0</td>\n",
       "      <td>0.0</td>\n",
       "      <td>...</td>\n",
       "      <td>0.0</td>\n",
       "      <td>0.0</td>\n",
       "      <td>0.0</td>\n",
       "      <td>0.0</td>\n",
       "      <td>0.0</td>\n",
       "      <td>0.0</td>\n",
       "      <td>0.0</td>\n",
       "      <td>0.0</td>\n",
       "      <td>0.0</td>\n",
       "      <td>0.0</td>\n",
       "    </tr>\n",
       "    <tr>\n",
       "      <th>uacgam_p</th>\n",
       "      <td>0.0</td>\n",
       "      <td>0.0</td>\n",
       "      <td>0.0</td>\n",
       "      <td>0.0</td>\n",
       "      <td>0.0</td>\n",
       "      <td>0.0</td>\n",
       "      <td>0.000000</td>\n",
       "      <td>0.000000</td>\n",
       "      <td>0.0</td>\n",
       "      <td>0.0</td>\n",
       "      <td>...</td>\n",
       "      <td>0.0</td>\n",
       "      <td>0.0</td>\n",
       "      <td>0.0</td>\n",
       "      <td>0.0</td>\n",
       "      <td>0.0</td>\n",
       "      <td>0.0</td>\n",
       "      <td>0.0</td>\n",
       "      <td>0.0</td>\n",
       "      <td>0.0</td>\n",
       "      <td>0.0</td>\n",
       "    </tr>\n",
       "    <tr>\n",
       "      <th>udcpdp_p</th>\n",
       "      <td>0.0</td>\n",
       "      <td>0.0</td>\n",
       "      <td>0.0</td>\n",
       "      <td>0.0</td>\n",
       "      <td>0.0</td>\n",
       "      <td>0.0</td>\n",
       "      <td>0.000000</td>\n",
       "      <td>0.000000</td>\n",
       "      <td>0.0</td>\n",
       "      <td>0.0</td>\n",
       "      <td>...</td>\n",
       "      <td>0.0</td>\n",
       "      <td>0.0</td>\n",
       "      <td>0.0</td>\n",
       "      <td>0.0</td>\n",
       "      <td>0.0</td>\n",
       "      <td>0.0</td>\n",
       "      <td>0.0</td>\n",
       "      <td>0.0</td>\n",
       "      <td>0.0</td>\n",
       "      <td>0.0</td>\n",
       "    </tr>\n",
       "    <tr>\n",
       "      <th>udcpp_p</th>\n",
       "      <td>0.0</td>\n",
       "      <td>0.0</td>\n",
       "      <td>0.0</td>\n",
       "      <td>0.0</td>\n",
       "      <td>0.0</td>\n",
       "      <td>0.0</td>\n",
       "      <td>0.000000</td>\n",
       "      <td>0.000000</td>\n",
       "      <td>0.0</td>\n",
       "      <td>0.0</td>\n",
       "      <td>...</td>\n",
       "      <td>0.0</td>\n",
       "      <td>0.0</td>\n",
       "      <td>0.0</td>\n",
       "      <td>0.0</td>\n",
       "      <td>0.0</td>\n",
       "      <td>0.0</td>\n",
       "      <td>0.0</td>\n",
       "      <td>0.0</td>\n",
       "      <td>0.0</td>\n",
       "      <td>0.0</td>\n",
       "    </tr>\n",
       "    <tr>\n",
       "      <th>udpacgal_p</th>\n",
       "      <td>0.0</td>\n",
       "      <td>0.0</td>\n",
       "      <td>0.0</td>\n",
       "      <td>0.0</td>\n",
       "      <td>0.0</td>\n",
       "      <td>0.0</td>\n",
       "      <td>0.000000</td>\n",
       "      <td>0.000000</td>\n",
       "      <td>0.0</td>\n",
       "      <td>0.0</td>\n",
       "      <td>...</td>\n",
       "      <td>0.0</td>\n",
       "      <td>0.0</td>\n",
       "      <td>0.0</td>\n",
       "      <td>0.0</td>\n",
       "      <td>0.0</td>\n",
       "      <td>0.0</td>\n",
       "      <td>0.0</td>\n",
       "      <td>0.0</td>\n",
       "      <td>0.0</td>\n",
       "      <td>0.0</td>\n",
       "    </tr>\n",
       "    <tr>\n",
       "      <th>udpg_p</th>\n",
       "      <td>0.0</td>\n",
       "      <td>0.0</td>\n",
       "      <td>0.0</td>\n",
       "      <td>0.0</td>\n",
       "      <td>0.0</td>\n",
       "      <td>0.0</td>\n",
       "      <td>0.000000</td>\n",
       "      <td>0.000000</td>\n",
       "      <td>0.0</td>\n",
       "      <td>0.0</td>\n",
       "      <td>...</td>\n",
       "      <td>0.0</td>\n",
       "      <td>0.0</td>\n",
       "      <td>0.0</td>\n",
       "      <td>0.0</td>\n",
       "      <td>0.0</td>\n",
       "      <td>0.0</td>\n",
       "      <td>0.0</td>\n",
       "      <td>0.0</td>\n",
       "      <td>0.0</td>\n",
       "      <td>0.0</td>\n",
       "    </tr>\n",
       "    <tr>\n",
       "      <th>udpgal_p</th>\n",
       "      <td>0.0</td>\n",
       "      <td>0.0</td>\n",
       "      <td>0.0</td>\n",
       "      <td>0.0</td>\n",
       "      <td>0.0</td>\n",
       "      <td>0.0</td>\n",
       "      <td>0.000000</td>\n",
       "      <td>0.000000</td>\n",
       "      <td>0.0</td>\n",
       "      <td>0.0</td>\n",
       "      <td>...</td>\n",
       "      <td>0.0</td>\n",
       "      <td>0.0</td>\n",
       "      <td>0.0</td>\n",
       "      <td>0.0</td>\n",
       "      <td>0.0</td>\n",
       "      <td>0.0</td>\n",
       "      <td>0.0</td>\n",
       "      <td>0.0</td>\n",
       "      <td>0.0</td>\n",
       "      <td>0.0</td>\n",
       "    </tr>\n",
       "    <tr>\n",
       "      <th>udpglcur_p</th>\n",
       "      <td>0.0</td>\n",
       "      <td>0.0</td>\n",
       "      <td>0.0</td>\n",
       "      <td>0.0</td>\n",
       "      <td>0.0</td>\n",
       "      <td>0.0</td>\n",
       "      <td>0.000000</td>\n",
       "      <td>0.000000</td>\n",
       "      <td>0.0</td>\n",
       "      <td>0.0</td>\n",
       "      <td>...</td>\n",
       "      <td>0.0</td>\n",
       "      <td>0.0</td>\n",
       "      <td>0.0</td>\n",
       "      <td>0.0</td>\n",
       "      <td>0.0</td>\n",
       "      <td>0.0</td>\n",
       "      <td>0.0</td>\n",
       "      <td>0.0</td>\n",
       "      <td>0.0</td>\n",
       "      <td>0.0</td>\n",
       "    </tr>\n",
       "    <tr>\n",
       "      <th>ump_p</th>\n",
       "      <td>0.0</td>\n",
       "      <td>0.0</td>\n",
       "      <td>0.0</td>\n",
       "      <td>0.0</td>\n",
       "      <td>0.0</td>\n",
       "      <td>0.0</td>\n",
       "      <td>0.000000</td>\n",
       "      <td>0.000000</td>\n",
       "      <td>0.0</td>\n",
       "      <td>0.0</td>\n",
       "      <td>...</td>\n",
       "      <td>0.0</td>\n",
       "      <td>0.0</td>\n",
       "      <td>0.0</td>\n",
       "      <td>0.0</td>\n",
       "      <td>0.0</td>\n",
       "      <td>0.0</td>\n",
       "      <td>0.0</td>\n",
       "      <td>0.0</td>\n",
       "      <td>0.0</td>\n",
       "      <td>0.0</td>\n",
       "    </tr>\n",
       "    <tr>\n",
       "      <th>unagamuf_p</th>\n",
       "      <td>0.0</td>\n",
       "      <td>0.0</td>\n",
       "      <td>0.0</td>\n",
       "      <td>0.0</td>\n",
       "      <td>0.0</td>\n",
       "      <td>0.0</td>\n",
       "      <td>0.000000</td>\n",
       "      <td>0.000000</td>\n",
       "      <td>0.0</td>\n",
       "      <td>0.0</td>\n",
       "      <td>...</td>\n",
       "      <td>0.0</td>\n",
       "      <td>0.0</td>\n",
       "      <td>0.0</td>\n",
       "      <td>0.0</td>\n",
       "      <td>0.0</td>\n",
       "      <td>0.0</td>\n",
       "      <td>0.0</td>\n",
       "      <td>0.0</td>\n",
       "      <td>0.0</td>\n",
       "      <td>0.0</td>\n",
       "    </tr>\n",
       "    <tr>\n",
       "      <th>ura_p</th>\n",
       "      <td>0.0</td>\n",
       "      <td>0.0</td>\n",
       "      <td>0.0</td>\n",
       "      <td>0.0</td>\n",
       "      <td>0.0</td>\n",
       "      <td>0.0</td>\n",
       "      <td>0.000000</td>\n",
       "      <td>0.000000</td>\n",
       "      <td>0.0</td>\n",
       "      <td>0.0</td>\n",
       "      <td>...</td>\n",
       "      <td>0.0</td>\n",
       "      <td>0.0</td>\n",
       "      <td>0.0</td>\n",
       "      <td>0.0</td>\n",
       "      <td>0.0</td>\n",
       "      <td>0.0</td>\n",
       "      <td>0.0</td>\n",
       "      <td>0.0</td>\n",
       "      <td>0.0</td>\n",
       "      <td>0.0</td>\n",
       "    </tr>\n",
       "    <tr>\n",
       "      <th>urea_p</th>\n",
       "      <td>0.0</td>\n",
       "      <td>0.0</td>\n",
       "      <td>0.0</td>\n",
       "      <td>0.0</td>\n",
       "      <td>0.0</td>\n",
       "      <td>0.0</td>\n",
       "      <td>0.000000</td>\n",
       "      <td>0.000000</td>\n",
       "      <td>0.0</td>\n",
       "      <td>0.0</td>\n",
       "      <td>...</td>\n",
       "      <td>0.0</td>\n",
       "      <td>0.0</td>\n",
       "      <td>0.0</td>\n",
       "      <td>0.0</td>\n",
       "      <td>0.0</td>\n",
       "      <td>0.0</td>\n",
       "      <td>0.0</td>\n",
       "      <td>0.0</td>\n",
       "      <td>0.0</td>\n",
       "      <td>0.0</td>\n",
       "    </tr>\n",
       "    <tr>\n",
       "      <th>uri_p</th>\n",
       "      <td>0.0</td>\n",
       "      <td>0.0</td>\n",
       "      <td>0.0</td>\n",
       "      <td>0.0</td>\n",
       "      <td>0.0</td>\n",
       "      <td>0.0</td>\n",
       "      <td>0.000000</td>\n",
       "      <td>0.000000</td>\n",
       "      <td>0.0</td>\n",
       "      <td>0.0</td>\n",
       "      <td>...</td>\n",
       "      <td>0.0</td>\n",
       "      <td>0.0</td>\n",
       "      <td>0.0</td>\n",
       "      <td>0.0</td>\n",
       "      <td>0.0</td>\n",
       "      <td>0.0</td>\n",
       "      <td>0.0</td>\n",
       "      <td>0.0</td>\n",
       "      <td>0.0</td>\n",
       "      <td>0.0</td>\n",
       "    </tr>\n",
       "    <tr>\n",
       "      <th>val__L_p</th>\n",
       "      <td>0.0</td>\n",
       "      <td>0.0</td>\n",
       "      <td>0.0</td>\n",
       "      <td>0.0</td>\n",
       "      <td>0.0</td>\n",
       "      <td>0.0</td>\n",
       "      <td>0.000000</td>\n",
       "      <td>0.000000</td>\n",
       "      <td>0.0</td>\n",
       "      <td>0.0</td>\n",
       "      <td>...</td>\n",
       "      <td>0.0</td>\n",
       "      <td>0.0</td>\n",
       "      <td>0.0</td>\n",
       "      <td>0.0</td>\n",
       "      <td>0.0</td>\n",
       "      <td>0.0</td>\n",
       "      <td>0.0</td>\n",
       "      <td>0.0</td>\n",
       "      <td>0.0</td>\n",
       "      <td>0.0</td>\n",
       "    </tr>\n",
       "    <tr>\n",
       "      <th>xan_p</th>\n",
       "      <td>0.0</td>\n",
       "      <td>0.0</td>\n",
       "      <td>0.0</td>\n",
       "      <td>0.0</td>\n",
       "      <td>0.0</td>\n",
       "      <td>0.0</td>\n",
       "      <td>0.000000</td>\n",
       "      <td>0.000000</td>\n",
       "      <td>0.0</td>\n",
       "      <td>0.0</td>\n",
       "      <td>...</td>\n",
       "      <td>0.0</td>\n",
       "      <td>0.0</td>\n",
       "      <td>0.0</td>\n",
       "      <td>0.0</td>\n",
       "      <td>0.0</td>\n",
       "      <td>0.0</td>\n",
       "      <td>0.0</td>\n",
       "      <td>0.0</td>\n",
       "      <td>0.0</td>\n",
       "      <td>0.0</td>\n",
       "    </tr>\n",
       "    <tr>\n",
       "      <th>xmp_p</th>\n",
       "      <td>0.0</td>\n",
       "      <td>0.0</td>\n",
       "      <td>0.0</td>\n",
       "      <td>0.0</td>\n",
       "      <td>0.0</td>\n",
       "      <td>0.0</td>\n",
       "      <td>0.000000</td>\n",
       "      <td>0.000000</td>\n",
       "      <td>0.0</td>\n",
       "      <td>0.0</td>\n",
       "      <td>...</td>\n",
       "      <td>0.0</td>\n",
       "      <td>0.0</td>\n",
       "      <td>0.0</td>\n",
       "      <td>0.0</td>\n",
       "      <td>0.0</td>\n",
       "      <td>0.0</td>\n",
       "      <td>0.0</td>\n",
       "      <td>0.0</td>\n",
       "      <td>0.0</td>\n",
       "      <td>0.0</td>\n",
       "    </tr>\n",
       "    <tr>\n",
       "      <th>xtsn_p</th>\n",
       "      <td>0.0</td>\n",
       "      <td>0.0</td>\n",
       "      <td>0.0</td>\n",
       "      <td>0.0</td>\n",
       "      <td>0.0</td>\n",
       "      <td>0.0</td>\n",
       "      <td>0.000000</td>\n",
       "      <td>0.000000</td>\n",
       "      <td>0.0</td>\n",
       "      <td>0.0</td>\n",
       "      <td>...</td>\n",
       "      <td>0.0</td>\n",
       "      <td>0.0</td>\n",
       "      <td>0.0</td>\n",
       "      <td>0.0</td>\n",
       "      <td>0.0</td>\n",
       "      <td>0.0</td>\n",
       "      <td>0.0</td>\n",
       "      <td>0.0</td>\n",
       "      <td>0.0</td>\n",
       "      <td>0.0</td>\n",
       "    </tr>\n",
       "    <tr>\n",
       "      <th>xyl__D_p</th>\n",
       "      <td>0.0</td>\n",
       "      <td>0.0</td>\n",
       "      <td>0.0</td>\n",
       "      <td>0.0</td>\n",
       "      <td>0.0</td>\n",
       "      <td>0.0</td>\n",
       "      <td>0.000000</td>\n",
       "      <td>0.000000</td>\n",
       "      <td>0.0</td>\n",
       "      <td>0.0</td>\n",
       "      <td>...</td>\n",
       "      <td>0.0</td>\n",
       "      <td>0.0</td>\n",
       "      <td>-1.0</td>\n",
       "      <td>-1.0</td>\n",
       "      <td>1.0</td>\n",
       "      <td>0.0</td>\n",
       "      <td>0.0</td>\n",
       "      <td>0.0</td>\n",
       "      <td>0.0</td>\n",
       "      <td>0.0</td>\n",
       "    </tr>\n",
       "    <tr>\n",
       "      <th>xylu__L_p</th>\n",
       "      <td>0.0</td>\n",
       "      <td>0.0</td>\n",
       "      <td>0.0</td>\n",
       "      <td>0.0</td>\n",
       "      <td>0.0</td>\n",
       "      <td>0.0</td>\n",
       "      <td>0.000000</td>\n",
       "      <td>0.000000</td>\n",
       "      <td>0.0</td>\n",
       "      <td>0.0</td>\n",
       "      <td>...</td>\n",
       "      <td>-1.0</td>\n",
       "      <td>1.0</td>\n",
       "      <td>0.0</td>\n",
       "      <td>0.0</td>\n",
       "      <td>0.0</td>\n",
       "      <td>0.0</td>\n",
       "      <td>0.0</td>\n",
       "      <td>0.0</td>\n",
       "      <td>0.0</td>\n",
       "      <td>0.0</td>\n",
       "    </tr>\n",
       "    <tr>\n",
       "      <th>zn2_p</th>\n",
       "      <td>0.0</td>\n",
       "      <td>0.0</td>\n",
       "      <td>0.0</td>\n",
       "      <td>0.0</td>\n",
       "      <td>0.0</td>\n",
       "      <td>0.0</td>\n",
       "      <td>0.000000</td>\n",
       "      <td>0.000000</td>\n",
       "      <td>0.0</td>\n",
       "      <td>0.0</td>\n",
       "      <td>...</td>\n",
       "      <td>0.0</td>\n",
       "      <td>0.0</td>\n",
       "      <td>0.0</td>\n",
       "      <td>0.0</td>\n",
       "      <td>0.0</td>\n",
       "      <td>1.0</td>\n",
       "      <td>1.0</td>\n",
       "      <td>-1.0</td>\n",
       "      <td>-1.0</td>\n",
       "      <td>1.0</td>\n",
       "    </tr>\n",
       "  </tbody>\n",
       "</table>\n",
       "<p>1805 rows × 2583 columns</p>\n",
       "</div>"
      ],
      "text/plain": [
       "               DM_4crsol_c  DM_5drib_c  DM_aacald_c  DM_amob_c  DM_mththf_c  \\\n",
       "10fthf_c               0.0         0.0          0.0        0.0          0.0   \n",
       "12dgr120_c             0.0         0.0          0.0        0.0          0.0   \n",
       "12dgr140_c             0.0         0.0          0.0        0.0          0.0   \n",
       "12dgr141_c             0.0         0.0          0.0        0.0          0.0   \n",
       "12dgr160_c             0.0         0.0          0.0        0.0          0.0   \n",
       "12dgr161_c             0.0         0.0          0.0        0.0          0.0   \n",
       "12dgr180_c             0.0         0.0          0.0        0.0          0.0   \n",
       "12dgr181_c             0.0         0.0          0.0        0.0          0.0   \n",
       "12ppd__R_c             0.0         0.0          0.0        0.0          0.0   \n",
       "12ppd__S_c             0.0         0.0          0.0        0.0          0.0   \n",
       "13dpg_c                0.0         0.0          0.0        0.0          0.0   \n",
       "14dhncoa_c             0.0         0.0          0.0        0.0          0.0   \n",
       "14glucan_c             0.0         0.0          0.0        0.0          0.0   \n",
       "15dap_c                0.0         0.0          0.0        0.0          0.0   \n",
       "1ddecg3p_c             0.0         0.0          0.0        0.0          0.0   \n",
       "1hdec9eg3p_c           0.0         0.0          0.0        0.0          0.0   \n",
       "1hdecg3p_c             0.0         0.0          0.0        0.0          0.0   \n",
       "1odec11eg3p_c          0.0         0.0          0.0        0.0          0.0   \n",
       "1odecg3p_c             0.0         0.0          0.0        0.0          0.0   \n",
       "1pyr5c_c               0.0         0.0          0.0        0.0          0.0   \n",
       "1tdec7eg3p_c           0.0         0.0          0.0        0.0          0.0   \n",
       "1tdecg3p_c             0.0         0.0          0.0        0.0          0.0   \n",
       "23dappa_c              0.0         0.0          0.0        0.0          0.0   \n",
       "23ddhb_c               0.0         0.0          0.0        0.0          0.0   \n",
       "23dhacoa_c             0.0         0.0          0.0        0.0          0.0   \n",
       "23dhb_c                0.0         0.0          0.0        0.0          0.0   \n",
       "23dhba_c               0.0         0.0          0.0        0.0          0.0   \n",
       "23dhbzs_c              0.0         0.0          0.0        0.0          0.0   \n",
       "23dhdp_c               0.0         0.0          0.0        0.0          0.0   \n",
       "23dhmb_c               0.0         0.0          0.0        0.0          0.0   \n",
       "...                    ...         ...          ...        ...          ...   \n",
       "tre_p                  0.0         0.0          0.0        0.0          0.0   \n",
       "trp__L_p               0.0         0.0          0.0        0.0          0.0   \n",
       "tsul_p                 0.0         0.0          0.0        0.0          0.0   \n",
       "ttdca_p                0.0         0.0          0.0        0.0          0.0   \n",
       "ttdcea_p               0.0         0.0          0.0        0.0          0.0   \n",
       "ttrcyc_p               0.0         0.0          0.0        0.0          0.0   \n",
       "tungs_p                0.0         0.0          0.0        0.0          0.0   \n",
       "tym_p                  0.0         0.0          0.0        0.0          0.0   \n",
       "tyr__L_p               0.0         0.0          0.0        0.0          0.0   \n",
       "tyrp_p                 0.0         0.0          0.0        0.0          0.0   \n",
       "uLa4n_p                0.0         0.0          0.0        0.0          0.0   \n",
       "uacgam_p               0.0         0.0          0.0        0.0          0.0   \n",
       "udcpdp_p               0.0         0.0          0.0        0.0          0.0   \n",
       "udcpp_p                0.0         0.0          0.0        0.0          0.0   \n",
       "udpacgal_p             0.0         0.0          0.0        0.0          0.0   \n",
       "udpg_p                 0.0         0.0          0.0        0.0          0.0   \n",
       "udpgal_p               0.0         0.0          0.0        0.0          0.0   \n",
       "udpglcur_p             0.0         0.0          0.0        0.0          0.0   \n",
       "ump_p                  0.0         0.0          0.0        0.0          0.0   \n",
       "unagamuf_p             0.0         0.0          0.0        0.0          0.0   \n",
       "ura_p                  0.0         0.0          0.0        0.0          0.0   \n",
       "urea_p                 0.0         0.0          0.0        0.0          0.0   \n",
       "uri_p                  0.0         0.0          0.0        0.0          0.0   \n",
       "val__L_p               0.0         0.0          0.0        0.0          0.0   \n",
       "xan_p                  0.0         0.0          0.0        0.0          0.0   \n",
       "xmp_p                  0.0         0.0          0.0        0.0          0.0   \n",
       "xtsn_p                 0.0         0.0          0.0        0.0          0.0   \n",
       "xyl__D_p               0.0         0.0          0.0        0.0          0.0   \n",
       "xylu__L_p              0.0         0.0          0.0        0.0          0.0   \n",
       "zn2_p                  0.0         0.0          0.0        0.0          0.0   \n",
       "\n",
       "               DM_oxam_c  BIOMASS_Ec_iJO1366_WT_53p95M  \\\n",
       "10fthf_c             0.0                     -0.000223   \n",
       "12dgr120_c           0.0                      0.000000   \n",
       "12dgr140_c           0.0                      0.000000   \n",
       "12dgr141_c           0.0                      0.000000   \n",
       "12dgr160_c           0.0                      0.000000   \n",
       "12dgr161_c           0.0                      0.000000   \n",
       "12dgr180_c           0.0                      0.000000   \n",
       "12dgr181_c           0.0                      0.000000   \n",
       "12ppd__R_c           0.0                      0.000000   \n",
       "12ppd__S_c           0.0                      0.000000   \n",
       "13dpg_c              0.0                      0.000000   \n",
       "14dhncoa_c           0.0                      0.000000   \n",
       "14glucan_c           0.0                      0.000000   \n",
       "15dap_c              0.0                      0.000000   \n",
       "1ddecg3p_c           0.0                      0.000000   \n",
       "1hdec9eg3p_c         0.0                      0.000000   \n",
       "1hdecg3p_c           0.0                      0.000000   \n",
       "1odec11eg3p_c        0.0                      0.000000   \n",
       "1odecg3p_c           0.0                      0.000000   \n",
       "1pyr5c_c             0.0                      0.000000   \n",
       "1tdec7eg3p_c         0.0                      0.000000   \n",
       "1tdecg3p_c           0.0                      0.000000   \n",
       "23dappa_c            0.0                      0.000000   \n",
       "23ddhb_c             0.0                      0.000000   \n",
       "23dhacoa_c           0.0                      0.000000   \n",
       "23dhb_c              0.0                      0.000000   \n",
       "23dhba_c             0.0                      0.000000   \n",
       "23dhbzs_c            0.0                      0.000000   \n",
       "23dhdp_c             0.0                      0.000000   \n",
       "23dhmb_c             0.0                      0.000000   \n",
       "...                  ...                           ...   \n",
       "tre_p                0.0                      0.000000   \n",
       "trp__L_p             0.0                      0.000000   \n",
       "tsul_p               0.0                      0.000000   \n",
       "ttdca_p              0.0                      0.000000   \n",
       "ttdcea_p             0.0                      0.000000   \n",
       "ttrcyc_p             0.0                      0.000000   \n",
       "tungs_p              0.0                      0.000000   \n",
       "tym_p                0.0                      0.000000   \n",
       "tyr__L_p             0.0                      0.000000   \n",
       "tyrp_p               0.0                      0.000000   \n",
       "uLa4n_p              0.0                      0.000000   \n",
       "uacgam_p             0.0                      0.000000   \n",
       "udcpdp_p             0.0                      0.000000   \n",
       "udcpp_p              0.0                      0.000000   \n",
       "udpacgal_p           0.0                      0.000000   \n",
       "udpg_p               0.0                      0.000000   \n",
       "udpgal_p             0.0                      0.000000   \n",
       "udpglcur_p           0.0                      0.000000   \n",
       "ump_p                0.0                      0.000000   \n",
       "unagamuf_p           0.0                      0.000000   \n",
       "ura_p                0.0                      0.000000   \n",
       "urea_p               0.0                      0.000000   \n",
       "uri_p                0.0                      0.000000   \n",
       "val__L_p             0.0                      0.000000   \n",
       "xan_p                0.0                      0.000000   \n",
       "xmp_p                0.0                      0.000000   \n",
       "xtsn_p               0.0                      0.000000   \n",
       "xyl__D_p             0.0                      0.000000   \n",
       "xylu__L_p            0.0                      0.000000   \n",
       "zn2_p                0.0                      0.000000   \n",
       "\n",
       "               BIOMASS_Ec_iJO1366_core_53p95M  EX_12ppd__R_e  EX_12ppd__S_e  \\\n",
       "10fthf_c                            -0.000223            0.0            0.0   \n",
       "12dgr120_c                           0.000000            0.0            0.0   \n",
       "12dgr140_c                           0.000000            0.0            0.0   \n",
       "12dgr141_c                           0.000000            0.0            0.0   \n",
       "12dgr160_c                           0.000000            0.0            0.0   \n",
       "12dgr161_c                           0.000000            0.0            0.0   \n",
       "12dgr180_c                           0.000000            0.0            0.0   \n",
       "12dgr181_c                           0.000000            0.0            0.0   \n",
       "12ppd__R_c                           0.000000            0.0            0.0   \n",
       "12ppd__S_c                           0.000000            0.0            0.0   \n",
       "13dpg_c                              0.000000            0.0            0.0   \n",
       "14dhncoa_c                           0.000000            0.0            0.0   \n",
       "14glucan_c                           0.000000            0.0            0.0   \n",
       "15dap_c                              0.000000            0.0            0.0   \n",
       "1ddecg3p_c                           0.000000            0.0            0.0   \n",
       "1hdec9eg3p_c                         0.000000            0.0            0.0   \n",
       "1hdecg3p_c                           0.000000            0.0            0.0   \n",
       "1odec11eg3p_c                        0.000000            0.0            0.0   \n",
       "1odecg3p_c                           0.000000            0.0            0.0   \n",
       "1pyr5c_c                             0.000000            0.0            0.0   \n",
       "1tdec7eg3p_c                         0.000000            0.0            0.0   \n",
       "1tdecg3p_c                           0.000000            0.0            0.0   \n",
       "23dappa_c                            0.000000            0.0            0.0   \n",
       "23ddhb_c                             0.000000            0.0            0.0   \n",
       "23dhacoa_c                           0.000000            0.0            0.0   \n",
       "23dhb_c                              0.000000            0.0            0.0   \n",
       "23dhba_c                             0.000000            0.0            0.0   \n",
       "23dhbzs_c                            0.000000            0.0            0.0   \n",
       "23dhdp_c                             0.000000            0.0            0.0   \n",
       "23dhmb_c                             0.000000            0.0            0.0   \n",
       "...                                       ...            ...            ...   \n",
       "tre_p                                0.000000            0.0            0.0   \n",
       "trp__L_p                             0.000000            0.0            0.0   \n",
       "tsul_p                               0.000000            0.0            0.0   \n",
       "ttdca_p                              0.000000            0.0            0.0   \n",
       "ttdcea_p                             0.000000            0.0            0.0   \n",
       "ttrcyc_p                             0.000000            0.0            0.0   \n",
       "tungs_p                              0.000000            0.0            0.0   \n",
       "tym_p                                0.000000            0.0            0.0   \n",
       "tyr__L_p                             0.000000            0.0            0.0   \n",
       "tyrp_p                               0.000000            0.0            0.0   \n",
       "uLa4n_p                              0.000000            0.0            0.0   \n",
       "uacgam_p                             0.000000            0.0            0.0   \n",
       "udcpdp_p                             0.000000            0.0            0.0   \n",
       "udcpp_p                              0.000000            0.0            0.0   \n",
       "udpacgal_p                           0.000000            0.0            0.0   \n",
       "udpg_p                               0.000000            0.0            0.0   \n",
       "udpgal_p                             0.000000            0.0            0.0   \n",
       "udpglcur_p                           0.000000            0.0            0.0   \n",
       "ump_p                                0.000000            0.0            0.0   \n",
       "unagamuf_p                           0.000000            0.0            0.0   \n",
       "ura_p                                0.000000            0.0            0.0   \n",
       "urea_p                               0.000000            0.0            0.0   \n",
       "uri_p                                0.000000            0.0            0.0   \n",
       "val__L_p                             0.000000            0.0            0.0   \n",
       "xan_p                                0.000000            0.0            0.0   \n",
       "xmp_p                                0.000000            0.0            0.0   \n",
       "xtsn_p                               0.000000            0.0            0.0   \n",
       "xyl__D_p                             0.000000            0.0            0.0   \n",
       "xylu__L_p                            0.000000            0.0            0.0   \n",
       "zn2_p                                0.000000            0.0            0.0   \n",
       "\n",
       "               ...  XYLUt2pp  XYLUtex  XYLabcpp  XYLt2pp  XYLtex  ZN2abcpp  \\\n",
       "10fthf_c       ...       0.0      0.0       0.0      0.0     0.0       0.0   \n",
       "12dgr120_c     ...       0.0      0.0       0.0      0.0     0.0       0.0   \n",
       "12dgr140_c     ...       0.0      0.0       0.0      0.0     0.0       0.0   \n",
       "12dgr141_c     ...       0.0      0.0       0.0      0.0     0.0       0.0   \n",
       "12dgr160_c     ...       0.0      0.0       0.0      0.0     0.0       0.0   \n",
       "12dgr161_c     ...       0.0      0.0       0.0      0.0     0.0       0.0   \n",
       "12dgr180_c     ...       0.0      0.0       0.0      0.0     0.0       0.0   \n",
       "12dgr181_c     ...       0.0      0.0       0.0      0.0     0.0       0.0   \n",
       "12ppd__R_c     ...       0.0      0.0       0.0      0.0     0.0       0.0   \n",
       "12ppd__S_c     ...       0.0      0.0       0.0      0.0     0.0       0.0   \n",
       "13dpg_c        ...       0.0      0.0       0.0      0.0     0.0       0.0   \n",
       "14dhncoa_c     ...       0.0      0.0       0.0      0.0     0.0       0.0   \n",
       "14glucan_c     ...       0.0      0.0       0.0      0.0     0.0       0.0   \n",
       "15dap_c        ...       0.0      0.0       0.0      0.0     0.0       0.0   \n",
       "1ddecg3p_c     ...       0.0      0.0       0.0      0.0     0.0       0.0   \n",
       "1hdec9eg3p_c   ...       0.0      0.0       0.0      0.0     0.0       0.0   \n",
       "1hdecg3p_c     ...       0.0      0.0       0.0      0.0     0.0       0.0   \n",
       "1odec11eg3p_c  ...       0.0      0.0       0.0      0.0     0.0       0.0   \n",
       "1odecg3p_c     ...       0.0      0.0       0.0      0.0     0.0       0.0   \n",
       "1pyr5c_c       ...       0.0      0.0       0.0      0.0     0.0       0.0   \n",
       "1tdec7eg3p_c   ...       0.0      0.0       0.0      0.0     0.0       0.0   \n",
       "1tdecg3p_c     ...       0.0      0.0       0.0      0.0     0.0       0.0   \n",
       "23dappa_c      ...       0.0      0.0       0.0      0.0     0.0       0.0   \n",
       "23ddhb_c       ...       0.0      0.0       0.0      0.0     0.0       0.0   \n",
       "23dhacoa_c     ...       0.0      0.0       0.0      0.0     0.0       0.0   \n",
       "23dhb_c        ...       0.0      0.0       0.0      0.0     0.0       0.0   \n",
       "23dhba_c       ...       0.0      0.0       0.0      0.0     0.0       0.0   \n",
       "23dhbzs_c      ...       0.0      0.0       0.0      0.0     0.0       0.0   \n",
       "23dhdp_c       ...       0.0      0.0       0.0      0.0     0.0       0.0   \n",
       "23dhmb_c       ...       0.0      0.0       0.0      0.0     0.0       0.0   \n",
       "...            ...       ...      ...       ...      ...     ...       ...   \n",
       "tre_p          ...       0.0      0.0       0.0      0.0     0.0       0.0   \n",
       "trp__L_p       ...       0.0      0.0       0.0      0.0     0.0       0.0   \n",
       "tsul_p         ...       0.0      0.0       0.0      0.0     0.0       0.0   \n",
       "ttdca_p        ...       0.0      0.0       0.0      0.0     0.0       0.0   \n",
       "ttdcea_p       ...       0.0      0.0       0.0      0.0     0.0       0.0   \n",
       "ttrcyc_p       ...       0.0      0.0       0.0      0.0     0.0       0.0   \n",
       "tungs_p        ...       0.0      0.0       0.0      0.0     0.0       0.0   \n",
       "tym_p          ...       0.0      0.0       0.0      0.0     0.0       0.0   \n",
       "tyr__L_p       ...       0.0      0.0       0.0      0.0     0.0       0.0   \n",
       "tyrp_p         ...       0.0      0.0       0.0      0.0     0.0       0.0   \n",
       "uLa4n_p        ...       0.0      0.0       0.0      0.0     0.0       0.0   \n",
       "uacgam_p       ...       0.0      0.0       0.0      0.0     0.0       0.0   \n",
       "udcpdp_p       ...       0.0      0.0       0.0      0.0     0.0       0.0   \n",
       "udcpp_p        ...       0.0      0.0       0.0      0.0     0.0       0.0   \n",
       "udpacgal_p     ...       0.0      0.0       0.0      0.0     0.0       0.0   \n",
       "udpg_p         ...       0.0      0.0       0.0      0.0     0.0       0.0   \n",
       "udpgal_p       ...       0.0      0.0       0.0      0.0     0.0       0.0   \n",
       "udpglcur_p     ...       0.0      0.0       0.0      0.0     0.0       0.0   \n",
       "ump_p          ...       0.0      0.0       0.0      0.0     0.0       0.0   \n",
       "unagamuf_p     ...       0.0      0.0       0.0      0.0     0.0       0.0   \n",
       "ura_p          ...       0.0      0.0       0.0      0.0     0.0       0.0   \n",
       "urea_p         ...       0.0      0.0       0.0      0.0     0.0       0.0   \n",
       "uri_p          ...       0.0      0.0       0.0      0.0     0.0       0.0   \n",
       "val__L_p       ...       0.0      0.0       0.0      0.0     0.0       0.0   \n",
       "xan_p          ...       0.0      0.0       0.0      0.0     0.0       0.0   \n",
       "xmp_p          ...       0.0      0.0       0.0      0.0     0.0       0.0   \n",
       "xtsn_p         ...       0.0      0.0       0.0      0.0     0.0       0.0   \n",
       "xyl__D_p       ...       0.0      0.0      -1.0     -1.0     1.0       0.0   \n",
       "xylu__L_p      ...      -1.0      1.0       0.0      0.0     0.0       0.0   \n",
       "zn2_p          ...       0.0      0.0       0.0      0.0     0.0       1.0   \n",
       "\n",
       "               ZN2t3pp  ZN2tpp  ZNabcpp  Zn2tex  \n",
       "10fthf_c           0.0     0.0      0.0     0.0  \n",
       "12dgr120_c         0.0     0.0      0.0     0.0  \n",
       "12dgr140_c         0.0     0.0      0.0     0.0  \n",
       "12dgr141_c         0.0     0.0      0.0     0.0  \n",
       "12dgr160_c         0.0     0.0      0.0     0.0  \n",
       "12dgr161_c         0.0     0.0      0.0     0.0  \n",
       "12dgr180_c         0.0     0.0      0.0     0.0  \n",
       "12dgr181_c         0.0     0.0      0.0     0.0  \n",
       "12ppd__R_c         0.0     0.0      0.0     0.0  \n",
       "12ppd__S_c         0.0     0.0      0.0     0.0  \n",
       "13dpg_c            0.0     0.0      0.0     0.0  \n",
       "14dhncoa_c         0.0     0.0      0.0     0.0  \n",
       "14glucan_c         0.0     0.0      0.0     0.0  \n",
       "15dap_c            0.0     0.0      0.0     0.0  \n",
       "1ddecg3p_c         0.0     0.0      0.0     0.0  \n",
       "1hdec9eg3p_c       0.0     0.0      0.0     0.0  \n",
       "1hdecg3p_c         0.0     0.0      0.0     0.0  \n",
       "1odec11eg3p_c      0.0     0.0      0.0     0.0  \n",
       "1odecg3p_c         0.0     0.0      0.0     0.0  \n",
       "1pyr5c_c           0.0     0.0      0.0     0.0  \n",
       "1tdec7eg3p_c       0.0     0.0      0.0     0.0  \n",
       "1tdecg3p_c         0.0     0.0      0.0     0.0  \n",
       "23dappa_c          0.0     0.0      0.0     0.0  \n",
       "23ddhb_c           0.0     0.0      0.0     0.0  \n",
       "23dhacoa_c         0.0     0.0      0.0     0.0  \n",
       "23dhb_c            0.0     0.0      0.0     0.0  \n",
       "23dhba_c           0.0     0.0      0.0     0.0  \n",
       "23dhbzs_c          0.0     0.0      0.0     0.0  \n",
       "23dhdp_c           0.0     0.0      0.0     0.0  \n",
       "23dhmb_c           0.0     0.0      0.0     0.0  \n",
       "...                ...     ...      ...     ...  \n",
       "tre_p              0.0     0.0      0.0     0.0  \n",
       "trp__L_p           0.0     0.0      0.0     0.0  \n",
       "tsul_p             0.0     0.0      0.0     0.0  \n",
       "ttdca_p            0.0     0.0      0.0     0.0  \n",
       "ttdcea_p           0.0     0.0      0.0     0.0  \n",
       "ttrcyc_p           0.0     0.0      0.0     0.0  \n",
       "tungs_p            0.0     0.0      0.0     0.0  \n",
       "tym_p              0.0     0.0      0.0     0.0  \n",
       "tyr__L_p           0.0     0.0      0.0     0.0  \n",
       "tyrp_p             0.0     0.0      0.0     0.0  \n",
       "uLa4n_p            0.0     0.0      0.0     0.0  \n",
       "uacgam_p           0.0     0.0      0.0     0.0  \n",
       "udcpdp_p           0.0     0.0      0.0     0.0  \n",
       "udcpp_p            0.0     0.0      0.0     0.0  \n",
       "udpacgal_p         0.0     0.0      0.0     0.0  \n",
       "udpg_p             0.0     0.0      0.0     0.0  \n",
       "udpgal_p           0.0     0.0      0.0     0.0  \n",
       "udpglcur_p         0.0     0.0      0.0     0.0  \n",
       "ump_p              0.0     0.0      0.0     0.0  \n",
       "unagamuf_p         0.0     0.0      0.0     0.0  \n",
       "ura_p              0.0     0.0      0.0     0.0  \n",
       "urea_p             0.0     0.0      0.0     0.0  \n",
       "uri_p              0.0     0.0      0.0     0.0  \n",
       "val__L_p           0.0     0.0      0.0     0.0  \n",
       "xan_p              0.0     0.0      0.0     0.0  \n",
       "xmp_p              0.0     0.0      0.0     0.0  \n",
       "xtsn_p             0.0     0.0      0.0     0.0  \n",
       "xyl__D_p           0.0     0.0      0.0     0.0  \n",
       "xylu__L_p          0.0     0.0      0.0     0.0  \n",
       "zn2_p              1.0    -1.0     -1.0     1.0  \n",
       "\n",
       "[1805 rows x 2583 columns]"
      ]
     },
     "execution_count": 31,
     "metadata": {},
     "output_type": "execute_result"
    }
   ],
   "source": [
    "from cobra.util import create_stoichiometric_matrix\n",
    "s = create_stoichiometric_matrix(model, array_type='DataFrame')\n",
    "s"
   ]
  },
  {
   "cell_type": "markdown",
   "metadata": {},
   "source": [
    "This is how the the stoichiometry matrix S looks like when visualized as a matrix plot."
   ]
  },
  {
   "cell_type": "code",
   "execution_count": 32,
   "metadata": {
    "ExecuteTime": {
     "end_time": "2019-02-26T19:45:25.510517Z",
     "start_time": "2019-02-26T19:45:24.976674Z"
    }
   },
   "outputs": [
    {
     "data": {
      "text/plain": [
       "<matplotlib.lines.Line2D at 0x123665908>"
      ]
     },
     "execution_count": 32,
     "metadata": {},
     "output_type": "execute_result"
    },
    {
     "data": {
      "image/png": "[encoded data removed]",
      "text/plain": [
       "<matplotlib.figure.Figure at 0x123799208>"
      ]
     },
     "metadata": {
      "needs_background": "light"
     },
     "output_type": "display_data"
    }
   ],
   "source": [
    "%matplotlib inline\n",
    "import matplotlib.pyplot as plt\n",
    "plt.spy(s, precision=0.01, markersize=.1)"
   ]
  },
  {
   "cell_type": "markdown",
   "metadata": {},
   "source": [
    "## Simulating models"
   ]
  },
  {
   "cell_type": "code",
   "execution_count": 33,
   "metadata": {
    "ExecuteTime": {
     "end_time": "2019-02-26T19:45:45.295809Z",
     "start_time": "2019-02-26T19:45:45.031137Z"
    }
   },
   "outputs": [
    {
     "data": {
      "text/html": [
       "<strong><em>Optimal</em> solution with objective value 0.982</strong><br><div>\n",
       "<style scoped>\n",
       "    .dataframe tbody tr th:only-of-type {\n",
       "        vertical-align: middle;\n",
       "    }\n",
       "\n",
       "    .dataframe tbody tr th {\n",
       "        vertical-align: top;\n",
       "    }\n",
       "\n",
       "    .dataframe thead th {\n",
       "        text-align: right;\n",
       "    }\n",
       "</style>\n",
       "<table border=\"1\" class=\"dataframe\">\n",
       "  <thead>\n",
       "    <tr style=\"text-align: right;\">\n",
       "      <th></th>\n",
       "      <th>fluxes</th>\n",
       "      <th>reduced_costs</th>\n",
       "    </tr>\n",
       "  </thead>\n",
       "  <tbody>\n",
       "    <tr>\n",
       "      <th>DM_4crsol_c</th>\n",
       "      <td>0.000219</td>\n",
       "      <td>0.000000</td>\n",
       "    </tr>\n",
       "    <tr>\n",
       "      <th>DM_5drib_c</th>\n",
       "      <td>0.000221</td>\n",
       "      <td>0.000000</td>\n",
       "    </tr>\n",
       "    <tr>\n",
       "      <th>DM_aacald_c</th>\n",
       "      <td>0.000000</td>\n",
       "      <td>0.000000</td>\n",
       "    </tr>\n",
       "    <tr>\n",
       "      <th>DM_amob_c</th>\n",
       "      <td>0.000002</td>\n",
       "      <td>0.000000</td>\n",
       "    </tr>\n",
       "    <tr>\n",
       "      <th>DM_mththf_c</th>\n",
       "      <td>0.000440</td>\n",
       "      <td>0.000000</td>\n",
       "    </tr>\n",
       "    <tr>\n",
       "      <th>...</th>\n",
       "      <td>...</td>\n",
       "      <td>...</td>\n",
       "    </tr>\n",
       "    <tr>\n",
       "      <th>ZN2abcpp</th>\n",
       "      <td>0.000000</td>\n",
       "      <td>-0.008295</td>\n",
       "    </tr>\n",
       "    <tr>\n",
       "      <th>ZN2t3pp</th>\n",
       "      <td>0.000000</td>\n",
       "      <td>-0.002074</td>\n",
       "    </tr>\n",
       "    <tr>\n",
       "      <th>ZN2tpp</th>\n",
       "      <td>0.000335</td>\n",
       "      <td>0.000000</td>\n",
       "    </tr>\n",
       "    <tr>\n",
       "      <th>ZNabcpp</th>\n",
       "      <td>0.000000</td>\n",
       "      <td>-0.008295</td>\n",
       "    </tr>\n",
       "    <tr>\n",
       "      <th>Zn2tex</th>\n",
       "      <td>0.000335</td>\n",
       "      <td>0.000000</td>\n",
       "    </tr>\n",
       "  </tbody>\n",
       "</table>\n",
       "<p>2583 rows × 2 columns</p>\n",
       "</div>"
      ],
      "text/plain": [
       "<Solution 0.982 at 0x1235f7c50>"
      ]
     },
     "execution_count": 33,
     "metadata": {},
     "output_type": "execute_result"
    }
   ],
   "source": [
    "model.optimize()"
   ]
  },
  {
   "cell_type": "markdown",
   "metadata": {},
   "source": [
    "Sometimes a solution cannot be found. For example, setting the lower bound of the objective function to a very high value that the model cannot achieve will trigger a warning when trying to optimize the model. Parameters reported from an infeasible model are not meaningful to interpret (except in rare occasions when you may want to figure out why a model is infeasible)."
   ]
  },
  {
   "cell_type": "code",
   "execution_count": 34,
   "metadata": {
    "ExecuteTime": {
     "end_time": "2019-02-26T19:46:31.929625Z",
     "start_time": "2019-02-26T19:46:31.102222Z"
    }
   },
   "outputs": [
    {
     "name": "stderr",
     "output_type": "stream",
     "text": [
      "cobra/util/solver.py:416 \u001b[1;31mUserWarning\u001b[0m: solver status is 'infeasible'\n"
     ]
    }
   ],
   "source": [
    "infeasible_model = model.copy()\n",
    "infeasible_model.reactions.BIOMASS_Ec_iJO1366_core_53p95M.lower_bound = 100000\n",
    "sol = infeasible_model.optimize()"
   ]
  },
  {
   "cell_type": "code",
   "execution_count": null,
   "metadata": {},
   "outputs": [],
   "source": []
  }
 ],
 "metadata": {
  "anaconda-cloud": {},
  "kernelspec": {
   "display_name": "Cell factory design course",
   "language": "python",
   "name": "cell-factory-design-course"
  },
  "language_info": {
   "codemirror_mode": {
    "name": "ipython",
    "version": 3
   },
   "file_extension": ".py",
   "mimetype": "text/x-python",
   "name": "python",
   "nbconvert_exporter": "python",
   "pygments_lexer": "ipython3",
   "version": "3.6.0"
  },
  "toc": {
   "base_numbering": 1,
   "nav_menu": {},
   "number_sections": true,
   "sideBar": true,
   "skip_h1_title": false,
   "title_cell": "Table of Contents",
   "title_sidebar": "Contents",
   "toc_cell": true,
   "toc_position": {},
   "toc_section_display": true,
   "toc_window_display": false
  },
  "varInspector": {
   "cols": {
    "lenName": 16,
    "lenType": 16,
    "lenVar": 40
   },
   "kernels_config": {
    "python": {
     "delete_cmd_postfix": "",
     "delete_cmd_prefix": "del ",
     "library": "var_list.py",
     "varRefreshCmd": "print(var_dic_list())"
    },
    "r": {
     "delete_cmd_postfix": ") ",
     "delete_cmd_prefix": "rm(",
     "library": "var_list.r",
     "varRefreshCmd": "cat(var_dic_list()) "
    }
   },
   "types_to_exclude": [
    "module",
    "function",
    "builtin_function_or_method",
    "instance",
    "_Feature"
   ],
   "window_display": false
  }
 },
 "nbformat": 4,
 "nbformat_minor": 2
}
