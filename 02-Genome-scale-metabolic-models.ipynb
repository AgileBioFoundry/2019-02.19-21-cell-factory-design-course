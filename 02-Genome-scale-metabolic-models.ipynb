{
 "cells": [
  {
   "cell_type": "markdown",
   "metadata": {},
   "source": [
    "# Genome-scale metabolic models"
   ]
  },
  {
   "cell_type": "markdown",
   "metadata": {},
   "source": [
    "## Preparation"
   ]
  },
  {
   "cell_type": "code",
   "execution_count": 14,
   "metadata": {
    "collapsed": false
   },
   "outputs": [],
   "source": [
    "from cameo import load_model\n",
    "\n",
    "model = load_model('data/iJO1366.xml.gz')"
   ]
  },
  {
   "cell_type": "markdown",
   "metadata": {},
   "source": [
    "## Model content"
   ]
  },
  {
   "cell_type": "markdown",
   "metadata": {},
   "source": [
    "### Metabolites"
   ]
  },
  {
   "cell_type": "markdown",
   "metadata": {},
   "source": [
    "The model contains a list of metabolites. Here are the first ten."
   ]
  },
  {
   "cell_type": "code",
   "execution_count": 15,
   "metadata": {
    "collapsed": false
   },
   "outputs": [
    {
     "data": {
      "text/plain": [
       "[<Metabolite 10fthf_c at 0x11817f438>,\n",
       " <Metabolite 12dgr120_c at 0x1181069b0>,\n",
       " <Metabolite 12dgr140_c at 0x118106cf8>,\n",
       " <Metabolite 12dgr141_c at 0x118106f60>,\n",
       " <Metabolite 12dgr160_c at 0x118108208>,\n",
       " <Metabolite 12dgr161_c at 0x1181084e0>,\n",
       " <Metabolite 12dgr180_c at 0x118108780>,\n",
       " <Metabolite 12dgr181_c at 0x118108a20>,\n",
       " <Metabolite 12ppd__R_c at 0x118635518>,\n",
       " <Metabolite 12ppd__S_c at 0x118635710>]"
      ]
     },
     "execution_count": 15,
     "metadata": {},
     "output_type": "execute_result"
    }
   ],
   "source": [
    "model.metabolites[0:10]"
   ]
  },
  {
   "cell_type": "markdown",
   "metadata": {},
   "source": [
    "There are 1805 metabolites in the model."
   ]
  },
  {
   "cell_type": "code",
   "execution_count": 16,
   "metadata": {
    "collapsed": false
   },
   "outputs": [
    {
     "data": {
      "text/plain": [
       "1805"
      ]
     },
     "execution_count": 16,
     "metadata": {},
     "output_type": "execute_result"
    }
   ],
   "source": [
    "len(model.metabolites)"
   ]
  },
  {
   "cell_type": "markdown",
   "metadata": {},
   "source": [
    "One can access a specific metabolite using dot notation."
   ]
  },
  {
   "cell_type": "code",
   "execution_count": 17,
   "metadata": {
    "collapsed": false
   },
   "outputs": [
    {
     "data": {
      "text/html": [
       "\n",
       "        <table>\n",
       "            <tr>\n",
       "                <td><strong>Id</strong></td><td>g3p_c</td>\n",
       "            </tr>\n",
       "            <tr>\n",
       "                <td><strong>Name</strong></td><td>Glyceraldehyde 3-phosphate</td>\n",
       "            </tr>\n",
       "            <tr>\n",
       "                <td><strong>Formula</strong></td><td>C3H5O6P</td>\n",
       "            </tr>\n",
       "        </table>"
      ],
      "text/plain": [
       "<Metabolite g3p_c at 0x1181708d0>"
      ]
     },
     "execution_count": 17,
     "metadata": {},
     "output_type": "execute_result"
    }
   ],
   "source": [
    "model.metabolites.g3p_c"
   ]
  },
  {
   "cell_type": "markdown",
   "metadata": {},
   "source": [
    "<div class=\"alert alert-warning\">\n",
    "\n",
    "**Warning:** One cannot use dot notation to access metabolites, reactions, or genes if their identifiers do not resemble proper Python variable names.\n",
    "\n",
    "</div>"
   ]
  },
  {
   "cell_type": "code",
   "execution_count": 18,
   "metadata": {
    "collapsed": false
   },
   "outputs": [
    {
     "ename": "SyntaxError",
     "evalue": "invalid syntax (<ipython-input-18-2772b042e9ed>, line 1)",
     "output_type": "error",
     "traceback": [
      "\u001b[0;36m  File \u001b[0;32m\"<ipython-input-18-2772b042e9ed>\"\u001b[0;36m, line \u001b[0;32m1\u001b[0m\n\u001b[0;31m    model.metabolites.10fthf_c\u001b[0m\n\u001b[0m                       ^\u001b[0m\n\u001b[0;31mSyntaxError\u001b[0m\u001b[0;31m:\u001b[0m invalid syntax\n"
     ]
    }
   ],
   "source": [
    "model.metabolites.10fthf_c"
   ]
  },
  {
   "cell_type": "markdown",
   "metadata": {},
   "source": [
    "<div class=\"alert alert-success\">\n",
    "\n",
    "**Solution:** Use the method `get_by_id` instead!\n",
    "\n",
    "</div>"
   ]
  },
  {
   "cell_type": "code",
   "execution_count": 19,
   "metadata": {
    "collapsed": false
   },
   "outputs": [
    {
     "data": {
      "text/html": [
       "\n",
       "        <table>\n",
       "            <tr>\n",
       "                <td><strong>Id</strong></td><td>10fthf_c</td>\n",
       "            </tr>\n",
       "            <tr>\n",
       "                <td><strong>Name</strong></td><td>10-Formyltetrahydrofolate</td>\n",
       "            </tr>\n",
       "            <tr>\n",
       "                <td><strong>Formula</strong></td><td>C20H21N7O7</td>\n",
       "            </tr>\n",
       "        </table>"
      ],
      "text/plain": [
       "<Metabolite 10fthf_c at 0x11817f438>"
      ]
     },
     "execution_count": 19,
     "metadata": {},
     "output_type": "execute_result"
    }
   ],
   "source": [
    "model.metabolites.get_by_id('10fthf_c')"
   ]
  },
  {
   "cell_type": "markdown",
   "metadata": {},
   "source": [
    "Metabolites are associated with compartments in the cell. Glyceraldehyde 3-phosphate (`g3p_c`) is associated with the `c` (Cytosol) compartment."
   ]
  },
  {
   "cell_type": "code",
   "execution_count": 20,
   "metadata": {
    "collapsed": false
   },
   "outputs": [
    {
     "data": {
      "text/plain": [
       "'c'"
      ]
     },
     "execution_count": 20,
     "metadata": {},
     "output_type": "execute_result"
    }
   ],
   "source": [
    "model.metabolites.g3p_c.compartment"
   ]
  },
  {
   "cell_type": "markdown",
   "metadata": {},
   "source": [
    "The _E. coli_ model has three compartments."
   ]
  },
  {
   "cell_type": "code",
   "execution_count": 21,
   "metadata": {
    "collapsed": false
   },
   "outputs": [
    {
     "data": {
      "text/plain": [
       "{'c': 'cytosol', 'e': 'extracellular space', 'p': 'periplasm'}"
      ]
     },
     "execution_count": 21,
     "metadata": {},
     "output_type": "execute_result"
    }
   ],
   "source": [
    "model.compartments"
   ]
  },
  {
   "cell_type": "markdown",
   "metadata": {},
   "source": [
    "Some metabolites (like Glucose for example) can be associated with multiple compartments."
   ]
  },
  {
   "cell_type": "code",
   "execution_count": 22,
   "metadata": {
    "collapsed": false
   },
   "outputs": [
    {
     "data": {
      "text/plain": [
       "'c'"
      ]
     },
     "execution_count": 22,
     "metadata": {},
     "output_type": "execute_result"
    }
   ],
   "source": [
    "model.metabolites.glc__D_c.compartment"
   ]
  },
  {
   "cell_type": "code",
   "execution_count": 23,
   "metadata": {
    "collapsed": false
   },
   "outputs": [
    {
     "data": {
      "text/plain": [
       "'p'"
      ]
     },
     "execution_count": 23,
     "metadata": {},
     "output_type": "execute_result"
    }
   ],
   "source": [
    "model.metabolites.glc__D_p.compartment"
   ]
  },
  {
   "cell_type": "markdown",
   "metadata": {},
   "source": [
    "The full name of the metabolite is available via the `.name` attribute. "
   ]
  },
  {
   "cell_type": "code",
   "execution_count": 27,
   "metadata": {
    "collapsed": false
   },
   "outputs": [
    {
     "data": {
      "text/plain": [
       "'D-Glucose'"
      ]
     },
     "execution_count": 27,
     "metadata": {},
     "output_type": "execute_result"
    }
   ],
   "source": [
    "model.metabolites.glc__D_c.name"
   ]
  },
  {
   "cell_type": "markdown",
   "metadata": {},
   "source": [
    "One can look up the molecular formula of glucose."
   ]
  },
  {
   "cell_type": "code",
   "execution_count": 24,
   "metadata": {
    "collapsed": false
   },
   "outputs": [
    {
     "data": {
      "text/plain": [
       "'C3H5O6P'"
      ]
     },
     "execution_count": 24,
     "metadata": {},
     "output_type": "execute_result"
    }
   ],
   "source": [
    "model.metabolites.g3p_c.formula"
   ]
  },
  {
   "cell_type": "markdown",
   "metadata": {},
   "source": [
    "The `.elements` attribute returns a dictionary representation of the formula."
   ]
  },
  {
   "cell_type": "code",
   "execution_count": 25,
   "metadata": {
    "collapsed": false
   },
   "outputs": [
    {
     "data": {
      "text/plain": [
       "{'C': 3, 'H': 5, 'O': 6, 'P': 1}"
      ]
     },
     "execution_count": 25,
     "metadata": {},
     "output_type": "execute_result"
    }
   ],
   "source": [
    "model.metabolites.g3p_c.elements"
   ]
  },
  {
   "cell_type": "markdown",
   "metadata": {},
   "source": [
    "Furthermore, one can look up the molecular weight of a metabolite."
   ]
  },
  {
   "cell_type": "code",
   "execution_count": 26,
   "metadata": {
    "collapsed": false
   },
   "outputs": [
    {
     "data": {
      "text/plain": [
       "168.041961"
      ]
     },
     "execution_count": 26,
     "metadata": {},
     "output_type": "execute_result"
    }
   ],
   "source": [
    "model.metabolites.g3p_c.formula_weight"
   ]
  },
  {
   "cell_type": "markdown",
   "metadata": {},
   "source": [
    "One can gather additional information (like references to external datbases) about the metabolite through the annotation attribute."
   ]
  },
  {
   "cell_type": "code",
   "execution_count": 10,
   "metadata": {
    "collapsed": false
   },
   "outputs": [
    {
     "data": {
      "text/plain": [
       "{'SBO': 'SBO:0000247',\n",
       " 'bigg.metabolite': 'g3p',\n",
       " 'biocyc': 'META:GAP',\n",
       " 'chebi': ['CHEBI:12983',\n",
       "  'CHEBI:12984',\n",
       "  'CHEBI:14333',\n",
       "  'CHEBI:17138',\n",
       "  'CHEBI:181',\n",
       "  'CHEBI:18324',\n",
       "  'CHEBI:21026',\n",
       "  'CHEBI:29052',\n",
       "  'CHEBI:5446',\n",
       "  'CHEBI:58027',\n",
       "  'CHEBI:59776'],\n",
       " 'hmdb': 'HMDB01112',\n",
       " 'kegg.compound': ['C00118', 'C00661'],\n",
       " 'metanetx.chemical': 'MNXM2378',\n",
       " 'reactome': '29578',\n",
       " 'seed.compound': 'cpd00102',\n",
       " 'unipathway.compound': ['UPC00118', 'UPC00661']}"
      ]
     },
     "execution_count": 10,
     "metadata": {},
     "output_type": "execute_result"
    }
   ],
   "source": [
    "model.metabolites.g3p_c.annotation"
   ]
  },
  {
   "cell_type": "markdown",
   "metadata": {},
   "source": [
    "One can use these annotations to look up the compound on [KEGG](http://www.genome.jp/dbget-bin/www_bget?cpd:C00118) for example."
   ]
  },
  {
   "cell_type": "markdown",
   "metadata": {},
   "source": [
    "Metabolites are not isolated things. They participate in reactions as substrates and products."
   ]
  },
  {
   "cell_type": "code",
   "execution_count": 13,
   "metadata": {
    "collapsed": false
   },
   "outputs": [
    {
     "data": {
      "text/plain": [
       "frozenset({<Reaction TRPS3 at 0x117d44828>,\n",
       "           <Reaction GAPD at 0x11c42c470>,\n",
       "           <Reaction F6PA at 0x11c414278>,\n",
       "           <Reaction TRPS1 at 0x117d444e0>,\n",
       "           <Reaction EDA at 0x11c40a4e0>,\n",
       "           <Reaction TPI at 0x117d41518>,\n",
       "           <Reaction TGBPA at 0x117d38128>,\n",
       "           <Reaction DXPS at 0x11b9f3550>,\n",
       "           <Reaction TKT2 at 0x117d3dd68>,\n",
       "           <Reaction FBA at 0x11c41a358>,\n",
       "           <Reaction DDPGALA at 0x11bae69b0>,\n",
       "           <Reaction TALA at 0x117d343c8>,\n",
       "           <Reaction TKT1 at 0x117d3dbe0>,\n",
       "           <Reaction DRPA at 0x11b9827f0>})"
      ]
     },
     "execution_count": 13,
     "metadata": {},
     "output_type": "execute_result"
    }
   ],
   "source": [
    "model.metabolites.g3p_c.reactions"
   ]
  },
  {
   "cell_type": "markdown",
   "metadata": {},
   "source": [
    "### Reactions"
   ]
  },
  {
   "cell_type": "markdown",
   "metadata": {},
   "source": [
    "The model contains a list of reactions. Here are the first 10 of them."
   ]
  },
  {
   "cell_type": "code",
   "execution_count": 28,
   "metadata": {
    "collapsed": false
   },
   "outputs": [
    {
     "data": {
      "text/plain": [
       "[<Reaction DM_4crsol_c at 0x11da0ff98>,\n",
       " <Reaction DM_5drib_c at 0x11da0ffd0>,\n",
       " <Reaction DM_aacald_c at 0x11da0feb8>,\n",
       " <Reaction DM_amob_c at 0x11da0fd68>,\n",
       " <Reaction DM_mththf_c at 0x11da0fd30>,\n",
       " <Reaction DM_oxam_c at 0x11da0fc50>,\n",
       " <Reaction BIOMASS_Ec_iJO1366_WT_53p95M at 0x11da0fc88>,\n",
       " <Reaction BIOMASS_Ec_iJO1366_core_53p95M at 0x11d8fe278>,\n",
       " <Reaction EX_12ppd__R_e at 0x11d8ecc18>,\n",
       " <Reaction EX_12ppd__S_e at 0x11d8ec8d0>]"
      ]
     },
     "execution_count": 28,
     "metadata": {},
     "output_type": "execute_result"
    }
   ],
   "source": [
    "model.reactions[0:10]"
   ]
  },
  {
   "cell_type": "markdown",
   "metadata": {},
   "source": [
    "There are 2583 reactions in the model."
   ]
  },
  {
   "cell_type": "code",
   "execution_count": 29,
   "metadata": {
    "collapsed": false
   },
   "outputs": [
    {
     "data": {
      "text/plain": [
       "2583"
      ]
     },
     "execution_count": 29,
     "metadata": {},
     "output_type": "execute_result"
    }
   ],
   "source": [
    "len(model.reactions)"
   ]
  },
  {
   "cell_type": "markdown",
   "metadata": {},
   "source": [
    "Let's take a closer look at the reactions associated with Glyceraldehyde 3-phosphate (`g3p`)."
   ]
  },
  {
   "cell_type": "code",
   "execution_count": 31,
   "metadata": {
    "collapsed": false
   },
   "outputs": [
    {
     "name": "stdout",
     "output_type": "stream",
     "text": [
      "DRPA DRPA: 2dr5p_c --> acald_c + g3p_c Deoxyribose-phosphate aldolase\n",
      "GAPD GAPD: g3p_c + nad_c + pi_c <=> 13dpg_c + h_c + nadh_c Glyceraldehyde-3-phosphate dehydrogenase\n",
      "F6PA F6PA: f6p_c <=> dha_c + g3p_c Fructose 6-phosphate aldolase\n",
      "DDPGALA DDPGALA: 2dh3dgal6p_c <=> g3p_c + pyr_c 2-dehydro-3-deoxy-6-phosphogalactonate aldolase\n",
      "TRPS1 TRPS1: 3ig3p_c + ser__L_c --> g3p_c + h2o_c + trp__L_c Tryptophan synthase (indoleglycerol phosphate)\n",
      "EDA EDA: 2ddg6p_c --> g3p_c + pyr_c 2-dehydro-3-deoxy-phosphogluconate aldolase\n",
      "TPI TPI: dhap_c <=> g3p_c Triose-phosphate isomerase\n",
      "TGBPA TGBPA: tagdp__D_c <=> dhap_c + g3p_c Tagatose-bisphosphate aldolase\n",
      "TKT2 TKT2: e4p_c + xu5p__D_c <=> f6p_c + g3p_c Transketolase\n",
      "DXPS DXPS: g3p_c + h_c + pyr_c --> co2_c + dxyl5p_c 1-deoxy-D-xylulose 5-phosphate synthase\n",
      "FBA FBA: fdp_c <=> dhap_c + g3p_c Fructose-bisphosphate aldolase\n",
      "TALA TALA: g3p_c + s7p_c <=> e4p_c + f6p_c Transaldolase\n",
      "TKT1 TKT1: r5p_c + xu5p__D_c <=> g3p_c + s7p_c Transketolase\n",
      "TRPS3 TRPS3: 3ig3p_c --> g3p_c + indole_c Tryptophan synthase (indoleglycerol phosphate)\n"
     ]
    }
   ],
   "source": [
    "for reaction in model.metabolites.g3p_c.reactions:\n",
    "    print(reaction.id, reaction, reaction.name)"
   ]
  },
  {
   "cell_type": "markdown",
   "metadata": {},
   "source": [
    "The second reaction in this list is Glyceraldehyde-3-phosphate dehydrogenase (GAPD)."
   ]
  },
  {
   "cell_type": "code",
   "execution_count": 33,
   "metadata": {
    "collapsed": false
   },
   "outputs": [
    {
     "data": {
      "text/plain": [
       "'Glyceraldehyde-3-phosphate dehydrogenase'"
      ]
     },
     "execution_count": 33,
     "metadata": {},
     "output_type": "execute_result"
    }
   ],
   "source": [
    "model.reactions.GAPD.name"
   ]
  },
  {
   "cell_type": "markdown",
   "metadata": {},
   "source": [
    "## Objective"
   ]
  },
  {
   "cell_type": "code",
   "execution_count": 5,
   "metadata": {
    "collapsed": false
   },
   "outputs": [
    {
     "name": "stdout",
     "output_type": "stream",
     "text": [
      "Maximize\n",
      "-1.0*BIOMASS_Ec_iJO1366_core_53p95M_reverse_5c8b1 + 1.0*BIOMASS_Ec_iJO1366_core_53p95M\n"
     ]
    }
   ],
   "source": [
    "print(model.objective)"
   ]
  },
  {
   "cell_type": "markdown",
   "metadata": {},
   "source": [
    "## ATP maintenance requirement"
   ]
  },
  {
   "cell_type": "code",
   "execution_count": 4,
   "metadata": {
    "collapsed": false
   },
   "outputs": [
    {
     "data": {
      "text/html": [
       "\n",
       "        <table>\n",
       "            <tr>\n",
       "                <td><strong>Id</strong></td><td>ATPM</td>\n",
       "            </tr>\n",
       "            <tr>\n",
       "                <td><strong>Name</strong></td><td>ATP maintenance requirement</td>\n",
       "            </tr>\n",
       "            <tr>\n",
       "                <td><strong>Stoichiometry</strong></td><td>atp_c + h2o_c --> adp_c + h_c + pi_c</td>\n",
       "            </tr>\n",
       "            <tr>\n",
       "                <td><strong>GPR</strong></td><td></td>\n",
       "            </tr>\n",
       "            <tr>\n",
       "                <td><strong>Lower bound</strong></td><td>3.150000</td>\n",
       "            </tr>\n",
       "            <tr>\n",
       "                <td><strong>Upper bound</strong></td><td>1000.000000</td>\n",
       "            </tr>\n",
       "        </table>\n",
       "        "
      ],
      "text/plain": [
       "<Reaction ATPM at 0x11a8e3f28>"
      ]
     },
     "execution_count": 4,
     "metadata": {},
     "output_type": "execute_result"
    }
   ],
   "source": [
    "model.reactions.ATPM"
   ]
  },
  {
   "cell_type": "markdown",
   "metadata": {},
   "source": [
    "## The math (scary!)"
   ]
  },
  {
   "cell_type": "code",
   "execution_count": 39,
   "metadata": {
    "collapsed": false
   },
   "outputs": [
    {
     "name": "stdout",
     "output_type": "stream",
     "text": [
      "\\ENCODING=ISO-8859-1\n",
      "\\Problem name: \n",
      "\n",
      "Maximize\n",
      " _4d6e30d2m7390m11e6m8507mf45c89a5d5e9#0: BIOMASS_Ec_iJO1366_core_53p95M#14\n",
      "                                          - BIOMASS_Ec_iJO1366_core_53p95M_reverse_5c8b1#15\n",
      "Subject To\n",
      " _10fthf_c#0:             - 0.000223 BIOMASS_Ec_iJO1366_WT_53p95M#12\n",
      "                          + 0.000223 BIOMASS_Ec_iJO1366_WT_53p95M_reverse_06c4a#13\n",
      "                          - 0.000223 BIOMASS_Ec_iJO1366_core_53p95M#14\n",
      "                          + 0.000223 BIOMASS_Ec_iJO1366_core_53p95M_reverse_5c8b1#15\n",
      "                          - AICART#1208 + AICART_reverse_b7b59#1209\n",
      "                          - FMETTRS#2436 + FMETTRS_reverse_3b6c6#2437\n",
      "                          - FTHFD#2480 + FTHFD_reverse_44321#2481 + FTHFLi#2482\n",
      "                          - FTHFLi_reverse_a6dc7#2483 - GARFT#2630\n",
      "                          + GARFT_reverse_7ecb6#2631 + MTHFC#3692\n",
      "                          - MTHFC_reverse_f6fcc#3693 - ULA4NFT#5050\n",
      "                          + ULA4NFT_reverse_07217#5051  = 0\n",
      " _12dgr120_c#1:           _12DGR120tipp#664 - _12DGR120tipp_reverse_757ef#665\n",
      "                          - DAGK120#1862 + DAGK120_reverse_7cd00#1863\n",
      "                          + PAPA120#4054 - PAPA120_reverse_75d70#4055  = 0\n",
      " _12dgr140_c#2:           _12DGR140tipp#666 - _12DGR140tipp_reverse_aea46#667\n",
      "                          - DAGK140#1864 + DAGK140_reverse_87f8f#1865\n",
      "                          + PAPA140#4058 - PAPA140_reverse_255f5#4059  = 0\n",
      " _12dgr141_c#3:           _12DGR141tipp#668 - _12DGR141tipp_reverse_a0957#669\n",
      "             \n"
     ]
    }
   ],
   "source": [
    "print(model.solver.__str__()[0:1550])"
   ]
  },
  {
   "cell_type": "markdown",
   "metadata": {},
   "source": [
    "## Gene-Protein-Reaction associations"
   ]
  },
  {
   "cell_type": "markdown",
   "metadata": {},
   "source": [
    "Glyceraldehyde-3-phosphate dehydrogenase is associated with a single gene. "
   ]
  },
  {
   "cell_type": "code",
   "execution_count": 44,
   "metadata": {
    "collapsed": false
   },
   "outputs": [
    {
     "data": {
      "text/plain": [
       "'b1779'"
      ]
     },
     "execution_count": 44,
     "metadata": {},
     "output_type": "execute_result"
    }
   ],
   "source": [
    "model.reactions.GAPD.gene_reaction_rule"
   ]
  },
  {
   "cell_type": "markdown",
   "metadata": {},
   "source": [
    "Phosphofructokinase (PFK) on the other hand seems to be associated with to isozymes."
   ]
  },
  {
   "cell_type": "code",
   "execution_count": 46,
   "metadata": {
    "collapsed": false
   },
   "outputs": [
    {
     "data": {
      "text/plain": [
       "'b3916 or b1723'"
      ]
     },
     "execution_count": 46,
     "metadata": {},
     "output_type": "execute_result"
    }
   ],
   "source": [
    "model.reactions.PFK.gene_reaction_rule"
   ]
  },
  {
   "cell_type": "markdown",
   "metadata": {},
   "source": [
    "One can display the gene names (typical 4 letter gene codes) instead of the identifiers (Blattner numbers in this case)."
   ]
  },
  {
   "cell_type": "code",
   "execution_count": 48,
   "metadata": {
    "collapsed": false
   },
   "outputs": [
    {
     "data": {
      "text/plain": [
       "'pfkA or pfkB'"
      ]
     },
     "execution_count": 48,
     "metadata": {},
     "output_type": "execute_result"
    }
   ],
   "source": [
    "model.reactions.PFK.gene_name_reaction_rule"
   ]
  },
  {
   "cell_type": "markdown",
   "metadata": {},
   "source": [
    "Here a very complicated gene to reaction mapping (ATP synthase)."
   ]
  },
  {
   "cell_type": "code",
   "execution_count": 51,
   "metadata": {
    "collapsed": false
   },
   "outputs": [
    {
     "data": {
      "text/plain": [
       "'(atpA and atpD and atpC and atpG and atpH and atpE and atpF and atpB and atpI) or (atpB and atpF and atpE and atpH and atpG and atpC and atpD and atpA)'"
      ]
     },
     "execution_count": 51,
     "metadata": {},
     "output_type": "execute_result"
    }
   ],
   "source": [
    "model.reactions.ATPS4rpp.gene_name_reaction_rule"
   ]
  },
  {
   "cell_type": "markdown",
   "metadata": {},
   "source": [
    "## Finding things"
   ]
  },
  {
   "cell_type": "markdown",
   "metadata": {
    "collapsed": true
   },
   "source": [
    "One can use `.query('search term', 'attribute_to_search_in')` to search in model metabolites, reactions, and genes. For example, one can search metabolites that contain the term _glucose_ in their name."
   ]
  },
  {
   "cell_type": "code",
   "execution_count": 61,
   "metadata": {
    "collapsed": false
   },
   "outputs": [
    {
     "name": "stdout",
     "output_type": "stream",
     "text": [
      "6-Acetyl-D-glucose\n",
      "ADPglucose\n",
      "DTDP-4-dehydro-6-deoxy-D-glucose\n",
      "DTDPglucose\n",
      "UDPglucose\n",
      "UDPglucose\n",
      "UDPglucose\n"
     ]
    }
   ],
   "source": [
    "for metabolite in model.metabolites.query('glucose', 'name'):\n",
    "    print(metabolite.name)"
   ]
  },
  {
   "cell_type": "code",
   "execution_count": 20,
   "metadata": {
    "collapsed": false
   },
   "outputs": [],
   "source": [
    "model..query()"
   ]
  },
  {
   "cell_type": "markdown",
   "metadata": {},
   "source": [
    "## Exercise"
   ]
  },
  {
   "cell_type": "markdown",
   "metadata": {},
   "source": [
    "* TBD"
   ]
  },
  {
   "cell_type": "code",
   "execution_count": null,
   "metadata": {
    "collapsed": true
   },
   "outputs": [],
   "source": []
  },
  {
   "cell_type": "markdown",
   "metadata": {},
   "source": [
    "## The stoichiometric matrix S"
   ]
  },
  {
   "cell_type": "code",
   "execution_count": 59,
   "metadata": {
    "collapsed": false
   },
   "outputs": [
    {
     "data": {
      "text/plain": [
       "matrix([[ 0.,  0.,  0., ...,  0.,  0.,  0.],\n",
       "        [ 0.,  0.,  0., ...,  0.,  0.,  0.],\n",
       "        [ 0.,  0.,  0., ...,  0.,  0.,  0.],\n",
       "        ..., \n",
       "        [ 0.,  0.,  0., ...,  0.,  0.,  0.],\n",
       "        [ 0.,  0.,  0., ...,  0.,  0.,  0.],\n",
       "        [ 0.,  0.,  0., ..., -1., -1.,  1.]])"
      ]
     },
     "execution_count": 59,
     "metadata": {},
     "output_type": "execute_result"
    }
   ],
   "source": [
    "S = model.to_array_based_model().S.todense()\n",
    "S"
   ]
  },
  {
   "cell_type": "markdown",
   "metadata": {},
   "source": [
    "This is how the the stoichiometry matrix S looks like when visualized as a matrix plot."
   ]
  },
  {
   "cell_type": "code",
   "execution_count": 60,
   "metadata": {
    "collapsed": false
   },
   "outputs": [
    {
     "data": {
      "text/plain": [
       "<matplotlib.lines.Line2D at 0x1187f8f98>"
      ]
     },
     "execution_count": 60,
     "metadata": {},
     "output_type": "execute_result"
    },
    {
     "data": {
      "image/png": "[encoded data removed]",
      "text/plain": [
       "<matplotlib.figure.Figure at 0x118d2c208>"
      ]
     },
     "metadata": {},
     "output_type": "display_data"
    }
   ],
   "source": [
    "import matplotlib.pyplot as plt\n",
    "plt.spy(S, precision=0.01, markersize=.1)"
   ]
  },
  {
   "cell_type": "markdown",
   "metadata": {},
   "source": [
    "## Simulating models"
   ]
  },
  {
   "cell_type": "code",
   "execution_count": 5,
   "metadata": {
    "collapsed": false
   },
   "outputs": [
    {
     "data": {
      "text/html": [
       "<div>\n",
       "<table border=\"1\" class=\"dataframe\">\n",
       "  <thead>\n",
       "    <tr style=\"text-align: right;\">\n",
       "      <th></th>\n",
       "      <th>fluxes</th>\n",
       "      <th>reduced_costs</th>\n",
       "    </tr>\n",
       "  </thead>\n",
       "  <tbody>\n",
       "    <tr>\n",
       "      <th>DM_4crsol_c</th>\n",
       "      <td>0.000219</td>\n",
       "      <td>-3.168299e-13</td>\n",
       "    </tr>\n",
       "    <tr>\n",
       "      <th>DM_5drib_c</th>\n",
       "      <td>0.000221</td>\n",
       "      <td>0.000000e+00</td>\n",
       "    </tr>\n",
       "    <tr>\n",
       "      <th>DM_aacald_c</th>\n",
       "      <td>0.000000</td>\n",
       "      <td>0.000000e+00</td>\n",
       "    </tr>\n",
       "    <tr>\n",
       "      <th>DM_amob_c</th>\n",
       "      <td>0.000002</td>\n",
       "      <td>0.000000e+00</td>\n",
       "    </tr>\n",
       "    <tr>\n",
       "      <th>...</th>\n",
       "      <td>...</td>\n",
       "      <td>...</td>\n",
       "    </tr>\n",
       "    <tr>\n",
       "      <th>ZN2t3pp</th>\n",
       "      <td>0.000000</td>\n",
       "      <td>-2.073827e-03</td>\n",
       "    </tr>\n",
       "    <tr>\n",
       "      <th>ZN2tpp</th>\n",
       "      <td>0.000335</td>\n",
       "      <td>0.000000e+00</td>\n",
       "    </tr>\n",
       "    <tr>\n",
       "      <th>ZNabcpp</th>\n",
       "      <td>0.000000</td>\n",
       "      <td>-8.295308e-03</td>\n",
       "    </tr>\n",
       "    <tr>\n",
       "      <th>Zn2tex</th>\n",
       "      <td>0.000335</td>\n",
       "      <td>0.000000e+00</td>\n",
       "    </tr>\n",
       "  </tbody>\n",
       "</table>\n",
       "<p>2583 rows × 2 columns</p>\n",
       "</div>"
      ],
      "text/plain": [
       "<cameo.core.solution.LazySolution at 0x11a550ac8>"
      ]
     },
     "execution_count": 5,
     "metadata": {},
     "output_type": "execute_result"
    }
   ],
   "source": [
    "model.solve()"
   ]
  },
  {
   "cell_type": "markdown",
   "metadata": {},
   "source": [
    "Somtimes a solution cannot be found. For example, setting the lower bound of the objective funtion to a very high value that the model cannot achieve will raise an exception when trying to solve the model."
   ]
  },
  {
   "cell_type": "code",
   "execution_count": 12,
   "metadata": {
    "collapsed": false
   },
   "outputs": [
    {
     "ename": "Infeasible",
     "evalue": "Solving model iJO1366 did not return an optimal solution. The returned solution status is \"infeasible\"",
     "output_type": "error",
     "traceback": [
      "\u001b[0;31m---------------------------------------------------------------------------\u001b[0m",
      "\u001b[0;31mInfeasible\u001b[0m                                Traceback (most recent call last)",
      "\u001b[0;32m<ipython-input-12-1e583368b703>\u001b[0m in \u001b[0;36m<module>\u001b[0;34m()\u001b[0m\n\u001b[1;32m      1\u001b[0m \u001b[0minfeasible_model\u001b[0m \u001b[0;34m=\u001b[0m \u001b[0mmodel\u001b[0m\u001b[0;34m.\u001b[0m\u001b[0mcopy\u001b[0m\u001b[0;34m(\u001b[0m\u001b[0;34m)\u001b[0m\u001b[0;34m\u001b[0m\u001b[0m\n\u001b[1;32m      2\u001b[0m \u001b[0minfeasible_model\u001b[0m\u001b[0;34m.\u001b[0m\u001b[0mreactions\u001b[0m\u001b[0;34m.\u001b[0m\u001b[0mBIOMASS_Ec_iJO1366_core_53p95M\u001b[0m\u001b[0;34m.\u001b[0m\u001b[0mlower_bound\u001b[0m \u001b[0;34m=\u001b[0m \u001b[0;36m100000\u001b[0m\u001b[0;34m\u001b[0m\u001b[0m\n\u001b[0;32m----> 3\u001b[0;31m \u001b[0minfeasible_model\u001b[0m\u001b[0;34m.\u001b[0m\u001b[0msolve\u001b[0m\u001b[0;34m(\u001b[0m\u001b[0;34m)\u001b[0m\u001b[0;34m\u001b[0m\u001b[0m\n\u001b[0m",
      "\u001b[0;32m/Users/niso/Dev/cameo/cameo/core/solver_based_model.py\u001b[0m in \u001b[0;36msolve\u001b[0;34m(self, solution_type, *args, **kwargs)\u001b[0m\n\u001b[1;32m    459\u001b[0m             raise exceptions._OPTLANG_TO_EXCEPTIONS_DICT.get(solution.status, SolveError)(\n\u001b[1;32m    460\u001b[0m                 'Solving model %s did not return an optimal solution. The returned solution status is \"%s\"' % (\n\u001b[0;32m--> 461\u001b[0;31m                     self, solution.status))\n\u001b[0m\u001b[1;32m    462\u001b[0m         \u001b[0;32melse\u001b[0m\u001b[0;34m:\u001b[0m\u001b[0;34m\u001b[0m\u001b[0m\n\u001b[1;32m    463\u001b[0m             \u001b[0;32mreturn\u001b[0m \u001b[0msolution\u001b[0m\u001b[0;34m\u001b[0m\u001b[0m\n",
      "\u001b[0;31mInfeasible\u001b[0m: Solving model iJO1366 did not return an optimal solution. The returned solution status is \"infeasible\""
     ]
    }
   ],
   "source": [
    "infeasible_model = model.copy()\n",
    "infeasible_model.reactions.BIOMASS_Ec_iJO1366_core_53p95M.lower_bound = 100000\n",
    "infeasible_model.solve()"
   ]
  },
  {
   "cell_type": "markdown",
   "metadata": {},
   "source": [
    "One can use `try` and `except` statements to handle those cases."
   ]
  },
  {
   "cell_type": "code",
   "execution_count": 10,
   "metadata": {
    "collapsed": true
   },
   "outputs": [],
   "source": [
    "from cameo.exceptions import Infeasible"
   ]
  },
  {
   "cell_type": "code",
   "execution_count": 13,
   "metadata": {
    "collapsed": false
   },
   "outputs": [
    {
     "name": "stdout",
     "output_type": "stream",
     "text": [
      "Oh no! The model is infeasible!\n"
     ]
    }
   ],
   "source": [
    "try:\n",
    "    infeasible_model.solve()\n",
    "except Infeasible:\n",
    "    print('Oh no! The model is infeasible!')"
   ]
  },
  {
   "cell_type": "code",
   "execution_count": null,
   "metadata": {
    "collapsed": true
   },
   "outputs": [],
   "source": []
  }
 ],
 "metadata": {
  "anaconda-cloud": {},
  "kernelspec": {
   "display_name": "Python [default]",
   "language": "python",
   "name": "python3"
  },
  "language_info": {
   "codemirror_mode": {
    "name": "ipython",
    "version": 3
   },
   "file_extension": ".py",
   "mimetype": "text/x-python",
   "name": "python",
   "nbconvert_exporter": "python",
   "pygments_lexer": "ipython3",
   "version": "3.4.5"
  }
 },
 "nbformat": 4,
 "nbformat_minor": 0
}
