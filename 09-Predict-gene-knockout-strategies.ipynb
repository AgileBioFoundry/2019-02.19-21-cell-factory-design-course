{
 "cells": [
  {
   "cell_type": "markdown",
   "metadata": {
    "toc": true
   },
   "source": [
    "<h1>Table of Contents<span class=\"tocSkip\"></span></h1>\n",
    "<div class=\"toc\"><ul class=\"toc-item\"><li><span><a href=\"#Predicting-gene-knockout-strategies\" data-toc-modified-id=\"Predicting-gene-knockout-strategies-1\"><span class=\"toc-item-num\">1&nbsp;&nbsp;</span>Predicting gene knockout strategies</a></span><ul class=\"toc-item\"><li><span><a href=\"#Exercises\" data-toc-modified-id=\"Exercises-1.1\"><span class=\"toc-item-num\">1.1&nbsp;&nbsp;</span>Exercises</a></span></li><li><span><a href=\"#Solutions\" data-toc-modified-id=\"Solutions-1.2\"><span class=\"toc-item-num\">1.2&nbsp;&nbsp;</span>Solutions</a></span><ul class=\"toc-item\"><li><span><a href=\"#Solution-1\" data-toc-modified-id=\"Solution-1-1.2.1\"><span class=\"toc-item-num\">1.2.1&nbsp;&nbsp;</span>Solution 1</a></span></li><li><span><a href=\"#Solution-2\" data-toc-modified-id=\"Solution-2-1.2.2\"><span class=\"toc-item-num\">1.2.2&nbsp;&nbsp;</span>Solution 2</a></span></li></ul></li></ul></li><li><span><a href=\"#Predict-gene-knockout-strategies\" data-toc-modified-id=\"Predict-gene-knockout-strategies-2\"><span class=\"toc-item-num\">2&nbsp;&nbsp;</span>Predict gene knockout strategies</a></span><ul class=\"toc-item\"><li><span><a href=\"#OptGene\" data-toc-modified-id=\"OptGene-2.1\"><span class=\"toc-item-num\">2.1&nbsp;&nbsp;</span>OptGene</a></span></li><li><span><a href=\"#OptKnock\" data-toc-modified-id=\"OptKnock-2.2\"><span class=\"toc-item-num\">2.2&nbsp;&nbsp;</span>OptKnock</a></span></li><li><span><a href=\"#Exercises\" data-toc-modified-id=\"Exercises-2.3\"><span class=\"toc-item-num\">2.3&nbsp;&nbsp;</span>Exercises</a></span></li><li><span><a href=\"#References\" data-toc-modified-id=\"References-2.4\"><span class=\"toc-item-num\">2.4&nbsp;&nbsp;</span>References</a></span></li></ul></li></ul></div>"
   ]
  },
  {
   "cell_type": "markdown",
   "metadata": {},
   "source": [
    "# Predicting gene knockout strategies"
   ]
  },
  {
   "cell_type": "code",
   "execution_count": null,
   "metadata": {
    "ExecuteTime": {
     "end_time": "2019-02-28T08:06:58.432460Z",
     "start_time": "2019-02-28T08:06:55.918988Z"
    }
   },
   "outputs": [],
   "source": [
    "from cobra.io import read_sbml_model\n",
    "from cameo import phenotypic_phase_plane"
   ]
  },
  {
   "cell_type": "code",
   "execution_count": null,
   "metadata": {
    "ExecuteTime": {
     "end_time": "2019-02-28T08:06:59.003299Z",
     "start_time": "2019-02-28T08:06:58.841773Z"
    }
   },
   "outputs": [],
   "source": [
    "model = read_sbml_model('data/e_coli_core.xml.gz')"
   ]
  },
  {
   "cell_type": "code",
   "execution_count": null,
   "metadata": {
    "ExecuteTime": {
     "end_time": "2019-02-28T08:07:00.668587Z",
     "start_time": "2019-02-28T08:07:00.665380Z"
    }
   },
   "outputs": [],
   "source": [
    "model.reactions.EX_o2_e.lower_bound = 0"
   ]
  },
  {
   "cell_type": "code",
   "execution_count": null,
   "metadata": {
    "ExecuteTime": {
     "end_time": "2019-02-28T08:07:10.719208Z",
     "start_time": "2019-02-28T08:07:10.712717Z"
    }
   },
   "outputs": [],
   "source": [
    "model.reactions.EX_succ_e"
   ]
  },
  {
   "cell_type": "code",
   "execution_count": null,
   "metadata": {
    "ExecuteTime": {
     "end_time": "2019-02-28T08:07:16.045706Z",
     "start_time": "2019-02-28T08:07:15.888542Z"
    }
   },
   "outputs": [],
   "source": [
    "production_envelope = phenotypic_phase_plane(model, \n",
    "                                             variables=[model.reactions.BIOMASS_Ecoli_core_w_GAM],\n",
    "                                             objective=model.metabolites.succ_e)\n",
    "production_envelope.plot()"
   ]
  },
  {
   "cell_type": "code",
   "execution_count": null,
   "metadata": {
    "ExecuteTime": {
     "end_time": "2019-02-28T08:08:12.534730Z",
     "start_time": "2019-02-28T08:08:12.499266Z"
    }
   },
   "outputs": [],
   "source": [
    "mutant1 = model.copy()"
   ]
  },
  {
   "cell_type": "code",
   "execution_count": null,
   "metadata": {
    "ExecuteTime": {
     "end_time": "2019-02-28T08:08:15.526356Z",
     "start_time": "2019-02-28T08:08:15.522462Z"
    }
   },
   "outputs": [],
   "source": [
    "mutant1.reactions.ACKr.knock_out()\n",
    "mutant1.reactions.ATPS4r.knock_out()\n",
    "mutant1.reactions.ATPM.knock_out()\n",
    "mutant1.reactions.FUM.knock_out()"
   ]
  },
  {
   "cell_type": "code",
   "execution_count": null,
   "metadata": {
    "ExecuteTime": {
     "end_time": "2019-02-28T08:08:19.954330Z",
     "start_time": "2019-02-28T08:08:19.882105Z"
    }
   },
   "outputs": [],
   "source": [
    "ppp = phenotypic_phase_plane(mutant1,\n",
    "                             variables=[mutant1.reactions.BIOMASS_Ecoli_core_w_GAM],\n",
    "                             objective=mutant1.reactions.EX_succ_e)\n",
    "\n",
    "ppp.plot()"
   ]
  },
  {
   "cell_type": "code",
   "execution_count": null,
   "metadata": {
    "ExecuteTime": {
     "end_time": "2019-02-28T08:08:28.073550Z",
     "start_time": "2019-02-28T08:08:28.041252Z"
    }
   },
   "outputs": [],
   "source": [
    "mutant2 = model.copy()"
   ]
  },
  {
   "cell_type": "code",
   "execution_count": null,
   "metadata": {
    "ExecuteTime": {
     "end_time": "2019-02-28T08:08:30.700429Z",
     "start_time": "2019-02-28T08:08:30.696909Z"
    }
   },
   "outputs": [],
   "source": [
    "mutant2.reactions.ACALD.knock_out()\n",
    "mutant2.reactions.PYK.knock_out()\n",
    "mutant2.reactions.ME2.knock_out()"
   ]
  },
  {
   "cell_type": "code",
   "execution_count": null,
   "metadata": {
    "ExecuteTime": {
     "end_time": "2019-02-28T08:08:33.266998Z",
     "start_time": "2019-02-28T08:08:33.194421Z"
    }
   },
   "outputs": [],
   "source": [
    "ppp = phenotypic_phase_plane(mutant2,\n",
    "                             variables=[mutant2.reactions.BIOMASS_Ecoli_core_w_GAM],\n",
    "                             objective=mutant2.reactions.EX_succ_e)\n",
    "\n",
    "ppp.plot()"
   ]
  },
  {
   "cell_type": "code",
   "execution_count": null,
   "metadata": {
    "ExecuteTime": {
     "end_time": "2019-02-28T08:08:48.104624Z",
     "start_time": "2019-02-28T08:08:48.068749Z"
    }
   },
   "outputs": [],
   "source": [
    "mutant3 = model.copy()"
   ]
  },
  {
   "cell_type": "code",
   "execution_count": null,
   "metadata": {
    "ExecuteTime": {
     "end_time": "2019-02-28T08:08:49.469061Z",
     "start_time": "2019-02-28T08:08:49.465182Z"
    }
   },
   "outputs": [],
   "source": [
    "mutant3.reactions.ACALD.knock_out()\n",
    "mutant3.reactions.LDH_D.knock_out()"
   ]
  },
  {
   "cell_type": "code",
   "execution_count": null,
   "metadata": {
    "ExecuteTime": {
     "end_time": "2019-02-28T08:08:50.820500Z",
     "start_time": "2019-02-28T08:08:50.743319Z"
    }
   },
   "outputs": [],
   "source": [
    "ppp = phenotypic_phase_plane(mutant3,\n",
    "                             variables=[mutant3.reactions.BIOMASS_Ecoli_core_w_GAM],\n",
    "                             objective=mutant3.reactions.EX_succ_e)\n",
    "\n",
    "ppp.plot()"
   ]
  },
  {
   "cell_type": "markdown",
   "metadata": {},
   "source": [
    "We can also knock-out genes instead, and implicitly block the reactions that are annotated to only occur in presence of the corresponding gene. To reproduce the ACALD, LDH_D knock-out above with genes instead we can do:"
   ]
  },
  {
   "cell_type": "code",
   "execution_count": null,
   "metadata": {
    "ExecuteTime": {
     "end_time": "2019-02-28T08:10:15.568293Z",
     "start_time": "2019-02-28T08:10:15.537550Z"
    }
   },
   "outputs": [],
   "source": [
    "mutant4 = model.copy()\n",
    "mutant4.reactions.ACALD.gene_reaction_rule"
   ]
  },
  {
   "cell_type": "code",
   "execution_count": null,
   "metadata": {
    "ExecuteTime": {
     "end_time": "2019-02-28T08:10:31.053517Z",
     "start_time": "2019-02-28T08:10:31.047189Z"
    }
   },
   "outputs": [],
   "source": [
    "mutant4.reactions.LDH_D.gene_reaction_rule"
   ]
  },
  {
   "cell_type": "code",
   "execution_count": null,
   "metadata": {
    "ExecuteTime": {
     "end_time": "2019-02-28T08:09:13.977077Z",
     "start_time": "2019-02-28T08:09:13.972927Z"
    }
   },
   "outputs": [],
   "source": [
    "to_knock = mutant4.reactions.ACALD.genes.union(mutant4.reactions.LDH_D.genes)\n",
    "for gene in to_knock:\n",
    "    gene.knock_out()"
   ]
  },
  {
   "cell_type": "code",
   "execution_count": null,
   "metadata": {
    "ExecuteTime": {
     "end_time": "2019-02-28T08:10:53.810489Z",
     "start_time": "2019-02-28T08:10:53.732065Z"
    }
   },
   "outputs": [],
   "source": [
    "ppp = phenotypic_phase_plane(mutant4,\n",
    "                             variables=[mutant4.reactions.BIOMASS_Ecoli_core_w_GAM],\n",
    "                             objective=mutant4.reactions.EX_succ_e)\n",
    "\n",
    "ppp.plot()"
   ]
  },
  {
   "cell_type": "markdown",
   "metadata": {},
   "source": [
    "## Exercises"
   ]
  },
  {
   "cell_type": "markdown",
   "metadata": {},
   "source": [
    "* Do any of these desigs work under aerobic conditions?\n",
    "* Did the gene-knockout design above have any unintended effects?"
   ]
  },
  {
   "cell_type": "markdown",
   "metadata": {},
   "source": [
    "## Solutions"
   ]
  },
  {
   "cell_type": "markdown",
   "metadata": {
    "collapsed": true
   },
   "source": [
    "### Solution 1"
   ]
  },
  {
   "cell_type": "markdown",
   "metadata": {},
   "source": [
    "### Solution 2"
   ]
  },
  {
   "cell_type": "markdown",
   "metadata": {},
   "source": [
    "# Predict gene knockout strategies\n",
    "\n",
    "In cameo we have two ways of predicting gene knockout targets: using evolutionary algorithms (OptGene) or linear programming (OptKnock)"
   ]
  },
  {
   "cell_type": "markdown",
   "metadata": {},
   "source": [
    "## OptGene\n",
    "\n",
    "OptGene is an approach to search for gene or reaction knockouts that relies on evolutionary algorithms[1](#references). The following image from authors summarizes the OptGene workflow.\n",
    "\n",
    "<img src=\"http://static-content.springer.com/image/art%3A10.1186%2F1471-2105-6-308/MediaObjects/12859_2005_Article_632_Fig1_HTML.jpg\"/>"
   ]
  },
  {
   "cell_type": "code",
   "execution_count": null,
   "metadata": {},
   "outputs": [],
   "source": [
    "from cameo.strain_design.heuristic.evolutionary_based import OptGene"
   ]
  },
  {
   "cell_type": "code",
   "execution_count": null,
   "metadata": {},
   "outputs": [],
   "source": [
    "from cobra.io import read_sbml_model\n",
    "model = read_sbml_model('data/e_coli_core.xml.gz')"
   ]
  },
  {
   "cell_type": "code",
   "execution_count": null,
   "metadata": {
    "scrolled": false
   },
   "outputs": [],
   "source": [
    "optgene = OptGene(model)"
   ]
  },
  {
   "cell_type": "code",
   "execution_count": null,
   "metadata": {
    "scrolled": false
   },
   "outputs": [],
   "source": [
    "result = optgene.run(target=model.reactions.EX_succ_e, \n",
    "                     biomass=model.reactions.BIOMASS_Ecoli_core_w_GAM,\n",
    "                     substrate=model.metabolites.glc__D_e,\n",
    "                     max_evaluations=20000, population_size=200, max_knockouts=5,\n",
    "                     plot=False, growth_coupled=True)"
   ]
  },
  {
   "cell_type": "code",
   "execution_count": null,
   "metadata": {
    "scrolled": true
   },
   "outputs": [],
   "source": [
    "result"
   ]
  },
  {
   "cell_type": "markdown",
   "metadata": {},
   "source": [
    "<div class=\"alert alert-warning\">\n",
    "The optimization above proposes to knock out ATPS4r (ATP synthase) and `s0001` (an spontaneous reaction) which probably isn't a good strategy.\n",
    "</div>"
   ]
  },
  {
   "cell_type": "markdown",
   "metadata": {},
   "source": [
    "<div class=\"alert alert-success\">\n",
    "Workaround: Use the `essential_genes` parameter to `OptGene` to create an exclude list.\n",
    "</div>"
   ]
  },
  {
   "cell_type": "code",
   "execution_count": null,
   "metadata": {
    "scrolled": false
   },
   "outputs": [],
   "source": [
    "essential = [g.id for g in model.reactions.ATPS4r.genes] + ['s0001']\n",
    "optgene = OptGene(model, essential_genes=essential)\n",
    "result = optgene.run(target=model.reactions.EX_succ_e, \n",
    "                     biomass=model.reactions.BIOMASS_Ecoli_core_w_GAM,\n",
    "                     substrate=model.metabolites.glc__D_e,\n",
    "                     max_evaluations=20000, population_size=200, max_knockouts=5,\n",
    "                     plot=False, growth_coupled=True)\n",
    "result"
   ]
  },
  {
   "cell_type": "code",
   "execution_count": null,
   "metadata": {},
   "outputs": [],
   "source": [
    "result.plot(0)"
   ]
  },
  {
   "cell_type": "code",
   "execution_count": null,
   "metadata": {},
   "outputs": [],
   "source": [
    "\n",
    "\n",
    "result.display_on_map(0, \"e_coli_core.Core metabolism\")"
   ]
  },
  {
   "cell_type": "markdown",
   "metadata": {},
   "source": [
    "## OptKnock\n",
    "\n",
    "OptKnock uses a bi-level mixed integer linear programming approach to identify reaction knockouts[[2](#references)]:\n",
    "\n",
    "$$\n",
    "\\begin{matrix}\n",
    "maximize & \\mathit{v_{chemical}} & & (\\mathbf{OptKnock}) \\\\\n",
    "\\mathit{y_j} & & & \\\\\n",
    "subject~to & maximize & \\mathit{v_{biomass}} & (\\mathbf{Primal}) \\\\\n",
    "& \\mathit{v_j} & & & & \\\\\n",
    "\\end{matrix}\\\\\n",
    "\\begin{bmatrix}\n",
    "subject~to  & \\sum_{j=1}^{M}S_{ij}v_{j} = 0,\\\\ \n",
    "& v_{carbon\\_uptake} = v_{carbon~target}\\\\ \n",
    "& v_{apt} \\ge v_{apt\\_main}\\\\ \n",
    "& v_{biomass} \\ge v_{target\\_biomass}\\\\ \n",
    "& v_{j}^{min} \\cdot y_j \\le v_j \\le v_{j}^{max} \\cdot y_j, \\forall j \\in \\boldsymbol{M} \\\\\n",
    "\\end{bmatrix}\\\\\n",
    "\\begin{align}\n",
    " & y_j = {0, 1}, & & \\forall j \\in \\boldsymbol{M} & \\\\\n",
    " & \\sum_{j \\in M} (1 - y_j) \\le K& & & \\\\\n",
    "\\end{align}\n",
    "$$\n",
    "\n"
   ]
  },
  {
   "cell_type": "code",
   "execution_count": null,
   "metadata": {},
   "outputs": [],
   "source": [
    "from cameo.strain_design.deterministic.linear_programming import OptKnock"
   ]
  },
  {
   "cell_type": "code",
   "execution_count": null,
   "metadata": {},
   "outputs": [],
   "source": [
    "optknock = OptKnock(model, fraction_of_optimum=0.1, exclude_reactions=['ATPS4r', 'CO2t', 'H2Ot'])"
   ]
  },
  {
   "cell_type": "markdown",
   "metadata": {},
   "source": [
    "Again, we include a couple of reactions on the exclude list to avoid uninteresting solution. Running multiple knockouts with OptKnock can take a few hours or days..."
   ]
  },
  {
   "cell_type": "code",
   "execution_count": null,
   "metadata": {},
   "outputs": [],
   "source": [
    "result = optknock.run(max_knockouts=3, target=\"EX_ac_e\", biomass=\"BIOMASS_Ecoli_core_w_GAM\")"
   ]
  },
  {
   "cell_type": "code",
   "execution_count": null,
   "metadata": {},
   "outputs": [],
   "source": [
    "result"
   ]
  },
  {
   "cell_type": "code",
   "execution_count": null,
   "metadata": {},
   "outputs": [],
   "source": [
    "result.plot(0)"
   ]
  },
  {
   "cell_type": "code",
   "execution_count": null,
   "metadata": {
    "scrolled": true
   },
   "outputs": [],
   "source": [
    "result.display_on_map(0, \"e_coli_core.Core metabolism\")"
   ]
  },
  {
   "cell_type": "markdown",
   "metadata": {},
   "source": [
    "## Exercises"
   ]
  },
  {
   "cell_type": "markdown",
   "metadata": {},
   "source": [
    "* Use OptGene or OptKnock to find a growth coupled design for a product of your choice!"
   ]
  },
  {
   "cell_type": "markdown",
   "metadata": {},
   "source": [
    "<a id=\"references\"></a>\n",
    "## References\n",
    "\n",
    "[1]Patil, K. R., Rocha, I., Förster, J., & Nielsen, J. (2005). Evolutionary programming as a platform for in silico metabolic engineering. BMC Bioinformatics, 6, 308. doi:10.1186/1471-2105-6-308\n",
    "\n",
    "[2]Burgard, A.P., Pharkya, P., Maranas, C.D. (2003), \"OptKnock: A Bilevel Programming Framework for Identifying Gene Knockout Strategies for Microbial Strain Optimization,\" Biotechnology and Bioengineering, 84(6), 647-657."
   ]
  }
 ],
 "metadata": {
  "anaconda-cloud": {},
  "kernelspec": {
   "display_name": "Cell factory design course",
   "language": "python",
   "name": "cell-factory-design-course"
  },
  "language_info": {
   "codemirror_mode": {
    "name": "ipython",
    "version": 3
   },
   "file_extension": ".py",
   "mimetype": "text/x-python",
   "name": "python",
   "nbconvert_exporter": "python",
   "pygments_lexer": "ipython3",
   "version": "3.6.0"
  },
  "toc": {
   "base_numbering": 1,
   "nav_menu": {},
   "number_sections": true,
   "sideBar": true,
   "skip_h1_title": false,
   "title_cell": "Table of Contents",
   "title_sidebar": "Contents",
   "toc_cell": true,
   "toc_position": {},
   "toc_section_display": true,
   "toc_window_display": false
  },
  "varInspector": {
   "cols": {
    "lenName": 16,
    "lenType": 16,
    "lenVar": 40
   },
   "kernels_config": {
    "python": {
     "delete_cmd_postfix": "",
     "delete_cmd_prefix": "del ",
     "library": "var_list.py",
     "varRefreshCmd": "print(var_dic_list())"
    },
    "r": {
     "delete_cmd_postfix": ") ",
     "delete_cmd_prefix": "rm(",
     "library": "var_list.r",
     "varRefreshCmd": "cat(var_dic_list()) "
    }
   },
   "types_to_exclude": [
    "module",
    "function",
    "builtin_function_or_method",
    "instance",
    "_Feature"
   ],
   "window_display": false
  }
 },
 "nbformat": 4,
 "nbformat_minor": 1
}
