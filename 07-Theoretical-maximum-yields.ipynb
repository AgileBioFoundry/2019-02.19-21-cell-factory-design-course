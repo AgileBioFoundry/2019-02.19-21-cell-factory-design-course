{
 "cells": [
  {
   "cell_type": "markdown",
   "metadata": {
    "toc": true
   },
   "source": [
    "<h1>Table of Contents<span class=\"tocSkip\"></span></h1>\n",
    "<div class=\"toc\"><ul class=\"toc-item\"><li><span><a href=\"#Calculating-yields\" data-toc-modified-id=\"Calculating-yields-1\"><span class=\"toc-item-num\">1&nbsp;&nbsp;</span>Calculating yields</a></span><ul class=\"toc-item\"><li><span><a href=\"#Product-yield\" data-toc-modified-id=\"Product-yield-1.1\"><span class=\"toc-item-num\">1.1&nbsp;&nbsp;</span>Product yield</a></span></li><li><span><a href=\"#Exercise-(15-min)\" data-toc-modified-id=\"Exercise-(15-min)-1.2\"><span class=\"toc-item-num\">1.2&nbsp;&nbsp;</span>Exercise (15 min)</a></span></li><li><span><a href=\"#Biomass-yield\" data-toc-modified-id=\"Biomass-yield-1.3\"><span class=\"toc-item-num\">1.3&nbsp;&nbsp;</span>Biomass yield</a></span></li><li><span><a href=\"#Excercise-(10-min)\" data-toc-modified-id=\"Excercise-(10-min)-1.4\"><span class=\"toc-item-num\">1.4&nbsp;&nbsp;</span>Excercise (10 min)</a></span></li><li><span><a href=\"#Growth-vs.-Product-yield\" data-toc-modified-id=\"Growth-vs.-Product-yield-1.5\"><span class=\"toc-item-num\">1.5&nbsp;&nbsp;</span>Growth vs. Product yield</a></span></li><li><span><a href=\"#Exercise-(30-min)\" data-toc-modified-id=\"Exercise-(30-min)-1.6\"><span class=\"toc-item-num\">1.6&nbsp;&nbsp;</span>Exercise (30 min)</a></span></li></ul></li></ul></div>"
   ]
  },
  {
   "cell_type": "markdown",
   "metadata": {},
   "source": [
    "# Calculating yields"
   ]
  },
  {
   "cell_type": "code",
   "execution_count": 23,
   "metadata": {
    "ExecuteTime": {
     "end_time": "2019-02-28T19:30:48.362919Z",
     "start_time": "2019-02-28T19:30:43.995867Z"
    }
   },
   "outputs": [],
   "source": [
    "%matplotlib inline \n",
    "from cobra.io import read_sbml_model\n",
    "model_original = read_sbml_model('data/iJO1366.xml.gz')\n",
    "\n",
    "model = model_original.copy()"
   ]
  },
  {
   "cell_type": "markdown",
   "metadata": {},
   "source": [
    "## Product yield"
   ]
  },
  {
   "cell_type": "markdown",
   "metadata": {},
   "source": [
    "Calculating the yield of a product is straightforward. First one sets the producing reaction a new objective of the model."
   ]
  },
  {
   "cell_type": "code",
   "execution_count": 25,
   "metadata": {
    "ExecuteTime": {
     "end_time": "2019-02-28T19:31:01.897948Z",
     "start_time": "2019-02-28T19:31:01.890402Z"
    }
   },
   "outputs": [
    {
     "data": {
      "text/html": [
       "\n",
       "        <table>\n",
       "            <tr>\n",
       "                <td><strong>Name</strong></td>\n",
       "                <td>iJO1366</td>\n",
       "            </tr><tr>\n",
       "                <td><strong>Memory address</strong></td>\n",
       "                <td>0x012aa86f98</td>\n",
       "            </tr><tr>\n",
       "                <td><strong>Number of metabolites</strong></td>\n",
       "                <td>1805</td>\n",
       "            </tr><tr>\n",
       "                <td><strong>Number of reactions</strong></td>\n",
       "                <td>2583</td>\n",
       "            </tr><tr>\n",
       "                <td><strong>Objective expression</strong></td>\n",
       "                <td>1.0*BIOMASS_Ec_iJO1366_core_53p95M - 1.0*BIOMASS_Ec_iJO1366_core_53p95M_reverse_5c8b1</td>\n",
       "            </tr><tr>\n",
       "                <td><strong>Compartments</strong></td>\n",
       "                <td>cytosol, extracellular space, periplasm</td>\n",
       "            </tr>\n",
       "          </table>"
      ],
      "text/plain": [
       "<Model iJO1366 at 0x12aa86f98>"
      ]
     },
     "execution_count": 25,
     "metadata": {},
     "output_type": "execute_result"
    }
   ],
   "source": [
    "model"
   ]
  },
  {
   "cell_type": "code",
   "execution_count": 26,
   "metadata": {
    "ExecuteTime": {
     "end_time": "2019-02-28T19:31:09.765811Z",
     "start_time": "2019-02-28T19:31:09.761570Z"
    }
   },
   "outputs": [],
   "source": [
    "model.objective = model.reactions.EX_ac_e"
   ]
  },
  {
   "cell_type": "markdown",
   "metadata": {},
   "source": [
    "Then one determines the maximum production flux by solving the model."
   ]
  },
  {
   "cell_type": "code",
   "execution_count": 27,
   "metadata": {
    "ExecuteTime": {
     "end_time": "2019-02-28T19:31:15.339840Z",
     "start_time": "2019-02-28T19:31:15.120807Z"
    }
   },
   "outputs": [
    {
     "data": {
      "text/plain": [
       "29.093467336683354"
      ]
     },
     "execution_count": 27,
     "metadata": {},
     "output_type": "execute_result"
    }
   ],
   "source": [
    "solution = model.optimize()\n",
    "solution.fluxes['EX_ac_e']"
   ]
  },
  {
   "cell_type": "code",
   "execution_count": 31,
   "metadata": {
    "ExecuteTime": {
     "end_time": "2019-02-28T19:32:13.352210Z",
     "start_time": "2019-02-28T19:32:13.347748Z"
    }
   },
   "outputs": [
    {
     "data": {
      "text/html": [
       "\n",
       "        <table>\n",
       "            <tr>\n",
       "                <td><strong>Reaction identifier</strong></td><td>EX_glc__D_e</td>\n",
       "            </tr><tr>\n",
       "                <td><strong>Name</strong></td><td>D-Glucose exchange</td>\n",
       "            </tr><tr>\n",
       "                <td><strong>Memory address</strong></td>\n",
       "                <td>0x012ac0d5f8</td>\n",
       "            </tr><tr>\n",
       "                <td><strong>Stoichiometry</strong></td>\n",
       "                <td>\n",
       "                    <p style='text-align:right'>glc__D_e <=> </p>\n",
       "                    <p style='text-align:right'>D-Glucose <=> </p>\n",
       "                </td>\n",
       "            </tr><tr>\n",
       "                <td><strong>GPR</strong></td><td></td>\n",
       "            </tr><tr>\n",
       "                <td><strong>Lower bound</strong></td><td>-10.0</td>\n",
       "            </tr><tr>\n",
       "                <td><strong>Upper bound</strong></td><td>1000.0</td>\n",
       "            </tr>\n",
       "        </table>\n",
       "        "
      ],
      "text/plain": [
       "<Reaction EX_glc__D_e at 0x12ac0d5f8>"
      ]
     },
     "execution_count": 31,
     "metadata": {},
     "output_type": "execute_result"
    }
   ],
   "source": [
    "model.reactions.EX_glc__D_e"
   ]
  },
  {
   "cell_type": "markdown",
   "metadata": {},
   "source": [
    "Dividing the production flux by the uptake flux of the carbon source (in this case glucose) yields the molar yield (mol product / mol glucose)."
   ]
  },
  {
   "cell_type": "code",
   "execution_count": 32,
   "metadata": {
    "ExecuteTime": {
     "end_time": "2019-02-28T19:33:08.627075Z",
     "start_time": "2019-02-28T19:33:08.621553Z"
    }
   },
   "outputs": [
    {
     "data": {
      "text/plain": [
       "2.909346733668335"
      ]
     },
     "execution_count": 32,
     "metadata": {},
     "output_type": "execute_result"
    }
   ],
   "source": [
    "solution.fluxes['EX_ac_e'] / (-1. * solution.fluxes['EX_glc__D_e'])"
   ]
  },
  {
   "cell_type": "markdown",
   "metadata": {},
   "source": [
    "## Exercise (15 min)"
   ]
  },
  {
   "cell_type": "markdown",
   "metadata": {},
   "source": [
    "* Convert the yield into a C-mol (product) / C-mol (carbon source) yield.\n",
    "* Calculate a mass yield instead of molar yield (g (product) / g (carbon source))"
   ]
  },
  {
   "cell_type": "markdown",
   "metadata": {},
   "source": [
    "## Biomass yield"
   ]
  },
  {
   "cell_type": "code",
   "execution_count": 33,
   "metadata": {
    "ExecuteTime": {
     "end_time": "2019-02-28T19:33:47.856272Z",
     "start_time": "2019-02-28T19:33:46.987596Z"
    }
   },
   "outputs": [
    {
     "data": {
      "text/plain": [
       "0.09823718127269784"
      ]
     },
     "execution_count": 33,
     "metadata": {},
     "output_type": "execute_result"
    }
   ],
   "source": [
    "model = model_original.copy()\n",
    "\n",
    "solution = model.optimize()\n",
    "g_dw_biomass_per_mmol_glucose = solution.objective_value / (-1. * solution.fluxes['EX_glc__D_e'])\n",
    "g_dw_biomass_per_mmol_glucose"
   ]
  },
  {
   "cell_type": "markdown",
   "metadata": {
    "heading_collapsed": true
   },
   "source": [
    "## Excercise (10 min)\n",
    "\n",
    "The units of this yield are gDW (Biomass) / mmol (glucose). Convert this number into a mass yield."
   ]
  },
  {
   "cell_type": "markdown",
   "metadata": {},
   "source": [
    "## Growth vs. Product yield"
   ]
  },
  {
   "cell_type": "markdown",
   "metadata": {},
   "source": [
    "## Exercise (30 min)"
   ]
  },
  {
   "cell_type": "markdown",
   "metadata": {},
   "source": [
    "In the previous section we calculated theoretical maximum yields in the absence of competing objectives. But how does product yield vary with growth for example?\n",
    "\n",
    "* Determine molar, mass, and c-mol yields of acetate for the following growth rates (plot them using the code snippet below).\n",
    "* How do the yields looks like for anaerobic conditions?"
   ]
  },
  {
   "cell_type": "code",
   "execution_count": null,
   "metadata": {
    "ExecuteTime": {
     "end_time": "2019-02-28T07:59:58.134742Z",
     "start_time": "2019-02-28T07:59:57.458146Z"
    }
   },
   "outputs": [],
   "source": [
    "model = model_original.copy()\n",
    "\n",
    "growth_rates = [0.0, 0.10915242, 0.21830485, 0.32745727, 0.43660969, 0.54576212, 0.65491454, 0.76406697, 0.87321939, 0.98237181]"
   ]
  },
  {
   "cell_type": "markdown",
   "metadata": {},
   "source": [
    "Fill in your own product fluxes here (needs to be a list)."
   ]
  },
  {
   "cell_type": "code",
   "execution_count": null,
   "metadata": {
    "ExecuteTime": {
     "end_time": "2019-02-28T08:00:01.427918Z",
     "start_time": "2019-02-28T08:00:01.009220Z"
    }
   },
   "outputs": [],
   "source": [
    "product_fluxes = [0] * len(growth_rates) # replace this\n",
    "import matplotlib.pyplot as plt\n",
    "plt.plot(growth_rates, product_fluxes)\n",
    "plt.xlabel('Growth [$h^{-1}$]')\n",
    "plt.ylabel('Product flux [$mmol gDW^{-1} h^{-1}$]')\n",
    "plt.show()"
   ]
  },
  {
   "cell_type": "markdown",
   "metadata": {},
   "source": [
    "Fill in your own product yields here (needs to be a list)."
   ]
  },
  {
   "cell_type": "code",
   "execution_count": null,
   "metadata": {
    "ExecuteTime": {
     "end_time": "2019-02-28T08:00:03.634185Z",
     "start_time": "2019-02-28T08:00:03.456913Z"
    }
   },
   "outputs": [],
   "source": [
    "yields = [0] * len(growth_rates) # replace this\n",
    "plt.plot(growth_rates, yields)\n",
    "plt.xlabel('Growth [$h^{-1}$]')\n",
    "plt.ylabel('Product yield [$mmol(acetate) / mmol(glucose)$]')\n",
    "plt.show()"
   ]
  }
 ],
 "metadata": {
  "anaconda-cloud": {},
  "kernelspec": {
   "display_name": "Cell factory design course",
   "language": "python",
   "name": "cell-factory-design-course"
  },
  "language_info": {
   "codemirror_mode": {
    "name": "ipython",
    "version": 3
   },
   "file_extension": ".py",
   "mimetype": "text/x-python",
   "name": "python",
   "nbconvert_exporter": "python",
   "pygments_lexer": "ipython3",
   "version": "3.6.0"
  },
  "toc": {
   "base_numbering": 1,
   "nav_menu": {},
   "number_sections": true,
   "sideBar": true,
   "skip_h1_title": false,
   "title_cell": "Table of Contents",
   "title_sidebar": "Contents",
   "toc_cell": true,
   "toc_position": {},
   "toc_section_display": true,
   "toc_window_display": false
  },
  "varInspector": {
   "cols": {
    "lenName": 16,
    "lenType": 16,
    "lenVar": 40
   },
   "kernels_config": {
    "python": {
     "delete_cmd_postfix": "",
     "delete_cmd_prefix": "del ",
     "library": "var_list.py",
     "varRefreshCmd": "print(var_dic_list())"
    },
    "r": {
     "delete_cmd_postfix": ") ",
     "delete_cmd_prefix": "rm(",
     "library": "var_list.r",
     "varRefreshCmd": "cat(var_dic_list()) "
    }
   },
   "types_to_exclude": [
    "module",
    "function",
    "builtin_function_or_method",
    "instance",
    "_Feature"
   ],
   "window_display": false
  }
 },
 "nbformat": 4,
 "nbformat_minor": 2
}
