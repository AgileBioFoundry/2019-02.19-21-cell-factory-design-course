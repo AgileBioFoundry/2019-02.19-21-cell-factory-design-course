{
 "cells": [
  {
   "cell_type": "markdown",
   "metadata": {
    "toc": true
   },
   "source": [
    "<h1>Table of Contents<span class=\"tocSkip\"></span></h1>\n",
    "<div class=\"toc\"><ul class=\"toc-item\"><li><span><a href=\"#Flux-variablity-analysis-(Part-1)\" data-toc-modified-id=\"Flux-variablity-analysis-(Part-1)-1\"><span class=\"toc-item-num\">1&nbsp;&nbsp;</span>Flux variablity analysis (Part 1)</a></span><ul class=\"toc-item\"><li><span><a href=\"#How-does-FVA-work?\" data-toc-modified-id=\"How-does-FVA-work?-1.1\"><span class=\"toc-item-num\">1.1&nbsp;&nbsp;</span>How does FVA work?</a></span></li><li><span><a href=\"#What-does-flux-variablity-analysis-do?\" data-toc-modified-id=\"What-does-flux-variablity-analysis-do?-1.2\"><span class=\"toc-item-num\">1.2&nbsp;&nbsp;</span>What does flux variablity analysis do?</a></span></li><li><span><a href=\"#Analyzing-the-E.-coli-core-model\" data-toc-modified-id=\"Analyzing-the-E.-coli-core-model-1.3\"><span class=\"toc-item-num\">1.3&nbsp;&nbsp;</span>Analyzing the <em>E. coli</em> core model</a></span><ul class=\"toc-item\"><li><span><a href=\"#Loopless-version-of-FVA\" data-toc-modified-id=\"Loopless-version-of-FVA-1.3.1\"><span class=\"toc-item-num\">1.3.1&nbsp;&nbsp;</span>Loopless version of FVA</a></span></li></ul></li><li><span><a href=\"#Run-flux-variability-analysis-for-optimally-growing-E.-coli\" data-toc-modified-id=\"Run-flux-variability-analysis-for-optimally-growing-E.-coli-1.4\"><span class=\"toc-item-num\">1.4&nbsp;&nbsp;</span>Run flux variability analysis for optimally growing <em>E. coli</em></a></span></li><li><span><a href=\"#Exercises-(20-min)\" data-toc-modified-id=\"Exercises-(20-min)-1.5\"><span class=\"toc-item-num\">1.5&nbsp;&nbsp;</span>Exercises (20 min)</a></span><ul class=\"toc-item\"><li><span><a href=\"#Exercise-1\" data-toc-modified-id=\"Exercise-1-1.5.1\"><span class=\"toc-item-num\">1.5.1&nbsp;&nbsp;</span>Exercise 1</a></span></li><li><span><a href=\"#Exercise-2\" data-toc-modified-id=\"Exercise-2-1.5.2\"><span class=\"toc-item-num\">1.5.2&nbsp;&nbsp;</span>Exercise 2</a></span></li></ul></li></ul></li><li><span><a href=\"#Phenotypic-phase-plane-analysis-(Part-2)\" data-toc-modified-id=\"Phenotypic-phase-plane-analysis-(Part-2)-2\"><span class=\"toc-item-num\">2&nbsp;&nbsp;</span>Phenotypic phase plane analysis (Part 2)</a></span><ul class=\"toc-item\"><li><span><a href=\"#Exercise-(10-min)\" data-toc-modified-id=\"Exercise-(10-min)-2.1\"><span class=\"toc-item-num\">2.1&nbsp;&nbsp;</span>Exercise (10 min)</a></span></li></ul></li><li><span><a href=\"#References\" data-toc-modified-id=\"References-3\"><span class=\"toc-item-num\">3&nbsp;&nbsp;</span>References</a></span></li></ul></div>"
   ]
  },
  {
   "cell_type": "markdown",
   "metadata": {},
   "source": [
    "# Flux variablity analysis (Part 1)"
   ]
  },
  {
   "cell_type": "markdown",
   "metadata": {},
   "source": [
    "A number of cell factory design algorithms use flux variablity analysis (FVA) as a pre-processing step, so it is worth taking some time to understand the problem it is designed to solve, how it works, and what you can do with it.\n",
    "\n",
    "## How does FVA work?\n",
    "\n",
    "\n",
    "Conceptually, FVA works by looping through each reaction in the network, and solving for the maximum flux and then solving for the minimum flux associated with that reaction. \n",
    "\n",
    "$$\\begin{array}{lll}\n",
    "\\text{for $i$ in $1..n$} & \\\\\n",
    "&    \\underset{\\vec{v}}{\\mbox{minimize}}   & v_{i} \\\\\n",
    "&    \\mbox{subject to}  & S\\cdot \\vec{v} = 0 \\\\\n",
    "&    & 0 \\leq \\vec{v}  \\\\\n",
    "&    & v_1 \\leq 10 \\\\\n",
    "&    \\underset{\\vec{v}}{\\mbox{maximize}}   & v_{i} \\\\\n",
    "&    \\mbox{subject to}  & S\\cdot \\vec{v} = 0 \\\\\n",
    "&    & 0 \\leq \\vec{v}  \\\\\n",
    "&    & v_1 \\leq 10 \\\\\n",
    "\\end{array}$$\n"
   ]
  },
  {
   "cell_type": "code",
   "execution_count": null,
   "metadata": {
    "ExecuteTime": {
     "end_time": "2019-02-28T06:51:18.660538Z",
     "start_time": "2019-02-28T06:51:18.655260Z"
    }
   },
   "outputs": [],
   "source": [
    "import pandas as pd\n",
    "\n",
    "def fva( model ):\n",
    "    fva = {'minimum':{},\n",
    "           'maximum':{}}\n",
    "    for reaction in model.reactions:\n",
    "        with model:\n",
    "            model.objective = {reaction: -1}\n",
    "            fva['minimum'][reaction.id] = model.slim_optimize()\n",
    "        with model:\n",
    "            model.objective = {reaction: 1}\n",
    "            fva['maximum'][reaction.id] =  model.slim_optimize()\n",
    "    return pd.DataFrame(fva)[['minimum','maximum']]"
   ]
  },
  {
   "cell_type": "markdown",
   "metadata": {},
   "source": [
    "## What does flux variablity analysis do?\n",
    "Although each reaction has explicit lower and upper bounds, sometimes the constraint on one reaction imposes implicit constraints on other reactions.  Flux variability analysis is an estimate of these implicit bounds.\n",
    "Why do I say an estimate?  Because the implicit bounds may actually be tighter than what flux variability analysis predicts.  This can be seen in the figure from [[Mahadevan 2003](#references)] \n",
    "![FVA](FVA.gif)\n",
    "\n",
    "As you can see, when there are only two fluxes, FVA forms the tightest rectangle around the actual solution, which is a polygon. FVA forms a parallelopiped around the actual solution, which is a polyhedra in 3 dimensions, and in general, FVA forms a hyperrectangle around the polytope in $n$ dimensions. The work required to find an exact solution, unfortunately, grows exponentially in the number of reactions, but for genome-scale models, FVA is usually good enough."
   ]
  },
  {
   "cell_type": "code",
   "execution_count": null,
   "metadata": {
    "ExecuteTime": {
     "end_time": "2019-02-28T06:52:07.339771Z",
     "start_time": "2019-02-28T06:52:07.299789Z"
    }
   },
   "outputs": [],
   "source": [
    "import escher\n",
    "\n",
    "abc_model =  load_json_model('ABC/ABC_model.json') \n",
    "abc_model.reactions.R_1.upper_bound=10\n",
    "abc_fva = fva(abc_model)\n",
    "display(abc_fva)\n",
    "escher.Builder(map_json='ABC/abc_map.json',\n",
    "               model=abc_model,\n",
    "               reaction_data=abc_fva['maximum'].to_dict(),\n",
    "              ).display_in_notebook()\n",
    "\n",
    "    "
   ]
  },
  {
   "cell_type": "markdown",
   "metadata": {},
   "source": [
    "As you can see, explicitly constraining the uptake rate on $A$ induces implicit constraints on all the other fluxes in the ABC network.  "
   ]
  },
  {
   "cell_type": "markdown",
   "metadata": {},
   "source": [
    "## Analyzing the *E. coli* core model\n",
    "For the rest of this episode, we will be using the *E. coli* core model, which is not as enormous as a full genome-scale model, but is still complex enough to produce nontrival results when analyzed.\n"
   ]
  },
  {
   "cell_type": "code",
   "execution_count": null,
   "metadata": {
    "ExecuteTime": {
     "end_time": "2019-02-28T03:02:14.854245Z",
     "start_time": "2019-02-28T03:02:12.400678Z"
    }
   },
   "outputs": [],
   "source": [
    "import escher\n",
    "from cobra.io import read_sbml_model, load_json_model\n",
    "from cobra.flux_analysis import flux_variability_analysis\n",
    "model = read_sbml_model('data/e_coli_core.xml.gz')"
   ]
  },
  {
   "cell_type": "code",
   "execution_count": null,
   "metadata": {
    "ExecuteTime": {
     "end_time": "2019-02-28T03:02:15.246482Z",
     "start_time": "2019-02-28T03:02:14.866156Z"
    }
   },
   "outputs": [],
   "source": [
    "from plotly.offline import init_notebook_mode\n",
    "init_notebook_mode(connected=True)"
   ]
  },
  {
   "cell_type": "markdown",
   "metadata": {},
   "source": [
    "The algorithm described is $O(2n)$ where $n$ is the number of reactions, but the actual implementation in Cobra is actually much faster [[Gudmundsson 2010](#references)]."
   ]
  },
  {
   "cell_type": "code",
   "execution_count": null,
   "metadata": {
    "ExecuteTime": {
     "end_time": "2019-02-28T06:56:34.350722Z",
     "start_time": "2019-02-28T06:56:34.044429Z"
    }
   },
   "outputs": [],
   "source": [
    "%%time\n",
    "result = flux_variability_analysis(model)"
   ]
  },
  {
   "cell_type": "markdown",
   "metadata": {},
   "source": [
    "Inspect the result."
   ]
  },
  {
   "cell_type": "code",
   "execution_count": null,
   "metadata": {
    "ExecuteTime": {
     "end_time": "2019-02-28T03:08:39.726480Z",
     "start_time": "2019-02-28T03:08:39.576861Z"
    }
   },
   "outputs": [],
   "source": [
    "%time result = fva(model)"
   ]
  },
  {
   "cell_type": "markdown",
   "metadata": {},
   "source": [
    "Get an overview of a few key statistics of the resulting flux ranges."
   ]
  },
  {
   "cell_type": "code",
   "execution_count": null,
   "metadata": {
    "ExecuteTime": {
     "end_time": "2019-02-25T02:29:21.984675Z",
     "start_time": "2019-02-25T02:29:21.954854Z"
    }
   },
   "outputs": [],
   "source": [
    "result.describe()"
   ]
  },
  {
   "cell_type": "markdown",
   "metadata": {},
   "source": [
    "Note that the max maximum flux is 1000.  This doesn't seem realistic. Let's visualize the flux ranges on a pathway map of _E. coli's_ central carbon metabolism."
   ]
  },
  {
   "cell_type": "code",
   "execution_count": null,
   "metadata": {
    "ExecuteTime": {
     "end_time": "2019-02-25T02:30:58.962770Z",
     "start_time": "2019-02-25T02:30:58.914363Z"
    }
   },
   "outputs": [],
   "source": [
    "abs_flux_ranges = abs(result.maximum - result.minimum).to_dict()\n",
    "escher.Builder('e_coli_core.Core metabolism', reaction_data=abs_flux_ranges).display_in_notebook()"
   ]
  },
  {
   "cell_type": "markdown",
   "metadata": {},
   "source": [
    "Those reactions showing up in red are futile cyles."
   ]
  },
  {
   "cell_type": "code",
   "execution_count": null,
   "metadata": {
    "ExecuteTime": {
     "end_time": "2019-02-25T02:31:12.118509Z",
     "start_time": "2019-02-25T02:31:12.110234Z"
    }
   },
   "outputs": [],
   "source": [
    "result[result.maximum > 500]"
   ]
  },
  {
   "cell_type": "markdown",
   "metadata": {},
   "source": [
    "### Loopless version of FVA"
   ]
  },
  {
   "cell_type": "code",
   "execution_count": null,
   "metadata": {
    "ExecuteTime": {
     "end_time": "2019-02-25T02:31:48.409628Z",
     "start_time": "2019-02-25T02:31:47.666576Z"
    }
   },
   "outputs": [],
   "source": [
    "result_no_cycles = flux_variability_analysis(model, loopless=True)\n",
    "result_no_cycles.describe()"
   ]
  },
  {
   "cell_type": "code",
   "execution_count": null,
   "metadata": {
    "ExecuteTime": {
     "end_time": "2019-02-25T02:32:05.516145Z",
     "start_time": "2019-02-25T02:32:05.505340Z"
    }
   },
   "outputs": [],
   "source": [
    "abs_flux_ranges = abs(result_no_cycles.maximum - result_no_cycles.minimum).to_dict()\n",
    "escher.Builder('e_coli_core.Core metabolism', reaction_data=abs_flux_ranges).display_in_notebook()"
   ]
  },
  {
   "cell_type": "markdown",
   "metadata": {},
   "source": [
    "## Run flux variability analysis for optimally growing _E. coli_"
   ]
  },
  {
   "cell_type": "markdown",
   "metadata": {},
   "source": [
    "(Optimal) Flux Balance Analysis solutions are not necessariliy unique. Flux Variablity Analysis is a good tool for estimating the space of alternative optimal solutions."
   ]
  },
  {
   "cell_type": "code",
   "execution_count": null,
   "metadata": {
    "ExecuteTime": {
     "end_time": "2019-02-25T04:33:33.881381Z",
     "start_time": "2019-02-25T04:33:33.874472Z"
    }
   },
   "outputs": [],
   "source": [
    "fba_solution = model.optimize()"
   ]
  },
  {
   "cell_type": "code",
   "execution_count": null,
   "metadata": {
    "ExecuteTime": {
     "end_time": "2019-02-25T04:33:38.146030Z",
     "start_time": "2019-02-25T04:33:38.141529Z"
    }
   },
   "outputs": [],
   "source": [
    "fba_solution.objective_value"
   ]
  },
  {
   "cell_type": "code",
   "execution_count": null,
   "metadata": {
    "ExecuteTime": {
     "end_time": "2019-02-25T04:33:41.997577Z",
     "start_time": "2019-02-25T04:33:41.949076Z"
    }
   },
   "outputs": [],
   "source": [
    "model_optimal = model.copy()"
   ]
  },
  {
   "cell_type": "code",
   "execution_count": null,
   "metadata": {
    "ExecuteTime": {
     "end_time": "2019-02-25T04:33:46.874903Z",
     "start_time": "2019-02-25T04:33:46.871665Z"
    }
   },
   "outputs": [],
   "source": [
    "model_optimal.reactions.BIOMASS_Ecoli_core_w_GAM.lower_bound = fba_solution.objective_value"
   ]
  },
  {
   "cell_type": "code",
   "execution_count": null,
   "metadata": {
    "ExecuteTime": {
     "end_time": "2019-02-25T04:33:50.799328Z",
     "start_time": "2019-02-25T04:33:50.072553Z"
    }
   },
   "outputs": [],
   "source": [
    "result_max_obj = flux_variability_analysis(model_optimal, loopless=True)"
   ]
  },
  {
   "cell_type": "code",
   "execution_count": null,
   "metadata": {
    "ExecuteTime": {
     "end_time": "2019-02-25T04:33:54.724298Z",
     "start_time": "2019-02-25T04:33:54.706895Z"
    }
   },
   "outputs": [],
   "source": [
    "result_max_obj"
   ]
  },
  {
   "cell_type": "markdown",
   "metadata": {},
   "source": [
    "This is actually such a common task that `flux_variability_analysis` provides an option for fixing the objective's flux at a certain percentage."
   ]
  },
  {
   "cell_type": "code",
   "execution_count": null,
   "metadata": {
    "ExecuteTime": {
     "end_time": "2019-02-25T04:34:12.091827Z",
     "start_time": "2019-02-25T04:34:11.366023Z"
    }
   },
   "outputs": [],
   "source": [
    "result_max_obj = flux_variability_analysis(model, fraction_of_optimum=1., loopless=True)"
   ]
  },
  {
   "cell_type": "code",
   "execution_count": null,
   "metadata": {
    "ExecuteTime": {
     "end_time": "2019-02-25T04:34:14.720308Z",
     "start_time": "2019-02-25T04:34:14.702456Z"
    }
   },
   "outputs": [],
   "source": [
    "result_max_obj"
   ]
  },
  {
   "cell_type": "markdown",
   "metadata": {},
   "source": [
    "Turns out that in this small core metabolic model, the optimal solution is actually unique!"
   ]
  },
  {
   "cell_type": "code",
   "execution_count": null,
   "metadata": {
    "ExecuteTime": {
     "end_time": "2019-02-25T05:10:20.165165Z",
     "start_time": "2019-02-25T05:10:20.159295Z"
    }
   },
   "outputs": [],
   "source": [
    "sum(abs(result_max_obj.minimum - result_max_obj.maximum))"
   ]
  },
  {
   "cell_type": "markdown",
   "metadata": {},
   "source": [
    "## Exercises (20 min)"
   ]
  },
  {
   "cell_type": "markdown",
   "metadata": {},
   "source": [
    "### Exercise 1"
   ]
  },
  {
   "cell_type": "markdown",
   "metadata": {},
   "source": [
    "Explore how relaxing the constraint on the growth rate affects the solution space:\n",
    "1. Modify the code to explore flux ranges for $\\mu \\gt 0.7 \\ h^{-1}$ \n",
    "1. Plot the sum of flux ranges over a range of percentages."
   ]
  },
  {
   "cell_type": "markdown",
   "metadata": {},
   "source": [
    "### Exercise 2"
   ]
  },
  {
   "cell_type": "markdown",
   "metadata": {},
   "source": [
    "Using FVA, determine all blocked reactions ($v = 0$) in the model."
   ]
  },
  {
   "cell_type": "markdown",
   "metadata": {},
   "source": [
    "# Phenotypic phase plane analysis (Part 2)"
   ]
  },
  {
   "cell_type": "markdown",
   "metadata": {},
   "source": [
    "Load a few packages. Cobrapy implements phenotypic phase plane calculation as well but the cameo version comes with better plotting capabilities."
   ]
  },
  {
   "cell_type": "code",
   "execution_count": null,
   "metadata": {
    "ExecuteTime": {
     "end_time": "2019-02-28T06:58:50.053451Z",
     "start_time": "2019-02-28T06:58:50.015663Z"
    }
   },
   "outputs": [],
   "source": [
    "import pandas\n",
    "pandas.options.display.max_rows = 12\n",
    "from cameo.flux_analysis import phenotypic_phase_plane"
   ]
  },
  {
   "cell_type": "markdown",
   "metadata": {},
   "source": [
    "Compute the phenotypic phase plane for growth and acetate secretion."
   ]
  },
  {
   "cell_type": "code",
   "execution_count": null,
   "metadata": {},
   "outputs": [],
   "source": [
    "result = phenotypic_phase_plane(model,\n",
    "                                variables=[model.reactions.BIOMASS_Ecoli_core_w_GAM],\n",
    "                                objective=model.reactions.EX_ac_e)"
   ]
  },
  {
   "cell_type": "markdown",
   "metadata": {},
   "source": [
    "Look at the result in a tabular view."
   ]
  },
  {
   "cell_type": "code",
   "execution_count": null,
   "metadata": {},
   "outputs": [],
   "source": [
    "result.data_frame"
   ]
  },
  {
   "cell_type": "markdown",
   "metadata": {},
   "source": [
    "Plot the phenotypic phase plane showing the flux through the objective."
   ]
  },
  {
   "cell_type": "code",
   "execution_count": null,
   "metadata": {},
   "outputs": [],
   "source": [
    "result.plot()"
   ]
  },
  {
   "cell_type": "markdown",
   "metadata": {},
   "source": [
    "We may also be interested in other parameters such as the carbon yield for output versus input at different growth rates."
   ]
  },
  {
   "cell_type": "code",
   "execution_count": null,
   "metadata": {},
   "outputs": [],
   "source": [
    "result.plot(estimate='c_yield')"
   ]
  },
  {
   "cell_type": "markdown",
   "metadata": {},
   "source": [
    "We can also calculate a three dimensional phenotypic phase plane to compare the influence of aerobic and anaerobic environements."
   ]
  },
  {
   "cell_type": "code",
   "execution_count": null,
   "metadata": {},
   "outputs": [],
   "source": [
    "result_3D = phenotypic_phase_plane(model, variables=[model.reactions.EX_ac_e, model.reactions.EX_o2_e],\n",
    "                                   objective=model.reactions.BIOMASS_Ecoli_core_w_GAM, points=50)"
   ]
  },
  {
   "cell_type": "code",
   "execution_count": null,
   "metadata": {},
   "outputs": [],
   "source": [
    "result_3D.data_frame"
   ]
  },
  {
   "cell_type": "code",
   "execution_count": null,
   "metadata": {},
   "outputs": [],
   "source": [
    "result_3D.plot()"
   ]
  },
  {
   "cell_type": "markdown",
   "metadata": {
    "collapsed": true
   },
   "source": [
    "## Exercise (10 min)\n",
    "\n",
    "* Use `phenotypic_phase_plane` to determine the optimal O2 uptake rate."
   ]
  },
  {
   "cell_type": "markdown",
   "metadata": {},
   "source": [
    "<a id=\"references\"></a>\n",
    "# References\n",
    "\n",
    "* [Mahadevan 2003]: Mahadevan R, Schilling C: [The effects of alternate optimal solutions in constraint-based genome-scale metabolic models](http://www.ncbi.nlm.nih.gov/pubmed/14642354). Metabolic engineering 2003, 5(4):264–276. 10.1016/j.ymben.2003.09.002\n",
    "* [Gudmundsson 2010]: Gudmundsson, S., Thiele, I. Computationally efficient flux variability analysis. BMC Bioinformatics. 11, 489 (2010)."
   ]
  }
 ],
 "metadata": {
  "anaconda-cloud": {},
  "kernelspec": {
   "display_name": "Cell factory design course",
   "language": "python",
   "name": "cell-factory-design-course"
  },
  "language_info": {
   "codemirror_mode": {
    "name": "ipython",
    "version": 3
   },
   "file_extension": ".py",
   "mimetype": "text/x-python",
   "name": "python",
   "nbconvert_exporter": "python",
   "pygments_lexer": "ipython3",
   "version": "3.6.0"
  },
  "toc": {
   "base_numbering": 1,
   "nav_menu": {},
   "number_sections": true,
   "sideBar": true,
   "skip_h1_title": false,
   "title_cell": "Table of Contents",
   "title_sidebar": "Contents",
   "toc_cell": true,
   "toc_position": {},
   "toc_section_display": true,
   "toc_window_display": false
  },
  "varInspector": {
   "cols": {
    "lenName": 16,
    "lenType": 16,
    "lenVar": 40
   },
   "kernels_config": {
    "python": {
     "delete_cmd_postfix": "",
     "delete_cmd_prefix": "del ",
     "library": "var_list.py",
     "varRefreshCmd": "print(var_dic_list())"
    },
    "r": {
     "delete_cmd_postfix": ") ",
     "delete_cmd_prefix": "rm(",
     "library": "var_list.r",
     "varRefreshCmd": "cat(var_dic_list()) "
    }
   },
   "types_to_exclude": [
    "module",
    "function",
    "builtin_function_or_method",
    "instance",
    "_Feature"
   ],
   "window_display": false
  }
 },
 "nbformat": 4,
 "nbformat_minor": 1
}
