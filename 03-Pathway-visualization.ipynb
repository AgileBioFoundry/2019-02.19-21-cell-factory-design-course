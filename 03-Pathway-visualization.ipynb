{
 "cells": [
  {
   "cell_type": "markdown",
   "metadata": {
    "toc": true
   },
   "source": [
    "<h1>Table of Contents<span class=\"tocSkip\"></span></h1>\n",
    "<div class=\"toc\"><ul class=\"toc-item\"><li><span><a href=\"#Metabolic-pathway-maps\" data-toc-modified-id=\"Metabolic-pathway-maps-1\"><span class=\"toc-item-num\">1&nbsp;&nbsp;</span>Metabolic pathway maps</a></span><ul class=\"toc-item\"><li><span><a href=\"#Metabolic-pathway-visualizations-with-Escher\" data-toc-modified-id=\"Metabolic-pathway-visualizations-with-Escher-1.1\"><span class=\"toc-item-num\">1.1&nbsp;&nbsp;</span>Metabolic pathway visualizations with Escher</a></span></li><li><span><a href=\"#Exercise-(15-min)\" data-toc-modified-id=\"Exercise-(15-min)-1.2\"><span class=\"toc-item-num\">1.2&nbsp;&nbsp;</span>Exercise (15 min)</a></span></li></ul></li></ul></div>"
   ]
  },
  {
   "cell_type": "markdown",
   "metadata": {},
   "source": [
    "# Metabolic pathway maps"
   ]
  },
  {
   "cell_type": "markdown",
   "metadata": {},
   "source": [
    "## Metabolic pathway visualizations with Escher"
   ]
  },
  {
   "cell_type": "code",
   "execution_count": null,
   "metadata": {
    "ExecuteTime": {
     "end_time": "2019-02-18T00:54:09.947375Z",
     "start_time": "2019-02-18T00:54:09.666055Z"
    }
   },
   "outputs": [],
   "source": [
    "import escher"
   ]
  },
  {
   "cell_type": "markdown",
   "metadata": {},
   "source": [
    "Display all available maps in escher"
   ]
  },
  {
   "cell_type": "code",
   "execution_count": null,
   "metadata": {
    "ExecuteTime": {
     "end_time": "2019-02-18T00:54:11.840196Z",
     "start_time": "2019-02-18T00:54:11.144219Z"
    },
    "scrolled": true
   },
   "outputs": [],
   "source": [
    "escher.list_available_maps()"
   ]
  },
  {
   "cell_type": "markdown",
   "metadata": {},
   "source": [
    "Display a map _E. coli_ central carbon metabolism."
   ]
  },
  {
   "cell_type": "code",
   "execution_count": null,
   "metadata": {
    "ExecuteTime": {
     "end_time": "2019-02-18T00:54:13.704874Z",
     "start_time": "2019-02-18T00:54:13.673849Z"
    }
   },
   "outputs": [],
   "source": [
    "escher.Builder('e_coli_core.Core metabolism').display_in_notebook()"
   ]
  },
  {
   "cell_type": "markdown",
   "metadata": {},
   "source": [
    "Visualize reaction-centric and/or metabolite-centric data."
   ]
  },
  {
   "cell_type": "code",
   "execution_count": null,
   "metadata": {
    "ExecuteTime": {
     "end_time": "2019-02-18T00:54:16.929098Z",
     "start_time": "2019-02-18T00:54:16.919919Z"
    }
   },
   "outputs": [],
   "source": [
    "escher.Builder('e_coli_core.Core metabolism',\n",
    "               reaction_data={'PGK': 100},\n",
    "               metabolite_data={'ATP': 20}).display_in_notebook()"
   ]
  },
  {
   "cell_type": "markdown",
   "metadata": {
    "collapsed": true
   },
   "source": [
    "## Exercise (15 min)\n",
    "\n",
    "* Solve the _E. coli_ from the previous session and visualize the computed fluxes on the central carbon metabolism map.\n",
    "* Visualize the same flux distribution on another map (a list of available maps can be retrieved by running `escher.list_available_maps()`)"
   ]
  }
 ],
 "metadata": {
  "anaconda-cloud": {},
  "kernelspec": {
   "display_name": "Cell factory design course",
   "language": "python",
   "name": "cell-factory-design-course"
  },
  "language_info": {
   "codemirror_mode": {
    "name": "ipython",
    "version": 3
   },
   "file_extension": ".py",
   "mimetype": "text/x-python",
   "name": "python",
   "nbconvert_exporter": "python",
   "pygments_lexer": "ipython3",
   "version": "3.6.0"
  },
  "toc": {
   "base_numbering": 1,
   "nav_menu": {},
   "number_sections": true,
   "sideBar": true,
   "skip_h1_title": false,
   "title_cell": "Table of Contents",
   "title_sidebar": "Contents",
   "toc_cell": true,
   "toc_position": {},
   "toc_section_display": true,
   "toc_window_display": false
  },
  "varInspector": {
   "cols": {
    "lenName": 16,
    "lenType": 16,
    "lenVar": 40
   },
   "kernels_config": {
    "python": {
     "delete_cmd_postfix": "",
     "delete_cmd_prefix": "del ",
     "library": "var_list.py",
     "varRefreshCmd": "print(var_dic_list())"
    },
    "r": {
     "delete_cmd_postfix": ") ",
     "delete_cmd_prefix": "rm(",
     "library": "var_list.r",
     "varRefreshCmd": "cat(var_dic_list()) "
    }
   },
   "types_to_exclude": [
    "module",
    "function",
    "builtin_function_or_method",
    "instance",
    "_Feature"
   ],
   "window_display": false
  }
 },
 "nbformat": 4,
 "nbformat_minor": 1
}
