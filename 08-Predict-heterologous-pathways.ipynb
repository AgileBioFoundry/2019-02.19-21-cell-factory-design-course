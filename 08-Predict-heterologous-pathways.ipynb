{
 "cells": [
  {
   "cell_type": "markdown",
   "metadata": {
    "toc": true
   },
   "source": [
    "<h1>Table of Contents<span class=\"tocSkip\"></span></h1>\n",
    "<div class=\"toc\"><ul class=\"toc-item\"><li><span><a href=\"#Predict-heterologous-pathways\" data-toc-modified-id=\"Predict-heterologous-pathways-1\"><span class=\"toc-item-num\">1&nbsp;&nbsp;</span>Predict heterologous pathways</a></span><ul class=\"toc-item\"><li><span><a href=\"#Run-the-heterologous-pathway-predictor--on-the-yeast-model-to-produce-vanillin\" data-toc-modified-id=\"Run-the-heterologous-pathway-predictor--on-the-yeast-model-to-produce-vanillin-1.1\"><span class=\"toc-item-num\">1.1&nbsp;&nbsp;</span>Run the heterologous pathway predictor  on the yeast model to produce vanillin</a></span></li><li><span><a href=\"#Exercise-(30-min)\" data-toc-modified-id=\"Exercise-(30-min)-1.2\"><span class=\"toc-item-num\">1.2&nbsp;&nbsp;</span>Exercise (30 min)</a></span></li></ul></li><li><span><a href=\"#References\" data-toc-modified-id=\"References-2\"><span class=\"toc-item-num\">2&nbsp;&nbsp;</span>References</a></span></li></ul></div>"
   ]
  },
  {
   "cell_type": "code",
   "execution_count": 8,
   "metadata": {
    "ExecuteTime": {
     "end_time": "2019-02-28T19:34:14.776661Z",
     "start_time": "2019-02-28T19:34:14.773620Z"
    }
   },
   "outputs": [],
   "source": [
    "from IPython.display import display\n",
    "import re"
   ]
  },
  {
   "cell_type": "markdown",
   "metadata": {},
   "source": [
    "# Predict heterologous pathways \n",
    "\n",
    "Predicting heterologous pathways is an important strategy to generate new viable strains. Because portfolio of available reactions is very large, computer assisted pathway design becomes essential. **Cameo** implements a pathway search algorithm using an universal biochemical reaction database that enumerates the shortest pathways.\n",
    "\n",
    "However, currently this solver really requires CPLEX, [which is free for academics](https://ibm.onthehub.com/WebStore/OfferingDetails.aspx?o=733c3d21-0ce1-e711-80fa-000d3af41938&pmv=00000000-0000-0000-0000-000000000000), but is not open source.\n",
    "\n",
    "Once you obtain a license for CPLEX, then follow the [instructions in the setup](https://agilebiofoundry.github.io/2019-02.26-28-cell-factory-design-course/setup/)"
   ]
  },
  {
   "cell_type": "code",
   "execution_count": null,
   "metadata": {},
   "outputs": [],
   "source": [
    "## Making sure you have cplex installed\n",
    "\n",
    "#import cplex"
   ]
  },
  {
   "cell_type": "code",
   "execution_count": 9,
   "metadata": {
    "ExecuteTime": {
     "end_time": "2019-02-28T19:36:05.854502Z",
     "start_time": "2019-02-28T19:36:05.851150Z"
    }
   },
   "outputs": [],
   "source": [
    "import re\n",
    "from cobra.io import read_sbml_model\n",
    "from cameo.strain_design import pathway_prediction"
   ]
  },
  {
   "cell_type": "markdown",
   "metadata": {},
   "source": [
    "## Run the heterologous pathway predictor  on the yeast model to produce vanillin"
   ]
  },
  {
   "cell_type": "code",
   "execution_count": 10,
   "metadata": {
    "ExecuteTime": {
     "end_time": "2019-02-28T19:36:39.027107Z",
     "start_time": "2019-02-28T19:36:36.544521Z"
    }
   },
   "outputs": [],
   "source": [
    "model = read_sbml_model('data/iMM904.xml.gz')"
   ]
  },
  {
   "cell_type": "markdown",
   "metadata": {},
   "source": [
    "By default, the heterologous pathway predictor will use a universal database of reactions compiled by [MetaNetX](https://www.metanetx.org/mnxdoc/mnxref.html)[[1](#references)]"
   ]
  },
  {
   "cell_type": "code",
   "execution_count": 11,
   "metadata": {
    "ExecuteTime": {
     "end_time": "2019-02-28T19:39:14.147023Z",
     "start_time": "2019-02-28T19:37:47.344618Z"
    },
    "scrolled": false
   },
   "outputs": [
    {
     "data": {
      "text/html": [
       "<span>Pathway 1</span>"
      ],
      "text/plain": [
       "<IPython.core.display.HTML object>"
      ]
     },
     "metadata": {},
     "output_type": "display_data"
    },
    {
     "data": {
      "text/html": [
       "<div>\n",
       "<style scoped>\n",
       "    .dataframe tbody tr th:only-of-type {\n",
       "        vertical-align: middle;\n",
       "    }\n",
       "\n",
       "    .dataframe tbody tr th {\n",
       "        vertical-align: top;\n",
       "    }\n",
       "\n",
       "    .dataframe thead th {\n",
       "        text-align: right;\n",
       "    }\n",
       "</style>\n",
       "<table border=\"1\" class=\"dataframe\">\n",
       "  <thead>\n",
       "    <tr style=\"text-align: right;\">\n",
       "      <th></th>\n",
       "      <th>equation</th>\n",
       "      <th>lower_bound</th>\n",
       "      <th>upper_bound</th>\n",
       "    </tr>\n",
       "  </thead>\n",
       "  <tbody>\n",
       "    <tr>\n",
       "      <th>MNXR5340</th>\n",
       "      <td>H(+) + NADH + O2 + vanillate &lt;=&gt; H2O + 3,4-dih...</td>\n",
       "      <td>-1000</td>\n",
       "      <td>1000</td>\n",
       "    </tr>\n",
       "    <tr>\n",
       "      <th>MNXR5336</th>\n",
       "      <td>2.0 H(+) + NADH + vanillate &lt;=&gt; H2O + vanillin...</td>\n",
       "      <td>-1000</td>\n",
       "      <td>1000</td>\n",
       "    </tr>\n",
       "    <tr>\n",
       "      <th>MNXR68718</th>\n",
       "      <td>H2O + 3,4-dihydroxybenzoate &lt;=&gt; 3-dehydroshiki...</td>\n",
       "      <td>-1000</td>\n",
       "      <td>1000</td>\n",
       "    </tr>\n",
       "  </tbody>\n",
       "</table>\n",
       "</div>"
      ],
      "text/plain": [
       "                                                    equation  lower_bound  \\\n",
       "MNXR5340   H(+) + NADH + O2 + vanillate <=> H2O + 3,4-dih...        -1000   \n",
       "MNXR5336   2.0 H(+) + NADH + vanillate <=> H2O + vanillin...        -1000   \n",
       "MNXR68718  H2O + 3,4-dihydroxybenzoate <=> 3-dehydroshiki...        -1000   \n",
       "\n",
       "           upper_bound  \n",
       "MNXR5340          1000  \n",
       "MNXR5336          1000  \n",
       "MNXR68718         1000  "
      ]
     },
     "metadata": {},
     "output_type": "display_data"
    },
    {
     "data": {
      "text/html": [
       "<span>Pathway 2</span>"
      ],
      "text/plain": [
       "<IPython.core.display.HTML object>"
      ]
     },
     "metadata": {},
     "output_type": "display_data"
    },
    {
     "data": {
      "text/html": [
       "<div>\n",
       "<style scoped>\n",
       "    .dataframe tbody tr th:only-of-type {\n",
       "        vertical-align: middle;\n",
       "    }\n",
       "\n",
       "    .dataframe tbody tr th {\n",
       "        vertical-align: top;\n",
       "    }\n",
       "\n",
       "    .dataframe thead th {\n",
       "        text-align: right;\n",
       "    }\n",
       "</style>\n",
       "<table border=\"1\" class=\"dataframe\">\n",
       "  <thead>\n",
       "    <tr style=\"text-align: right;\">\n",
       "      <th></th>\n",
       "      <th>equation</th>\n",
       "      <th>lower_bound</th>\n",
       "      <th>upper_bound</th>\n",
       "    </tr>\n",
       "  </thead>\n",
       "  <tbody>\n",
       "    <tr>\n",
       "      <th>MNXR5340</th>\n",
       "      <td>H(+) + NADH + O2 + vanillate &lt;=&gt; H2O + 3,4-dih...</td>\n",
       "      <td>-1000</td>\n",
       "      <td>1000</td>\n",
       "    </tr>\n",
       "    <tr>\n",
       "      <th>MNXR5336</th>\n",
       "      <td>2.0 H(+) + NADH + vanillate &lt;=&gt; H2O + vanillin...</td>\n",
       "      <td>-1000</td>\n",
       "      <td>1000</td>\n",
       "    </tr>\n",
       "    <tr>\n",
       "      <th>MNXR230</th>\n",
       "      <td>H(+) + 4-hydroxybenzoate + O2 + NADPH &lt;=&gt; H2O ...</td>\n",
       "      <td>-1000</td>\n",
       "      <td>1000</td>\n",
       "    </tr>\n",
       "  </tbody>\n",
       "</table>\n",
       "</div>"
      ],
      "text/plain": [
       "                                                   equation  lower_bound  \\\n",
       "MNXR5340  H(+) + NADH + O2 + vanillate <=> H2O + 3,4-dih...        -1000   \n",
       "MNXR5336  2.0 H(+) + NADH + vanillate <=> H2O + vanillin...        -1000   \n",
       "MNXR230   H(+) + 4-hydroxybenzoate + O2 + NADPH <=> H2O ...        -1000   \n",
       "\n",
       "          upper_bound  \n",
       "MNXR5340         1000  \n",
       "MNXR5336         1000  \n",
       "MNXR230          1000  "
      ]
     },
     "metadata": {},
     "output_type": "display_data"
    },
    {
     "data": {
      "text/html": [
       "<span>Pathway 3</span>"
      ],
      "text/plain": [
       "<IPython.core.display.HTML object>"
      ]
     },
     "metadata": {},
     "output_type": "display_data"
    },
    {
     "data": {
      "text/html": [
       "<div>\n",
       "<style scoped>\n",
       "    .dataframe tbody tr th:only-of-type {\n",
       "        vertical-align: middle;\n",
       "    }\n",
       "\n",
       "    .dataframe tbody tr th {\n",
       "        vertical-align: top;\n",
       "    }\n",
       "\n",
       "    .dataframe thead th {\n",
       "        text-align: right;\n",
       "    }\n",
       "</style>\n",
       "<table border=\"1\" class=\"dataframe\">\n",
       "  <thead>\n",
       "    <tr style=\"text-align: right;\">\n",
       "      <th></th>\n",
       "      <th>equation</th>\n",
       "      <th>lower_bound</th>\n",
       "      <th>upper_bound</th>\n",
       "    </tr>\n",
       "  </thead>\n",
       "  <tbody>\n",
       "    <tr>\n",
       "      <th>MNXR4008</th>\n",
       "      <td>H(+) + 3-oxoadipate &lt;=&gt; H2O + 5-oxo-4,5-dihydr...</td>\n",
       "      <td>-1000</td>\n",
       "      <td>1000</td>\n",
       "    </tr>\n",
       "    <tr>\n",
       "      <th>MNXR184</th>\n",
       "      <td>3-oxoadipyl-CoA + succinate &lt;=&gt; 3-oxoadipate +...</td>\n",
       "      <td>-1000</td>\n",
       "      <td>1000</td>\n",
       "    </tr>\n",
       "    <tr>\n",
       "      <th>MNXR5340</th>\n",
       "      <td>H(+) + NADH + O2 + vanillate &lt;=&gt; H2O + 3,4-dih...</td>\n",
       "      <td>-1000</td>\n",
       "      <td>1000</td>\n",
       "    </tr>\n",
       "    <tr>\n",
       "      <th>MNXR5336</th>\n",
       "      <td>2.0 H(+) + NADH + vanillate &lt;=&gt; H2O + vanillin...</td>\n",
       "      <td>-1000</td>\n",
       "      <td>1000</td>\n",
       "    </tr>\n",
       "    <tr>\n",
       "      <th>MNXR228</th>\n",
       "      <td>CO2 + 5-oxo-4,5-dihydro-2-furylacetate &lt;=&gt; H(+...</td>\n",
       "      <td>-1000</td>\n",
       "      <td>1000</td>\n",
       "    </tr>\n",
       "    <tr>\n",
       "      <th>MNXR4119</th>\n",
       "      <td>2.0 H(+) + 3-carboxy-cis,cis-muconate &lt;=&gt; 3,4-...</td>\n",
       "      <td>-1000</td>\n",
       "      <td>1000</td>\n",
       "    </tr>\n",
       "    <tr>\n",
       "      <th>MNXR209</th>\n",
       "      <td>CoA + 3-oxoadipyl-CoA &lt;=&gt; acetyl-CoA + succiny...</td>\n",
       "      <td>-1000</td>\n",
       "      <td>1000</td>\n",
       "    </tr>\n",
       "    <tr>\n",
       "      <th>MNXR3655</th>\n",
       "      <td>2-(carboxymethyl)-5-oxo-2,5-dihydro-2-furoate ...</td>\n",
       "      <td>-1000</td>\n",
       "      <td>1000</td>\n",
       "    </tr>\n",
       "  </tbody>\n",
       "</table>\n",
       "</div>"
      ],
      "text/plain": [
       "                                                   equation  lower_bound  \\\n",
       "MNXR4008  H(+) + 3-oxoadipate <=> H2O + 5-oxo-4,5-dihydr...        -1000   \n",
       "MNXR184   3-oxoadipyl-CoA + succinate <=> 3-oxoadipate +...        -1000   \n",
       "MNXR5340  H(+) + NADH + O2 + vanillate <=> H2O + 3,4-dih...        -1000   \n",
       "MNXR5336  2.0 H(+) + NADH + vanillate <=> H2O + vanillin...        -1000   \n",
       "MNXR228   CO2 + 5-oxo-4,5-dihydro-2-furylacetate <=> H(+...        -1000   \n",
       "MNXR4119  2.0 H(+) + 3-carboxy-cis,cis-muconate <=> 3,4-...        -1000   \n",
       "MNXR209   CoA + 3-oxoadipyl-CoA <=> acetyl-CoA + succiny...        -1000   \n",
       "MNXR3655  2-(carboxymethyl)-5-oxo-2,5-dihydro-2-furoate ...        -1000   \n",
       "\n",
       "          upper_bound  \n",
       "MNXR4008         1000  \n",
       "MNXR184          1000  \n",
       "MNXR5340         1000  \n",
       "MNXR5336         1000  \n",
       "MNXR228          1000  \n",
       "MNXR4119         1000  \n",
       "MNXR209          1000  \n",
       "MNXR3655         1000  "
      ]
     },
     "metadata": {},
     "output_type": "display_data"
    },
    {
     "name": "stdout",
     "output_type": "stream",
     "text": [
      "This is the format of your plot grid:\n",
      "[ (1,1) x1,y1 ]  [ (1,2) x2,y2 ]\n",
      "[ (2,1) x3,y3 ]  [ (2,2) x4,y4 ]\n",
      "\n"
     ]
    },
    {
     "data": {
      "application/vnd.plotly.v1+json": {
       "data": [
        {
         "fill": "toself",
         "fillcolor": "#B3E2CD",
         "hoverinfo": "none",
         "marker": {
          "line": {
           "color": "#B3E2CD"
          },
          "opacity": 0.3
         },
         "mode": "lines",
         "name": "WT",
         "opacity": 0.3,
         "type": "scatter",
         "x": [
          0,
          0.015150826510738773,
          0.030301653021477547,
          0.04545247953221632,
          0.060603306042955093,
          0.07575413255369387,
          0.09090495906443263,
          0.10605578557517141,
          0.12120661208591019,
          0.13635743859664895,
          0.15150826510738774,
          0.1666590916181265,
          0.18180991812886527,
          0.19696074463960406,
          0.21211157115034282,
          0.2272623976610816,
          0.24241322417182037,
          0.25756405068255916,
          0.2727148771932979,
          0.2878657037040367,
          0.2878657037040367,
          0.2727148771932979,
          0.25756405068255916,
          0.24241322417182037,
          0.2272623976610816,
          0.21211157115034282,
          0.19696074463960406,
          0.18180991812886527,
          0.1666590916181265,
          0.15150826510738774,
          0.13635743859664895,
          0.12120661208591019,
          0.10605578557517141,
          0.09090495906443263,
          0.07575413255369387,
          0.060603306042955093,
          0.04545247953221632,
          0.030301653021477547,
          0.015150826510738773,
          0,
          0,
          0
         ],
         "xaxis": "x1",
         "y": [
          0,
          0,
          0,
          0,
          0,
          0,
          0,
          0,
          0,
          0,
          0,
          0,
          0,
          0,
          0,
          0,
          0,
          0,
          0,
          0,
          -2.328711729868291e-12,
          0.17882452650679692,
          0.35630926858925793,
          0.5337940106716736,
          0.7112787527541303,
          0.8887634948365642,
          1.0662482369190247,
          1.2437329790014569,
          1.421217721083873,
          1.5987024631663118,
          1.7761872052487608,
          1.9536719473311883,
          2.1311566894136433,
          2.308641431496082,
          2.4861261735785365,
          2.6636109156609455,
          2.8410956577434066,
          3.0185803998258423,
          3.194746719000874,
          3.3684210526315774,
          0,
          3.3684210526315774
         ],
         "yaxis": "y1"
        },
        {
         "fill": "toself",
         "fillcolor": "#B3E2CD",
         "hoverinfo": "none",
         "marker": {
          "line": {
           "color": "#B3E2CD"
          },
          "opacity": 0.3
         },
         "mode": "lines",
         "name": "WT",
         "opacity": 0.3,
         "type": "scatter",
         "x": [
          0,
          0.015150826510737757,
          0.030301653021475514,
          0.04545247953221327,
          0.06060330604295103,
          0.07575413255368879,
          0.09090495906442654,
          0.10605578557516429,
          0.12120661208590205,
          0.13635743859663982,
          0.15150826510737758,
          0.16665909161811532,
          0.18180991812885308,
          0.19696074463959085,
          0.21211157115032858,
          0.22726239766106635,
          0.2424132241718041,
          0.25756405068254185,
          0.27271487719327964,
          0.2878657037040174,
          0.2878657037040174,
          0.27271487719327964,
          0.25756405068254185,
          0.2424132241718041,
          0.22726239766106635,
          0.21211157115032858,
          0.19696074463959085,
          0.18180991812885308,
          0.16665909161811532,
          0.15150826510737758,
          0.13635743859663982,
          0.12120661208590205,
          0.10605578557516429,
          0.09090495906442654,
          0.07575413255368879,
          0.06060330604295103,
          0.04545247953221327,
          0.030301653021475514,
          0.015150826510737757,
          0,
          0,
          0
         ],
         "xaxis": "x2",
         "y": [
          1.1102230246251557e-16,
          0,
          1.7607443281164592e-15,
          -9.71445146547012e-16,
          -3.608224830031759e-16,
          -6.869504964868156e-16,
          0,
          0,
          0,
          1.4709501551962043e-16,
          0,
          0,
          0,
          0,
          0,
          1.113589495110334e-15,
          0,
          0,
          0,
          0,
          1.2409411988594374e-14,
          0.105870015006215,
          0.21094683346436144,
          0.3160236519225108,
          0.42078896773671753,
          0.5253460487659434,
          0.6299031297951746,
          0.7342299103776062,
          0.8354770791226922,
          0.9329929217191621,
          1.03022617392594,
          1.1274594261327135,
          1.224692678339511,
          1.3219259305462894,
          1.419159182753072,
          1.5163924349598819,
          1.613625687166634,
          1.710858939373405,
          1.8080921915801924,
          1.9053254437869795,
          1.1102230246251557e-16,
          1.9053254437869795
         ],
         "yaxis": "y2"
        },
        {
         "fill": "toself",
         "fillcolor": "#B3E2CD",
         "hoverinfo": "none",
         "marker": {
          "line": {
           "color": "#B3E2CD"
          },
          "opacity": 0.3
         },
         "mode": "lines",
         "name": "WT",
         "opacity": 0.3,
         "type": "scatter",
         "x": [
          0,
          0.015153230613312526,
          0.030306461226625052,
          0.045459691839937574,
          0.060612922453250104,
          0.07576615306656263,
          0.09091938367987515,
          0.10607261429318768,
          0.12122584490650021,
          0.13637907551981274,
          0.15153230613312527,
          0.1666855367464378,
          0.1818387673597503,
          0.19699199797306283,
          0.21214522858637536,
          0.22729845919968789,
          0.24245168981300041,
          0.25760492042631294,
          0.2727581510396255,
          0.287911381652938,
          0.287911381652938,
          0.2727581510396255,
          0.25760492042631294,
          0.24245168981300041,
          0.22729845919968789,
          0.21214522858637536,
          0.19699199797306283,
          0.1818387673597503,
          0.1666855367464378,
          0.15153230613312527,
          0.13637907551981274,
          0.12122584490650021,
          0.10607261429318768,
          0.09091938367987515,
          0.07576615306656263,
          0.060612922453250104,
          0.045459691839937574,
          0.030306461226625052,
          0.015153230613312526,
          0,
          0,
          0
         ],
         "xaxis": "x3",
         "y": [
          0,
          0,
          0,
          0,
          0,
          0,
          0,
          0,
          0,
          0,
          0,
          0,
          0,
          0,
          0,
          0,
          0,
          0,
          0,
          0.0014885018430856644,
          0.0014885018431853624,
          0.32984928320087314,
          0.6582100645585025,
          0.9781711038579768,
          1.2665499729736904,
          1.5549288420892706,
          1.8433077112050316,
          2.131686580320639,
          2.420065449436391,
          2.708444318552043,
          2.9968231876676885,
          3.2852020567834077,
          3.5735809258990368,
          3.861959795014726,
          4.150338664130371,
          4.4387175332460815,
          4.727096402361728,
          5.015475271477389,
          5.303854140593079,
          5.592233009708738,
          0,
          5.592233009708738
         ],
         "yaxis": "y3"
        }
       ],
       "layout": {
        "annotations": [
         {
          "font": {
           "size": 16
          },
          "showarrow": false,
          "text": "Pathway 1",
          "x": 0.225,
          "xanchor": "center",
          "xref": "paper",
          "y": 1,
          "yanchor": "bottom",
          "yref": "paper"
         },
         {
          "font": {
           "size": 16
          },
          "showarrow": false,
          "text": "Pathway 2",
          "x": 0.775,
          "xanchor": "center",
          "xref": "paper",
          "y": 1,
          "yanchor": "bottom",
          "yref": "paper"
         },
         {
          "font": {
           "size": 16
          },
          "showarrow": false,
          "text": "Pathway 3",
          "x": 0.225,
          "xanchor": "center",
          "xref": "paper",
          "y": 0.375,
          "yanchor": "bottom",
          "yref": "paper"
         }
        ],
        "height": null,
        "width": null,
        "xaxis1": {
         "anchor": "y1",
         "domain": [
          0,
          0.45
         ]
        },
        "xaxis2": {
         "anchor": "y2",
         "domain": [
          0.55,
          1
         ]
        },
        "xaxis3": {
         "anchor": "y3",
         "domain": [
          0,
          0.45
         ]
        },
        "xaxis4": {
         "anchor": "y4",
         "domain": [
          0.55,
          1
         ]
        },
        "yaxis1": {
         "anchor": "x1",
         "domain": [
          0.625,
          1
         ]
        },
        "yaxis2": {
         "anchor": "x2",
         "domain": [
          0.625,
          1
         ]
        },
        "yaxis3": {
         "anchor": "x3",
         "domain": [
          0,
          0.375
         ]
        },
        "yaxis4": {
         "anchor": "x4",
         "domain": [
          0,
          0.375
         ]
        }
       }
      },
      "text/html": [
       "<div id=\"d6255134-7501-4541-88ed-6924281723a6\" style=\"height: None; width: None;\" class=\"plotly-graph-div\"></div><script type=\"text/javascript\">require([\"plotly\"], function(Plotly) { window.PLOTLYENV=window.PLOTLYENV || {};window.PLOTLYENV.BASE_URL=\"https://plot.ly\";Plotly.newPlot(\"d6255134-7501-4541-88ed-6924281723a6\", [{\"type\": \"scatter\", \"x\": [0.0, 0.015150826510738773, 0.030301653021477547, 0.04545247953221632, 0.060603306042955093, 0.07575413255369387, 0.09090495906443263, 0.10605578557517141, 0.12120661208591019, 0.13635743859664895, 0.15150826510738774, 0.1666590916181265, 0.18180991812886527, 0.19696074463960406, 0.21211157115034282, 0.2272623976610816, 0.24241322417182037, 0.25756405068255916, 0.2727148771932979, 0.2878657037040367, 0.2878657037040367, 0.2727148771932979, 0.25756405068255916, 0.24241322417182037, 0.2272623976610816, 0.21211157115034282, 0.19696074463960406, 0.18180991812886527, 0.1666590916181265, 0.15150826510738774, 0.13635743859664895, 0.12120661208591019, 0.10605578557517141, 0.09090495906443263, 0.07575413255369387, 0.060603306042955093, 0.04545247953221632, 0.030301653021477547, 0.015150826510738773, 0.0, 0.0, 0.0], \"y\": [0.0, 0.0, 0.0, 0.0, 0.0, 0.0, 0.0, 0.0, 0.0, 0.0, 0.0, 0.0, 0.0, 0.0, 0.0, 0.0, 0.0, 0.0, 0.0, 0.0, -2.328711729868291e-12, 0.17882452650679692, 0.35630926858925793, 0.5337940106716736, 0.7112787527541303, 0.8887634948365642, 1.0662482369190247, 1.2437329790014569, 1.421217721083873, 1.5987024631663118, 1.7761872052487608, 1.9536719473311883, 2.1311566894136433, 2.308641431496082, 2.4861261735785365, 2.6636109156609455, 2.8410956577434066, 3.0185803998258423, 3.194746719000874, 3.3684210526315774, 0.0, 3.3684210526315774], \"mode\": \"lines\", \"name\": \"WT\", \"hoverinfo\": \"none\", \"fillcolor\": \"#B3E2CD\", \"opacity\": 0.3, \"fill\": \"toself\", \"marker\": {\"line\": {\"color\": \"#B3E2CD\"}, \"opacity\": 0.3}, \"xaxis\": \"x1\", \"yaxis\": \"y1\"}, {\"type\": \"scatter\", \"x\": [0.0, 0.015150826510737757, 0.030301653021475514, 0.04545247953221327, 0.06060330604295103, 0.07575413255368879, 0.09090495906442654, 0.10605578557516429, 0.12120661208590205, 0.13635743859663982, 0.15150826510737758, 0.16665909161811532, 0.18180991812885308, 0.19696074463959085, 0.21211157115032858, 0.22726239766106635, 0.2424132241718041, 0.25756405068254185, 0.27271487719327964, 0.2878657037040174, 0.2878657037040174, 0.27271487719327964, 0.25756405068254185, 0.2424132241718041, 0.22726239766106635, 0.21211157115032858, 0.19696074463959085, 0.18180991812885308, 0.16665909161811532, 0.15150826510737758, 0.13635743859663982, 0.12120661208590205, 0.10605578557516429, 0.09090495906442654, 0.07575413255368879, 0.06060330604295103, 0.04545247953221327, 0.030301653021475514, 0.015150826510737757, 0.0, 0.0, 0.0], \"y\": [1.1102230246251557e-16, 0.0, 1.7607443281164592e-15, -9.71445146547012e-16, -3.608224830031759e-16, -6.869504964868156e-16, 0.0, 0.0, 0.0, 1.4709501551962043e-16, 0.0, 0.0, 0.0, 0.0, 0.0, 1.113589495110334e-15, 0.0, 0.0, 0.0, 0.0, 1.2409411988594374e-14, 0.105870015006215, 0.21094683346436144, 0.3160236519225108, 0.42078896773671753, 0.5253460487659434, 0.6299031297951746, 0.7342299103776062, 0.8354770791226922, 0.9329929217191621, 1.03022617392594, 1.1274594261327135, 1.224692678339511, 1.3219259305462894, 1.419159182753072, 1.5163924349598819, 1.613625687166634, 1.710858939373405, 1.8080921915801924, 1.9053254437869795, 1.1102230246251557e-16, 1.9053254437869795], \"mode\": \"lines\", \"name\": \"WT\", \"hoverinfo\": \"none\", \"fillcolor\": \"#B3E2CD\", \"opacity\": 0.3, \"fill\": \"toself\", \"marker\": {\"line\": {\"color\": \"#B3E2CD\"}, \"opacity\": 0.3}, \"xaxis\": \"x2\", \"yaxis\": \"y2\"}, {\"type\": \"scatter\", \"x\": [0.0, 0.015153230613312526, 0.030306461226625052, 0.045459691839937574, 0.060612922453250104, 0.07576615306656263, 0.09091938367987515, 0.10607261429318768, 0.12122584490650021, 0.13637907551981274, 0.15153230613312527, 0.1666855367464378, 0.1818387673597503, 0.19699199797306283, 0.21214522858637536, 0.22729845919968789, 0.24245168981300041, 0.25760492042631294, 0.2727581510396255, 0.287911381652938, 0.287911381652938, 0.2727581510396255, 0.25760492042631294, 0.24245168981300041, 0.22729845919968789, 0.21214522858637536, 0.19699199797306283, 0.1818387673597503, 0.1666855367464378, 0.15153230613312527, 0.13637907551981274, 0.12122584490650021, 0.10607261429318768, 0.09091938367987515, 0.07576615306656263, 0.060612922453250104, 0.045459691839937574, 0.030306461226625052, 0.015153230613312526, 0.0, 0.0, 0.0], \"y\": [0.0, 0.0, 0.0, 0.0, 0.0, 0.0, 0.0, 0.0, 0.0, 0.0, 0.0, 0.0, 0.0, 0.0, 0.0, 0.0, 0.0, 0.0, 0.0, 0.0014885018430856644, 0.0014885018431853624, 0.32984928320087314, 0.6582100645585025, 0.9781711038579768, 1.2665499729736904, 1.5549288420892706, 1.8433077112050316, 2.131686580320639, 2.420065449436391, 2.708444318552043, 2.9968231876676885, 3.2852020567834077, 3.5735809258990368, 3.861959795014726, 4.150338664130371, 4.4387175332460815, 4.727096402361728, 5.015475271477389, 5.303854140593079, 5.592233009708738, 0.0, 5.592233009708738], \"mode\": \"lines\", \"name\": \"WT\", \"hoverinfo\": \"none\", \"fillcolor\": \"#B3E2CD\", \"opacity\": 0.3, \"fill\": \"toself\", \"marker\": {\"line\": {\"color\": \"#B3E2CD\"}, \"opacity\": 0.3}, \"xaxis\": \"x3\", \"yaxis\": \"y3\"}], {\"xaxis1\": {\"domain\": [0.0, 0.45], \"anchor\": \"y1\"}, \"yaxis1\": {\"domain\": [0.625, 1.0], \"anchor\": \"x1\"}, \"xaxis2\": {\"domain\": [0.55, 1.0], \"anchor\": \"y2\"}, \"yaxis2\": {\"domain\": [0.625, 1.0], \"anchor\": \"x2\"}, \"xaxis3\": {\"domain\": [0.0, 0.45], \"anchor\": \"y3\"}, \"yaxis3\": {\"domain\": [0.0, 0.375], \"anchor\": \"x3\"}, \"xaxis4\": {\"domain\": [0.55, 1.0], \"anchor\": \"y4\"}, \"yaxis4\": {\"domain\": [0.0, 0.375], \"anchor\": \"x4\"}, \"annotations\": [{\"y\": 1.0, \"xref\": \"paper\", \"x\": 0.225, \"yref\": \"paper\", \"text\": \"Pathway 1\", \"showarrow\": false, \"font\": {\"size\": 16}, \"xanchor\": \"center\", \"yanchor\": \"bottom\"}, {\"y\": 1.0, \"xref\": \"paper\", \"x\": 0.775, \"yref\": \"paper\", \"text\": \"Pathway 2\", \"showarrow\": false, \"font\": {\"size\": 16}, \"xanchor\": \"center\", \"yanchor\": \"bottom\"}, {\"y\": 0.375, \"xref\": \"paper\", \"x\": 0.225, \"yref\": \"paper\", \"text\": \"Pathway 3\", \"showarrow\": false, \"font\": {\"size\": 16}, \"xanchor\": \"center\", \"yanchor\": \"bottom\"}], \"width\": null, \"height\": null}, {\"showLink\": true, \"linkText\": \"Export to plot.ly\"})});</script>"
      ],
      "text/vnd.plotly.v1+html": [
       "<div id=\"d6255134-7501-4541-88ed-6924281723a6\" style=\"height: None; width: None;\" class=\"plotly-graph-div\"></div><script type=\"text/javascript\">require([\"plotly\"], function(Plotly) { window.PLOTLYENV=window.PLOTLYENV || {};window.PLOTLYENV.BASE_URL=\"https://plot.ly\";Plotly.newPlot(\"d6255134-7501-4541-88ed-6924281723a6\", [{\"type\": \"scatter\", \"x\": [0.0, 0.015150826510738773, 0.030301653021477547, 0.04545247953221632, 0.060603306042955093, 0.07575413255369387, 0.09090495906443263, 0.10605578557517141, 0.12120661208591019, 0.13635743859664895, 0.15150826510738774, 0.1666590916181265, 0.18180991812886527, 0.19696074463960406, 0.21211157115034282, 0.2272623976610816, 0.24241322417182037, 0.25756405068255916, 0.2727148771932979, 0.2878657037040367, 0.2878657037040367, 0.2727148771932979, 0.25756405068255916, 0.24241322417182037, 0.2272623976610816, 0.21211157115034282, 0.19696074463960406, 0.18180991812886527, 0.1666590916181265, 0.15150826510738774, 0.13635743859664895, 0.12120661208591019, 0.10605578557517141, 0.09090495906443263, 0.07575413255369387, 0.060603306042955093, 0.04545247953221632, 0.030301653021477547, 0.015150826510738773, 0.0, 0.0, 0.0], \"y\": [0.0, 0.0, 0.0, 0.0, 0.0, 0.0, 0.0, 0.0, 0.0, 0.0, 0.0, 0.0, 0.0, 0.0, 0.0, 0.0, 0.0, 0.0, 0.0, 0.0, -2.328711729868291e-12, 0.17882452650679692, 0.35630926858925793, 0.5337940106716736, 0.7112787527541303, 0.8887634948365642, 1.0662482369190247, 1.2437329790014569, 1.421217721083873, 1.5987024631663118, 1.7761872052487608, 1.9536719473311883, 2.1311566894136433, 2.308641431496082, 2.4861261735785365, 2.6636109156609455, 2.8410956577434066, 3.0185803998258423, 3.194746719000874, 3.3684210526315774, 0.0, 3.3684210526315774], \"mode\": \"lines\", \"name\": \"WT\", \"hoverinfo\": \"none\", \"fillcolor\": \"#B3E2CD\", \"opacity\": 0.3, \"fill\": \"toself\", \"marker\": {\"line\": {\"color\": \"#B3E2CD\"}, \"opacity\": 0.3}, \"xaxis\": \"x1\", \"yaxis\": \"y1\"}, {\"type\": \"scatter\", \"x\": [0.0, 0.015150826510737757, 0.030301653021475514, 0.04545247953221327, 0.06060330604295103, 0.07575413255368879, 0.09090495906442654, 0.10605578557516429, 0.12120661208590205, 0.13635743859663982, 0.15150826510737758, 0.16665909161811532, 0.18180991812885308, 0.19696074463959085, 0.21211157115032858, 0.22726239766106635, 0.2424132241718041, 0.25756405068254185, 0.27271487719327964, 0.2878657037040174, 0.2878657037040174, 0.27271487719327964, 0.25756405068254185, 0.2424132241718041, 0.22726239766106635, 0.21211157115032858, 0.19696074463959085, 0.18180991812885308, 0.16665909161811532, 0.15150826510737758, 0.13635743859663982, 0.12120661208590205, 0.10605578557516429, 0.09090495906442654, 0.07575413255368879, 0.06060330604295103, 0.04545247953221327, 0.030301653021475514, 0.015150826510737757, 0.0, 0.0, 0.0], \"y\": [1.1102230246251557e-16, 0.0, 1.7607443281164592e-15, -9.71445146547012e-16, -3.608224830031759e-16, -6.869504964868156e-16, 0.0, 0.0, 0.0, 1.4709501551962043e-16, 0.0, 0.0, 0.0, 0.0, 0.0, 1.113589495110334e-15, 0.0, 0.0, 0.0, 0.0, 1.2409411988594374e-14, 0.105870015006215, 0.21094683346436144, 0.3160236519225108, 0.42078896773671753, 0.5253460487659434, 0.6299031297951746, 0.7342299103776062, 0.8354770791226922, 0.9329929217191621, 1.03022617392594, 1.1274594261327135, 1.224692678339511, 1.3219259305462894, 1.419159182753072, 1.5163924349598819, 1.613625687166634, 1.710858939373405, 1.8080921915801924, 1.9053254437869795, 1.1102230246251557e-16, 1.9053254437869795], \"mode\": \"lines\", \"name\": \"WT\", \"hoverinfo\": \"none\", \"fillcolor\": \"#B3E2CD\", \"opacity\": 0.3, \"fill\": \"toself\", \"marker\": {\"line\": {\"color\": \"#B3E2CD\"}, \"opacity\": 0.3}, \"xaxis\": \"x2\", \"yaxis\": \"y2\"}, {\"type\": \"scatter\", \"x\": [0.0, 0.015153230613312526, 0.030306461226625052, 0.045459691839937574, 0.060612922453250104, 0.07576615306656263, 0.09091938367987515, 0.10607261429318768, 0.12122584490650021, 0.13637907551981274, 0.15153230613312527, 0.1666855367464378, 0.1818387673597503, 0.19699199797306283, 0.21214522858637536, 0.22729845919968789, 0.24245168981300041, 0.25760492042631294, 0.2727581510396255, 0.287911381652938, 0.287911381652938, 0.2727581510396255, 0.25760492042631294, 0.24245168981300041, 0.22729845919968789, 0.21214522858637536, 0.19699199797306283, 0.1818387673597503, 0.1666855367464378, 0.15153230613312527, 0.13637907551981274, 0.12122584490650021, 0.10607261429318768, 0.09091938367987515, 0.07576615306656263, 0.060612922453250104, 0.045459691839937574, 0.030306461226625052, 0.015153230613312526, 0.0, 0.0, 0.0], \"y\": [0.0, 0.0, 0.0, 0.0, 0.0, 0.0, 0.0, 0.0, 0.0, 0.0, 0.0, 0.0, 0.0, 0.0, 0.0, 0.0, 0.0, 0.0, 0.0, 0.0014885018430856644, 0.0014885018431853624, 0.32984928320087314, 0.6582100645585025, 0.9781711038579768, 1.2665499729736904, 1.5549288420892706, 1.8433077112050316, 2.131686580320639, 2.420065449436391, 2.708444318552043, 2.9968231876676885, 3.2852020567834077, 3.5735809258990368, 3.861959795014726, 4.150338664130371, 4.4387175332460815, 4.727096402361728, 5.015475271477389, 5.303854140593079, 5.592233009708738, 0.0, 5.592233009708738], \"mode\": \"lines\", \"name\": \"WT\", \"hoverinfo\": \"none\", \"fillcolor\": \"#B3E2CD\", \"opacity\": 0.3, \"fill\": \"toself\", \"marker\": {\"line\": {\"color\": \"#B3E2CD\"}, \"opacity\": 0.3}, \"xaxis\": \"x3\", \"yaxis\": \"y3\"}], {\"xaxis1\": {\"domain\": [0.0, 0.45], \"anchor\": \"y1\"}, \"yaxis1\": {\"domain\": [0.625, 1.0], \"anchor\": \"x1\"}, \"xaxis2\": {\"domain\": [0.55, 1.0], \"anchor\": \"y2\"}, \"yaxis2\": {\"domain\": [0.625, 1.0], \"anchor\": \"x2\"}, \"xaxis3\": {\"domain\": [0.0, 0.45], \"anchor\": \"y3\"}, \"yaxis3\": {\"domain\": [0.0, 0.375], \"anchor\": \"x3\"}, \"xaxis4\": {\"domain\": [0.55, 1.0], \"anchor\": \"y4\"}, \"yaxis4\": {\"domain\": [0.0, 0.375], \"anchor\": \"x4\"}, \"annotations\": [{\"y\": 1.0, \"xref\": \"paper\", \"x\": 0.225, \"yref\": \"paper\", \"text\": \"Pathway 1\", \"showarrow\": false, \"font\": {\"size\": 16}, \"xanchor\": \"center\", \"yanchor\": \"bottom\"}, {\"y\": 1.0, \"xref\": \"paper\", \"x\": 0.775, \"yref\": \"paper\", \"text\": \"Pathway 2\", \"showarrow\": false, \"font\": {\"size\": 16}, \"xanchor\": \"center\", \"yanchor\": \"bottom\"}, {\"y\": 0.375, \"xref\": \"paper\", \"x\": 0.225, \"yref\": \"paper\", \"text\": \"Pathway 3\", \"showarrow\": false, \"font\": {\"size\": 16}, \"xanchor\": \"center\", \"yanchor\": \"bottom\"}], \"width\": null, \"height\": null}, {\"showLink\": true, \"linkText\": \"Export to plot.ly\"})});</script>"
      ]
     },
     "metadata": {},
     "output_type": "display_data"
    }
   ],
   "source": [
    "predictor = pathway_prediction.PathwayPredictor(model)\n",
    "\n",
    "pathways = predictor.run(product=\"vanillin\", max_predictions=3)\n",
    "\n",
    "pathways.plot_production_envelopes(model, objective=model.reactions.BIOMASS_SC5_notrace)"
   ]
  },
  {
   "cell_type": "markdown",
   "metadata": {},
   "source": [
    "## Exercise (30 min)\n",
    "\n",
    "* Predict pathways for a desired product of your choice and organism.\n",
    "* Do predictions change if you use a different 'universal' reaction database (other databases are available under `cameo.models.universal`)?"
   ]
  },
  {
   "cell_type": "code",
   "execution_count": null,
   "metadata": {
    "ExecuteTime": {
     "end_time": "2019-02-28T08:12:14.895766Z",
     "start_time": "2019-02-28T08:12:14.892629Z"
    }
   },
   "outputs": [],
   "source": [
    "from cameo.models import universal"
   ]
  },
  {
   "cell_type": "code",
   "execution_count": null,
   "metadata": {
    "ExecuteTime": {
     "end_time": "2019-02-25T09:36:57.252538Z",
     "start_time": "2019-02-25T09:36:55.970293Z"
    }
   },
   "outputs": [],
   "source": [
    "universal.metanetx_universal_model_bigg_rhea_kegg"
   ]
  },
  {
   "cell_type": "code",
   "execution_count": null,
   "metadata": {},
   "outputs": [],
   "source": [
    "predictor2 = pathway_prediction.PathwayPredictor(model=model,\n",
    "                                                 universal_model=universal.metanetx_universal_model_bigg_rhea_kegg)"
   ]
  },
  {
   "cell_type": "markdown",
   "metadata": {},
   "source": [
    "<a id='references'></a>\n",
    "# References\n",
    "\n",
    "[1]:  Bernard T, Bridge A, Morgat A, Moretti S, Xenarios I, Pagni M (2014) Reconciliation of metabolites and biochemical reactions for metabolic networks. Briefings in Bioinformatics 15(1):123-135. "
   ]
  }
 ],
 "metadata": {
  "anaconda-cloud": {},
  "kernelspec": {
   "display_name": "Cell factory design course",
   "language": "python",
   "name": "cell-factory-design-course"
  },
  "language_info": {
   "codemirror_mode": {
    "name": "ipython",
    "version": 3
   },
   "file_extension": ".py",
   "mimetype": "text/x-python",
   "name": "python",
   "nbconvert_exporter": "python",
   "pygments_lexer": "ipython3",
   "version": "3.6.0"
  },
  "toc": {
   "base_numbering": 1,
   "nav_menu": {},
   "number_sections": true,
   "sideBar": true,
   "skip_h1_title": false,
   "title_cell": "Table of Contents",
   "title_sidebar": "Contents",
   "toc_cell": true,
   "toc_position": {},
   "toc_section_display": true,
   "toc_window_display": false
  },
  "varInspector": {
   "cols": {
    "lenName": 16,
    "lenType": 16,
    "lenVar": 40
   },
   "kernels_config": {
    "python": {
     "delete_cmd_postfix": "",
     "delete_cmd_prefix": "del ",
     "library": "var_list.py",
     "varRefreshCmd": "print(var_dic_list())"
    },
    "r": {
     "delete_cmd_postfix": ") ",
     "delete_cmd_prefix": "rm(",
     "library": "var_list.r",
     "varRefreshCmd": "cat(var_dic_list()) "
    }
   },
   "types_to_exclude": [
    "module",
    "function",
    "builtin_function_or_method",
    "instance",
    "_Feature"
   ],
   "window_display": false
  }
 },
 "nbformat": 4,
 "nbformat_minor": 2
}
