{
 "cells": [
  {
   "cell_type": "markdown",
   "metadata": {
    "toc": true
   },
   "source": [
    "<h1>Table of Contents<span class=\"tocSkip\"></span></h1>\n",
    "<div class=\"toc\"><ul class=\"toc-item\"><li><span><a href=\"#Predict-heterologous-pathways\" data-toc-modified-id=\"Predict-heterologous-pathways-1\"><span class=\"toc-item-num\">1&nbsp;&nbsp;</span>Predict heterologous pathways</a></span><ul class=\"toc-item\"><li><span><a href=\"#Run-the-heterologous-pathway-predictor--on-the-yeast-model-to-produce-vanillin\" data-toc-modified-id=\"Run-the-heterologous-pathway-predictor--on-the-yeast-model-to-produce-vanillin-1.1\"><span class=\"toc-item-num\">1.1&nbsp;&nbsp;</span>Run the heterologous pathway predictor  on the yeast model to produce vanillin</a></span></li><li><span><a href=\"#Exercise-(30-min)\" data-toc-modified-id=\"Exercise-(30-min)-1.2\"><span class=\"toc-item-num\">1.2&nbsp;&nbsp;</span>Exercise (30 min)</a></span></li></ul></li><li><span><a href=\"#References\" data-toc-modified-id=\"References-2\"><span class=\"toc-item-num\">2&nbsp;&nbsp;</span>References</a></span></li></ul></div>"
   ]
  },
  {
   "cell_type": "code",
   "execution_count": null,
   "metadata": {
    "ExecuteTime": {
     "end_time": "2019-02-28T08:01:11.479195Z",
     "start_time": "2019-02-28T08:01:11.476409Z"
    }
   },
   "outputs": [],
   "source": [
    "from IPython.display import display\n",
    "import re"
   ]
  },
  {
   "cell_type": "markdown",
   "metadata": {},
   "source": [
    "# Predict heterologous pathways \n",
    "\n",
    "Predicting heterologous pathways is an important strategy to generate new viable strains. Because portfolio of available reactions is very large, computer assisted pathway design becomes essential. **Cameo** implements a pathway search algorithm using an universal biochemical reaction database that enumerates the shortest pathways.\n",
    "\n",
    "However, currently this solver really requires CPLEX, [which is free for academics](https://ibm.onthehub.com/WebStore/OfferingDetails.aspx?o=733c3d21-0ce1-e711-80fa-000d3af41938&pmv=00000000-0000-0000-0000-000000000000), but is not open source.\n",
    "\n",
    "Once you obtain a license for CPLEX, then follow the [instructions in the setup](https://agilebiofoundry.github.io/2019-02.26-28-cell-factory-design-course/setup/)"
   ]
  },
  {
   "cell_type": "code",
   "execution_count": null,
   "metadata": {},
   "outputs": [],
   "source": [
    "## Making sure you have cplex installed\n",
    "\n",
    "#import cplex"
   ]
  },
  {
   "cell_type": "code",
   "execution_count": null,
   "metadata": {
    "ExecuteTime": {
     "end_time": "2019-02-28T08:01:24.751088Z",
     "start_time": "2019-02-28T08:01:20.473946Z"
    }
   },
   "outputs": [],
   "source": [
    "import re\n",
    "from cobra.io import read_sbml_model\n",
    "from cameo.strain_design import pathway_prediction"
   ]
  },
  {
   "cell_type": "markdown",
   "metadata": {},
   "source": [
    "## Run the heterologous pathway predictor  on the yeast model to produce vanillin"
   ]
  },
  {
   "cell_type": "code",
   "execution_count": null,
   "metadata": {
    "ExecuteTime": {
     "end_time": "2019-02-28T08:01:27.216594Z",
     "start_time": "2019-02-28T08:01:24.767113Z"
    }
   },
   "outputs": [],
   "source": [
    "model = read_sbml_model('data/iMM904.xml.gz')"
   ]
  },
  {
   "cell_type": "markdown",
   "metadata": {},
   "source": [
    "By default, the heterologous pathway predictor will use a universal database of reactions compiled by [MetaNetX](https://www.metanetx.org/mnxdoc/mnxref.html)[[1](#references)]"
   ]
  },
  {
   "cell_type": "code",
   "execution_count": null,
   "metadata": {
    "ExecuteTime": {
     "end_time": "2019-02-28T08:12:14.880495Z",
     "start_time": "2019-02-28T08:03:57.609033Z"
    },
    "scrolled": false
   },
   "outputs": [],
   "source": [
    "predictor = pathway_prediction.PathwayPredictor(model)\n",
    "\n",
    "pathways = predictor.run(product=\"vanillin\", max_predictions=3)\n",
    "\n",
    "pathways.plot_production_envelopes(model, objective=model.reactions.BIOMASS_SC5_notrace)"
   ]
  },
  {
   "cell_type": "markdown",
   "metadata": {},
   "source": [
    "## Exercise (30 min)\n",
    "\n",
    "* Predict pathways for a desired product of your choice and organism.\n",
    "* Do predictions change if you use a different 'universal' reaction database (other databases are available under `cameo.models.universal`)?"
   ]
  },
  {
   "cell_type": "code",
   "execution_count": null,
   "metadata": {
    "ExecuteTime": {
     "end_time": "2019-02-28T08:12:14.895766Z",
     "start_time": "2019-02-28T08:12:14.892629Z"
    }
   },
   "outputs": [],
   "source": [
    "from cameo.models import universal"
   ]
  },
  {
   "cell_type": "code",
   "execution_count": null,
   "metadata": {
    "ExecuteTime": {
     "end_time": "2019-02-25T09:36:57.252538Z",
     "start_time": "2019-02-25T09:36:55.970293Z"
    }
   },
   "outputs": [],
   "source": [
    "universal.metanetx_universal_model_bigg_rhea_kegg"
   ]
  },
  {
   "cell_type": "code",
   "execution_count": null,
   "metadata": {},
   "outputs": [],
   "source": [
    "predictor2 = pathway_prediction.PathwayPredictor(model=model,\n",
    "                                                 universal_model=universal.metanetx_universal_model_bigg_rhea_kegg)"
   ]
  },
  {
   "cell_type": "markdown",
   "metadata": {},
   "source": [
    "<a id='references'></a>\n",
    "# References\n",
    "\n",
    "[1]:  Bernard T, Bridge A, Morgat A, Moretti S, Xenarios I, Pagni M (2014) Reconciliation of metabolites and biochemical reactions for metabolic networks. Briefings in Bioinformatics 15(1):123-135. "
   ]
  }
 ],
 "metadata": {
  "anaconda-cloud": {},
  "kernelspec": {
   "display_name": "Cell factory design course",
   "language": "python",
   "name": "cell-factory-design-course"
  },
  "language_info": {
   "codemirror_mode": {
    "name": "ipython",
    "version": 3
   },
   "file_extension": ".py",
   "mimetype": "text/x-python",
   "name": "python",
   "nbconvert_exporter": "python",
   "pygments_lexer": "ipython3",
   "version": "3.6.0"
  },
  "toc": {
   "base_numbering": 1,
   "nav_menu": {},
   "number_sections": true,
   "sideBar": true,
   "skip_h1_title": false,
   "title_cell": "Table of Contents",
   "title_sidebar": "Contents",
   "toc_cell": true,
   "toc_position": {},
   "toc_section_display": true,
   "toc_window_display": false
  },
  "varInspector": {
   "cols": {
    "lenName": 16,
    "lenType": 16,
    "lenVar": 40
   },
   "kernels_config": {
    "python": {
     "delete_cmd_postfix": "",
     "delete_cmd_prefix": "del ",
     "library": "var_list.py",
     "varRefreshCmd": "print(var_dic_list())"
    },
    "r": {
     "delete_cmd_postfix": ") ",
     "delete_cmd_prefix": "rm(",
     "library": "var_list.r",
     "varRefreshCmd": "cat(var_dic_list()) "
    }
   },
   "types_to_exclude": [
    "module",
    "function",
    "builtin_function_or_method",
    "instance",
    "_Feature"
   ],
   "window_display": false
  }
 },
 "nbformat": 4,
 "nbformat_minor": 2
}
