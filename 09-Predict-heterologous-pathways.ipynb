{
 "cells": [
  {
   "cell_type": "code",
   "execution_count": 1,
   "metadata": {
    "collapsed": true
   },
   "outputs": [],
   "source": [
    "from IPython.display import display\n",
    "import re"
   ]
  },
  {
   "cell_type": "markdown",
   "metadata": {},
   "source": [
    "# Predict heterologous pathways\n",
    "\n",
    "Predicting heterologous pathways is an important strategy to generate new viable strains. Because portfolio of available reactions is very large, computer assisted pathway design becomes essential. **Cameo** implements a pathway search algorithm using an universal biochemical reaction database that enumerates the shortest pathways."
   ]
  },
  {
   "cell_type": "code",
   "execution_count": 2,
   "metadata": {
    "collapsed": false
   },
   "outputs": [
    {
     "data": {
      "text/html": []
     },
     "metadata": {},
     "output_type": "display_data"
    },
    {
     "data": {
      "application/javascript": [
       "\n",
       "(function(global) {\n",
       "  function now() {\n",
       "    return new Date();\n",
       "  }\n",
       "\n",
       "  var force = \"1\";\n",
       "\n",
       "  if (typeof (window._bokeh_onload_callbacks) === \"undefined\" || force !== \"\") {\n",
       "    window._bokeh_onload_callbacks = [];\n",
       "    window._bokeh_is_loading = undefined;\n",
       "  }\n",
       "\n",
       "  function run_callbacks() {\n",
       "    window._bokeh_onload_callbacks.forEach(function(callback) { callback() });\n",
       "    delete window._bokeh_onload_callbacks\n",
       "    console.info(\"Bokeh: all callbacks have finished\");\n",
       "  }\n",
       "\n",
       "  function load_libs(js_urls, callback) {\n",
       "    window._bokeh_onload_callbacks.push(callback);\n",
       "    if (window._bokeh_is_loading > 0) {\n",
       "      console.log(\"Bokeh: BokehJS is being loaded, scheduling callback at\", now());\n",
       "      return null;\n",
       "    }\n",
       "    if (js_urls == null || js_urls.length === 0) {\n",
       "      run_callbacks();\n",
       "      return null;\n",
       "    }\n",
       "    console.log(\"Bokeh: BokehJS not loaded, scheduling load and callback at\", now());\n",
       "    window._bokeh_is_loading = js_urls.length;\n",
       "    for (var i = 0; i < js_urls.length; i++) {\n",
       "      var url = js_urls[i];\n",
       "      var s = document.createElement('script');\n",
       "      s.src = url;\n",
       "      s.async = false;\n",
       "      s.onreadystatechange = s.onload = function() {\n",
       "        window._bokeh_is_loading--;\n",
       "        if (window._bokeh_is_loading === 0) {\n",
       "          console.log(\"Bokeh: all BokehJS libraries loaded\");\n",
       "          run_callbacks()\n",
       "        }\n",
       "      };\n",
       "      s.onerror = function() {\n",
       "        console.warn(\"failed to load library \" + url);\n",
       "      };\n",
       "      console.log(\"Bokeh: injecting script tag for BokehJS library: \", url);\n",
       "      document.getElementsByTagName(\"head\")[0].appendChild(s);\n",
       "    }\n",
       "  };\n",
       "\n",
       "  var js_urls = ['https://cdn.pydata.org/bokeh/release/bokeh-0.12.1.min.js', 'https://cdn.pydata.org/bokeh/release/bokeh-widgets-0.12.1.min.js', 'https://cdn.pydata.org/bokeh/release/bokeh-compiler-0.12.1.min.js'];\n",
       "\n",
       "  var inline_js = [\n",
       "    function(Bokeh) {\n",
       "      Bokeh.set_log_level(\"info\");\n",
       "    },\n",
       "    \n",
       "    function(Bokeh) {\n",
       "      \n",
       "      Bokeh.$(\"#d7f609bc-9515-4e74-ae92-1224fe62f3a5\").text(\"BokehJS successfully loaded\");\n",
       "      var kernel = Jupyter.notebook.kernel\n",
       "      if (kernel.execute !== undefined) {\n",
       "          kernel.execute(\"import bokeh.io; bokeh.io._nb_loaded = True\");\n",
       "      }\n",
       "    },\n",
       "    function(Bokeh) {\n",
       "      console.log(\"Bokeh: injecting CSS: https://cdn.pydata.org/bokeh/release/bokeh-0.12.1.min.css\");\n",
       "      Bokeh.embed.inject_css(\"https://cdn.pydata.org/bokeh/release/bokeh-0.12.1.min.css\");\n",
       "      console.log(\"Bokeh: injecting CSS: https://cdn.pydata.org/bokeh/release/bokeh-widgets-0.12.1.min.css\");\n",
       "      Bokeh.embed.inject_css(\"https://cdn.pydata.org/bokeh/release/bokeh-widgets-0.12.1.min.css\");\n",
       "    }\n",
       "  ];\n",
       "\n",
       "  function run_inline_js() {\n",
       "    for (var i = 0; i < inline_js.length; i++) {\n",
       "      inline_js[i](window.Bokeh);\n",
       "    }\n",
       "  }\n",
       "\n",
       "  if (window._bokeh_is_loading === 0) {\n",
       "    console.log(\"Bokeh: BokehJS loaded, going straight to plotting\");\n",
       "    run_inline_js();\n",
       "  } else {\n",
       "    load_libs(js_urls, function() {\n",
       "      console.log(\"Bokeh: BokehJS plotting callback run at\", now());\n",
       "      run_inline_js();\n",
       "    });\n",
       "  }\n",
       "}(this));"
      ]
     },
     "metadata": {},
     "output_type": "display_data"
    }
   ],
   "source": [
    "from cameo import load_model\n",
    "from cameo.strain_design import pathway_prediction"
   ]
  },
  {
   "cell_type": "code",
   "execution_count": 3,
   "metadata": {
    "collapsed": true
   },
   "outputs": [],
   "source": [
    "model = load_model('data/iMM904.xml.gz')"
   ]
  },
  {
   "cell_type": "code",
   "execution_count": 4,
   "metadata": {
    "collapsed": false,
    "scrolled": true
   },
   "outputs": [],
   "source": [
    "predictor = pathway_prediction.PathwayPredictor(model=model, compartment_regexp=re.compile(\".*_c$\"))"
   ]
  },
  {
   "cell_type": "code",
   "execution_count": 5,
   "metadata": {
    "collapsed": false
   },
   "outputs": [
    {
     "data": {
      "text/html": [
       "<span>Pathway 1</span>"
      ],
      "text/plain": [
       "<IPython.core.display.HTML object>"
      ]
     },
     "metadata": {},
     "output_type": "display_data"
    },
    {
     "data": {
      "text/html": [
       "<div>\n",
       "<table border=\"1\" class=\"dataframe\">\n",
       "  <thead>\n",
       "    <tr style=\"text-align: right;\">\n",
       "      <th></th>\n",
       "      <th>equation</th>\n",
       "      <th>lower_bound</th>\n",
       "      <th>upper_bound</th>\n",
       "    </tr>\n",
       "  </thead>\n",
       "  <tbody>\n",
       "    <tr>\n",
       "      <th>MNXR5336</th>\n",
       "      <td>2.0 H(+) + NADH + vanillate &lt;=&gt; H2O + vanillin...</td>\n",
       "      <td>-1000</td>\n",
       "      <td>1000</td>\n",
       "    </tr>\n",
       "    <tr>\n",
       "      <th>MNXR5340</th>\n",
       "      <td>H(+) + NADH + O2 + vanillate &lt;=&gt; H2O + 3,4-dih...</td>\n",
       "      <td>-1000</td>\n",
       "      <td>1000</td>\n",
       "    </tr>\n",
       "    <tr>\n",
       "      <th>MNXR14769</th>\n",
       "      <td>H(+) + NADH + 4-hydroxybenzoate + O2 &lt;=&gt; H2O +...</td>\n",
       "      <td>-1000</td>\n",
       "      <td>1000</td>\n",
       "    </tr>\n",
       "  </tbody>\n",
       "</table>\n",
       "</div>"
      ],
      "text/plain": [
       "                                                    equation  lower_bound  \\\n",
       "MNXR5336   2.0 H(+) + NADH + vanillate <=> H2O + vanillin...        -1000   \n",
       "MNXR5340   H(+) + NADH + O2 + vanillate <=> H2O + 3,4-dih...        -1000   \n",
       "MNXR14769  H(+) + NADH + 4-hydroxybenzoate + O2 <=> H2O +...        -1000   \n",
       "\n",
       "           upper_bound  \n",
       "MNXR5336          1000  \n",
       "MNXR5340          1000  \n",
       "MNXR14769         1000  "
      ]
     },
     "metadata": {},
     "output_type": "display_data"
    },
    {
     "data": {
      "text/html": [
       "<span>Pathway 2</span>"
      ],
      "text/plain": [
       "<IPython.core.display.HTML object>"
      ]
     },
     "metadata": {},
     "output_type": "display_data"
    },
    {
     "data": {
      "text/html": [
       "<div>\n",
       "<table border=\"1\" class=\"dataframe\">\n",
       "  <thead>\n",
       "    <tr style=\"text-align: right;\">\n",
       "      <th></th>\n",
       "      <th>equation</th>\n",
       "      <th>lower_bound</th>\n",
       "      <th>upper_bound</th>\n",
       "    </tr>\n",
       "  </thead>\n",
       "  <tbody>\n",
       "    <tr>\n",
       "      <th>MNXR5336</th>\n",
       "      <td>2.0 H(+) + NADH + vanillate &lt;=&gt; H2O + vanillin...</td>\n",
       "      <td>-1000</td>\n",
       "      <td>1000</td>\n",
       "    </tr>\n",
       "    <tr>\n",
       "      <th>MNXR5340</th>\n",
       "      <td>H(+) + NADH + O2 + vanillate &lt;=&gt; H2O + 3,4-dih...</td>\n",
       "      <td>-1000</td>\n",
       "      <td>1000</td>\n",
       "    </tr>\n",
       "    <tr>\n",
       "      <th>MNXR68718</th>\n",
       "      <td>H2O + 3,4-dihydroxybenzoate &lt;=&gt; 3-dehydroshiki...</td>\n",
       "      <td>-1000</td>\n",
       "      <td>1000</td>\n",
       "    </tr>\n",
       "  </tbody>\n",
       "</table>\n",
       "</div>"
      ],
      "text/plain": [
       "                                                    equation  lower_bound  \\\n",
       "MNXR5336   2.0 H(+) + NADH + vanillate <=> H2O + vanillin...        -1000   \n",
       "MNXR5340   H(+) + NADH + O2 + vanillate <=> H2O + 3,4-dih...        -1000   \n",
       "MNXR68718  H2O + 3,4-dihydroxybenzoate <=> 3-dehydroshiki...        -1000   \n",
       "\n",
       "           upper_bound  \n",
       "MNXR5336          1000  \n",
       "MNXR5340          1000  \n",
       "MNXR68718         1000  "
      ]
     },
     "metadata": {},
     "output_type": "display_data"
    },
    {
     "data": {
      "text/html": [
       "<span>Pathway 3</span>"
      ],
      "text/plain": [
       "<IPython.core.display.HTML object>"
      ]
     },
     "metadata": {},
     "output_type": "display_data"
    },
    {
     "data": {
      "text/html": [
       "<div>\n",
       "<table border=\"1\" class=\"dataframe\">\n",
       "  <thead>\n",
       "    <tr style=\"text-align: right;\">\n",
       "      <th></th>\n",
       "      <th>equation</th>\n",
       "      <th>lower_bound</th>\n",
       "      <th>upper_bound</th>\n",
       "    </tr>\n",
       "  </thead>\n",
       "  <tbody>\n",
       "    <tr>\n",
       "      <th>MNXR230</th>\n",
       "      <td>H(+) + 4-hydroxybenzoate + O2 + NADPH &lt;=&gt; H2O ...</td>\n",
       "      <td>-1000</td>\n",
       "      <td>1000</td>\n",
       "    </tr>\n",
       "    <tr>\n",
       "      <th>MNXR5336</th>\n",
       "      <td>2.0 H(+) + NADH + vanillate &lt;=&gt; H2O + vanillin...</td>\n",
       "      <td>-1000</td>\n",
       "      <td>1000</td>\n",
       "    </tr>\n",
       "    <tr>\n",
       "      <th>MNXR5340</th>\n",
       "      <td>H(+) + NADH + O2 + vanillate &lt;=&gt; H2O + 3,4-dih...</td>\n",
       "      <td>-1000</td>\n",
       "      <td>1000</td>\n",
       "    </tr>\n",
       "  </tbody>\n",
       "</table>\n",
       "</div>"
      ],
      "text/plain": [
       "                                                   equation  lower_bound  \\\n",
       "MNXR230   H(+) + 4-hydroxybenzoate + O2 + NADPH <=> H2O ...        -1000   \n",
       "MNXR5336  2.0 H(+) + NADH + vanillate <=> H2O + vanillin...        -1000   \n",
       "MNXR5340  H(+) + NADH + O2 + vanillate <=> H2O + 3,4-dih...        -1000   \n",
       "\n",
       "          upper_bound  \n",
       "MNXR230          1000  \n",
       "MNXR5336         1000  \n",
       "MNXR5340         1000  "
      ]
     },
     "metadata": {},
     "output_type": "display_data"
    },
    {
     "data": {
      "text/html": [
       "<span>Pathway 4</span>"
      ],
      "text/plain": [
       "<IPython.core.display.HTML object>"
      ]
     },
     "metadata": {},
     "output_type": "display_data"
    },
    {
     "data": {
      "text/html": [
       "<div>\n",
       "<table border=\"1\" class=\"dataframe\">\n",
       "  <thead>\n",
       "    <tr style=\"text-align: right;\">\n",
       "      <th></th>\n",
       "      <th>equation</th>\n",
       "      <th>lower_bound</th>\n",
       "      <th>upper_bound</th>\n",
       "    </tr>\n",
       "  </thead>\n",
       "  <tbody>\n",
       "    <tr>\n",
       "      <th>MNXR5336</th>\n",
       "      <td>2.0 H(+) + NADH + vanillate &lt;=&gt; H2O + vanillin...</td>\n",
       "      <td>-1000</td>\n",
       "      <td>1000</td>\n",
       "    </tr>\n",
       "    <tr>\n",
       "      <th>MNXR5340</th>\n",
       "      <td>H(+) + NADH + O2 + vanillate &lt;=&gt; H2O + 3,4-dih...</td>\n",
       "      <td>-1000</td>\n",
       "      <td>1000</td>\n",
       "    </tr>\n",
       "    <tr>\n",
       "      <th>MNXR6101</th>\n",
       "      <td>CO2 + NH4(+) + catechol + NAD(+) &lt;=&gt; 3.0 H(+) ...</td>\n",
       "      <td>-1000</td>\n",
       "      <td>1000</td>\n",
       "    </tr>\n",
       "    <tr>\n",
       "      <th>MNXR7067</th>\n",
       "      <td>CO2 + catechol &lt;=&gt; H(+) + 3,4-dihydroxybenzoate</td>\n",
       "      <td>-1000</td>\n",
       "      <td>1000</td>\n",
       "    </tr>\n",
       "  </tbody>\n",
       "</table>\n",
       "</div>"
      ],
      "text/plain": [
       "                                                   equation  lower_bound  \\\n",
       "MNXR5336  2.0 H(+) + NADH + vanillate <=> H2O + vanillin...        -1000   \n",
       "MNXR5340  H(+) + NADH + O2 + vanillate <=> H2O + 3,4-dih...        -1000   \n",
       "MNXR6101  CO2 + NH4(+) + catechol + NAD(+) <=> 3.0 H(+) ...        -1000   \n",
       "MNXR7067    CO2 + catechol <=> H(+) + 3,4-dihydroxybenzoate        -1000   \n",
       "\n",
       "          upper_bound  \n",
       "MNXR5336         1000  \n",
       "MNXR5340         1000  \n",
       "MNXR6101         1000  \n",
       "MNXR7067         1000  "
      ]
     },
     "metadata": {},
     "output_type": "display_data"
    }
   ],
   "source": [
    "pathways = predictor.run(product=\"vanillin\", max_predictions=4)"
   ]
  },
  {
   "cell_type": "code",
   "execution_count": 6,
   "metadata": {
    "collapsed": false,
    "scrolled": true
   },
   "outputs": [
    {
     "name": "stderr",
     "output_type": "stream",
     "text": [
      "/Users/niso/anaconda/envs/cell-factory-course/lib/python3.4/site-packages/cameo/visualization/plotting/with_bokeh.py:121: BokehDeprecationWarning:\n",
      "\n",
      "bokeh.models.layouts.GridPlot was deprecated in Bokeh 0.12.0; please use bokeh.layouts.gridplot instead\n",
      "\n"
     ]
    },
    {
     "data": {
      "text/html": [
       "\n",
       "\n",
       "    <div class=\"bk-root\">\n",
       "        <div class=\"plotdiv\" id=\"76bbe140-c4f1-4640-8919-5c41a6b68952\"></div>\n",
       "    </div>\n",
       "<script type=\"text/javascript\">\n",
       "  \n",
       "  (function(global) {\n",
       "    function now() {\n",
       "      return new Date();\n",
       "    }\n",
       "  \n",
       "    var force = \"\";\n",
       "  \n",
       "    if (typeof (window._bokeh_onload_callbacks) === \"undefined\" || force !== \"\") {\n",
       "      window._bokeh_onload_callbacks = [];\n",
       "      window._bokeh_is_loading = undefined;\n",
       "    }\n",
       "  \n",
       "    function run_callbacks() {\n",
       "      window._bokeh_onload_callbacks.forEach(function(callback) { callback() });\n",
       "      delete window._bokeh_onload_callbacks\n",
       "      console.info(\"Bokeh: all callbacks have finished\");\n",
       "    }\n",
       "  \n",
       "    function load_libs(js_urls, callback) {\n",
       "      window._bokeh_onload_callbacks.push(callback);\n",
       "      if (window._bokeh_is_loading > 0) {\n",
       "        console.log(\"Bokeh: BokehJS is being loaded, scheduling callback at\", now());\n",
       "        return null;\n",
       "      }\n",
       "      if (js_urls == null || js_urls.length === 0) {\n",
       "        run_callbacks();\n",
       "        return null;\n",
       "      }\n",
       "      console.log(\"Bokeh: BokehJS not loaded, scheduling load and callback at\", now());\n",
       "      window._bokeh_is_loading = js_urls.length;\n",
       "      for (var i = 0; i < js_urls.length; i++) {\n",
       "        var url = js_urls[i];\n",
       "        var s = document.createElement('script');\n",
       "        s.src = url;\n",
       "        s.async = false;\n",
       "        s.onreadystatechange = s.onload = function() {\n",
       "          window._bokeh_is_loading--;\n",
       "          if (window._bokeh_is_loading === 0) {\n",
       "            console.log(\"Bokeh: all BokehJS libraries loaded\");\n",
       "            run_callbacks()\n",
       "          }\n",
       "        };\n",
       "        s.onerror = function() {\n",
       "          console.warn(\"failed to load library \" + url);\n",
       "        };\n",
       "        console.log(\"Bokeh: injecting script tag for BokehJS library: \", url);\n",
       "        document.getElementsByTagName(\"head\")[0].appendChild(s);\n",
       "      }\n",
       "    };var element = document.getElementById(\"76bbe140-c4f1-4640-8919-5c41a6b68952\");\n",
       "    if (element == null) {\n",
       "      console.log(\"Bokeh: ERROR: autoload.js configured with elementid '76bbe140-c4f1-4640-8919-5c41a6b68952' but no matching script tag was found. \")\n",
       "      return false;\n",
       "    }\n",
       "  \n",
       "    var js_urls = [];\n",
       "  \n",
       "    var inline_js = [\n",
       "      function(Bokeh) {\n",
       "        Bokeh.$(function() {\n",
       "            var docs_json = {\"4c3294ab-1258-4e84-851b-2b7d41e63984\":{\"roots\":{\"references\":[{\"attributes\":{\"plot\":{\"id\":\"e493cdf1-2c06-47ba-a9bd-c69cc5a3abdc\",\"subtype\":\"Figure\",\"type\":\"Plot\"}},\"id\":\"44a09c71-df07-4ee0-ad6d-0b74e38fb8c8\",\"type\":\"HelpTool\"},{\"attributes\":{\"data_source\":{\"id\":\"cd7c5bf5-74b1-4832-b7f1-b25651ff0e1f\",\"type\":\"ColumnDataSource\"},\"glyph\":{\"id\":\"6705240d-63b7-4bb6-8c98-d936b65d7db5\",\"type\":\"Line\"},\"hover_glyph\":null,\"nonselection_glyph\":{\"id\":\"b16af04c-e877-4bbc-8baf-25c4dcff5cd7\",\"type\":\"Line\"},\"selection_glyph\":null},\"id\":\"956864d6-ae36-4d20-ae57-6322da600cb2\",\"type\":\"GlyphRenderer\"},{\"attributes\":{\"plot\":{\"id\":\"818b2374-4586-43d0-a259-938a22b15126\",\"subtype\":\"Figure\",\"type\":\"Plot\"}},\"id\":\"20272675-c8f2-472c-b956-c1aa91092d38\",\"type\":\"HelpTool\"},{\"attributes\":{\"line_color\":{\"value\":\"#B3E2CD\"},\"x\":{\"field\":\"x\"},\"y\":{\"field\":\"y\"}},\"id\":\"6705240d-63b7-4bb6-8c98-d936b65d7db5\",\"type\":\"Line\"},{\"attributes\":{\"dimension\":1,\"plot\":{\"id\":\"c0d7c695-255e-43f0-8c43-40a9818e5de0\",\"subtype\":\"Figure\",\"type\":\"Plot\"},\"ticker\":{\"id\":\"b72aa3a0-f144-44fb-a887-243bd23c347f\",\"type\":\"BasicTicker\"}},\"id\":\"52583062-c9d5-448b-b852-8d5656bcc199\",\"type\":\"Grid\"},{\"attributes\":{\"overlay\":{\"id\":\"baa6a727-b151-405a-a546-9ddbe8b29947\",\"type\":\"BoxAnnotation\"},\"plot\":{\"id\":\"d01ddf81-651a-44fb-8e9b-c31e1c665a40\",\"subtype\":\"Figure\",\"type\":\"Plot\"}},\"id\":\"3dda1919-6986-46a2-9eb9-fa796b03dc6c\",\"type\":\"BoxZoomTool\"},{\"attributes\":{\"callback\":null,\"column_names\":[\"y\",\"x\"],\"data\":{\"x\":[0.0,0.0],\"y\":[5.05751391465677,0.0]}},\"id\":\"b4beaaec-c467-42ed-92de-d0da0b41d143\",\"type\":\"ColumnDataSource\"},{\"attributes\":{\"plot\":{\"id\":\"e493cdf1-2c06-47ba-a9bd-c69cc5a3abdc\",\"subtype\":\"Figure\",\"type\":\"Plot\"}},\"id\":\"78708d94-22bf-49f0-83a8-04780e90b606\",\"type\":\"SaveTool\"},{\"attributes\":{\"callback\":null},\"id\":\"43646249-d658-4481-bb4b-4d70c203ffec\",\"type\":\"DataRange1d\"},{\"attributes\":{\"plot\":null,\"text\":\"Pathway 3\"},\"id\":\"474f001f-f19a-4cac-a0b3-679fc0e5ec2f\",\"type\":\"Title\"},{\"attributes\":{\"callback\":null,\"column_names\":[\"y\",\"x\"],\"data\":{\"x\":[0.2878657037040292,0.2727148771932908,0.25756405068255245,0.24241322417181405,0.22726239766107567,0.2121115711503373,0.19696074463959892,0.18180991812886055,0.16665909161812215,0.15150826510738377,0.1363574385966454,0.12120661208590702,0.10605578557516865,0.09090495906443027,0.07575413255369187,0.0606033060429535,0.04545247953221512,0.03030165302147675,0.015150826510738347,0.0,0.0,0.015150826510738347,0.03030165302147675,0.04545247953221512,0.0606033060429535,0.07575413255369187,0.09090495906443027,0.10605578557516865,0.12120661208590702,0.1363574385966454,0.15150826510738377,0.16665909161812215,0.18180991812886055,0.19696074463959892,0.2121115711503373,0.22726239766107567,0.24241322417181405,0.25756405068255245,0.2727148771932908,0.2878657037040292],\"y\":[0.0,0.0,0.0,0.0,0.0,0.0,0.0,0.0,0.0,0.0,0.0,0.0,0.0,0.0,0.0,0.0,0.0,0.0,0.0,0.0,5.05751391465677,4.941044891092815,4.820459563497712,4.699874235902762,4.579288908307592,4.458703580712492,4.338118253117474,4.217532925522397,4.028083262751592,3.674450813452676,3.320818364153746,2.9671859148548916,2.6135534655560195,2.259921016256925,1.8857489538866739,1.5088337665674425,1.1319185792482762,0.755003391929133,0.37808820461000625,-1.5552004128949193e-12]}},\"id\":\"548cffdd-3aa3-4a75-bac3-5fb0b4844081\",\"type\":\"ColumnDataSource\"},{\"attributes\":{\"callback\":null},\"id\":\"d9964d21-cfb6-4874-bc79-583909f9e230\",\"type\":\"DataRange1d\"},{\"attributes\":{\"bottom_units\":\"screen\",\"fill_alpha\":{\"value\":0.5},\"fill_color\":{\"value\":\"lightgrey\"},\"left_units\":\"screen\",\"level\":\"overlay\",\"line_alpha\":{\"value\":1.0},\"line_color\":{\"value\":\"black\"},\"line_dash\":[4,4],\"line_width\":{\"value\":2},\"plot\":null,\"render_mode\":\"css\",\"right_units\":\"screen\",\"top_units\":\"screen\"},\"id\":\"6dcd03fb-0aee-465c-b862-f34104aac2b7\",\"type\":\"BoxAnnotation\"},{\"attributes\":{\"line_color\":{\"value\":\"#B3E2CD\"},\"x\":{\"field\":\"x\"},\"y\":{\"field\":\"y\"}},\"id\":\"2e8432d8-3dcd-4d36-b424-30433de02ebc\",\"type\":\"Line\"},{\"attributes\":{\"axis_label\":\"BIOMASS_SC5_notrace\",\"formatter\":{\"id\":\"3eb2cfcc-6e6e-4aa7-a7a8-a2db6e619054\",\"type\":\"BasicTickFormatter\"},\"plot\":{\"id\":\"e493cdf1-2c06-47ba-a9bd-c69cc5a3abdc\",\"subtype\":\"Figure\",\"type\":\"Plot\"},\"ticker\":{\"id\":\"937577b3-ba90-4f74-ad5e-66e36916a17d\",\"type\":\"BasicTicker\"}},\"id\":\"5d3251aa-d009-453b-82d0-2dc12a11aacd\",\"type\":\"LinearAxis\"},{\"attributes\":{\"plot\":{\"id\":\"c0d7c695-255e-43f0-8c43-40a9818e5de0\",\"subtype\":\"Figure\",\"type\":\"Plot\"}},\"id\":\"9a32b72f-8d15-47c2-a1c9-b69af602704b\",\"type\":\"ResetTool\"},{\"attributes\":{\"plot\":null,\"text\":\"Pathway 4\"},\"id\":\"3fe61b29-1d0a-4a18-a00c-d491ae16d66e\",\"type\":\"Title\"},{\"attributes\":{\"plot\":{\"id\":\"818b2374-4586-43d0-a259-938a22b15126\",\"subtype\":\"Figure\",\"type\":\"Plot\"}},\"id\":\"6268baf1-ae54-46ec-b141-70655fce08ad\",\"type\":\"ResetTool\"},{\"attributes\":{\"data_source\":{\"id\":\"798216a2-69f8-4a0d-962d-885876c392a3\",\"type\":\"ColumnDataSource\"},\"glyph\":{\"id\":\"df478e8d-e57b-4d99-a803-7ed1ec8071d9\",\"type\":\"Line\"},\"hover_glyph\":null,\"nonselection_glyph\":{\"id\":\"e941ba04-c2af-4f85-bf35-b5c8d803c290\",\"type\":\"Line\"},\"selection_glyph\":null},\"id\":\"52d2c30a-57ee-47bd-91f7-f205e869b233\",\"type\":\"GlyphRenderer\"},{\"attributes\":{\"line_color\":{\"value\":\"#B3E2CD\"},\"x\":{\"field\":\"x\"},\"y\":{\"field\":\"y\"}},\"id\":\"f87f621a-1f76-48b9-bb1c-b6a43ca0fa2c\",\"type\":\"Line\"},{\"attributes\":{\"fill_alpha\":{\"value\":0.1},\"fill_color\":{\"value\":\"#1f77b4\"},\"line_alpha\":{\"value\":0.1},\"line_color\":{\"value\":\"#1f77b4\"},\"x\":{\"field\":\"x\"},\"y\":{\"field\":\"y\"}},\"id\":\"1eb6438e-76f2-41a8-b8ac-721132e71e65\",\"type\":\"Patch\"},{\"attributes\":{\"below\":[{\"id\":\"b4f61e9b-1a28-4d83-b6b8-b3bd7409f505\",\"type\":\"LinearAxis\"}],\"left\":[{\"id\":\"6206833d-23dc-457a-9637-0213c1bd5a09\",\"type\":\"LinearAxis\"}],\"plot_height\":278,\"plot_width\":450,\"renderers\":[{\"id\":\"b4f61e9b-1a28-4d83-b6b8-b3bd7409f505\",\"type\":\"LinearAxis\"},{\"id\":\"6ea99236-7b2f-4d2a-94f2-f17b76641e19\",\"type\":\"Grid\"},{\"id\":\"6206833d-23dc-457a-9637-0213c1bd5a09\",\"type\":\"LinearAxis\"},{\"id\":\"52583062-c9d5-448b-b852-8d5656bcc199\",\"type\":\"Grid\"},{\"id\":\"6dcd03fb-0aee-465c-b862-f34104aac2b7\",\"type\":\"BoxAnnotation\"},{\"id\":\"fbe1a8eb-ccfb-4147-a5ff-983e8b98e8ac\",\"type\":\"Legend\"},{\"id\":\"7c1d7f5a-44e9-4ec6-82f8-c11e517b8e25\",\"type\":\"GlyphRenderer\"},{\"id\":\"c33bfdd5-9c26-4e51-9c2e-820131e83d7b\",\"type\":\"GlyphRenderer\"},{\"id\":\"36c8131d-1776-4b22-9608-d33025f8bda9\",\"type\":\"GlyphRenderer\"},{\"id\":\"956864d6-ae36-4d20-ae57-6322da600cb2\",\"type\":\"GlyphRenderer\"}],\"title\":{\"id\":\"3fe61b29-1d0a-4a18-a00c-d491ae16d66e\",\"type\":\"Title\"},\"tool_events\":{\"id\":\"d9af512c-51d6-44f7-b34f-9f37b442e3fc\",\"type\":\"ToolEvents\"},\"toolbar\":{\"id\":\"689df33a-72a2-45a6-bd17-d66e86acc866\",\"type\":\"Toolbar\"},\"toolbar_location\":null,\"x_range\":{\"id\":\"888273e7-c020-4475-b82b-0ac52edc2157\",\"type\":\"DataRange1d\"},\"y_range\":{\"id\":\"43646249-d658-4481-bb4b-4d70c203ffec\",\"type\":\"DataRange1d\"}},\"id\":\"c0d7c695-255e-43f0-8c43-40a9818e5de0\",\"subtype\":\"Figure\",\"type\":\"Plot\"},{\"attributes\":{\"plot\":{\"id\":\"c0d7c695-255e-43f0-8c43-40a9818e5de0\",\"subtype\":\"Figure\",\"type\":\"Plot\"}},\"id\":\"765b3afd-073c-4519-b519-08a5a9e69d24\",\"type\":\"HelpTool\"},{\"attributes\":{},\"id\":\"d7d5f373-7f11-46af-bd5e-1c31edcbc3f6\",\"type\":\"BasicTicker\"},{\"attributes\":{\"plot\":{\"id\":\"e493cdf1-2c06-47ba-a9bd-c69cc5a3abdc\",\"subtype\":\"Figure\",\"type\":\"Plot\"},\"ticker\":{\"id\":\"937577b3-ba90-4f74-ad5e-66e36916a17d\",\"type\":\"BasicTicker\"}},\"id\":\"eea3eb38-0d41-4be2-ae96-08fb527907b8\",\"type\":\"Grid\"},{\"attributes\":{\"plot\":{\"id\":\"d01ddf81-651a-44fb-8e9b-c31e1c665a40\",\"subtype\":\"Figure\",\"type\":\"Plot\"}},\"id\":\"db72e00b-b3bb-4732-9c0c-e47fab4d90e2\",\"type\":\"HelpTool\"},{\"attributes\":{\"active_drag\":\"auto\",\"active_scroll\":\"auto\",\"active_tap\":\"auto\",\"tools\":[{\"id\":\"b31f2175-deed-4a56-bc54-99dbc96ab3a5\",\"type\":\"PanTool\"},{\"id\":\"2fb30f67-b14c-46ab-8e13-64c1dd62919b\",\"type\":\"WheelZoomTool\"},{\"id\":\"3dda1919-6986-46a2-9eb9-fa796b03dc6c\",\"type\":\"BoxZoomTool\"},{\"id\":\"e50d715d-f108-468b-93c9-9a2e3a8025e8\",\"type\":\"SaveTool\"},{\"id\":\"868a4092-fe89-4ce6-9b56-530a3227955c\",\"type\":\"ResetTool\"},{\"id\":\"db72e00b-b3bb-4732-9c0c-e47fab4d90e2\",\"type\":\"HelpTool\"}]},\"id\":\"fb521afd-bc29-46ef-83b4-4f59c1c88773\",\"type\":\"Toolbar\"},{\"attributes\":{\"legends\":[[\"WT\",[{\"id\":\"1f46f51e-f19b-483f-aaf2-b16c532f6bf7\",\"type\":\"GlyphRenderer\"}]]],\"plot\":{\"id\":\"e493cdf1-2c06-47ba-a9bd-c69cc5a3abdc\",\"subtype\":\"Figure\",\"type\":\"Plot\"}},\"id\":\"6e3f81f0-563b-450b-96f7-5ebc52143b3a\",\"type\":\"Legend\"},{\"attributes\":{\"line_color\":{\"value\":\"#B3E2CD\"},\"x\":{\"field\":\"x\"},\"y\":{\"field\":\"y\"}},\"id\":\"fa0c6e92-c5a6-44b5-9090-dbca91341f75\",\"type\":\"Line\"},{\"attributes\":{\"line_alpha\":{\"value\":0.1},\"line_color\":{\"value\":\"#1f77b4\"},\"x\":{\"field\":\"x\"},\"y\":{\"field\":\"y\"}},\"id\":\"a986362f-5c91-4014-bdad-0e222d347ad8\",\"type\":\"Line\"},{\"attributes\":{\"line_alpha\":{\"value\":0.1},\"line_color\":{\"value\":\"#1f77b4\"},\"x\":{\"field\":\"x\"},\"y\":{\"field\":\"y\"}},\"id\":\"eabc2b2a-bd2b-4bc5-9339-7f1f9785c538\",\"type\":\"Line\"},{\"attributes\":{\"callback\":null,\"column_names\":[\"y\",\"x\"],\"data\":{\"x\":[0.2878657037040116,0.27271487719327414,0.2575640506825367,0.24241322417179922,0.2272623976610618,0.21211157115032434,0.19696074463958688,0.18180991812884945,0.166659091618112,0.15150826510737453,0.13635743859663707,0.12120661208589961,0.10605578557516215,0.0909049590644247,0.07575413255368726,0.060603306042949806,0.04545247953221235,0.030301653021474917,0.015150826510737458,0.0,0.0,0.015150826510737458,0.030301653021474917,0.04545247953221235,0.060603306042949806,0.07575413255368726,0.0909049590644247,0.10605578557516215,0.12120661208589961,0.13635743859663707,0.15150826510737453,0.166659091618112,0.18180991812884945,0.19696074463958688,0.21211157115032434,0.2272623976610618,0.24241322417179922,0.2575640506825367,0.27271487719327414,0.2878657037040116],\"y\":[0.0,0.0,0.0,0.0,0.0,0.0,0.0,0.0,0.0,0.0,0.0,0.0,0.0,0.0,0.0,0.0,0.0,0.0,0.0,0.0,3.0354906054279778,2.875754106417992,2.716017607408003,2.556281108398015,2.39654460938804,2.2368081103780573,2.0770716113680656,1.91733511235809,1.7575986133480912,1.5978621143381073,1.4381256153281172,1.2783891163181502,1.118652617308156,0.9589161182981718,0.799179619288189,0.6394431202781992,0.47970662126821073,0.3199701222582416,0.16023362324825038,0.0]}},\"id\":\"d8ded7be-06a8-4026-b72e-24df01f57b80\",\"type\":\"ColumnDataSource\"},{\"attributes\":{\"children\":[{\"id\":\"e493cdf1-2c06-47ba-a9bd-c69cc5a3abdc\",\"subtype\":\"Figure\",\"type\":\"Plot\"},{\"id\":\"c0d7c695-255e-43f0-8c43-40a9818e5de0\",\"subtype\":\"Figure\",\"type\":\"Plot\"}]},\"id\":\"fe9977f1-31f9-4aed-8384-f91922b6269b\",\"type\":\"Row\"},{\"attributes\":{\"plot\":{\"id\":\"818b2374-4586-43d0-a259-938a22b15126\",\"subtype\":\"Figure\",\"type\":\"Plot\"},\"ticker\":{\"id\":\"9eea8a1c-27d0-46d1-b453-d23e9fe47c46\",\"type\":\"BasicTicker\"}},\"id\":\"41aaab5c-d30a-4df8-ac26-24b745a76116\",\"type\":\"Grid\"},{\"attributes\":{\"callback\":null,\"column_names\":[\"y\",\"x\"],\"data\":{\"x\":[0.2878657037040292,0.2727148771932908,0.25756405068255245,0.24241322417181405,0.22726239766107567,0.2121115711503373,0.19696074463959892,0.18180991812886055,0.16665909161812215,0.15150826510738377,0.1363574385966454,0.12120661208590702,0.10605578557516865,0.09090495906443027,0.07575413255369187,0.0606033060429535,0.04545247953221512,0.03030165302147675,0.015150826510738347,0.0],\"y\":[0.0,0.0,0.0,0.0,0.0,0.0,0.0,0.0,0.0,0.0,0.0,0.0,0.0,0.0,0.0,0.0,0.0,0.0,0.0,0.0]}},\"id\":\"dc2b5000-139d-4f05-8589-fb88cffe4ba3\",\"type\":\"ColumnDataSource\"},{\"attributes\":{},\"id\":\"a233c9a1-582d-48b8-94b3-0eca33bec75f\",\"type\":\"ToolEvents\"},{\"attributes\":{\"sizing_mode\":\"scale_width\",\"toolbar_location\":\"above\",\"tools\":[{\"id\":\"fd5e9329-b35f-4dbf-bf61-7ff4e8264d78\",\"type\":\"PanTool\"},{\"id\":\"d6fce93c-b55f-4e5d-acbf-d96a57a06afe\",\"type\":\"WheelZoomTool\"},{\"id\":\"fa8039c5-0696-400f-b9ff-ac0889644f49\",\"type\":\"BoxZoomTool\"},{\"id\":\"43f29ae7-14b5-49e4-a731-4e59b8258aa8\",\"type\":\"SaveTool\"},{\"id\":\"6268baf1-ae54-46ec-b141-70655fce08ad\",\"type\":\"ResetTool\"},{\"id\":\"20272675-c8f2-472c-b956-c1aa91092d38\",\"type\":\"HelpTool\"},{\"id\":\"b31f2175-deed-4a56-bc54-99dbc96ab3a5\",\"type\":\"PanTool\"},{\"id\":\"2fb30f67-b14c-46ab-8e13-64c1dd62919b\",\"type\":\"WheelZoomTool\"},{\"id\":\"3dda1919-6986-46a2-9eb9-fa796b03dc6c\",\"type\":\"BoxZoomTool\"},{\"id\":\"e50d715d-f108-468b-93c9-9a2e3a8025e8\",\"type\":\"SaveTool\"},{\"id\":\"868a4092-fe89-4ce6-9b56-530a3227955c\",\"type\":\"ResetTool\"},{\"id\":\"db72e00b-b3bb-4732-9c0c-e47fab4d90e2\",\"type\":\"HelpTool\"},{\"id\":\"91aad6d5-36c3-4c01-9d6e-d27b8f2078e8\",\"type\":\"PanTool\"},{\"id\":\"26e753a8-c242-4721-ba14-fb8b4133ea88\",\"type\":\"WheelZoomTool\"},{\"id\":\"ae0dba7d-f6a4-4f4f-aecd-0818f7673709\",\"type\":\"BoxZoomTool\"},{\"id\":\"78708d94-22bf-49f0-83a8-04780e90b606\",\"type\":\"SaveTool\"},{\"id\":\"edb2ca5d-d27d-4196-9a6f-73305add0438\",\"type\":\"ResetTool\"},{\"id\":\"44a09c71-df07-4ee0-ad6d-0b74e38fb8c8\",\"type\":\"HelpTool\"},{\"id\":\"a1486c80-2cda-4d33-98a7-e7c0986fb4cc\",\"type\":\"PanTool\"},{\"id\":\"86fcfbc8-0c1a-4c98-be5c-d0593df23c45\",\"type\":\"WheelZoomTool\"},{\"id\":\"ecba0044-d3a9-408c-898c-273def46f444\",\"type\":\"BoxZoomTool\"},{\"id\":\"95ba0b0f-6657-4c38-8a98-0c9437acca02\",\"type\":\"SaveTool\"},{\"id\":\"9a32b72f-8d15-47c2-a1c9-b69af602704b\",\"type\":\"ResetTool\"},{\"id\":\"765b3afd-073c-4519-b519-08a5a9e69d24\",\"type\":\"HelpTool\"}]},\"id\":\"ad3e75ee-45f1-412b-911e-4c065b689d52\",\"type\":\"ToolbarBox\"},{\"attributes\":{\"callback\":null},\"id\":\"d31af0fa-c4ce-43c1-89e9-dad4ac8fed8e\",\"type\":\"DataRange1d\"},{\"attributes\":{},\"id\":\"62f6594f-9a61-4363-9de8-c6270dd15b06\",\"type\":\"BasicTickFormatter\"},{\"attributes\":{\"plot\":{\"id\":\"c0d7c695-255e-43f0-8c43-40a9818e5de0\",\"subtype\":\"Figure\",\"type\":\"Plot\"}},\"id\":\"a1486c80-2cda-4d33-98a7-e7c0986fb4cc\",\"type\":\"PanTool\"},{\"attributes\":{\"plot\":{\"id\":\"e493cdf1-2c06-47ba-a9bd-c69cc5a3abdc\",\"subtype\":\"Figure\",\"type\":\"Plot\"}},\"id\":\"26e753a8-c242-4721-ba14-fb8b4133ea88\",\"type\":\"WheelZoomTool\"},{\"attributes\":{},\"id\":\"c2dae41c-11cf-4e59-a249-69b5205ae6cb\",\"type\":\"BasicTicker\"},{\"attributes\":{},\"id\":\"3d1beff7-84be-4c6a-8ba8-b424e435cd0d\",\"type\":\"BasicTickFormatter\"},{\"attributes\":{},\"id\":\"b39b23ef-eb3b-4143-bc2b-001790c5b76c\",\"type\":\"ToolEvents\"},{\"attributes\":{\"bottom_units\":\"screen\",\"fill_alpha\":{\"value\":0.5},\"fill_color\":{\"value\":\"lightgrey\"},\"left_units\":\"screen\",\"level\":\"overlay\",\"line_alpha\":{\"value\":1.0},\"line_color\":{\"value\":\"black\"},\"line_dash\":[4,4],\"line_width\":{\"value\":2},\"plot\":null,\"render_mode\":\"css\",\"right_units\":\"screen\",\"top_units\":\"screen\"},\"id\":\"89af4423-5399-4cd1-8e81-af09d72d2c28\",\"type\":\"BoxAnnotation\"},{\"attributes\":{\"callback\":null,\"column_names\":[\"y\",\"x\"],\"data\":{\"x\":[0.0,0.0],\"y\":[3.0354906054279778,0.0]}},\"id\":\"73bac8a1-f7ee-475b-be18-08e00420912a\",\"type\":\"ColumnDataSource\"},{\"attributes\":{\"bottom_units\":\"screen\",\"fill_alpha\":{\"value\":0.5},\"fill_color\":{\"value\":\"lightgrey\"},\"left_units\":\"screen\",\"level\":\"overlay\",\"line_alpha\":{\"value\":1.0},\"line_color\":{\"value\":\"black\"},\"line_dash\":[4,4],\"line_width\":{\"value\":2},\"plot\":null,\"render_mode\":\"css\",\"right_units\":\"screen\",\"top_units\":\"screen\"},\"id\":\"baa6a727-b151-405a-a546-9ddbe8b29947\",\"type\":\"BoxAnnotation\"},{\"attributes\":{\"line_alpha\":{\"value\":0.1},\"line_color\":{\"value\":\"#1f77b4\"},\"x\":{\"field\":\"x\"},\"y\":{\"field\":\"y\"}},\"id\":\"9863380e-51b5-4ebd-9038-5f1eaa218940\",\"type\":\"Line\"},{\"attributes\":{\"axis_label\":\"DM_MNXM754\",\"formatter\":{\"id\":\"33083b1a-4d8e-4023-aa08-f07dce7d367c\",\"type\":\"BasicTickFormatter\"},\"plot\":{\"id\":\"c0d7c695-255e-43f0-8c43-40a9818e5de0\",\"subtype\":\"Figure\",\"type\":\"Plot\"},\"ticker\":{\"id\":\"b72aa3a0-f144-44fb-a887-243bd23c347f\",\"type\":\"BasicTicker\"}},\"id\":\"6206833d-23dc-457a-9637-0213c1bd5a09\",\"type\":\"LinearAxis\"},{\"attributes\":{\"dimension\":1,\"plot\":{\"id\":\"e493cdf1-2c06-47ba-a9bd-c69cc5a3abdc\",\"subtype\":\"Figure\",\"type\":\"Plot\"},\"ticker\":{\"id\":\"aa7dea42-7096-4109-ad9e-559abc20f203\",\"type\":\"BasicTicker\"}},\"id\":\"e3fc6e5a-56df-4ecc-9ba4-34f86d9d00c0\",\"type\":\"Grid\"},{\"attributes\":{\"axis_label\":\"BIOMASS_SC5_notrace\",\"formatter\":{\"id\":\"e6564d42-024c-4b85-aaca-cf91cea16621\",\"type\":\"BasicTickFormatter\"},\"plot\":{\"id\":\"818b2374-4586-43d0-a259-938a22b15126\",\"subtype\":\"Figure\",\"type\":\"Plot\"},\"ticker\":{\"id\":\"9eea8a1c-27d0-46d1-b453-d23e9fe47c46\",\"type\":\"BasicTicker\"}},\"id\":\"d4887a50-16ef-4621-9eb8-aa5180e2d757\",\"type\":\"LinearAxis\"},{\"attributes\":{\"fill_alpha\":{\"value\":0.1},\"fill_color\":{\"value\":\"#1f77b4\"},\"line_alpha\":{\"value\":0.1},\"line_color\":{\"value\":\"#1f77b4\"},\"x\":{\"field\":\"x\"},\"y\":{\"field\":\"y\"}},\"id\":\"509bf5ef-9523-4e52-a3fa-9b980ddd0cf4\",\"type\":\"Patch\"},{\"attributes\":{\"data_source\":{\"id\":\"75a41276-a826-4b0d-8dd8-31a89945cd8e\",\"type\":\"ColumnDataSource\"},\"glyph\":{\"id\":\"e999b870-e6b2-478e-8d3a-f9f48a19b037\",\"type\":\"Patch\"},\"hover_glyph\":null,\"nonselection_glyph\":{\"id\":\"1eb6438e-76f2-41a8-b8ac-721132e71e65\",\"type\":\"Patch\"},\"selection_glyph\":null},\"id\":\"1f46f51e-f19b-483f-aaf2-b16c532f6bf7\",\"type\":\"GlyphRenderer\"},{\"attributes\":{\"below\":[{\"id\":\"5d3251aa-d009-453b-82d0-2dc12a11aacd\",\"type\":\"LinearAxis\"}],\"left\":[{\"id\":\"212226ec-1031-43c1-b451-c5cdae77706a\",\"type\":\"LinearAxis\"}],\"plot_height\":278,\"plot_width\":450,\"renderers\":[{\"id\":\"5d3251aa-d009-453b-82d0-2dc12a11aacd\",\"type\":\"LinearAxis\"},{\"id\":\"eea3eb38-0d41-4be2-ae96-08fb527907b8\",\"type\":\"Grid\"},{\"id\":\"212226ec-1031-43c1-b451-c5cdae77706a\",\"type\":\"LinearAxis\"},{\"id\":\"e3fc6e5a-56df-4ecc-9ba4-34f86d9d00c0\",\"type\":\"Grid\"},{\"id\":\"89af4423-5399-4cd1-8e81-af09d72d2c28\",\"type\":\"BoxAnnotation\"},{\"id\":\"6e3f81f0-563b-450b-96f7-5ebc52143b3a\",\"type\":\"Legend\"},{\"id\":\"1f46f51e-f19b-483f-aaf2-b16c532f6bf7\",\"type\":\"GlyphRenderer\"},{\"id\":\"66da5222-35a8-4b32-aa2c-79d2762915e8\",\"type\":\"GlyphRenderer\"},{\"id\":\"52d2c30a-57ee-47bd-91f7-f205e869b233\",\"type\":\"GlyphRenderer\"},{\"id\":\"0119e388-3851-4e20-8a0e-778842d11193\",\"type\":\"GlyphRenderer\"}],\"title\":{\"id\":\"474f001f-f19a-4cac-a0b3-679fc0e5ec2f\",\"type\":\"Title\"},\"tool_events\":{\"id\":\"a233c9a1-582d-48b8-94b3-0eca33bec75f\",\"type\":\"ToolEvents\"},\"toolbar\":{\"id\":\"1db58ece-5ca1-4a79-b7a6-97d3e8f2c40d\",\"type\":\"Toolbar\"},\"toolbar_location\":null,\"x_range\":{\"id\":\"6fd66bc2-37cd-468d-b70a-c6b617a6c8c9\",\"type\":\"DataRange1d\"},\"y_range\":{\"id\":\"d9964d21-cfb6-4874-bc79-583909f9e230\",\"type\":\"DataRange1d\"}},\"id\":\"e493cdf1-2c06-47ba-a9bd-c69cc5a3abdc\",\"subtype\":\"Figure\",\"type\":\"Plot\"},{\"attributes\":{\"axis_label\":\"DM_MNXM754\",\"formatter\":{\"id\":\"62f6594f-9a61-4363-9de8-c6270dd15b06\",\"type\":\"BasicTickFormatter\"},\"plot\":{\"id\":\"818b2374-4586-43d0-a259-938a22b15126\",\"subtype\":\"Figure\",\"type\":\"Plot\"},\"ticker\":{\"id\":\"d7d5f373-7f11-46af-bd5e-1c31edcbc3f6\",\"type\":\"BasicTicker\"}},\"id\":\"8c1591ac-7b38-4a77-94fe-5ceefa912f53\",\"type\":\"LinearAxis\"},{\"attributes\":{\"callback\":null,\"column_names\":[\"y\",\"x\"],\"data\":{\"x\":[0.2878657037040162,0.2727148771932785,0.25756405068254085,0.2424132241718031,0.22726239766106543,0.21211157115032775,0.19696074463959004,0.18180991812885233,0.16665909161811465,0.15150826510737697,0.13635743859663926,0.12120661208590155,0.10605578557516387,0.0909049590644262,0.07575413255368849,0.06060330604295078,0.0454524795322131,0.030301653021475417,0.015150826510737736,0.0,0.0,0.015150826510737736,0.030301653021475417,0.0454524795322131,0.06060330604295078,0.07575413255368849,0.0909049590644262,0.10605578557516387,0.12120661208590155,0.13635743859663926,0.15150826510737697,0.16665909161811465,0.18180991812885233,0.19696074463959004,0.21211157115032775,0.22726239766106543,0.2424132241718031,0.25756405068254085,0.2727148771932785,0.2878657037040162],\"y\":[0.0,0.0,0.0,0.0,0.0,0.0,0.0,0.0,0.0,0.0,0.0,0.0,0.0,0.0,0.0,0.0,0.0,0.0,0.0,0.0,2.6975881261595536,2.555633055610815,2.4136779850620433,2.271722914513249,2.1297678439644945,1.9878127734157385,1.84585770286696,1.7039026323182014,1.5619475617694198,1.4199924912206823,1.2780374206719434,1.1360823501232125,0.9941272795743934,0.8521722090256171,0.7102171384768697,0.5682620679281073,0.42630699737932426,0.2843519268305634,0.14239685628177895,0.0]}},\"id\":\"f7de5daf-7688-43b2-8c28-b610a9459a1b\",\"type\":\"ColumnDataSource\"},{\"attributes\":{\"data_source\":{\"id\":\"4bfc71a7-6c67-402c-898c-b9db5b9cbfa7\",\"type\":\"ColumnDataSource\"},\"glyph\":{\"id\":\"f3728011-04c6-4069-85c1-16275e2ca094\",\"type\":\"Line\"},\"hover_glyph\":null,\"nonselection_glyph\":{\"id\":\"eabc2b2a-bd2b-4bc5-9339-7f1f9785c538\",\"type\":\"Line\"},\"selection_glyph\":null},\"id\":\"36c8131d-1776-4b22-9608-d33025f8bda9\",\"type\":\"GlyphRenderer\"},{\"attributes\":{\"plot\":{\"id\":\"c0d7c695-255e-43f0-8c43-40a9818e5de0\",\"subtype\":\"Figure\",\"type\":\"Plot\"}},\"id\":\"95ba0b0f-6657-4c38-8a98-0c9437acca02\",\"type\":\"SaveTool\"},{\"attributes\":{\"fill_alpha\":{\"value\":0.3},\"fill_color\":{\"value\":\"#B3E2CD\"},\"line_color\":{\"value\":\"#1f77b4\"},\"x\":{\"field\":\"x\"},\"y\":{\"field\":\"y\"}},\"id\":\"e999b870-e6b2-478e-8d3a-f9f48a19b037\",\"type\":\"Patch\"},{\"attributes\":{\"plot\":{\"id\":\"c0d7c695-255e-43f0-8c43-40a9818e5de0\",\"subtype\":\"Figure\",\"type\":\"Plot\"},\"ticker\":{\"id\":\"fe8b88fe-6f11-4dc1-9fd8-97f90cf99d71\",\"type\":\"BasicTicker\"}},\"id\":\"6ea99236-7b2f-4d2a-94f2-f17b76641e19\",\"type\":\"Grid\"},{\"attributes\":{\"overlay\":{\"id\":\"6dcd03fb-0aee-465c-b862-f34104aac2b7\",\"type\":\"BoxAnnotation\"},\"plot\":{\"id\":\"c0d7c695-255e-43f0-8c43-40a9818e5de0\",\"subtype\":\"Figure\",\"type\":\"Plot\"}},\"id\":\"ecba0044-d3a9-408c-898c-273def46f444\",\"type\":\"BoxZoomTool\"},{\"attributes\":{\"plot\":{\"id\":\"d01ddf81-651a-44fb-8e9b-c31e1c665a40\",\"subtype\":\"Figure\",\"type\":\"Plot\"}},\"id\":\"868a4092-fe89-4ce6-9b56-530a3227955c\",\"type\":\"ResetTool\"},{\"attributes\":{\"data_source\":{\"id\":\"548cffdd-3aa3-4a75-bac3-5fb0b4844081\",\"type\":\"ColumnDataSource\"},\"glyph\":{\"id\":\"2b88ef49-f72a-4165-85f3-f4b93d939fbb\",\"type\":\"Patch\"},\"hover_glyph\":null,\"nonselection_glyph\":{\"id\":\"8b8746d8-3cd8-4abb-a9cc-1e0aa7bc8346\",\"type\":\"Patch\"},\"selection_glyph\":null},\"id\":\"0eb87b15-ad1f-4f4b-b513-1c83a74b723b\",\"type\":\"GlyphRenderer\"},{\"attributes\":{},\"id\":\"9739fcb1-6ff5-4d8a-925b-6a9f1360d3c0\",\"type\":\"ToolEvents\"},{\"attributes\":{\"active_drag\":\"auto\",\"active_scroll\":\"auto\",\"active_tap\":\"auto\",\"tools\":[{\"id\":\"a1486c80-2cda-4d33-98a7-e7c0986fb4cc\",\"type\":\"PanTool\"},{\"id\":\"86fcfbc8-0c1a-4c98-be5c-d0593df23c45\",\"type\":\"WheelZoomTool\"},{\"id\":\"ecba0044-d3a9-408c-898c-273def46f444\",\"type\":\"BoxZoomTool\"},{\"id\":\"95ba0b0f-6657-4c38-8a98-0c9437acca02\",\"type\":\"SaveTool\"},{\"id\":\"9a32b72f-8d15-47c2-a1c9-b69af602704b\",\"type\":\"ResetTool\"},{\"id\":\"765b3afd-073c-4519-b519-08a5a9e69d24\",\"type\":\"HelpTool\"}]},\"id\":\"689df33a-72a2-45a6-bd17-d66e86acc866\",\"type\":\"Toolbar\"},{\"attributes\":{},\"id\":\"cf837c58-1d6e-4e25-a21f-8747b65a8465\",\"type\":\"BasicTickFormatter\"},{\"attributes\":{\"callback\":null,\"column_names\":[\"y\",\"x\"],\"data\":{\"x\":[0.2878657037040116,0.27271487719327414,0.2575640506825367,0.24241322417179922,0.2272623976610618,0.21211157115032434,0.19696074463958688,0.18180991812884945,0.166659091618112,0.15150826510737453,0.13635743859663707,0.12120661208589961,0.10605578557516215,0.0909049590644247,0.07575413255368726,0.060603306042949806,0.04545247953221235,0.030301653021474917,0.015150826510737458,0.0],\"y\":[0.0,0.0,0.0,0.0,0.0,0.0,0.0,0.0,0.0,0.0,0.0,0.0,0.0,0.0,0.0,0.0,0.0,0.0,0.0,0.0]}},\"id\":\"d750cbcf-140b-477f-a875-8b88da5f6f7f\",\"type\":\"ColumnDataSource\"},{\"attributes\":{},\"id\":\"4bf1f894-854d-4216-954e-787c647ae7b8\",\"type\":\"BasicTickFormatter\"},{\"attributes\":{\"line_alpha\":{\"value\":0.1},\"line_color\":{\"value\":\"#1f77b4\"},\"x\":{\"field\":\"x\"},\"y\":{\"field\":\"y\"}},\"id\":\"5ad14e9d-2f05-4a1e-9887-1fbb2cdf1192\",\"type\":\"Line\"},{\"attributes\":{\"line_color\":{\"value\":\"#B3E2CD\"},\"x\":{\"field\":\"x\"},\"y\":{\"field\":\"y\"}},\"id\":\"cff3bc6a-1d2e-406c-9f05-fc2d6150fd91\",\"type\":\"Line\"},{\"attributes\":{\"data_source\":{\"id\":\"1d0a292c-d8ff-4e6e-b706-d3e80d2ae775\",\"type\":\"ColumnDataSource\"},\"glyph\":{\"id\":\"eb87de4d-a200-4224-9e89-c786a38d9457\",\"type\":\"Line\"},\"hover_glyph\":null,\"nonselection_glyph\":{\"id\":\"c839e57a-8ad3-4c69-a589-7c4c289dedc4\",\"type\":\"Line\"},\"selection_glyph\":null},\"id\":\"66da5222-35a8-4b32-aa2c-79d2762915e8\",\"type\":\"GlyphRenderer\"},{\"attributes\":{\"plot\":{\"id\":\"d01ddf81-651a-44fb-8e9b-c31e1c665a40\",\"subtype\":\"Figure\",\"type\":\"Plot\"}},\"id\":\"e50d715d-f108-468b-93c9-9a2e3a8025e8\",\"type\":\"SaveTool\"},{\"attributes\":{},\"id\":\"3eb2cfcc-6e6e-4aa7-a7a8-a2db6e619054\",\"type\":\"BasicTickFormatter\"},{\"attributes\":{\"plot\":{\"id\":\"e493cdf1-2c06-47ba-a9bd-c69cc5a3abdc\",\"subtype\":\"Figure\",\"type\":\"Plot\"}},\"id\":\"91aad6d5-36c3-4c01-9d6e-d27b8f2078e8\",\"type\":\"PanTool\"},{\"attributes\":{\"axis_label\":\"BIOMASS_SC5_notrace\",\"formatter\":{\"id\":\"4bf1f894-854d-4216-954e-787c647ae7b8\",\"type\":\"BasicTickFormatter\"},\"plot\":{\"id\":\"d01ddf81-651a-44fb-8e9b-c31e1c665a40\",\"subtype\":\"Figure\",\"type\":\"Plot\"},\"ticker\":{\"id\":\"4d943f69-5100-41e6-a435-75a7179b2f4b\",\"type\":\"BasicTicker\"}},\"id\":\"4795d6e3-729c-4b8d-a359-1a71264049b4\",\"type\":\"LinearAxis\"},{\"attributes\":{\"fill_alpha\":{\"value\":0.1},\"fill_color\":{\"value\":\"#1f77b4\"},\"line_alpha\":{\"value\":0.1},\"line_color\":{\"value\":\"#1f77b4\"},\"x\":{\"field\":\"x\"},\"y\":{\"field\":\"y\"}},\"id\":\"8b8746d8-3cd8-4abb-a9cc-1e0aa7bc8346\",\"type\":\"Patch\"},{\"attributes\":{\"callback\":null,\"column_names\":[\"y\",\"x\"],\"data\":{\"x\":[0.0,0.0],\"y\":[2.6975881261595536,0.0]}},\"id\":\"cd7c5bf5-74b1-4832-b7f1-b25651ff0e1f\",\"type\":\"ColumnDataSource\"},{\"attributes\":{\"callback\":null,\"column_names\":[\"y\",\"x\"],\"data\":{\"x\":[0.2878657037040162,0.2727148771932785,0.25756405068254085,0.2424132241718031,0.22726239766106543,0.21211157115032775,0.19696074463959004,0.18180991812885233,0.16665909161811465,0.15150826510737697,0.13635743859663926,0.12120661208590155,0.10605578557516387,0.0909049590644262,0.07575413255368849,0.06060330604295078,0.0454524795322131,0.030301653021475417,0.015150826510737736,0.0],\"y\":[0.0,0.14239685628177895,0.2843519268305634,0.42630699737932426,0.5682620679281073,0.7102171384768697,0.8521722090256171,0.9941272795743934,1.1360823501232125,1.2780374206719434,1.4199924912206823,1.5619475617694198,1.7039026323182014,1.84585770286696,1.9878127734157385,2.1297678439644945,2.271722914513249,2.4136779850620433,2.555633055610815,2.6975881261595536]}},\"id\":\"a1d61f79-5363-4bbb-aed4-bb3011153f81\",\"type\":\"ColumnDataSource\"},{\"attributes\":{\"children\":[{\"id\":\"818b2374-4586-43d0-a259-938a22b15126\",\"subtype\":\"Figure\",\"type\":\"Plot\"},{\"id\":\"d01ddf81-651a-44fb-8e9b-c31e1c665a40\",\"subtype\":\"Figure\",\"type\":\"Plot\"}]},\"id\":\"148674ce-dca4-4a41-b4f0-397cf4025fa3\",\"type\":\"Row\"},{\"attributes\":{\"data_source\":{\"id\":\"73bac8a1-f7ee-475b-be18-08e00420912a\",\"type\":\"ColumnDataSource\"},\"glyph\":{\"id\":\"cff3bc6a-1d2e-406c-9f05-fc2d6150fd91\",\"type\":\"Line\"},\"hover_glyph\":null,\"nonselection_glyph\":{\"id\":\"803d67a9-7341-4cb3-b866-2354db6848af\",\"type\":\"Line\"},\"selection_glyph\":null},\"id\":\"719d0212-9787-4a9f-afaf-8f0a74c10a84\",\"type\":\"GlyphRenderer\"},{\"attributes\":{\"overlay\":{\"id\":\"99e33e4f-4d83-48e8-af44-384d45339600\",\"type\":\"BoxAnnotation\"},\"plot\":{\"id\":\"818b2374-4586-43d0-a259-938a22b15126\",\"subtype\":\"Figure\",\"type\":\"Plot\"}},\"id\":\"fa8039c5-0696-400f-b9ff-ac0889644f49\",\"type\":\"BoxZoomTool\"},{\"attributes\":{\"dimension\":1,\"plot\":{\"id\":\"818b2374-4586-43d0-a259-938a22b15126\",\"subtype\":\"Figure\",\"type\":\"Plot\"},\"ticker\":{\"id\":\"d7d5f373-7f11-46af-bd5e-1c31edcbc3f6\",\"type\":\"BasicTicker\"}},\"id\":\"b5961884-eea1-4907-b858-a55f8d7a08c0\",\"type\":\"Grid\"},{\"attributes\":{\"callback\":null},\"id\":\"6fd66bc2-37cd-468d-b70a-c6b617a6c8c9\",\"type\":\"DataRange1d\"},{\"attributes\":{\"axis_label\":\"DM_MNXM754\",\"formatter\":{\"id\":\"f436ea77-0aef-4454-886e-4445dbcafd50\",\"type\":\"BasicTickFormatter\"},\"plot\":{\"id\":\"d01ddf81-651a-44fb-8e9b-c31e1c665a40\",\"subtype\":\"Figure\",\"type\":\"Plot\"},\"ticker\":{\"id\":\"c2dae41c-11cf-4e59-a249-69b5205ae6cb\",\"type\":\"BasicTicker\"}},\"id\":\"a8d1404c-979e-445b-8ec5-91de33420b7b\",\"type\":\"LinearAxis\"},{\"attributes\":{\"data_source\":{\"id\":\"b4beaaec-c467-42ed-92de-d0da0b41d143\",\"type\":\"ColumnDataSource\"},\"glyph\":{\"id\":\"43a6549e-ff85-4148-a54c-16e569db8631\",\"type\":\"Line\"},\"hover_glyph\":null,\"nonselection_glyph\":{\"id\":\"cf148cf6-62f8-411f-9756-5095084029c9\",\"type\":\"Line\"},\"selection_glyph\":null},\"id\":\"28ad27b8-cde6-4ae9-84cc-7a59f67734b1\",\"type\":\"GlyphRenderer\"},{\"attributes\":{\"callback\":null,\"column_names\":[\"y\",\"x\"],\"data\":{\"x\":[0.28786894488714065,0.27271794778781744,0.2575669506884943,0.24241595358917106,0.22726495648984787,0.2121139593905247,0.1969629622912015,0.1818119651918783,0.1666609680925551,0.1515099709932319,0.13635897389390872,0.12120797679458553,0.10605697969526234,0.09090598259593916,0.07575498549661594,0.06060398839729275,0.045452991297969564,0.030301994198646376,0.01515099709932316,0.0],\"y\":[-5.484224185892117e-13,0.1534727972120189,0.30650208625578906,0.459531375299563,0.6125606643433213,0.7655899533871281,0.9186192424308893,1.0716485314746889,1.2246778205184616,1.3777071095622435,1.5307363986060214,1.683765687649774,1.83679497669356,1.989824265737322,2.142853554781121,2.2958828438248955,2.448912132868667,2.6019414219124415,2.7549707109562216,2.9080000000000013]}},\"id\":\"1d0a292c-d8ff-4e6e-b706-d3e80d2ae775\",\"type\":\"ColumnDataSource\"},{\"attributes\":{\"plot\":null,\"text\":\"Pathway 1\"},\"id\":\"e1f2e79d-f1a4-4342-9321-72411ace2257\",\"type\":\"Title\"},{\"attributes\":{\"callback\":null},\"id\":\"2a9857e4-91ff-4f3b-a64c-afcc5a6c7625\",\"type\":\"DataRange1d\"},{\"attributes\":{\"line_color\":{\"value\":\"#B3E2CD\"},\"x\":{\"field\":\"x\"},\"y\":{\"field\":\"y\"}},\"id\":\"5bdd60c4-d046-4d74-9917-a40fac8fe20c\",\"type\":\"Line\"},{\"attributes\":{\"callback\":null,\"column_names\":[\"y\",\"x\"],\"data\":{\"x\":[0.2878657037040116,0.27271487719327414,0.2575640506825367,0.24241322417179922,0.2272623976610618,0.21211157115032434,0.19696074463958688,0.18180991812884945,0.166659091618112,0.15150826510737453,0.13635743859663707,0.12120661208589961,0.10605578557516215,0.0909049590644247,0.07575413255368726,0.060603306042949806,0.04545247953221235,0.030301653021474917,0.015150826510737458,0.0],\"y\":[0.0,0.16023362324825038,0.3199701222582416,0.47970662126821073,0.6394431202781992,0.799179619288189,0.9589161182981718,1.118652617308156,1.2783891163181502,1.4381256153281172,1.5978621143381073,1.7575986133480912,1.91733511235809,2.0770716113680656,2.2368081103780573,2.39654460938804,2.556281108398015,2.716017607408003,2.875754106417992,3.0354906054279778]}},\"id\":\"457ab69b-cad5-4a33-a8b1-4b12294c91e2\",\"type\":\"ColumnDataSource\"},{\"attributes\":{\"callback\":null},\"id\":\"5ef892f3-fac3-4636-a649-cec3d13490f0\",\"type\":\"DataRange1d\"},{\"attributes\":{\"plot\":{\"id\":\"818b2374-4586-43d0-a259-938a22b15126\",\"subtype\":\"Figure\",\"type\":\"Plot\"}},\"id\":\"fd5e9329-b35f-4dbf-bf61-7ff4e8264d78\",\"type\":\"PanTool\"},{\"attributes\":{\"plot\":{\"id\":\"d01ddf81-651a-44fb-8e9b-c31e1c665a40\",\"subtype\":\"Figure\",\"type\":\"Plot\"},\"ticker\":{\"id\":\"4d943f69-5100-41e6-a435-75a7179b2f4b\",\"type\":\"BasicTicker\"}},\"id\":\"12efc46e-3630-4147-9ac7-c4a3f37fd0c2\",\"type\":\"Grid\"},{\"attributes\":{},\"id\":\"b72aa3a0-f144-44fb-a887-243bd23c347f\",\"type\":\"BasicTicker\"},{\"attributes\":{\"fill_alpha\":{\"value\":0.3},\"fill_color\":{\"value\":\"#B3E2CD\"},\"line_color\":{\"value\":\"#1f77b4\"},\"x\":{\"field\":\"x\"},\"y\":{\"field\":\"y\"}},\"id\":\"352d2113-5d52-4ef8-bd4a-9b83c97d9b2d\",\"type\":\"Patch\"},{\"attributes\":{\"data_source\":{\"id\":\"d750cbcf-140b-477f-a875-8b88da5f6f7f\",\"type\":\"ColumnDataSource\"},\"glyph\":{\"id\":\"5bdd60c4-d046-4d74-9917-a40fac8fe20c\",\"type\":\"Line\"},\"hover_glyph\":null,\"nonselection_glyph\":{\"id\":\"5ad14e9d-2f05-4a1e-9887-1fbb2cdf1192\",\"type\":\"Line\"},\"selection_glyph\":null},\"id\":\"a541a6dc-3913-4f0a-9a79-ccdaefcc4767\",\"type\":\"GlyphRenderer\"},{\"attributes\":{\"data_source\":{\"id\":\"a71f987c-8858-49a6-a58b-4b9a73272b08\",\"type\":\"ColumnDataSource\"},\"glyph\":{\"id\":\"f55442aa-c038-42b8-aaae-c4ed6a73eca7\",\"type\":\"Line\"},\"hover_glyph\":null,\"nonselection_glyph\":{\"id\":\"b3946c0f-1f8f-4a29-b116-b32d0bea3bb1\",\"type\":\"Line\"},\"selection_glyph\":null},\"id\":\"3f55f702-4307-4e50-b195-338bfdbebf8e\",\"type\":\"GlyphRenderer\"},{\"attributes\":{\"plot\":{\"id\":\"d01ddf81-651a-44fb-8e9b-c31e1c665a40\",\"subtype\":\"Figure\",\"type\":\"Plot\"}},\"id\":\"b31f2175-deed-4a56-bc54-99dbc96ab3a5\",\"type\":\"PanTool\"},{\"attributes\":{},\"id\":\"9eea8a1c-27d0-46d1-b453-d23e9fe47c46\",\"type\":\"BasicTicker\"},{\"attributes\":{\"plot\":{\"id\":\"d01ddf81-651a-44fb-8e9b-c31e1c665a40\",\"subtype\":\"Figure\",\"type\":\"Plot\"}},\"id\":\"2fb30f67-b14c-46ab-8e13-64c1dd62919b\",\"type\":\"WheelZoomTool\"},{\"attributes\":{\"dimension\":1,\"plot\":{\"id\":\"d01ddf81-651a-44fb-8e9b-c31e1c665a40\",\"subtype\":\"Figure\",\"type\":\"Plot\"},\"ticker\":{\"id\":\"c2dae41c-11cf-4e59-a249-69b5205ae6cb\",\"type\":\"BasicTicker\"}},\"id\":\"e631748d-21e0-4669-ab82-f01aa55ac78b\",\"type\":\"Grid\"},{\"attributes\":{\"line_alpha\":{\"value\":0.1},\"line_color\":{\"value\":\"#1f77b4\"},\"x\":{\"field\":\"x\"},\"y\":{\"field\":\"y\"}},\"id\":\"cf148cf6-62f8-411f-9756-5095084029c9\",\"type\":\"Line\"},{\"attributes\":{},\"id\":\"e6564d42-024c-4b85-aaca-cf91cea16621\",\"type\":\"BasicTickFormatter\"},{\"attributes\":{},\"id\":\"33083b1a-4d8e-4023-aa08-f07dce7d367c\",\"type\":\"BasicTickFormatter\"},{\"attributes\":{\"callback\":null,\"column_names\":[\"y\",\"x\"],\"data\":{\"x\":[0.2878657037040162,0.2727148771932785,0.25756405068254085,0.2424132241718031,0.22726239766106543,0.21211157115032775,0.19696074463959004,0.18180991812885233,0.16665909161811465,0.15150826510737697,0.13635743859663926,0.12120661208590155,0.10605578557516387,0.0909049590644262,0.07575413255368849,0.06060330604295078,0.0454524795322131,0.030301653021475417,0.015150826510737736,0.0],\"y\":[0.0,0.0,0.0,0.0,0.0,0.0,0.0,0.0,0.0,0.0,0.0,0.0,0.0,0.0,0.0,0.0,0.0,0.0,0.0,0.0]}},\"id\":\"4bfc71a7-6c67-402c-898c-b9db5b9cbfa7\",\"type\":\"ColumnDataSource\"},{\"attributes\":{\"plot\":null,\"text\":\"Pathway 2\"},\"id\":\"3db37311-788c-4aa9-ba92-35c1fb516f76\",\"type\":\"Title\"},{\"attributes\":{\"active_drag\":\"auto\",\"active_scroll\":\"auto\",\"active_tap\":\"auto\",\"tools\":[{\"id\":\"91aad6d5-36c3-4c01-9d6e-d27b8f2078e8\",\"type\":\"PanTool\"},{\"id\":\"26e753a8-c242-4721-ba14-fb8b4133ea88\",\"type\":\"WheelZoomTool\"},{\"id\":\"ae0dba7d-f6a4-4f4f-aecd-0818f7673709\",\"type\":\"BoxZoomTool\"},{\"id\":\"78708d94-22bf-49f0-83a8-04780e90b606\",\"type\":\"SaveTool\"},{\"id\":\"edb2ca5d-d27d-4196-9a6f-73305add0438\",\"type\":\"ResetTool\"},{\"id\":\"44a09c71-df07-4ee0-ad6d-0b74e38fb8c8\",\"type\":\"HelpTool\"}]},\"id\":\"1db58ece-5ca1-4a79-b7a6-97d3e8f2c40d\",\"type\":\"Toolbar\"},{\"attributes\":{\"bottom_units\":\"screen\",\"fill_alpha\":{\"value\":0.5},\"fill_color\":{\"value\":\"lightgrey\"},\"left_units\":\"screen\",\"level\":\"overlay\",\"line_alpha\":{\"value\":1.0},\"line_color\":{\"value\":\"black\"},\"line_dash\":[4,4],\"line_width\":{\"value\":2},\"plot\":null,\"render_mode\":\"css\",\"right_units\":\"screen\",\"top_units\":\"screen\"},\"id\":\"99e33e4f-4d83-48e8-af44-384d45339600\",\"type\":\"BoxAnnotation\"},{\"attributes\":{\"data_source\":{\"id\":\"dc2b5000-139d-4f05-8589-fb88cffe4ba3\",\"type\":\"ColumnDataSource\"},\"glyph\":{\"id\":\"2e8432d8-3dcd-4d36-b424-30433de02ebc\",\"type\":\"Line\"},\"hover_glyph\":null,\"nonselection_glyph\":{\"id\":\"9863380e-51b5-4ebd-9038-5f1eaa218940\",\"type\":\"Line\"},\"selection_glyph\":null},\"id\":\"d60d1c64-d26d-45d0-a9df-20587233f389\",\"type\":\"GlyphRenderer\"},{\"attributes\":{\"line_color\":{\"value\":\"#B3E2CD\"},\"x\":{\"field\":\"x\"},\"y\":{\"field\":\"y\"}},\"id\":\"df478e8d-e57b-4d99-a803-7ed1ec8071d9\",\"type\":\"Line\"},{\"attributes\":{\"children\":[{\"id\":\"148674ce-dca4-4a41-b4f0-397cf4025fa3\",\"type\":\"Row\"},{\"id\":\"fe9977f1-31f9-4aed-8384-f91922b6269b\",\"type\":\"Row\"}]},\"id\":\"0431dcda-95a0-4502-a4c8-cb83231f378f\",\"type\":\"Column\"},{\"attributes\":{\"legends\":[[\"WT\",[{\"id\":\"6a326749-211c-4a2f-96ef-5342ead711b7\",\"type\":\"GlyphRenderer\"}]]],\"plot\":{\"id\":\"818b2374-4586-43d0-a259-938a22b15126\",\"subtype\":\"Figure\",\"type\":\"Plot\"}},\"id\":\"c8b54251-1622-4fbf-adc3-20148d3bdf2e\",\"type\":\"Legend\"},{\"attributes\":{\"line_color\":{\"value\":\"#B3E2CD\"},\"x\":{\"field\":\"x\"},\"y\":{\"field\":\"y\"}},\"id\":\"eb87de4d-a200-4224-9e89-c786a38d9457\",\"type\":\"Line\"},{\"attributes\":{\"callback\":null,\"column_names\":[\"y\",\"x\"],\"data\":{\"x\":[0.0,0.0],\"y\":[2.9080000000000013,0.0]}},\"id\":\"63ff87c5-4c38-4992-a135-5fa93ec385d0\",\"type\":\"ColumnDataSource\"},{\"attributes\":{},\"id\":\"d9af512c-51d6-44f7-b34f-9f37b442e3fc\",\"type\":\"ToolEvents\"},{\"attributes\":{\"line_alpha\":{\"value\":0.1},\"line_color\":{\"value\":\"#1f77b4\"},\"x\":{\"field\":\"x\"},\"y\":{\"field\":\"y\"}},\"id\":\"e941ba04-c2af-4f85-bf35-b5c8d803c290\",\"type\":\"Line\"},{\"attributes\":{\"active_drag\":\"auto\",\"active_scroll\":\"auto\",\"active_tap\":\"auto\",\"tools\":[{\"id\":\"fd5e9329-b35f-4dbf-bf61-7ff4e8264d78\",\"type\":\"PanTool\"},{\"id\":\"d6fce93c-b55f-4e5d-acbf-d96a57a06afe\",\"type\":\"WheelZoomTool\"},{\"id\":\"fa8039c5-0696-400f-b9ff-ac0889644f49\",\"type\":\"BoxZoomTool\"},{\"id\":\"43f29ae7-14b5-49e4-a731-4e59b8258aa8\",\"type\":\"SaveTool\"},{\"id\":\"6268baf1-ae54-46ec-b141-70655fce08ad\",\"type\":\"ResetTool\"},{\"id\":\"20272675-c8f2-472c-b956-c1aa91092d38\",\"type\":\"HelpTool\"}]},\"id\":\"02ddffd8-15fd-48b3-a4ca-53f63d47c20d\",\"type\":\"Toolbar\"},{\"attributes\":{\"callback\":null,\"column_names\":[\"y\",\"x\"],\"data\":{\"x\":[0.2878657037040292,0.2727148771932908,0.25756405068255245,0.24241322417181405,0.22726239766107567,0.2121115711503373,0.19696074463959892,0.18180991812886055,0.16665909161812215,0.15150826510738377,0.1363574385966454,0.12120661208590702,0.10605578557516865,0.09090495906443027,0.07575413255369187,0.0606033060429535,0.04545247953221512,0.03030165302147675,0.015150826510738347,0.0],\"y\":[-1.5552004128949193e-12,0.37808820461000625,0.755003391929133,1.1319185792482762,1.5088337665674425,1.8857489538866739,2.259921016256925,2.6135534655560195,2.9671859148548916,3.320818364153746,3.674450813452676,4.028083262751592,4.217532925522397,4.338118253117474,4.458703580712492,4.579288908307592,4.699874235902762,4.820459563497712,4.941044891092815,5.05751391465677]}},\"id\":\"a71f987c-8858-49a6-a58b-4b9a73272b08\",\"type\":\"ColumnDataSource\"},{\"attributes\":{\"plot\":{\"id\":\"818b2374-4586-43d0-a259-938a22b15126\",\"subtype\":\"Figure\",\"type\":\"Plot\"}},\"id\":\"d6fce93c-b55f-4e5d-acbf-d96a57a06afe\",\"type\":\"WheelZoomTool\"},{\"attributes\":{\"fill_alpha\":{\"value\":0.1},\"fill_color\":{\"value\":\"#1f77b4\"},\"line_alpha\":{\"value\":0.1},\"line_color\":{\"value\":\"#1f77b4\"},\"x\":{\"field\":\"x\"},\"y\":{\"field\":\"y\"}},\"id\":\"d074de6f-d44c-49b7-8460-dac27d5e4fee\",\"type\":\"Patch\"},{\"attributes\":{\"line_alpha\":{\"value\":0.1},\"line_color\":{\"value\":\"#1f77b4\"},\"x\":{\"field\":\"x\"},\"y\":{\"field\":\"y\"}},\"id\":\"b3946c0f-1f8f-4a29-b116-b32d0bea3bb1\",\"type\":\"Line\"},{\"attributes\":{\"legends\":[[\"WT\",[{\"id\":\"0eb87b15-ad1f-4f4b-b513-1c83a74b723b\",\"type\":\"GlyphRenderer\"}]]],\"plot\":{\"id\":\"d01ddf81-651a-44fb-8e9b-c31e1c665a40\",\"subtype\":\"Figure\",\"type\":\"Plot\"}},\"id\":\"05da4090-c885-4088-bbb2-8a11659f1ca8\",\"type\":\"Legend\"},{\"attributes\":{\"data_source\":{\"id\":\"457ab69b-cad5-4a33-a8b1-4b12294c91e2\",\"type\":\"ColumnDataSource\"},\"glyph\":{\"id\":\"f87f621a-1f76-48b9-bb1c-b6a43ca0fa2c\",\"type\":\"Line\"},\"hover_glyph\":null,\"nonselection_glyph\":{\"id\":\"e8a625b8-78eb-4703-8dbe-7eaeb8e3241a\",\"type\":\"Line\"},\"selection_glyph\":null},\"id\":\"5933c3c9-5496-4884-a9dd-8f97ca3b82fb\",\"type\":\"GlyphRenderer\"},{\"attributes\":{\"data_source\":{\"id\":\"63ff87c5-4c38-4992-a135-5fa93ec385d0\",\"type\":\"ColumnDataSource\"},\"glyph\":{\"id\":\"bdfb7764-37d5-4958-91be-d359a9487a84\",\"type\":\"Line\"},\"hover_glyph\":null,\"nonselection_glyph\":{\"id\":\"b05b7bfe-9a98-4397-8093-36eefd1e28fe\",\"type\":\"Line\"},\"selection_glyph\":null},\"id\":\"0119e388-3851-4e20-8a0e-778842d11193\",\"type\":\"GlyphRenderer\"},{\"attributes\":{\"line_alpha\":{\"value\":0.1},\"line_color\":{\"value\":\"#1f77b4\"},\"x\":{\"field\":\"x\"},\"y\":{\"field\":\"y\"}},\"id\":\"c839e57a-8ad3-4c69-a589-7c4c289dedc4\",\"type\":\"Line\"},{\"attributes\":{\"line_color\":{\"value\":\"#B3E2CD\"},\"x\":{\"field\":\"x\"},\"y\":{\"field\":\"y\"}},\"id\":\"bdfb7764-37d5-4958-91be-d359a9487a84\",\"type\":\"Line\"},{\"attributes\":{\"line_alpha\":{\"value\":0.1},\"line_color\":{\"value\":\"#1f77b4\"},\"x\":{\"field\":\"x\"},\"y\":{\"field\":\"y\"}},\"id\":\"b16af04c-e877-4bbc-8baf-25c4dcff5cd7\",\"type\":\"Line\"},{\"attributes\":{},\"id\":\"fe8b88fe-6f11-4dc1-9fd8-97f90cf99d71\",\"type\":\"BasicTicker\"},{\"attributes\":{\"fill_alpha\":{\"value\":0.3},\"fill_color\":{\"value\":\"#B3E2CD\"},\"line_color\":{\"value\":\"#1f77b4\"},\"x\":{\"field\":\"x\"},\"y\":{\"field\":\"y\"}},\"id\":\"07f7d74c-65b1-4c32-bfdf-6e0c12c21e28\",\"type\":\"Patch\"},{\"attributes\":{\"callback\":null,\"column_names\":[\"y\",\"x\"],\"data\":{\"x\":[0.28786894488714065,0.27271794778781744,0.2575669506884943,0.24241595358917106,0.22726495648984787,0.2121139593905247,0.1969629622912015,0.1818119651918783,0.1666609680925551,0.1515099709932319,0.13635897389390872,0.12120797679458553,0.10605697969526234,0.09090598259593916,0.07575498549661594,0.06060398839729275,0.045452991297969564,0.030301994198646376,0.01515099709932316,0.0,0.0,0.01515099709932316,0.030301994198646376,0.045452991297969564,0.06060398839729275,0.07575498549661594,0.09090598259593916,0.10605697969526234,0.12120797679458553,0.13635897389390872,0.1515099709932319,0.1666609680925551,0.1818119651918783,0.1969629622912015,0.2121139593905247,0.22726495648984787,0.24241595358917106,0.2575669506884943,0.27271794778781744,0.28786894488714065],\"y\":[0.0,0.0,0.0,0.0,0.0,0.0,0.0,0.0,0.0,0.0,0.0,0.0,0.0,0.0,0.0,0.0,0.0,0.0,0.0,0.0,2.9080000000000013,2.7549707109562216,2.6019414219124415,2.448912132868667,2.2958828438248955,2.142853554781121,1.989824265737322,1.83679497669356,1.683765687649774,1.5307363986060214,1.3777071095622435,1.2246778205184616,1.0716485314746889,0.9186192424308893,0.7655899533871281,0.6125606643433213,0.459531375299563,0.30650208625578906,0.1534727972120189,-5.484224185892117e-13]}},\"id\":\"75a41276-a826-4b0d-8dd8-31a89945cd8e\",\"type\":\"ColumnDataSource\"},{\"attributes\":{},\"id\":\"aa7dea42-7096-4109-ad9e-559abc20f203\",\"type\":\"BasicTicker\"},{\"attributes\":{\"line_alpha\":{\"value\":0.1},\"line_color\":{\"value\":\"#1f77b4\"},\"x\":{\"field\":\"x\"},\"y\":{\"field\":\"y\"}},\"id\":\"b05b7bfe-9a98-4397-8093-36eefd1e28fe\",\"type\":\"Line\"},{\"attributes\":{\"line_color\":{\"value\":\"#B3E2CD\"},\"x\":{\"field\":\"x\"},\"y\":{\"field\":\"y\"}},\"id\":\"f55442aa-c038-42b8-aaae-c4ed6a73eca7\",\"type\":\"Line\"},{\"attributes\":{\"data_source\":{\"id\":\"f7de5daf-7688-43b2-8c28-b610a9459a1b\",\"type\":\"ColumnDataSource\"},\"glyph\":{\"id\":\"07f7d74c-65b1-4c32-bfdf-6e0c12c21e28\",\"type\":\"Patch\"},\"hover_glyph\":null,\"nonselection_glyph\":{\"id\":\"d074de6f-d44c-49b7-8460-dac27d5e4fee\",\"type\":\"Patch\"},\"selection_glyph\":null},\"id\":\"7c1d7f5a-44e9-4ec6-82f8-c11e517b8e25\",\"type\":\"GlyphRenderer\"},{\"attributes\":{\"line_color\":{\"value\":\"#B3E2CD\"},\"x\":{\"field\":\"x\"},\"y\":{\"field\":\"y\"}},\"id\":\"43a6549e-ff85-4148-a54c-16e569db8631\",\"type\":\"Line\"},{\"attributes\":{\"legends\":[[\"WT\",[{\"id\":\"7c1d7f5a-44e9-4ec6-82f8-c11e517b8e25\",\"type\":\"GlyphRenderer\"}]]],\"plot\":{\"id\":\"c0d7c695-255e-43f0-8c43-40a9818e5de0\",\"subtype\":\"Figure\",\"type\":\"Plot\"}},\"id\":\"fbe1a8eb-ccfb-4147-a5ff-983e8b98e8ac\",\"type\":\"Legend\"},{\"attributes\":{\"below\":[{\"id\":\"d4887a50-16ef-4621-9eb8-aa5180e2d757\",\"type\":\"LinearAxis\"}],\"left\":[{\"id\":\"8c1591ac-7b38-4a77-94fe-5ceefa912f53\",\"type\":\"LinearAxis\"}],\"plot_height\":278,\"plot_width\":450,\"renderers\":[{\"id\":\"d4887a50-16ef-4621-9eb8-aa5180e2d757\",\"type\":\"LinearAxis\"},{\"id\":\"41aaab5c-d30a-4df8-ac26-24b745a76116\",\"type\":\"Grid\"},{\"id\":\"8c1591ac-7b38-4a77-94fe-5ceefa912f53\",\"type\":\"LinearAxis\"},{\"id\":\"b5961884-eea1-4907-b858-a55f8d7a08c0\",\"type\":\"Grid\"},{\"id\":\"99e33e4f-4d83-48e8-af44-384d45339600\",\"type\":\"BoxAnnotation\"},{\"id\":\"c8b54251-1622-4fbf-adc3-20148d3bdf2e\",\"type\":\"Legend\"},{\"id\":\"6a326749-211c-4a2f-96ef-5342ead711b7\",\"type\":\"GlyphRenderer\"},{\"id\":\"5933c3c9-5496-4884-a9dd-8f97ca3b82fb\",\"type\":\"GlyphRenderer\"},{\"id\":\"a541a6dc-3913-4f0a-9a79-ccdaefcc4767\",\"type\":\"GlyphRenderer\"},{\"id\":\"719d0212-9787-4a9f-afaf-8f0a74c10a84\",\"type\":\"GlyphRenderer\"}],\"title\":{\"id\":\"e1f2e79d-f1a4-4342-9321-72411ace2257\",\"type\":\"Title\"},\"tool_events\":{\"id\":\"9739fcb1-6ff5-4d8a-925b-6a9f1360d3c0\",\"type\":\"ToolEvents\"},\"toolbar\":{\"id\":\"02ddffd8-15fd-48b3-a4ca-53f63d47c20d\",\"type\":\"Toolbar\"},\"toolbar_location\":null,\"x_range\":{\"id\":\"2a9857e4-91ff-4f3b-a64c-afcc5a6c7625\",\"type\":\"DataRange1d\"},\"y_range\":{\"id\":\"d31af0fa-c4ce-43c1-89e9-dad4ac8fed8e\",\"type\":\"DataRange1d\"}},\"id\":\"818b2374-4586-43d0-a259-938a22b15126\",\"subtype\":\"Figure\",\"type\":\"Plot\"},{\"attributes\":{\"data_source\":{\"id\":\"d8ded7be-06a8-4026-b72e-24df01f57b80\",\"type\":\"ColumnDataSource\"},\"glyph\":{\"id\":\"352d2113-5d52-4ef8-bd4a-9b83c97d9b2d\",\"type\":\"Patch\"},\"hover_glyph\":null,\"nonselection_glyph\":{\"id\":\"509bf5ef-9523-4e52-a3fa-9b980ddd0cf4\",\"type\":\"Patch\"},\"selection_glyph\":null},\"id\":\"6a326749-211c-4a2f-96ef-5342ead711b7\",\"type\":\"GlyphRenderer\"},{\"attributes\":{\"data_source\":{\"id\":\"a1d61f79-5363-4bbb-aed4-bb3011153f81\",\"type\":\"ColumnDataSource\"},\"glyph\":{\"id\":\"fa0c6e92-c5a6-44b5-9090-dbca91341f75\",\"type\":\"Line\"},\"hover_glyph\":null,\"nonselection_glyph\":{\"id\":\"a986362f-5c91-4014-bdad-0e222d347ad8\",\"type\":\"Line\"},\"selection_glyph\":null},\"id\":\"c33bfdd5-9c26-4e51-9c2e-820131e83d7b\",\"type\":\"GlyphRenderer\"},{\"attributes\":{\"callback\":null},\"id\":\"888273e7-c020-4475-b82b-0ac52edc2157\",\"type\":\"DataRange1d\"},{\"attributes\":{\"overlay\":{\"id\":\"89af4423-5399-4cd1-8e81-af09d72d2c28\",\"type\":\"BoxAnnotation\"},\"plot\":{\"id\":\"e493cdf1-2c06-47ba-a9bd-c69cc5a3abdc\",\"subtype\":\"Figure\",\"type\":\"Plot\"}},\"id\":\"ae0dba7d-f6a4-4f4f-aecd-0818f7673709\",\"type\":\"BoxZoomTool\"},{\"attributes\":{},\"id\":\"937577b3-ba90-4f74-ad5e-66e36916a17d\",\"type\":\"BasicTicker\"},{\"attributes\":{\"plot\":{\"id\":\"e493cdf1-2c06-47ba-a9bd-c69cc5a3abdc\",\"subtype\":\"Figure\",\"type\":\"Plot\"}},\"id\":\"edb2ca5d-d27d-4196-9a6f-73305add0438\",\"type\":\"ResetTool\"},{\"attributes\":{\"line_alpha\":{\"value\":0.1},\"line_color\":{\"value\":\"#1f77b4\"},\"x\":{\"field\":\"x\"},\"y\":{\"field\":\"y\"}},\"id\":\"803d67a9-7341-4cb3-b866-2354db6848af\",\"type\":\"Line\"},{\"attributes\":{\"plot\":{\"id\":\"818b2374-4586-43d0-a259-938a22b15126\",\"subtype\":\"Figure\",\"type\":\"Plot\"}},\"id\":\"43f29ae7-14b5-49e4-a731-4e59b8258aa8\",\"type\":\"SaveTool\"},{\"attributes\":{\"axis_label\":\"DM_MNXM754\",\"formatter\":{\"id\":\"3d1beff7-84be-4c6a-8ba8-b424e435cd0d\",\"type\":\"BasicTickFormatter\"},\"plot\":{\"id\":\"e493cdf1-2c06-47ba-a9bd-c69cc5a3abdc\",\"subtype\":\"Figure\",\"type\":\"Plot\"},\"ticker\":{\"id\":\"aa7dea42-7096-4109-ad9e-559abc20f203\",\"type\":\"BasicTicker\"}},\"id\":\"212226ec-1031-43c1-b451-c5cdae77706a\",\"type\":\"LinearAxis\"},{\"attributes\":{\"below\":[{\"id\":\"4795d6e3-729c-4b8d-a359-1a71264049b4\",\"type\":\"LinearAxis\"}],\"left\":[{\"id\":\"a8d1404c-979e-445b-8ec5-91de33420b7b\",\"type\":\"LinearAxis\"}],\"plot_height\":278,\"plot_width\":450,\"renderers\":[{\"id\":\"4795d6e3-729c-4b8d-a359-1a71264049b4\",\"type\":\"LinearAxis\"},{\"id\":\"12efc46e-3630-4147-9ac7-c4a3f37fd0c2\",\"type\":\"Grid\"},{\"id\":\"a8d1404c-979e-445b-8ec5-91de33420b7b\",\"type\":\"LinearAxis\"},{\"id\":\"e631748d-21e0-4669-ab82-f01aa55ac78b\",\"type\":\"Grid\"},{\"id\":\"baa6a727-b151-405a-a546-9ddbe8b29947\",\"type\":\"BoxAnnotation\"},{\"id\":\"05da4090-c885-4088-bbb2-8a11659f1ca8\",\"type\":\"Legend\"},{\"id\":\"0eb87b15-ad1f-4f4b-b513-1c83a74b723b\",\"type\":\"GlyphRenderer\"},{\"id\":\"3f55f702-4307-4e50-b195-338bfdbebf8e\",\"type\":\"GlyphRenderer\"},{\"id\":\"d60d1c64-d26d-45d0-a9df-20587233f389\",\"type\":\"GlyphRenderer\"},{\"id\":\"28ad27b8-cde6-4ae9-84cc-7a59f67734b1\",\"type\":\"GlyphRenderer\"}],\"title\":{\"id\":\"3db37311-788c-4aa9-ba92-35c1fb516f76\",\"type\":\"Title\"},\"tool_events\":{\"id\":\"b39b23ef-eb3b-4143-bc2b-001790c5b76c\",\"type\":\"ToolEvents\"},\"toolbar\":{\"id\":\"fb521afd-bc29-46ef-83b4-4f59c1c88773\",\"type\":\"Toolbar\"},\"toolbar_location\":null,\"x_range\":{\"id\":\"e9e0d27c-130e-4470-b6cb-1c57285315bc\",\"type\":\"DataRange1d\"},\"y_range\":{\"id\":\"5ef892f3-fac3-4636-a649-cec3d13490f0\",\"type\":\"DataRange1d\"}},\"id\":\"d01ddf81-651a-44fb-8e9b-c31e1c665a40\",\"subtype\":\"Figure\",\"type\":\"Plot\"},{\"attributes\":{},\"id\":\"4d943f69-5100-41e6-a435-75a7179b2f4b\",\"type\":\"BasicTicker\"},{\"attributes\":{\"plot\":{\"id\":\"c0d7c695-255e-43f0-8c43-40a9818e5de0\",\"subtype\":\"Figure\",\"type\":\"Plot\"}},\"id\":\"86fcfbc8-0c1a-4c98-be5c-d0593df23c45\",\"type\":\"WheelZoomTool\"},{\"attributes\":{\"line_color\":{\"value\":\"#B3E2CD\"},\"x\":{\"field\":\"x\"},\"y\":{\"field\":\"y\"}},\"id\":\"f3728011-04c6-4069-85c1-16275e2ca094\",\"type\":\"Line\"},{\"attributes\":{\"callback\":null},\"id\":\"e9e0d27c-130e-4470-b6cb-1c57285315bc\",\"type\":\"DataRange1d\"},{\"attributes\":{\"fill_alpha\":{\"value\":0.3},\"fill_color\":{\"value\":\"#B3E2CD\"},\"line_color\":{\"value\":\"#1f77b4\"},\"x\":{\"field\":\"x\"},\"y\":{\"field\":\"y\"}},\"id\":\"2b88ef49-f72a-4165-85f3-f4b93d939fbb\",\"type\":\"Patch\"},{\"attributes\":{},\"id\":\"f436ea77-0aef-4454-886e-4445dbcafd50\",\"type\":\"BasicTickFormatter\"},{\"attributes\":{\"callback\":null,\"column_names\":[\"y\",\"x\"],\"data\":{\"x\":[0.28786894488714065,0.27271794778781744,0.2575669506884943,0.24241595358917106,0.22726495648984787,0.2121139593905247,0.1969629622912015,0.1818119651918783,0.1666609680925551,0.1515099709932319,0.13635897389390872,0.12120797679458553,0.10605697969526234,0.09090598259593916,0.07575498549661594,0.06060398839729275,0.045452991297969564,0.030301994198646376,0.01515099709932316,0.0],\"y\":[0.0,0.0,0.0,0.0,0.0,0.0,0.0,0.0,0.0,0.0,0.0,0.0,0.0,0.0,0.0,0.0,0.0,0.0,0.0,0.0]}},\"id\":\"798216a2-69f8-4a0d-962d-885876c392a3\",\"type\":\"ColumnDataSource\"},{\"attributes\":{\"children\":[{\"id\":\"ad3e75ee-45f1-412b-911e-4c065b689d52\",\"type\":\"ToolbarBox\"},{\"id\":\"0431dcda-95a0-4502-a4c8-cb83231f378f\",\"type\":\"Column\"}]},\"id\":\"223defaa-9f12-49a7-b4e8-98c519ad5a9b\",\"type\":\"Column\"},{\"attributes\":{\"line_alpha\":{\"value\":0.1},\"line_color\":{\"value\":\"#1f77b4\"},\"x\":{\"field\":\"x\"},\"y\":{\"field\":\"y\"}},\"id\":\"e8a625b8-78eb-4703-8dbe-7eaeb8e3241a\",\"type\":\"Line\"},{\"attributes\":{\"axis_label\":\"BIOMASS_SC5_notrace\",\"formatter\":{\"id\":\"cf837c58-1d6e-4e25-a21f-8747b65a8465\",\"type\":\"BasicTickFormatter\"},\"plot\":{\"id\":\"c0d7c695-255e-43f0-8c43-40a9818e5de0\",\"subtype\":\"Figure\",\"type\":\"Plot\"},\"ticker\":{\"id\":\"fe8b88fe-6f11-4dc1-9fd8-97f90cf99d71\",\"type\":\"BasicTicker\"}},\"id\":\"b4f61e9b-1a28-4d83-b6b8-b3bd7409f505\",\"type\":\"LinearAxis\"}],\"root_ids\":[\"223defaa-9f12-49a7-b4e8-98c519ad5a9b\"]},\"title\":\"Bokeh Application\",\"version\":\"0.12.1\"}};\n",
       "            var render_items = [{\"docid\":\"4c3294ab-1258-4e84-851b-2b7d41e63984\",\"elementid\":\"76bbe140-c4f1-4640-8919-5c41a6b68952\",\"modelid\":\"223defaa-9f12-49a7-b4e8-98c519ad5a9b\",\"notebook_comms_target\":\"c35ff178-0405-4009-9630-c2711df05f2f\"}];\n",
       "            \n",
       "            Bokeh.embed.embed_items(docs_json, render_items);\n",
       "        });\n",
       "      },\n",
       "      function(Bokeh) {\n",
       "      }\n",
       "    ];\n",
       "  \n",
       "    function run_inline_js() {\n",
       "      for (var i = 0; i < inline_js.length; i++) {\n",
       "        inline_js[i](window.Bokeh);\n",
       "      }\n",
       "    }\n",
       "  \n",
       "    if (window._bokeh_is_loading === 0) {\n",
       "      console.log(\"Bokeh: BokehJS loaded, going straight to plotting\");\n",
       "      run_inline_js();\n",
       "    } else {\n",
       "      load_libs(js_urls, function() {\n",
       "        console.log(\"Bokeh: BokehJS plotting callback run at\", now());\n",
       "        run_inline_js();\n",
       "      });\n",
       "    }\n",
       "  }(this));\n",
       "</script>"
      ]
     },
     "metadata": {},
     "output_type": "display_data"
    }
   ],
   "source": [
    "pathways.plot_production_envelopes(model, objective=model.reactions.BIOMASS_SC5_notrace)"
   ]
  },
  {
   "cell_type": "markdown",
   "metadata": {
    "collapsed": true
   },
   "source": []
  }
 ],
 "metadata": {
  "anaconda-cloud": {},
  "kernelspec": {
   "display_name": "Python [default]",
   "language": "python",
   "name": "python3"
  },
  "language_info": {
   "codemirror_mode": {
    "name": "ipython",
    "version": 3
   },
   "file_extension": ".py",
   "mimetype": "text/x-python",
   "name": "python",
   "nbconvert_exporter": "python",
   "pygments_lexer": "ipython3",
   "version": "3.4.5"
  }
 },
 "nbformat": 4,
 "nbformat_minor": 1
}
