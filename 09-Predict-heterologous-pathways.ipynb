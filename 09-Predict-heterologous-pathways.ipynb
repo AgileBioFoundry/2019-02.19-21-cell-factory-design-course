{
 "cells": [
  {
   "cell_type": "code",
   "execution_count": 1,
   "metadata": {
    "collapsed": true
   },
   "outputs": [],
   "source": [
    "from IPython.display import display\n",
    "import re"
   ]
  },
  {
   "cell_type": "markdown",
   "metadata": {},
   "source": [
    "# Predict heterologous pathways\n",
    "\n",
    "Predicting heterologous pathways is an important strategy to generate new viable strains. Because portfolio of available reactions is very large, computer assisted pathway design becomes essential. **Cameo** implements a pathway search algorithm using an universal biochemical reaction database that enumerates the shortest pathways."
   ]
  },
  {
   "cell_type": "code",
   "execution_count": 3,
   "metadata": {
    "collapsed": false
   },
   "outputs": [],
   "source": [
    "from cameo import load_model\n",
    "from cameo.strain_design import pathway_prediction"
   ]
  },
  {
   "cell_type": "code",
   "execution_count": 4,
   "metadata": {
    "collapsed": true
   },
   "outputs": [],
   "source": [
    "model = load_model('data/iMM904.xml.gz')"
   ]
  },
  {
   "cell_type": "code",
   "execution_count": 5,
   "metadata": {
    "collapsed": false,
    "scrolled": true
   },
   "outputs": [],
   "source": [
    "predictor = pathway_prediction.PathwayPredictor(model=model, compartment_regexp=re.compile(\".*_c$\"))"
   ]
  },
  {
   "cell_type": "code",
   "execution_count": 6,
   "metadata": {
    "collapsed": false
   },
   "outputs": [
    {
     "data": {
      "text/html": [
       "<span>Pathway 1</span>"
      ],
      "text/plain": [
       "<IPython.core.display.HTML object>"
      ]
     },
     "metadata": {},
     "output_type": "display_data"
    },
    {
     "data": {
      "text/html": [
       "<div>\n",
       "<table border=\"1\" class=\"dataframe\">\n",
       "  <thead>\n",
       "    <tr style=\"text-align: right;\">\n",
       "      <th></th>\n",
       "      <th>equation</th>\n",
       "      <th>lower_bound</th>\n",
       "      <th>upper_bound</th>\n",
       "    </tr>\n",
       "  </thead>\n",
       "  <tbody>\n",
       "    <tr>\n",
       "      <th>MNXR5336</th>\n",
       "      <td>2.0 H(+) + NADH + vanillate &lt;=&gt; H2O + vanillin...</td>\n",
       "      <td>-1000</td>\n",
       "      <td>1000</td>\n",
       "    </tr>\n",
       "    <tr>\n",
       "      <th>MNXR5340</th>\n",
       "      <td>H(+) + NADH + O2 + vanillate &lt;=&gt; H2O + 3,4-dih...</td>\n",
       "      <td>-1000</td>\n",
       "      <td>1000</td>\n",
       "    </tr>\n",
       "    <tr>\n",
       "      <th>MNXR14769</th>\n",
       "      <td>H(+) + NADH + 4-hydroxybenzoate + O2 &lt;=&gt; H2O +...</td>\n",
       "      <td>-1000</td>\n",
       "      <td>1000</td>\n",
       "    </tr>\n",
       "  </tbody>\n",
       "</table>\n",
       "</div>"
      ],
      "text/plain": [
       "                                                    equation  lower_bound  \\\n",
       "MNXR5336   2.0 H(+) + NADH + vanillate <=> H2O + vanillin...        -1000   \n",
       "MNXR5340   H(+) + NADH + O2 + vanillate <=> H2O + 3,4-dih...        -1000   \n",
       "MNXR14769  H(+) + NADH + 4-hydroxybenzoate + O2 <=> H2O +...        -1000   \n",
       "\n",
       "           upper_bound  \n",
       "MNXR5336          1000  \n",
       "MNXR5340          1000  \n",
       "MNXR14769         1000  "
      ]
     },
     "metadata": {},
     "output_type": "display_data"
    },
    {
     "data": {
      "text/html": [
       "<span>Pathway 2</span>"
      ],
      "text/plain": [
       "<IPython.core.display.HTML object>"
      ]
     },
     "metadata": {},
     "output_type": "display_data"
    },
    {
     "data": {
      "text/html": [
       "<div>\n",
       "<table border=\"1\" class=\"dataframe\">\n",
       "  <thead>\n",
       "    <tr style=\"text-align: right;\">\n",
       "      <th></th>\n",
       "      <th>equation</th>\n",
       "      <th>lower_bound</th>\n",
       "      <th>upper_bound</th>\n",
       "    </tr>\n",
       "  </thead>\n",
       "  <tbody>\n",
       "    <tr>\n",
       "      <th>MNXR5336</th>\n",
       "      <td>2.0 H(+) + NADH + vanillate &lt;=&gt; H2O + vanillin...</td>\n",
       "      <td>-1000</td>\n",
       "      <td>1000</td>\n",
       "    </tr>\n",
       "    <tr>\n",
       "      <th>MNXR5340</th>\n",
       "      <td>H(+) + NADH + O2 + vanillate &lt;=&gt; H2O + 3,4-dih...</td>\n",
       "      <td>-1000</td>\n",
       "      <td>1000</td>\n",
       "    </tr>\n",
       "    <tr>\n",
       "      <th>MNXR68718</th>\n",
       "      <td>H2O + 3,4-dihydroxybenzoate &lt;=&gt; 3-dehydroshiki...</td>\n",
       "      <td>-1000</td>\n",
       "      <td>1000</td>\n",
       "    </tr>\n",
       "  </tbody>\n",
       "</table>\n",
       "</div>"
      ],
      "text/plain": [
       "                                                    equation  lower_bound  \\\n",
       "MNXR5336   2.0 H(+) + NADH + vanillate <=> H2O + vanillin...        -1000   \n",
       "MNXR5340   H(+) + NADH + O2 + vanillate <=> H2O + 3,4-dih...        -1000   \n",
       "MNXR68718  H2O + 3,4-dihydroxybenzoate <=> 3-dehydroshiki...        -1000   \n",
       "\n",
       "           upper_bound  \n",
       "MNXR5336          1000  \n",
       "MNXR5340          1000  \n",
       "MNXR68718         1000  "
      ]
     },
     "metadata": {},
     "output_type": "display_data"
    },
    {
     "data": {
      "text/html": [
       "<span>Pathway 3</span>"
      ],
      "text/plain": [
       "<IPython.core.display.HTML object>"
      ]
     },
     "metadata": {},
     "output_type": "display_data"
    },
    {
     "data": {
      "text/html": [
       "<div>\n",
       "<table border=\"1\" class=\"dataframe\">\n",
       "  <thead>\n",
       "    <tr style=\"text-align: right;\">\n",
       "      <th></th>\n",
       "      <th>equation</th>\n",
       "      <th>lower_bound</th>\n",
       "      <th>upper_bound</th>\n",
       "    </tr>\n",
       "  </thead>\n",
       "  <tbody>\n",
       "    <tr>\n",
       "      <th>MNXR230</th>\n",
       "      <td>H(+) + 4-hydroxybenzoate + O2 + NADPH &lt;=&gt; H2O ...</td>\n",
       "      <td>-1000</td>\n",
       "      <td>1000</td>\n",
       "    </tr>\n",
       "    <tr>\n",
       "      <th>MNXR5336</th>\n",
       "      <td>2.0 H(+) + NADH + vanillate &lt;=&gt; H2O + vanillin...</td>\n",
       "      <td>-1000</td>\n",
       "      <td>1000</td>\n",
       "    </tr>\n",
       "    <tr>\n",
       "      <th>MNXR5340</th>\n",
       "      <td>H(+) + NADH + O2 + vanillate &lt;=&gt; H2O + 3,4-dih...</td>\n",
       "      <td>-1000</td>\n",
       "      <td>1000</td>\n",
       "    </tr>\n",
       "  </tbody>\n",
       "</table>\n",
       "</div>"
      ],
      "text/plain": [
       "                                                   equation  lower_bound  \\\n",
       "MNXR230   H(+) + 4-hydroxybenzoate + O2 + NADPH <=> H2O ...        -1000   \n",
       "MNXR5336  2.0 H(+) + NADH + vanillate <=> H2O + vanillin...        -1000   \n",
       "MNXR5340  H(+) + NADH + O2 + vanillate <=> H2O + 3,4-dih...        -1000   \n",
       "\n",
       "          upper_bound  \n",
       "MNXR230          1000  \n",
       "MNXR5336         1000  \n",
       "MNXR5340         1000  "
      ]
     },
     "metadata": {},
     "output_type": "display_data"
    },
    {
     "data": {
      "text/html": [
       "<span>Pathway 4</span>"
      ],
      "text/plain": [
       "<IPython.core.display.HTML object>"
      ]
     },
     "metadata": {},
     "output_type": "display_data"
    },
    {
     "data": {
      "text/html": [
       "<div>\n",
       "<table border=\"1\" class=\"dataframe\">\n",
       "  <thead>\n",
       "    <tr style=\"text-align: right;\">\n",
       "      <th></th>\n",
       "      <th>equation</th>\n",
       "      <th>lower_bound</th>\n",
       "      <th>upper_bound</th>\n",
       "    </tr>\n",
       "  </thead>\n",
       "  <tbody>\n",
       "    <tr>\n",
       "      <th>MNXR5336</th>\n",
       "      <td>2.0 H(+) + NADH + vanillate &lt;=&gt; H2O + vanillin...</td>\n",
       "      <td>-1000</td>\n",
       "      <td>1000</td>\n",
       "    </tr>\n",
       "    <tr>\n",
       "      <th>MNXR5340</th>\n",
       "      <td>H(+) + NADH + O2 + vanillate &lt;=&gt; H2O + 3,4-dih...</td>\n",
       "      <td>-1000</td>\n",
       "      <td>1000</td>\n",
       "    </tr>\n",
       "    <tr>\n",
       "      <th>MNXR6101</th>\n",
       "      <td>CO2 + NH4(+) + catechol + NAD(+) &lt;=&gt; 3.0 H(+) ...</td>\n",
       "      <td>-1000</td>\n",
       "      <td>1000</td>\n",
       "    </tr>\n",
       "    <tr>\n",
       "      <th>MNXR7067</th>\n",
       "      <td>CO2 + catechol &lt;=&gt; H(+) + 3,4-dihydroxybenzoate</td>\n",
       "      <td>-1000</td>\n",
       "      <td>1000</td>\n",
       "    </tr>\n",
       "  </tbody>\n",
       "</table>\n",
       "</div>"
      ],
      "text/plain": [
       "                                                   equation  lower_bound  \\\n",
       "MNXR5336  2.0 H(+) + NADH + vanillate <=> H2O + vanillin...        -1000   \n",
       "MNXR5340  H(+) + NADH + O2 + vanillate <=> H2O + 3,4-dih...        -1000   \n",
       "MNXR6101  CO2 + NH4(+) + catechol + NAD(+) <=> 3.0 H(+) ...        -1000   \n",
       "MNXR7067    CO2 + catechol <=> H(+) + 3,4-dihydroxybenzoate        -1000   \n",
       "\n",
       "          upper_bound  \n",
       "MNXR5336         1000  \n",
       "MNXR5340         1000  \n",
       "MNXR6101         1000  \n",
       "MNXR7067         1000  "
      ]
     },
     "metadata": {},
     "output_type": "display_data"
    }
   ],
   "source": [
    "pathways = predictor.run(product=\"vanillin\", max_predictions=4)"
   ]
  },
  {
   "cell_type": "code",
   "execution_count": 7,
   "metadata": {
    "collapsed": false,
    "scrolled": true
   },
   "outputs": [
    {
     "name": "stderr",
     "output_type": "stream",
     "text": [
      "/Users/niso/Dev/cameo/cameo/visualization/plotting/with_bokeh.py:121: BokehDeprecationWarning:\n",
      "\n",
      "bokeh.models.layouts.GridPlot was deprecated in Bokeh 0.12.0; please use bokeh.layouts.gridplot instead\n",
      "\n"
     ]
    },
    {
     "data": {
      "text/html": [
       "\n",
       "\n",
       "    <div class=\"bk-root\">\n",
       "        <div class=\"plotdiv\" id=\"dfc9c1b1-0e54-42cb-89e9-080440d3fddb\"></div>\n",
       "    </div>\n",
       "<script type=\"text/javascript\">\n",
       "  \n",
       "  (function(global) {\n",
       "    function now() {\n",
       "      return new Date();\n",
       "    }\n",
       "  \n",
       "    var force = \"\";\n",
       "  \n",
       "    if (typeof (window._bokeh_onload_callbacks) === \"undefined\" || force !== \"\") {\n",
       "      window._bokeh_onload_callbacks = [];\n",
       "      window._bokeh_is_loading = undefined;\n",
       "    }\n",
       "  \n",
       "    function run_callbacks() {\n",
       "      window._bokeh_onload_callbacks.forEach(function(callback) { callback() });\n",
       "      delete window._bokeh_onload_callbacks\n",
       "      console.info(\"Bokeh: all callbacks have finished\");\n",
       "    }\n",
       "  \n",
       "    function load_libs(js_urls, callback) {\n",
       "      window._bokeh_onload_callbacks.push(callback);\n",
       "      if (window._bokeh_is_loading > 0) {\n",
       "        console.log(\"Bokeh: BokehJS is being loaded, scheduling callback at\", now());\n",
       "        return null;\n",
       "      }\n",
       "      if (js_urls == null || js_urls.length === 0) {\n",
       "        run_callbacks();\n",
       "        return null;\n",
       "      }\n",
       "      console.log(\"Bokeh: BokehJS not loaded, scheduling load and callback at\", now());\n",
       "      window._bokeh_is_loading = js_urls.length;\n",
       "      for (var i = 0; i < js_urls.length; i++) {\n",
       "        var url = js_urls[i];\n",
       "        var s = document.createElement('script');\n",
       "        s.src = url;\n",
       "        s.async = false;\n",
       "        s.onreadystatechange = s.onload = function() {\n",
       "          window._bokeh_is_loading--;\n",
       "          if (window._bokeh_is_loading === 0) {\n",
       "            console.log(\"Bokeh: all BokehJS libraries loaded\");\n",
       "            run_callbacks()\n",
       "          }\n",
       "        };\n",
       "        s.onerror = function() {\n",
       "          console.warn(\"failed to load library \" + url);\n",
       "        };\n",
       "        console.log(\"Bokeh: injecting script tag for BokehJS library: \", url);\n",
       "        document.getElementsByTagName(\"head\")[0].appendChild(s);\n",
       "      }\n",
       "    };var element = document.getElementById(\"dfc9c1b1-0e54-42cb-89e9-080440d3fddb\");\n",
       "    if (element == null) {\n",
       "      console.log(\"Bokeh: ERROR: autoload.js configured with elementid 'dfc9c1b1-0e54-42cb-89e9-080440d3fddb' but no matching script tag was found. \")\n",
       "      return false;\n",
       "    }\n",
       "  \n",
       "    var js_urls = [];\n",
       "  \n",
       "    var inline_js = [\n",
       "      function(Bokeh) {\n",
       "        Bokeh.$(function() {\n",
       "            var docs_json = {\"e049b165-6565-4b5a-816b-78130fcdb913\":{\"roots\":{\"references\":[{\"attributes\":{\"plot\":{\"id\":\"56d6828a-a396-4a32-85ab-098137b3c043\",\"subtype\":\"Figure\",\"type\":\"Plot\"},\"ticker\":{\"id\":\"4e61553d-d9e5-40b6-866c-f93198bc8270\",\"type\":\"BasicTicker\"}},\"id\":\"efa11eb3-4ab5-447e-9447-433038156d53\",\"type\":\"Grid\"},{\"attributes\":{\"callback\":null,\"column_names\":[\"x\",\"y\"],\"data\":{\"x\":[0.28786894488711434,0.28786894488711434],\"y\":[-1.99854022220336e-13,0.0]}},\"id\":\"82ca6201-3298-4459-be2c-86b2cf092dc1\",\"type\":\"ColumnDataSource\"},{\"attributes\":{\"axis_label\":\"DM_MNXM754\",\"formatter\":{\"id\":\"6be2c642-c0d8-4f6b-8063-e1e54d293231\",\"type\":\"BasicTickFormatter\"},\"plot\":{\"id\":\"56d6828a-a396-4a32-85ab-098137b3c043\",\"subtype\":\"Figure\",\"type\":\"Plot\"},\"ticker\":{\"id\":\"e96fe946-3c43-487f-8ec9-67a01b1b9128\",\"type\":\"BasicTicker\"}},\"id\":\"98600f63-fbb2-41f2-8b93-ac04b4cfcd3a\",\"type\":\"LinearAxis\"},{\"attributes\":{\"axis_label\":\"DM_MNXM754\",\"formatter\":{\"id\":\"c5a557d4-21a5-486d-8368-8878043d3f17\",\"type\":\"BasicTickFormatter\"},\"plot\":{\"id\":\"9de470fe-c9ee-40fc-a640-e73c8ad706f8\",\"subtype\":\"Figure\",\"type\":\"Plot\"},\"ticker\":{\"id\":\"3bf4845c-2528-4f59-8a3f-239a988b6b03\",\"type\":\"BasicTicker\"}},\"id\":\"1c095ffc-342a-4713-b9ee-41b21cf477bc\",\"type\":\"LinearAxis\"},{\"attributes\":{},\"id\":\"df3eabfb-eaeb-4b16-8474-41f50f71e3a8\",\"type\":\"BasicTicker\"},{\"attributes\":{\"active_drag\":\"auto\",\"active_scroll\":\"auto\",\"active_tap\":\"auto\",\"tools\":[{\"id\":\"7c2b9d47-5e44-4f91-8e16-cc6df0bc3a31\",\"type\":\"PanTool\"},{\"id\":\"b931f9a2-8900-463b-bddb-31595906d216\",\"type\":\"WheelZoomTool\"},{\"id\":\"a61554a4-00ac-4152-ad72-6561ce254970\",\"type\":\"BoxZoomTool\"},{\"id\":\"0a4b645f-22ce-45da-ae4a-e1df1077c24b\",\"type\":\"SaveTool\"},{\"id\":\"145f9072-d158-47f7-a634-df9828067eca\",\"type\":\"ResetTool\"},{\"id\":\"21cd9fc6-1400-4085-8a83-1803c003d83c\",\"type\":\"HelpTool\"}]},\"id\":\"10bfe8e5-6f7e-4eaa-a777-016454edb45b\",\"type\":\"Toolbar\"},{\"attributes\":{\"plot\":{\"id\":\"028c8921-0561-43ae-80bd-a48234a38eb4\",\"subtype\":\"Figure\",\"type\":\"Plot\"},\"ticker\":{\"id\":\"15cb83f0-70d4-4566-b916-43d056b23f75\",\"type\":\"BasicTicker\"}},\"id\":\"6a3d287c-4801-4bb6-97e1-b867ed33f27d\",\"type\":\"Grid\"},{\"attributes\":{\"plot\":{\"id\":\"9de470fe-c9ee-40fc-a640-e73c8ad706f8\",\"subtype\":\"Figure\",\"type\":\"Plot\"}},\"id\":\"21cd9fc6-1400-4085-8a83-1803c003d83c\",\"type\":\"HelpTool\"},{\"attributes\":{\"plot\":{\"id\":\"028c8921-0561-43ae-80bd-a48234a38eb4\",\"subtype\":\"Figure\",\"type\":\"Plot\"}},\"id\":\"697b7d8e-28ca-4ccc-8a81-5108a5bc38d0\",\"type\":\"PanTool\"},{\"attributes\":{\"line_alpha\":{\"value\":0.1},\"line_color\":{\"value\":\"#1f77b4\"},\"x\":{\"field\":\"x\"},\"y\":{\"field\":\"y\"}},\"id\":\"64fdf1bb-3fd4-4041-bb08-58097fb5211d\",\"type\":\"Line\"},{\"attributes\":{\"callback\":null},\"id\":\"73287180-671b-46b9-b61d-c65532bb6662\",\"type\":\"DataRange1d\"},{\"attributes\":{\"data_source\":{\"id\":\"412f5411-3b76-4550-9ee6-d3b1e08fdbba\",\"type\":\"ColumnDataSource\"},\"glyph\":{\"id\":\"737de742-54e2-4eef-84a1-340038c80633\",\"type\":\"Patch\"},\"hover_glyph\":null,\"nonselection_glyph\":{\"id\":\"5bd71722-83e6-413d-b3b8-5a4b56a86b53\",\"type\":\"Patch\"},\"selection_glyph\":null},\"id\":\"c8b7b276-4c70-4d21-8550-847c1224c46b\",\"type\":\"GlyphRenderer\"},{\"attributes\":{\"axis_label\":\"BIOMASS_SC5_notrace\",\"formatter\":{\"id\":\"ac5d175d-7b5e-49c0-a1de-628657721d43\",\"type\":\"BasicTickFormatter\"},\"plot\":{\"id\":\"9de470fe-c9ee-40fc-a640-e73c8ad706f8\",\"subtype\":\"Figure\",\"type\":\"Plot\"},\"ticker\":{\"id\":\"08d3d2ab-9eac-468d-9720-03c2c1a0c01d\",\"type\":\"BasicTicker\"}},\"id\":\"75896a65-86ce-436c-a73f-d902b0c72e9f\",\"type\":\"LinearAxis\"},{\"attributes\":{\"line_alpha\":{\"value\":0.1},\"line_color\":{\"value\":\"#1f77b4\"},\"x\":{\"field\":\"x\"},\"y\":{\"field\":\"y\"}},\"id\":\"42c71cd3-574d-4cfc-9eb0-b5bbdea0c378\",\"type\":\"Line\"},{\"attributes\":{\"data_source\":{\"id\":\"38ebdeda-932e-4443-812f-61112ca69d7f\",\"type\":\"ColumnDataSource\"},\"glyph\":{\"id\":\"da83467e-4318-476d-b03c-56d58f7a5628\",\"type\":\"Line\"},\"hover_glyph\":null,\"nonselection_glyph\":{\"id\":\"64fdf1bb-3fd4-4041-bb08-58097fb5211d\",\"type\":\"Line\"},\"selection_glyph\":null},\"id\":\"e50c218b-e879-4337-b1fd-fffc87f4a32e\",\"type\":\"GlyphRenderer\"},{\"attributes\":{\"sizing_mode\":\"scale_width\",\"toolbar_location\":\"above\",\"tools\":[{\"id\":\"5ac9da45-1be8-4839-bce1-46c0041f3b5e\",\"type\":\"PanTool\"},{\"id\":\"9d2e6553-63e4-4625-b817-96cceca6e6f2\",\"type\":\"WheelZoomTool\"},{\"id\":\"899c3b73-72b8-47ab-9c72-cfa7ac3844af\",\"type\":\"BoxZoomTool\"},{\"id\":\"45e607e6-f2dd-40d3-a69e-891af54bdf72\",\"type\":\"SaveTool\"},{\"id\":\"5a8b4ff9-a600-4ef0-9098-8cf4dfdaf8da\",\"type\":\"ResetTool\"},{\"id\":\"a9aea3ec-6550-4aeb-bf2c-488e62bdec0b\",\"type\":\"HelpTool\"},{\"id\":\"697b7d8e-28ca-4ccc-8a81-5108a5bc38d0\",\"type\":\"PanTool\"},{\"id\":\"956e41fc-fb88-4805-acad-a998ffff0e8f\",\"type\":\"WheelZoomTool\"},{\"id\":\"28b2fee7-22b4-4c37-be64-c12329e959d7\",\"type\":\"BoxZoomTool\"},{\"id\":\"1aefe1f1-f045-4a24-b4b9-38948ec795d8\",\"type\":\"SaveTool\"},{\"id\":\"f0810e6f-e4e7-4cc8-85ec-6623d3886757\",\"type\":\"ResetTool\"},{\"id\":\"228164e3-dede-45a3-8fbc-43a094b96acf\",\"type\":\"HelpTool\"},{\"id\":\"0043cf71-2b2f-4fe2-96a6-2da9787784d3\",\"type\":\"PanTool\"},{\"id\":\"756ef906-4278-4819-9b35-ea12bf5e26e6\",\"type\":\"WheelZoomTool\"},{\"id\":\"52d3cef9-495b-4473-969d-84225cd3c5c8\",\"type\":\"BoxZoomTool\"},{\"id\":\"1a0ff357-6c95-4795-b794-df407870aa7f\",\"type\":\"SaveTool\"},{\"id\":\"052e4ebb-dc2d-4e53-8d0c-873cabe1de0c\",\"type\":\"ResetTool\"},{\"id\":\"0c2ff4c5-b5d2-4edd-8ebb-b03af425faa1\",\"type\":\"HelpTool\"},{\"id\":\"7c2b9d47-5e44-4f91-8e16-cc6df0bc3a31\",\"type\":\"PanTool\"},{\"id\":\"b931f9a2-8900-463b-bddb-31595906d216\",\"type\":\"WheelZoomTool\"},{\"id\":\"a61554a4-00ac-4152-ad72-6561ce254970\",\"type\":\"BoxZoomTool\"},{\"id\":\"0a4b645f-22ce-45da-ae4a-e1df1077c24b\",\"type\":\"SaveTool\"},{\"id\":\"145f9072-d158-47f7-a634-df9828067eca\",\"type\":\"ResetTool\"},{\"id\":\"21cd9fc6-1400-4085-8a83-1803c003d83c\",\"type\":\"HelpTool\"}]},\"id\":\"9c454494-6af5-4fc5-a616-0c133abe7513\",\"type\":\"ToolbarBox\"},{\"attributes\":{\"line_alpha\":{\"value\":0.1},\"line_color\":{\"value\":\"#1f77b4\"},\"x\":{\"field\":\"x\"},\"y\":{\"field\":\"y\"}},\"id\":\"c758bb1f-d5bb-4c7a-b653-33e0532d03ce\",\"type\":\"Line\"},{\"attributes\":{\"below\":[{\"id\":\"75896a65-86ce-436c-a73f-d902b0c72e9f\",\"type\":\"LinearAxis\"}],\"left\":[{\"id\":\"1c095ffc-342a-4713-b9ee-41b21cf477bc\",\"type\":\"LinearAxis\"}],\"plot_height\":278,\"plot_width\":450,\"renderers\":[{\"id\":\"75896a65-86ce-436c-a73f-d902b0c72e9f\",\"type\":\"LinearAxis\"},{\"id\":\"46a66de8-0fb9-4a6d-af42-48c3f14bcdcb\",\"type\":\"Grid\"},{\"id\":\"1c095ffc-342a-4713-b9ee-41b21cf477bc\",\"type\":\"LinearAxis\"},{\"id\":\"1e789e7a-6815-4d69-989e-7783e325b03e\",\"type\":\"Grid\"},{\"id\":\"bdf8b299-01ad-4ddf-b1e4-ef4efb180627\",\"type\":\"BoxAnnotation\"},{\"id\":\"a7516f04-9d1e-4997-9c64-68bf21328768\",\"type\":\"Legend\"},{\"id\":\"ec7f57c7-c4e3-45c5-82f3-d6f0247f0a86\",\"type\":\"GlyphRenderer\"},{\"id\":\"d1d8c47e-4544-415e-b2a6-e28f23e78077\",\"type\":\"GlyphRenderer\"},{\"id\":\"04a949d9-b755-4832-ac20-fd58c93b871b\",\"type\":\"GlyphRenderer\"}],\"title\":{\"id\":\"3a3ce2b4-52e0-45be-99e3-b5ef230ace6c\",\"type\":\"Title\"},\"tool_events\":{\"id\":\"6a5444c1-1bed-43a2-9431-73ff5d53b340\",\"type\":\"ToolEvents\"},\"toolbar\":{\"id\":\"10bfe8e5-6f7e-4eaa-a777-016454edb45b\",\"type\":\"Toolbar\"},\"toolbar_location\":null,\"x_range\":{\"id\":\"2983abee-ed39-4672-8100-819682a55673\",\"type\":\"DataRange1d\"},\"y_range\":{\"id\":\"73287180-671b-46b9-b61d-c65532bb6662\",\"type\":\"DataRange1d\"}},\"id\":\"9de470fe-c9ee-40fc-a640-e73c8ad706f8\",\"subtype\":\"Figure\",\"type\":\"Plot\"},{\"attributes\":{\"dimension\":1,\"plot\":{\"id\":\"028c8921-0561-43ae-80bd-a48234a38eb4\",\"subtype\":\"Figure\",\"type\":\"Plot\"},\"ticker\":{\"id\":\"df3eabfb-eaeb-4b16-8474-41f50f71e3a8\",\"type\":\"BasicTicker\"}},\"id\":\"a1f49654-efc1-49b9-ab8b-2ad37e4837b1\",\"type\":\"Grid\"},{\"attributes\":{},\"id\":\"e96fe946-3c43-487f-8ec9-67a01b1b9128\",\"type\":\"BasicTicker\"},{\"attributes\":{\"plot\":{\"id\":\"56d6828a-a396-4a32-85ab-098137b3c043\",\"subtype\":\"Figure\",\"type\":\"Plot\"}},\"id\":\"756ef906-4278-4819-9b35-ea12bf5e26e6\",\"type\":\"WheelZoomTool\"},{\"attributes\":{\"plot\":{\"id\":\"f0e01ed6-de63-4744-875d-13ca1d8598aa\",\"subtype\":\"Figure\",\"type\":\"Plot\"},\"ticker\":{\"id\":\"8cbe9c88-ebe1-41cf-a1c0-4ff177b69201\",\"type\":\"BasicTicker\"}},\"id\":\"fd5600fb-2338-460f-8dd3-3360c19e1acb\",\"type\":\"Grid\"},{\"attributes\":{},\"id\":\"6a5444c1-1bed-43a2-9431-73ff5d53b340\",\"type\":\"ToolEvents\"},{\"attributes\":{\"children\":[{\"id\":\"56d6828a-a396-4a32-85ab-098137b3c043\",\"subtype\":\"Figure\",\"type\":\"Plot\"},{\"id\":\"9de470fe-c9ee-40fc-a640-e73c8ad706f8\",\"subtype\":\"Figure\",\"type\":\"Plot\"}]},\"id\":\"0b398674-e8b0-468d-a2fc-44cc29da7edf\",\"type\":\"Row\"},{\"attributes\":{\"overlay\":{\"id\":\"4fd87c60-4a53-4cbe-8141-3b2f785f001d\",\"type\":\"BoxAnnotation\"},\"plot\":{\"id\":\"56d6828a-a396-4a32-85ab-098137b3c043\",\"subtype\":\"Figure\",\"type\":\"Plot\"}},\"id\":\"52d3cef9-495b-4473-969d-84225cd3c5c8\",\"type\":\"BoxZoomTool\"},{\"attributes\":{\"legends\":[[\"WT\",[{\"id\":\"a92608c6-943d-4178-8a23-000c7fa2ec9b\",\"type\":\"GlyphRenderer\"}]]],\"plot\":{\"id\":\"028c8921-0561-43ae-80bd-a48234a38eb4\",\"subtype\":\"Figure\",\"type\":\"Plot\"}},\"id\":\"fc4ca1ec-8c89-4ced-a4f3-e15aa532f909\",\"type\":\"Legend\"},{\"attributes\":{\"data_source\":{\"id\":\"63b3d03d-5168-46c9-a4a7-ae99975949c0\",\"type\":\"ColumnDataSource\"},\"glyph\":{\"id\":\"c9bd4095-fabb-4004-adbf-1c32b15b584d\",\"type\":\"Line\"},\"hover_glyph\":null,\"nonselection_glyph\":{\"id\":\"fd44914f-16f2-4840-9626-b16551863510\",\"type\":\"Line\"},\"selection_glyph\":null},\"id\":\"04a949d9-b755-4832-ac20-fd58c93b871b\",\"type\":\"GlyphRenderer\"},{\"attributes\":{\"below\":[{\"id\":\"c40fd285-cdaa-4ffd-ba70-08e59043dd6a\",\"type\":\"LinearAxis\"}],\"left\":[{\"id\":\"33c6d146-bc09-4271-8861-6c2c9d33d854\",\"type\":\"LinearAxis\"}],\"plot_height\":278,\"plot_width\":450,\"renderers\":[{\"id\":\"c40fd285-cdaa-4ffd-ba70-08e59043dd6a\",\"type\":\"LinearAxis\"},{\"id\":\"fd5600fb-2338-460f-8dd3-3360c19e1acb\",\"type\":\"Grid\"},{\"id\":\"33c6d146-bc09-4271-8861-6c2c9d33d854\",\"type\":\"LinearAxis\"},{\"id\":\"aae50e15-2494-4255-9281-60a39391cd7a\",\"type\":\"Grid\"},{\"id\":\"d7f8e81b-6691-4730-a21a-87bbe987bdb1\",\"type\":\"BoxAnnotation\"},{\"id\":\"77b77201-ca6a-4380-8513-d442f215b9cd\",\"type\":\"Legend\"},{\"id\":\"c8b7b276-4c70-4d21-8550-847c1224c46b\",\"type\":\"GlyphRenderer\"},{\"id\":\"495de424-a148-4e76-93b7-5e9292a34f79\",\"type\":\"GlyphRenderer\"},{\"id\":\"3b1bccf5-32a6-4afb-b1a8-8266d93104f0\",\"type\":\"GlyphRenderer\"}],\"title\":{\"id\":\"f4926667-ef30-47fe-9729-4f247059c0cf\",\"type\":\"Title\"},\"tool_events\":{\"id\":\"855df797-51ec-4f05-8f06-30edd96627cb\",\"type\":\"ToolEvents\"},\"toolbar\":{\"id\":\"824a4fa2-8dc1-4407-9693-e8a224626ed0\",\"type\":\"Toolbar\"},\"toolbar_location\":null,\"x_range\":{\"id\":\"c98f67b4-7239-4ab5-8812-77a21d566561\",\"type\":\"DataRange1d\"},\"y_range\":{\"id\":\"4256d546-44c6-462c-927c-f63be502938a\",\"type\":\"DataRange1d\"}},\"id\":\"f0e01ed6-de63-4744-875d-13ca1d8598aa\",\"subtype\":\"Figure\",\"type\":\"Plot\"},{\"attributes\":{\"callback\":null,\"column_names\":[\"x\",\"y\"],\"data\":{\"x\":[0.0,0.015150826510737923,0.030301653021475847,0.04545247953221377,0.06060330604295169,0.07575413255368962,0.09090495906442754,0.10605578557516546,0.12120661208590339,0.13635743859664132,0.15150826510737925,0.16665909161811715,0.18180991812885508,0.196960744639593,0.2121115711503309,0.22726239766106884,0.24241322417180677,0.2575640506825447,0.27271487719328263,0.28786570370402054],\"y\":[5.05751391465677,4.941044891092773,4.820459563497742,4.69987423590267,4.579288908307616,4.458703580712535,4.338118253117488,4.217532925522407,4.028083262751629,3.6744508134527463,3.3208183641538973,2.9671859148550457,2.6135534655561026,2.259921016257209,1.885748953886706,1.5088337665673388,1.1319185792483135,0.7550033919292432,0.3780882046102282,-3.6570746431152656e-13]}},\"id\":\"4cc8ef46-1aff-427a-abfb-756c7b0e59e6\",\"type\":\"ColumnDataSource\"},{\"attributes\":{\"plot\":{\"id\":\"56d6828a-a396-4a32-85ab-098137b3c043\",\"subtype\":\"Figure\",\"type\":\"Plot\"}},\"id\":\"1a0ff357-6c95-4795-b794-df407870aa7f\",\"type\":\"SaveTool\"},{\"attributes\":{\"data_source\":{\"id\":\"82ca6201-3298-4459-be2c-86b2cf092dc1\",\"type\":\"ColumnDataSource\"},\"glyph\":{\"id\":\"6e13f4ab-81da-411e-8e40-6b2f279d0103\",\"type\":\"Line\"},\"hover_glyph\":null,\"nonselection_glyph\":{\"id\":\"f53eb120-4d2b-4dd2-8971-85755fb38ae8\",\"type\":\"Line\"},\"selection_glyph\":null},\"id\":\"595f3063-8cda-4ac4-86da-aaf455daf0f1\",\"type\":\"GlyphRenderer\"},{\"attributes\":{\"data_source\":{\"id\":\"c35b5660-69bd-41b3-aa79-c449f033f1e3\",\"type\":\"ColumnDataSource\"},\"glyph\":{\"id\":\"d5ff97ff-17e3-489b-85b5-05e56b16d146\",\"type\":\"Patch\"},\"hover_glyph\":null,\"nonselection_glyph\":{\"id\":\"3a4309f8-d51f-49de-989d-cc6aaf76c7d2\",\"type\":\"Patch\"},\"selection_glyph\":null},\"id\":\"6e02923c-1227-4814-aeaa-1302087b6838\",\"type\":\"GlyphRenderer\"},{\"attributes\":{\"active_drag\":\"auto\",\"active_scroll\":\"auto\",\"active_tap\":\"auto\",\"tools\":[{\"id\":\"697b7d8e-28ca-4ccc-8a81-5108a5bc38d0\",\"type\":\"PanTool\"},{\"id\":\"956e41fc-fb88-4805-acad-a998ffff0e8f\",\"type\":\"WheelZoomTool\"},{\"id\":\"28b2fee7-22b4-4c37-be64-c12329e959d7\",\"type\":\"BoxZoomTool\"},{\"id\":\"1aefe1f1-f045-4a24-b4b9-38948ec795d8\",\"type\":\"SaveTool\"},{\"id\":\"f0810e6f-e4e7-4cc8-85ec-6623d3886757\",\"type\":\"ResetTool\"},{\"id\":\"228164e3-dede-45a3-8fbc-43a094b96acf\",\"type\":\"HelpTool\"}]},\"id\":\"5ac824e3-feab-4905-b64a-ccfb00221955\",\"type\":\"Toolbar\"},{\"attributes\":{\"plot\":{\"id\":\"9de470fe-c9ee-40fc-a640-e73c8ad706f8\",\"subtype\":\"Figure\",\"type\":\"Plot\"}},\"id\":\"145f9072-d158-47f7-a634-df9828067eca\",\"type\":\"ResetTool\"},{\"attributes\":{\"legends\":[[\"WT\",[{\"id\":\"6e02923c-1227-4814-aeaa-1302087b6838\",\"type\":\"GlyphRenderer\"}]]],\"plot\":{\"id\":\"56d6828a-a396-4a32-85ab-098137b3c043\",\"subtype\":\"Figure\",\"type\":\"Plot\"}},\"id\":\"7c66c0e6-0110-4de1-973c-4578e4fc06fa\",\"type\":\"Legend\"},{\"attributes\":{\"callback\":null},\"id\":\"d9742a26-5113-4a8a-bebc-54b69176f88e\",\"type\":\"DataRange1d\"},{\"attributes\":{\"line_color\":{\"value\":\"#B3E2CD\"},\"x\":{\"field\":\"x\"},\"y\":{\"field\":\"y\"}},\"id\":\"7abc3c5c-7229-4ce4-8888-7c48aa6b8153\",\"type\":\"Line\"},{\"attributes\":{\"line_color\":{\"value\":\"#B3E2CD\"},\"x\":{\"field\":\"x\"},\"y\":{\"field\":\"y\"}},\"id\":\"c9bd4095-fabb-4004-adbf-1c32b15b584d\",\"type\":\"Line\"},{\"attributes\":{},\"id\":\"5815e811-f4b2-40a3-8e7d-d6fd7b3c7245\",\"type\":\"BasicTickFormatter\"},{\"attributes\":{\"callback\":null},\"id\":\"5f393970-ded1-4792-801a-8a1c58f1b476\",\"type\":\"DataRange1d\"},{\"attributes\":{\"line_alpha\":{\"value\":0.1},\"line_color\":{\"value\":\"#1f77b4\"},\"x\":{\"field\":\"x\"},\"y\":{\"field\":\"y\"}},\"id\":\"ec22805b-225c-48e5-b6e9-5b2cf38ad026\",\"type\":\"Line\"},{\"attributes\":{\"dimension\":1,\"plot\":{\"id\":\"56d6828a-a396-4a32-85ab-098137b3c043\",\"subtype\":\"Figure\",\"type\":\"Plot\"},\"ticker\":{\"id\":\"e96fe946-3c43-487f-8ec9-67a01b1b9128\",\"type\":\"BasicTicker\"}},\"id\":\"970d2b29-17c2-4711-9b95-9b2c9e1e7436\",\"type\":\"Grid\"},{\"attributes\":{\"dimension\":1,\"plot\":{\"id\":\"9de470fe-c9ee-40fc-a640-e73c8ad706f8\",\"subtype\":\"Figure\",\"type\":\"Plot\"},\"ticker\":{\"id\":\"3bf4845c-2528-4f59-8a3f-239a988b6b03\",\"type\":\"BasicTicker\"}},\"id\":\"1e789e7a-6815-4d69-989e-7783e325b03e\",\"type\":\"Grid\"},{\"attributes\":{\"callback\":null,\"column_names\":[\"x\",\"y\"],\"data\":{\"x\":[0.0,0.015150826510737923,0.030301653021475847,0.04545247953221377,0.06060330604295169,0.07575413255368962,0.09090495906442754,0.10605578557516546,0.12120661208590339,0.13635743859664132,0.15150826510737925,0.16665909161811715,0.18180991812885508,0.196960744639593,0.2121115711503309,0.22726239766106884,0.24241322417180677,0.2575640506825447,0.27271487719328263,0.28786570370402054],\"y\":[0.0,0.0,0.0,0.0,0.0,0.0,0.0,0.0,0.0,0.0,0.0,0.0,0.0,0.0,0.0,0.0,0.0,0.0,0.0,0.0]}},\"id\":\"787efe5a-c6e8-4b81-8a08-6e1c52c3b34a\",\"type\":\"ColumnDataSource\"},{\"attributes\":{\"line_alpha\":{\"value\":0.1},\"line_color\":{\"value\":\"#1f77b4\"},\"x\":{\"field\":\"x\"},\"y\":{\"field\":\"y\"}},\"id\":\"3a714421-055c-4840-be7a-3425e0d5a78f\",\"type\":\"Line\"},{\"attributes\":{},\"id\":\"e61d95db-ba08-470b-bd8f-d06ea96ee695\",\"type\":\"BasicTickFormatter\"},{\"attributes\":{\"data_source\":{\"id\":\"fcaa7f6b-2687-4824-893e-637a50e473fd\",\"type\":\"ColumnDataSource\"},\"glyph\":{\"id\":\"e2173910-61cd-4651-8197-c4807150e942\",\"type\":\"Patch\"},\"hover_glyph\":null,\"nonselection_glyph\":{\"id\":\"91064044-036b-4117-9a5c-37c00f233e82\",\"type\":\"Patch\"},\"selection_glyph\":null},\"id\":\"ec7f57c7-c4e3-45c5-82f3-d6f0247f0a86\",\"type\":\"GlyphRenderer\"},{\"attributes\":{\"fill_alpha\":{\"value\":0.3},\"fill_color\":{\"value\":\"#B3E2CD\"},\"line_color\":{\"value\":\"#1f77b4\"},\"x\":{\"field\":\"x\"},\"y\":{\"field\":\"y\"}},\"id\":\"d5ff97ff-17e3-489b-85b5-05e56b16d146\",\"type\":\"Patch\"},{\"attributes\":{\"plot\":null,\"text\":\"Pathway 3\"},\"id\":\"5c92e15b-c9e6-462a-96ad-8471efafcc55\",\"type\":\"Title\"},{\"attributes\":{\"plot\":{\"id\":\"9de470fe-c9ee-40fc-a640-e73c8ad706f8\",\"subtype\":\"Figure\",\"type\":\"Plot\"}},\"id\":\"b931f9a2-8900-463b-bddb-31595906d216\",\"type\":\"WheelZoomTool\"},{\"attributes\":{\"children\":[{\"id\":\"f0e01ed6-de63-4744-875d-13ca1d8598aa\",\"subtype\":\"Figure\",\"type\":\"Plot\"},{\"id\":\"028c8921-0561-43ae-80bd-a48234a38eb4\",\"subtype\":\"Figure\",\"type\":\"Plot\"}]},\"id\":\"894713ee-4c12-42b3-865e-2a7e53294e5a\",\"type\":\"Row\"},{\"attributes\":{\"data_source\":{\"id\":\"a17873ba-46dd-4a02-9c42-e8d9f047a89b\",\"type\":\"ColumnDataSource\"},\"glyph\":{\"id\":\"b8b271c5-7c1b-47c7-bfda-3e215ae5a22d\",\"type\":\"Line\"},\"hover_glyph\":null,\"nonselection_glyph\":{\"id\":\"ef445f7f-bd60-47da-9174-37f050a8a1f4\",\"type\":\"Line\"},\"selection_glyph\":null},\"id\":\"d1d8c47e-4544-415e-b2a6-e28f23e78077\",\"type\":\"GlyphRenderer\"},{\"attributes\":{},\"id\":\"4e61553d-d9e5-40b6-866c-f93198bc8270\",\"type\":\"BasicTicker\"},{\"attributes\":{\"plot\":{\"id\":\"9de470fe-c9ee-40fc-a640-e73c8ad706f8\",\"subtype\":\"Figure\",\"type\":\"Plot\"},\"ticker\":{\"id\":\"08d3d2ab-9eac-468d-9720-03c2c1a0c01d\",\"type\":\"BasicTicker\"}},\"id\":\"46a66de8-0fb9-4a6d-af42-48c3f14bcdcb\",\"type\":\"Grid\"},{\"attributes\":{\"line_alpha\":{\"value\":0.1},\"line_color\":{\"value\":\"#1f77b4\"},\"x\":{\"field\":\"x\"},\"y\":{\"field\":\"y\"}},\"id\":\"fd44914f-16f2-4840-9626-b16551863510\",\"type\":\"Line\"},{\"attributes\":{\"fill_alpha\":{\"value\":0.1},\"fill_color\":{\"value\":\"#1f77b4\"},\"line_alpha\":{\"value\":0.1},\"line_color\":{\"value\":\"#1f77b4\"},\"x\":{\"field\":\"x\"},\"y\":{\"field\":\"y\"}},\"id\":\"91064044-036b-4117-9a5c-37c00f233e82\",\"type\":\"Patch\"},{\"attributes\":{\"line_color\":{\"value\":\"#B3E2CD\"},\"x\":{\"field\":\"x\"},\"y\":{\"field\":\"y\"}},\"id\":\"b8b271c5-7c1b-47c7-bfda-3e215ae5a22d\",\"type\":\"Line\"},{\"attributes\":{},\"id\":\"e291afad-a287-49b0-b5c3-c2aa0c642f0a\",\"type\":\"ToolEvents\"},{\"attributes\":{\"plot\":{\"id\":\"028c8921-0561-43ae-80bd-a48234a38eb4\",\"subtype\":\"Figure\",\"type\":\"Plot\"}},\"id\":\"228164e3-dede-45a3-8fbc-43a094b96acf\",\"type\":\"HelpTool\"},{\"attributes\":{\"callback\":null,\"column_names\":[\"x\",\"y\"],\"data\":{\"x\":[0.0,0.015150826510737353,0.030301653021474705,0.045452479532212056,0.06060330604294941,0.07575413255368676,0.09090495906442411,0.10605578557516147,0.12120661208589882,0.13635743859663618,0.15150826510737353,0.16665909161811088,0.18180991812884822,0.19696074463958557,0.21211157115032295,0.2272623976610603,0.24241322417179764,0.257564050682535,0.27271487719327236,0.2878657037040097,0.2878657037040097,0.27271487719327236,0.257564050682535,0.24241322417179764,0.2272623976610603,0.21211157115032295,0.19696074463958557,0.18180991812884822,0.16665909161811088,0.15150826510737353,0.13635743859663618,0.12120661208589882,0.10605578557516147,0.09090495906442411,0.07575413255368676,0.06060330604294941,0.045452479532212056,0.030301653021474705,0.015150826510737353,0.0],\"y\":[0.0,0.0,0.0,0.0,0.0,0.0,0.0,0.0,0.0,0.0,0.0,0.0,0.0,0.0,0.0,0.0,0.0,0.0,0.0,0.0,0.0,0.16023362324827528,0.3199701222582687,0.4797066212682195,0.6394431202782058,0.7991796192882019,0.9589161182981927,1.118652617308095,1.2783891163181529,1.438125615328089,1.5978621143381209,1.7575986133480939,1.9173351123580917,2.0770716113680825,2.2368081103780546,2.39654460938803,2.556281108398039,2.7160176074080162,2.8757541064179875,3.0354906054279747]}},\"id\":\"412f5411-3b76-4550-9ee6-d3b1e08fdbba\",\"type\":\"ColumnDataSource\"},{\"attributes\":{\"fill_alpha\":{\"value\":0.1},\"fill_color\":{\"value\":\"#1f77b4\"},\"line_alpha\":{\"value\":0.1},\"line_color\":{\"value\":\"#1f77b4\"},\"x\":{\"field\":\"x\"},\"y\":{\"field\":\"y\"}},\"id\":\"3a4309f8-d51f-49de-989d-cc6aaf76c7d2\",\"type\":\"Patch\"},{\"attributes\":{\"plot\":{\"id\":\"f0e01ed6-de63-4744-875d-13ca1d8598aa\",\"subtype\":\"Figure\",\"type\":\"Plot\"}},\"id\":\"45e607e6-f2dd-40d3-a69e-891af54bdf72\",\"type\":\"SaveTool\"},{\"attributes\":{\"plot\":{\"id\":\"56d6828a-a396-4a32-85ab-098137b3c043\",\"subtype\":\"Figure\",\"type\":\"Plot\"}},\"id\":\"0c2ff4c5-b5d2-4edd-8ebb-b03af425faa1\",\"type\":\"HelpTool\"},{\"attributes\":{\"axis_label\":\"BIOMASS_SC5_notrace\",\"formatter\":{\"id\":\"0d1663e7-a264-404e-ba80-5d3c96dea28a\",\"type\":\"BasicTickFormatter\"},\"plot\":{\"id\":\"f0e01ed6-de63-4744-875d-13ca1d8598aa\",\"subtype\":\"Figure\",\"type\":\"Plot\"},\"ticker\":{\"id\":\"8cbe9c88-ebe1-41cf-a1c0-4ff177b69201\",\"type\":\"BasicTicker\"}},\"id\":\"c40fd285-cdaa-4ffd-ba70-08e59043dd6a\",\"type\":\"LinearAxis\"},{\"attributes\":{\"callback\":null,\"column_names\":[\"x\",\"y\"],\"data\":{\"x\":[0.0,0.015150997099321807,0.030301994198643614,0.04545299129796542,0.06060398839728723,0.07575498549660903,0.09090598259593084,0.10605697969525266,0.12120797679457446,0.13635897389389626,0.15150997099321806,0.16666096809253989,0.18181196519186169,0.19696296229118349,0.2121139593905053,0.2272649564898271,0.2424159535891489,0.25756695068847074,0.2727179477877925,0.28786894488711434],\"y\":[1.9053254437869818,1.8080910967961856,1.7108567498053662,1.6136224028145825,1.5163880558237712,1.4191537088329829,1.321919361842154,1.2246850148513706,1.1274506678605332,1.0302163208697304,0.9329819738789348,0.8354646710517893,0.7342159568798096,0.629887825601883,0.5253295673270288,0.4207713090521729,0.31600472236176663,0.21092672080606611,0.10584871925039062,-1.99854022220336e-13]}},\"id\":\"066cb350-789d-415d-8a59-f7efb6b5211b\",\"type\":\"ColumnDataSource\"},{\"attributes\":{},\"id\":\"15cb83f0-70d4-4566-b916-43d056b23f75\",\"type\":\"BasicTicker\"},{\"attributes\":{\"children\":[{\"id\":\"9c454494-6af5-4fc5-a616-0c133abe7513\",\"type\":\"ToolbarBox\"},{\"id\":\"1d048584-5f7e-437c-b52d-2c2041fa0afb\",\"type\":\"Column\"}]},\"id\":\"c01c26ed-50c4-4920-9bc5-67cd7fe86e16\",\"type\":\"Column\"},{\"attributes\":{\"line_color\":{\"value\":\"#B3E2CD\"},\"x\":{\"field\":\"x\"},\"y\":{\"field\":\"y\"}},\"id\":\"2f015bc4-b702-4cc4-ad0d-98964dc0b5a8\",\"type\":\"Line\"},{\"attributes\":{\"data_source\":{\"id\":\"b274a538-8242-4c63-891b-80ceb14cc15c\",\"type\":\"ColumnDataSource\"},\"glyph\":{\"id\":\"524a963d-4fe9-44b8-b1d1-d75dbbf9262f\",\"type\":\"Line\"},\"hover_glyph\":null,\"nonselection_glyph\":{\"id\":\"df8a7204-4f5c-4ed4-9cf4-4290ff8eefb2\",\"type\":\"Line\"},\"selection_glyph\":null},\"id\":\"c0dcc0a5-065b-4baf-9de5-e30954b9e46b\",\"type\":\"GlyphRenderer\"},{\"attributes\":{\"data_source\":{\"id\":\"066cb350-789d-415d-8a59-f7efb6b5211b\",\"type\":\"ColumnDataSource\"},\"glyph\":{\"id\":\"113cbbdf-6882-426c-9847-d7b859300a54\",\"type\":\"Line\"},\"hover_glyph\":null,\"nonselection_glyph\":{\"id\":\"b84a2880-c39a-47d3-b98d-01eee33dc2f7\",\"type\":\"Line\"},\"selection_glyph\":null},\"id\":\"05e2d566-5e02-4e53-bb38-fc7cde4ee96d\",\"type\":\"GlyphRenderer\"},{\"attributes\":{\"overlay\":{\"id\":\"d7f8e81b-6691-4730-a21a-87bbe987bdb1\",\"type\":\"BoxAnnotation\"},\"plot\":{\"id\":\"f0e01ed6-de63-4744-875d-13ca1d8598aa\",\"subtype\":\"Figure\",\"type\":\"Plot\"}},\"id\":\"899c3b73-72b8-47ab-9c72-cfa7ac3844af\",\"type\":\"BoxZoomTool\"},{\"attributes\":{},\"id\":\"8cbe9c88-ebe1-41cf-a1c0-4ff177b69201\",\"type\":\"BasicTicker\"},{\"attributes\":{\"data_source\":{\"id\":\"4cc8ef46-1aff-427a-abfb-756c7b0e59e6\",\"type\":\"ColumnDataSource\"},\"glyph\":{\"id\":\"2f015bc4-b702-4cc4-ad0d-98964dc0b5a8\",\"type\":\"Line\"},\"hover_glyph\":null,\"nonselection_glyph\":{\"id\":\"c758bb1f-d5bb-4c7a-b653-33e0532d03ce\",\"type\":\"Line\"},\"selection_glyph\":null},\"id\":\"b7941439-83af-4f64-876f-aa1be3ae0b2d\",\"type\":\"GlyphRenderer\"},{\"attributes\":{},\"id\":\"08d3d2ab-9eac-468d-9720-03c2c1a0c01d\",\"type\":\"BasicTicker\"},{\"attributes\":{\"overlay\":{\"id\":\"bdf8b299-01ad-4ddf-b1e4-ef4efb180627\",\"type\":\"BoxAnnotation\"},\"plot\":{\"id\":\"9de470fe-c9ee-40fc-a640-e73c8ad706f8\",\"subtype\":\"Figure\",\"type\":\"Plot\"}},\"id\":\"a61554a4-00ac-4152-ad72-6561ce254970\",\"type\":\"BoxZoomTool\"},{\"attributes\":{\"children\":[{\"id\":\"894713ee-4c12-42b3-865e-2a7e53294e5a\",\"type\":\"Row\"},{\"id\":\"0b398674-e8b0-468d-a2fc-44cc29da7edf\",\"type\":\"Row\"}]},\"id\":\"1d048584-5f7e-437c-b52d-2c2041fa0afb\",\"type\":\"Column\"},{\"attributes\":{\"line_alpha\":{\"value\":0.1},\"line_color\":{\"value\":\"#1f77b4\"},\"x\":{\"field\":\"x\"},\"y\":{\"field\":\"y\"}},\"id\":\"ef445f7f-bd60-47da-9174-37f050a8a1f4\",\"type\":\"Line\"},{\"attributes\":{},\"id\":\"ac5d175d-7b5e-49c0-a1de-628657721d43\",\"type\":\"BasicTickFormatter\"},{\"attributes\":{\"active_drag\":\"auto\",\"active_scroll\":\"auto\",\"active_tap\":\"auto\",\"tools\":[{\"id\":\"5ac9da45-1be8-4839-bce1-46c0041f3b5e\",\"type\":\"PanTool\"},{\"id\":\"9d2e6553-63e4-4625-b817-96cceca6e6f2\",\"type\":\"WheelZoomTool\"},{\"id\":\"899c3b73-72b8-47ab-9c72-cfa7ac3844af\",\"type\":\"BoxZoomTool\"},{\"id\":\"45e607e6-f2dd-40d3-a69e-891af54bdf72\",\"type\":\"SaveTool\"},{\"id\":\"5a8b4ff9-a600-4ef0-9098-8cf4dfdaf8da\",\"type\":\"ResetTool\"},{\"id\":\"a9aea3ec-6550-4aeb-bf2c-488e62bdec0b\",\"type\":\"HelpTool\"}]},\"id\":\"824a4fa2-8dc1-4407-9693-e8a224626ed0\",\"type\":\"Toolbar\"},{\"attributes\":{\"callback\":null,\"column_names\":[\"x\",\"y\"],\"data\":{\"x\":[0.0,0.015150826510737353,0.030301653021474705,0.045452479532212056,0.06060330604294941,0.07575413255368676,0.09090495906442411,0.10605578557516147,0.12120661208589882,0.13635743859663618,0.15150826510737353,0.16665909161811088,0.18180991812884822,0.19696074463958557,0.21211157115032295,0.2272623976610603,0.24241322417179764,0.257564050682535,0.27271487719327236,0.2878657037040097],\"y\":[0.0,0.0,0.0,0.0,0.0,0.0,0.0,0.0,0.0,0.0,0.0,0.0,0.0,0.0,0.0,0.0,0.0,0.0,0.0,0.0]}},\"id\":\"7cf2c536-2f64-4cdd-be89-c7e63333ea82\",\"type\":\"ColumnDataSource\"},{\"attributes\":{\"fill_alpha\":{\"value\":0.3},\"fill_color\":{\"value\":\"#B3E2CD\"},\"line_color\":{\"value\":\"#1f77b4\"},\"x\":{\"field\":\"x\"},\"y\":{\"field\":\"y\"}},\"id\":\"737de742-54e2-4eef-84a1-340038c80633\",\"type\":\"Patch\"},{\"attributes\":{\"plot\":{\"id\":\"56d6828a-a396-4a32-85ab-098137b3c043\",\"subtype\":\"Figure\",\"type\":\"Plot\"}},\"id\":\"052e4ebb-dc2d-4e53-8d0c-873cabe1de0c\",\"type\":\"ResetTool\"},{\"attributes\":{\"line_color\":{\"value\":\"#B3E2CD\"},\"x\":{\"field\":\"x\"},\"y\":{\"field\":\"y\"}},\"id\":\"524a963d-4fe9-44b8-b1d1-d75dbbf9262f\",\"type\":\"Line\"},{\"attributes\":{\"plot\":{\"id\":\"028c8921-0561-43ae-80bd-a48234a38eb4\",\"subtype\":\"Figure\",\"type\":\"Plot\"}},\"id\":\"956e41fc-fb88-4805-acad-a998ffff0e8f\",\"type\":\"WheelZoomTool\"},{\"attributes\":{\"callback\":null,\"column_names\":[\"x\",\"y\"],\"data\":{\"x\":[0.0,0.01515082651073737,0.03030165302147474,0.04545247953221211,0.06060330604294948,0.07575413255368685,0.09090495906442422,0.10605578557516158,0.12120661208589896,0.13635743859663632,0.1515082651073737,0.16665909161811107,0.18180991812884845,0.19696074463958582,0.21211157115032317,0.22726239766106054,0.24241322417179792,0.2575640506825353,0.27271487719327264,0.28786570370401005,0.28786570370401005,0.27271487719327264,0.2575640506825353,0.24241322417179792,0.22726239766106054,0.21211157115032317,0.19696074463958582,0.18180991812884845,0.16665909161811107,0.1515082651073737,0.13635743859663632,0.12120661208589896,0.10605578557516158,0.09090495906442422,0.07575413255368685,0.06060330604294948,0.04545247953221211,0.03030165302147474,0.01515082651073737,0.0],\"y\":[0.0,0.0,0.0,0.0,0.0,0.0,0.0,0.0,0.0,0.0,0.0,0.0,0.0,0.0,0.0,0.0,0.0,0.0,0.0,0.0,0.0,0.14239685628187287,0.28435192683060573,0.42630699737936534,0.5682620679281395,0.7102171384768768,0.8521722090256667,0.9941272795744284,1.136082350123181,1.2780374206719296,1.419992491220677,1.5619475617694523,1.7039026323182314,1.8458577028669767,1.9878127734157327,2.12976784396451,2.2717229145132607,2.413677985062045,2.555633055610793,2.6975881261595536]}},\"id\":\"fcaa7f6b-2687-4824-893e-637a50e473fd\",\"type\":\"ColumnDataSource\"},{\"attributes\":{},\"id\":\"855df797-51ec-4f05-8f06-30edd96627cb\",\"type\":\"ToolEvents\"},{\"attributes\":{},\"id\":\"6be2c642-c0d8-4f6b-8063-e1e54d293231\",\"type\":\"BasicTickFormatter\"},{\"attributes\":{},\"id\":\"c5a557d4-21a5-486d-8368-8878043d3f17\",\"type\":\"BasicTickFormatter\"},{\"attributes\":{\"fill_alpha\":{\"value\":0.1},\"fill_color\":{\"value\":\"#1f77b4\"},\"line_alpha\":{\"value\":0.1},\"line_color\":{\"value\":\"#1f77b4\"},\"x\":{\"field\":\"x\"},\"y\":{\"field\":\"y\"}},\"id\":\"5bd71722-83e6-413d-b3b8-5a4b56a86b53\",\"type\":\"Patch\"},{\"attributes\":{\"bottom_units\":\"screen\",\"fill_alpha\":{\"value\":0.5},\"fill_color\":{\"value\":\"lightgrey\"},\"left_units\":\"screen\",\"level\":\"overlay\",\"line_alpha\":{\"value\":1.0},\"line_color\":{\"value\":\"black\"},\"line_dash\":[4,4],\"line_width\":{\"value\":2},\"plot\":null,\"render_mode\":\"css\",\"right_units\":\"screen\",\"top_units\":\"screen\"},\"id\":\"bdf8b299-01ad-4ddf-b1e4-ef4efb180627\",\"type\":\"BoxAnnotation\"},{\"attributes\":{\"line_color\":{\"value\":\"#B3E2CD\"},\"x\":{\"field\":\"x\"},\"y\":{\"field\":\"y\"}},\"id\":\"6e13f4ab-81da-411e-8e40-6b2f279d0103\",\"type\":\"Line\"},{\"attributes\":{},\"id\":\"0d1663e7-a264-404e-ba80-5d3c96dea28a\",\"type\":\"BasicTickFormatter\"},{\"attributes\":{\"plot\":null,\"text\":\"Pathway 1\"},\"id\":\"f4926667-ef30-47fe-9729-4f247059c0cf\",\"type\":\"Title\"},{\"attributes\":{},\"id\":\"09a49e3a-a4f5-478e-825f-66c172dd7cb8\",\"type\":\"ToolEvents\"},{\"attributes\":{\"data_source\":{\"id\":\"7cf2c536-2f64-4cdd-be89-c7e63333ea82\",\"type\":\"ColumnDataSource\"},\"glyph\":{\"id\":\"cf2766b7-8157-47b8-9263-41c3861d206b\",\"type\":\"Line\"},\"hover_glyph\":null,\"nonselection_glyph\":{\"id\":\"ec22805b-225c-48e5-b6e9-5b2cf38ad026\",\"type\":\"Line\"},\"selection_glyph\":null},\"id\":\"3b1bccf5-32a6-4afb-b1a8-8266d93104f0\",\"type\":\"GlyphRenderer\"},{\"attributes\":{\"plot\":null,\"text\":\"Pathway 2\"},\"id\":\"f3f4b654-bb51-43df-a7ab-b0b5e34cf16f\",\"type\":\"Title\"},{\"attributes\":{\"callback\":null},\"id\":\"15ef5971-acca-4844-8135-c5d189d5ea4a\",\"type\":\"DataRange1d\"},{\"attributes\":{\"data_source\":{\"id\":\"787efe5a-c6e8-4b81-8a08-6e1c52c3b34a\",\"type\":\"ColumnDataSource\"},\"glyph\":{\"id\":\"7abc3c5c-7229-4ce4-8888-7c48aa6b8153\",\"type\":\"Line\"},\"hover_glyph\":null,\"nonselection_glyph\":{\"id\":\"3a714421-055c-4840-be7a-3425e0d5a78f\",\"type\":\"Line\"},\"selection_glyph\":null},\"id\":\"8a1110a6-5e46-4254-8e40-1f2f163c33b7\",\"type\":\"GlyphRenderer\"},{\"attributes\":{},\"id\":\"3bf4845c-2528-4f59-8a3f-239a988b6b03\",\"type\":\"BasicTicker\"},{\"attributes\":{\"line_color\":{\"value\":\"#B3E2CD\"},\"x\":{\"field\":\"x\"},\"y\":{\"field\":\"y\"}},\"id\":\"cf2766b7-8157-47b8-9263-41c3861d206b\",\"type\":\"Line\"},{\"attributes\":{\"fill_alpha\":{\"value\":0.1},\"fill_color\":{\"value\":\"#1f77b4\"},\"line_alpha\":{\"value\":0.1},\"line_color\":{\"value\":\"#1f77b4\"},\"x\":{\"field\":\"x\"},\"y\":{\"field\":\"y\"}},\"id\":\"c89230bd-0e6f-4ab6-b3d2-027a0cc0a48e\",\"type\":\"Patch\"},{\"attributes\":{\"line_color\":{\"value\":\"#B3E2CD\"},\"x\":{\"field\":\"x\"},\"y\":{\"field\":\"y\"}},\"id\":\"9cd39cee-a7f9-4a57-bd30-bea0884a0887\",\"type\":\"Line\"},{\"attributes\":{\"line_alpha\":{\"value\":0.1},\"line_color\":{\"value\":\"#1f77b4\"},\"x\":{\"field\":\"x\"},\"y\":{\"field\":\"y\"}},\"id\":\"b84a2880-c39a-47d3-b98d-01eee33dc2f7\",\"type\":\"Line\"},{\"attributes\":{\"callback\":null},\"id\":\"c98f67b4-7239-4ab5-8812-77a21d566561\",\"type\":\"DataRange1d\"},{\"attributes\":{\"callback\":null,\"column_names\":[\"x\",\"y\"],\"data\":{\"x\":[0.0,0.015150826510737923,0.030301653021475847,0.04545247953221377,0.06060330604295169,0.07575413255368962,0.09090495906442754,0.10605578557516546,0.12120661208590339,0.13635743859664132,0.15150826510737925,0.16665909161811715,0.18180991812885508,0.196960744639593,0.2121115711503309,0.22726239766106884,0.24241322417180677,0.2575640506825447,0.27271487719328263,0.28786570370402054,0.28786570370402054,0.27271487719328263,0.2575640506825447,0.24241322417180677,0.22726239766106884,0.2121115711503309,0.196960744639593,0.18180991812885508,0.16665909161811715,0.15150826510737925,0.13635743859664132,0.12120661208590339,0.10605578557516546,0.09090495906442754,0.07575413255368962,0.06060330604295169,0.04545247953221377,0.030301653021475847,0.015150826510737923,0.0],\"y\":[0.0,0.0,0.0,0.0,0.0,0.0,0.0,0.0,0.0,0.0,0.0,0.0,0.0,0.0,0.0,0.0,0.0,0.0,0.0,0.0,-3.6570746431152656e-13,0.3780882046102282,0.7550033919292432,1.1319185792483135,1.5088337665673388,1.885748953886706,2.259921016257209,2.6135534655561026,2.9671859148550457,3.3208183641538973,3.6744508134527463,4.028083262751629,4.217532925522407,4.338118253117488,4.458703580712535,4.579288908307616,4.69987423590267,4.820459563497742,4.941044891092773,5.05751391465677]}},\"id\":\"4fd69d49-4faf-41d1-855f-b3ff682dbde0\",\"type\":\"ColumnDataSource\"},{\"attributes\":{},\"id\":\"0dd6a6a1-1e6b-4469-8e92-f5d077cd44f0\",\"type\":\"BasicTickFormatter\"},{\"attributes\":{\"callback\":null,\"column_names\":[\"x\",\"y\"],\"data\":{\"x\":[0.0,0.01515082651073737,0.03030165302147474,0.04545247953221211,0.06060330604294948,0.07575413255368685,0.09090495906442422,0.10605578557516158,0.12120661208589896,0.13635743859663632,0.1515082651073737,0.16665909161811107,0.18180991812884845,0.19696074463958582,0.21211157115032317,0.22726239766106054,0.24241322417179792,0.2575640506825353,0.27271487719327264,0.28786570370401005],\"y\":[2.6975881261595536,2.555633055610793,2.413677985062045,2.2717229145132607,2.12976784396451,1.9878127734157327,1.8458577028669767,1.7039026323182314,1.5619475617694523,1.419992491220677,1.2780374206719296,1.136082350123181,0.9941272795744284,0.8521722090256667,0.7102171384768768,0.5682620679281395,0.42630699737936534,0.28435192683060573,0.14239685628187287,0.0]}},\"id\":\"a17873ba-46dd-4a02-9c42-e8d9f047a89b\",\"type\":\"ColumnDataSource\"},{\"attributes\":{\"callback\":null,\"column_names\":[\"x\",\"y\"],\"data\":{\"x\":[0.0,0.015150826510737353,0.030301653021474705,0.045452479532212056,0.06060330604294941,0.07575413255368676,0.09090495906442411,0.10605578557516147,0.12120661208589882,0.13635743859663618,0.15150826510737353,0.16665909161811088,0.18180991812884822,0.19696074463958557,0.21211157115032295,0.2272623976610603,0.24241322417179764,0.257564050682535,0.27271487719327236,0.2878657037040097],\"y\":[3.0354906054279747,2.8757541064179875,2.7160176074080162,2.556281108398039,2.39654460938803,2.2368081103780546,2.0770716113680825,1.9173351123580917,1.7575986133480939,1.5978621143381209,1.438125615328089,1.2783891163181529,1.118652617308095,0.9589161182981927,0.7991796192882019,0.6394431202782058,0.4797066212682195,0.3199701222582687,0.16023362324827528,0.0]}},\"id\":\"cd4d5fe0-8571-4f64-baae-63d9c3b86539\",\"type\":\"ColumnDataSource\"},{\"attributes\":{\"active_drag\":\"auto\",\"active_scroll\":\"auto\",\"active_tap\":\"auto\",\"tools\":[{\"id\":\"0043cf71-2b2f-4fe2-96a6-2da9787784d3\",\"type\":\"PanTool\"},{\"id\":\"756ef906-4278-4819-9b35-ea12bf5e26e6\",\"type\":\"WheelZoomTool\"},{\"id\":\"52d3cef9-495b-4473-969d-84225cd3c5c8\",\"type\":\"BoxZoomTool\"},{\"id\":\"1a0ff357-6c95-4795-b794-df407870aa7f\",\"type\":\"SaveTool\"},{\"id\":\"052e4ebb-dc2d-4e53-8d0c-873cabe1de0c\",\"type\":\"ResetTool\"},{\"id\":\"0c2ff4c5-b5d2-4edd-8ebb-b03af425faa1\",\"type\":\"HelpTool\"}]},\"id\":\"1bbc0ef9-0325-43ad-b1d7-7ce0e3d567c5\",\"type\":\"Toolbar\"},{\"attributes\":{\"legends\":[[\"WT\",[{\"id\":\"ec7f57c7-c4e3-45c5-82f3-d6f0247f0a86\",\"type\":\"GlyphRenderer\"}]]],\"plot\":{\"id\":\"9de470fe-c9ee-40fc-a640-e73c8ad706f8\",\"subtype\":\"Figure\",\"type\":\"Plot\"}},\"id\":\"a7516f04-9d1e-4997-9c64-68bf21328768\",\"type\":\"Legend\"},{\"attributes\":{\"plot\":{\"id\":\"f0e01ed6-de63-4744-875d-13ca1d8598aa\",\"subtype\":\"Figure\",\"type\":\"Plot\"}},\"id\":\"9d2e6553-63e4-4625-b817-96cceca6e6f2\",\"type\":\"WheelZoomTool\"},{\"attributes\":{\"plot\":null,\"text\":\"Pathway 4\"},\"id\":\"3a3ce2b4-52e0-45be-99e3-b5ef230ace6c\",\"type\":\"Title\"},{\"attributes\":{\"fill_alpha\":{\"value\":0.3},\"fill_color\":{\"value\":\"#B3E2CD\"},\"line_color\":{\"value\":\"#1f77b4\"},\"x\":{\"field\":\"x\"},\"y\":{\"field\":\"y\"}},\"id\":\"e2173910-61cd-4651-8197-c4807150e942\",\"type\":\"Patch\"},{\"attributes\":{\"dimension\":1,\"plot\":{\"id\":\"f0e01ed6-de63-4744-875d-13ca1d8598aa\",\"subtype\":\"Figure\",\"type\":\"Plot\"},\"ticker\":{\"id\":\"26fff790-8293-4a81-9822-84f6890d030c\",\"type\":\"BasicTicker\"}},\"id\":\"aae50e15-2494-4255-9281-60a39391cd7a\",\"type\":\"Grid\"},{\"attributes\":{},\"id\":\"cebae524-7203-48e4-b5bc-058d5f33a397\",\"type\":\"BasicTickFormatter\"},{\"attributes\":{\"data_source\":{\"id\":\"4fd69d49-4faf-41d1-855f-b3ff682dbde0\",\"type\":\"ColumnDataSource\"},\"glyph\":{\"id\":\"2ad30262-2794-4569-8935-b814a5363344\",\"type\":\"Patch\"},\"hover_glyph\":null,\"nonselection_glyph\":{\"id\":\"c89230bd-0e6f-4ab6-b3d2-027a0cc0a48e\",\"type\":\"Patch\"},\"selection_glyph\":null},\"id\":\"a92608c6-943d-4178-8a23-000c7fa2ec9b\",\"type\":\"GlyphRenderer\"},{\"attributes\":{\"plot\":{\"id\":\"9de470fe-c9ee-40fc-a640-e73c8ad706f8\",\"subtype\":\"Figure\",\"type\":\"Plot\"}},\"id\":\"0a4b645f-22ce-45da-ae4a-e1df1077c24b\",\"type\":\"SaveTool\"},{\"attributes\":{\"plot\":{\"id\":\"9de470fe-c9ee-40fc-a640-e73c8ad706f8\",\"subtype\":\"Figure\",\"type\":\"Plot\"}},\"id\":\"7c2b9d47-5e44-4f91-8e16-cc6df0bc3a31\",\"type\":\"PanTool\"},{\"attributes\":{\"callback\":null},\"id\":\"4256d546-44c6-462c-927c-f63be502938a\",\"type\":\"DataRange1d\"},{\"attributes\":{\"plot\":{\"id\":\"f0e01ed6-de63-4744-875d-13ca1d8598aa\",\"subtype\":\"Figure\",\"type\":\"Plot\"}},\"id\":\"a9aea3ec-6550-4aeb-bf2c-488e62bdec0b\",\"type\":\"HelpTool\"},{\"attributes\":{\"plot\":{\"id\":\"f0e01ed6-de63-4744-875d-13ca1d8598aa\",\"subtype\":\"Figure\",\"type\":\"Plot\"}},\"id\":\"5ac9da45-1be8-4839-bce1-46c0041f3b5e\",\"type\":\"PanTool\"},{\"attributes\":{\"plot\":{\"id\":\"028c8921-0561-43ae-80bd-a48234a38eb4\",\"subtype\":\"Figure\",\"type\":\"Plot\"}},\"id\":\"f0810e6f-e4e7-4cc8-85ec-6623d3886757\",\"type\":\"ResetTool\"},{\"attributes\":{\"bottom_units\":\"screen\",\"fill_alpha\":{\"value\":0.5},\"fill_color\":{\"value\":\"lightgrey\"},\"left_units\":\"screen\",\"level\":\"overlay\",\"line_alpha\":{\"value\":1.0},\"line_color\":{\"value\":\"black\"},\"line_dash\":[4,4],\"line_width\":{\"value\":2},\"plot\":null,\"render_mode\":\"css\",\"right_units\":\"screen\",\"top_units\":\"screen\"},\"id\":\"4fd87c60-4a53-4cbe-8141-3b2f785f001d\",\"type\":\"BoxAnnotation\"},{\"attributes\":{\"callback\":null,\"column_names\":[\"x\",\"y\"],\"data\":{\"x\":[0.0,0.01515082651073737,0.03030165302147474,0.04545247953221211,0.06060330604294948,0.07575413255368685,0.09090495906442422,0.10605578557516158,0.12120661208589896,0.13635743859663632,0.1515082651073737,0.16665909161811107,0.18180991812884845,0.19696074463958582,0.21211157115032317,0.22726239766106054,0.24241322417179792,0.2575640506825353,0.27271487719327264,0.28786570370401005],\"y\":[0.0,0.0,0.0,0.0,0.0,0.0,0.0,0.0,0.0,0.0,0.0,0.0,0.0,0.0,0.0,0.0,0.0,0.0,0.0,0.0]}},\"id\":\"63b3d03d-5168-46c9-a4a7-ae99975949c0\",\"type\":\"ColumnDataSource\"},{\"attributes\":{\"axis_label\":\"BIOMASS_SC5_notrace\",\"formatter\":{\"id\":\"cebae524-7203-48e4-b5bc-058d5f33a397\",\"type\":\"BasicTickFormatter\"},\"plot\":{\"id\":\"028c8921-0561-43ae-80bd-a48234a38eb4\",\"subtype\":\"Figure\",\"type\":\"Plot\"},\"ticker\":{\"id\":\"15cb83f0-70d4-4566-b916-43d056b23f75\",\"type\":\"BasicTicker\"}},\"id\":\"5e3f4bc8-734d-4d07-911c-5fb3176508fc\",\"type\":\"LinearAxis\"},{\"attributes\":{\"plot\":{\"id\":\"028c8921-0561-43ae-80bd-a48234a38eb4\",\"subtype\":\"Figure\",\"type\":\"Plot\"}},\"id\":\"1aefe1f1-f045-4a24-b4b9-38948ec795d8\",\"type\":\"SaveTool\"},{\"attributes\":{\"plot\":{\"id\":\"56d6828a-a396-4a32-85ab-098137b3c043\",\"subtype\":\"Figure\",\"type\":\"Plot\"}},\"id\":\"0043cf71-2b2f-4fe2-96a6-2da9787784d3\",\"type\":\"PanTool\"},{\"attributes\":{\"fill_alpha\":{\"value\":0.3},\"fill_color\":{\"value\":\"#B3E2CD\"},\"line_color\":{\"value\":\"#1f77b4\"},\"x\":{\"field\":\"x\"},\"y\":{\"field\":\"y\"}},\"id\":\"2ad30262-2794-4569-8935-b814a5363344\",\"type\":\"Patch\"},{\"attributes\":{\"line_alpha\":{\"value\":0.1},\"line_color\":{\"value\":\"#1f77b4\"},\"x\":{\"field\":\"x\"},\"y\":{\"field\":\"y\"}},\"id\":\"f53eb120-4d2b-4dd2-8971-85755fb38ae8\",\"type\":\"Line\"},{\"attributes\":{\"callback\":null,\"column_names\":[\"x\",\"y\"],\"data\":{\"x\":[0.0,0.015150997099321807,0.030301994198643614,0.04545299129796542,0.06060398839728723,0.07575498549660903,0.09090598259593084,0.10605697969525266,0.12120797679457446,0.13635897389389626,0.15150997099321806,0.16666096809253989,0.18181196519186169,0.19696296229118349,0.2121139593905053,0.2272649564898271,0.2424159535891489,0.25756695068847074,0.2727179477877925,0.28786894488711434,0.28786894488711434,0.2727179477877925,0.25756695068847074,0.2424159535891489,0.2272649564898271,0.2121139593905053,0.19696296229118349,0.18181196519186169,0.16666096809253989,0.15150997099321806,0.13635897389389626,0.12120797679457446,0.10605697969525266,0.09090598259593084,0.07575498549660903,0.06060398839728723,0.04545299129796542,0.030301994198643614,0.015150997099321807,0.0],\"y\":[0.0,0.0,0.0,0.0,0.0,0.0,0.0,0.0,0.0,0.0,0.0,0.0,0.0,0.0,0.0,0.0,0.0,0.0,0.0,0.0,-1.99854022220336e-13,0.10584871925039062,0.21092672080606611,0.31600472236176663,0.4207713090521729,0.5253295673270288,0.629887825601883,0.7342159568798096,0.8354646710517893,0.9329819738789348,1.0302163208697304,1.1274506678605332,1.2246850148513706,1.321919361842154,1.4191537088329829,1.5163880558237712,1.6136224028145825,1.7108567498053662,1.8080910967961856,1.9053254437869818]}},\"id\":\"c35b5660-69bd-41b3-aa79-c449f033f1e3\",\"type\":\"ColumnDataSource\"},{\"attributes\":{\"line_alpha\":{\"value\":0.1},\"line_color\":{\"value\":\"#1f77b4\"},\"x\":{\"field\":\"x\"},\"y\":{\"field\":\"y\"}},\"id\":\"df8a7204-4f5c-4ed4-9cf4-4290ff8eefb2\",\"type\":\"Line\"},{\"attributes\":{\"legends\":[[\"WT\",[{\"id\":\"c8b7b276-4c70-4d21-8550-847c1224c46b\",\"type\":\"GlyphRenderer\"}]]],\"plot\":{\"id\":\"f0e01ed6-de63-4744-875d-13ca1d8598aa\",\"subtype\":\"Figure\",\"type\":\"Plot\"}},\"id\":\"77b77201-ca6a-4380-8513-d442f215b9cd\",\"type\":\"Legend\"},{\"attributes\":{\"overlay\":{\"id\":\"4e1501da-9417-477c-a016-f924f28c82eb\",\"type\":\"BoxAnnotation\"},\"plot\":{\"id\":\"028c8921-0561-43ae-80bd-a48234a38eb4\",\"subtype\":\"Figure\",\"type\":\"Plot\"}},\"id\":\"28b2fee7-22b4-4c37-be64-c12329e959d7\",\"type\":\"BoxZoomTool\"},{\"attributes\":{\"plot\":{\"id\":\"f0e01ed6-de63-4744-875d-13ca1d8598aa\",\"subtype\":\"Figure\",\"type\":\"Plot\"}},\"id\":\"5a8b4ff9-a600-4ef0-9098-8cf4dfdaf8da\",\"type\":\"ResetTool\"},{\"attributes\":{\"axis_label\":\"BIOMASS_SC5_notrace\",\"formatter\":{\"id\":\"5815e811-f4b2-40a3-8e7d-d6fd7b3c7245\",\"type\":\"BasicTickFormatter\"},\"plot\":{\"id\":\"56d6828a-a396-4a32-85ab-098137b3c043\",\"subtype\":\"Figure\",\"type\":\"Plot\"},\"ticker\":{\"id\":\"4e61553d-d9e5-40b6-866c-f93198bc8270\",\"type\":\"BasicTicker\"}},\"id\":\"42b2f0c8-11fd-4cd2-9d40-48d2129e008d\",\"type\":\"LinearAxis\"},{\"attributes\":{\"axis_label\":\"DM_MNXM754\",\"formatter\":{\"id\":\"0dd6a6a1-1e6b-4469-8e92-f5d077cd44f0\",\"type\":\"BasicTickFormatter\"},\"plot\":{\"id\":\"028c8921-0561-43ae-80bd-a48234a38eb4\",\"subtype\":\"Figure\",\"type\":\"Plot\"},\"ticker\":{\"id\":\"df3eabfb-eaeb-4b16-8474-41f50f71e3a8\",\"type\":\"BasicTicker\"}},\"id\":\"f1c8e6bb-dad7-4f75-81dc-e16a486cbb6b\",\"type\":\"LinearAxis\"},{\"attributes\":{\"bottom_units\":\"screen\",\"fill_alpha\":{\"value\":0.5},\"fill_color\":{\"value\":\"lightgrey\"},\"left_units\":\"screen\",\"level\":\"overlay\",\"line_alpha\":{\"value\":1.0},\"line_color\":{\"value\":\"black\"},\"line_dash\":[4,4],\"line_width\":{\"value\":2},\"plot\":null,\"render_mode\":\"css\",\"right_units\":\"screen\",\"top_units\":\"screen\"},\"id\":\"4e1501da-9417-477c-a016-f924f28c82eb\",\"type\":\"BoxAnnotation\"},{\"attributes\":{\"line_color\":{\"value\":\"#B3E2CD\"},\"x\":{\"field\":\"x\"},\"y\":{\"field\":\"y\"}},\"id\":\"113cbbdf-6882-426c-9847-d7b859300a54\",\"type\":\"Line\"},{\"attributes\":{\"below\":[{\"id\":\"5e3f4bc8-734d-4d07-911c-5fb3176508fc\",\"type\":\"LinearAxis\"}],\"left\":[{\"id\":\"f1c8e6bb-dad7-4f75-81dc-e16a486cbb6b\",\"type\":\"LinearAxis\"}],\"plot_height\":278,\"plot_width\":450,\"renderers\":[{\"id\":\"5e3f4bc8-734d-4d07-911c-5fb3176508fc\",\"type\":\"LinearAxis\"},{\"id\":\"6a3d287c-4801-4bb6-97e1-b867ed33f27d\",\"type\":\"Grid\"},{\"id\":\"f1c8e6bb-dad7-4f75-81dc-e16a486cbb6b\",\"type\":\"LinearAxis\"},{\"id\":\"a1f49654-efc1-49b9-ab8b-2ad37e4837b1\",\"type\":\"Grid\"},{\"id\":\"4e1501da-9417-477c-a016-f924f28c82eb\",\"type\":\"BoxAnnotation\"},{\"id\":\"fc4ca1ec-8c89-4ced-a4f3-e15aa532f909\",\"type\":\"Legend\"},{\"id\":\"a92608c6-943d-4178-8a23-000c7fa2ec9b\",\"type\":\"GlyphRenderer\"},{\"id\":\"b7941439-83af-4f64-876f-aa1be3ae0b2d\",\"type\":\"GlyphRenderer\"},{\"id\":\"8a1110a6-5e46-4254-8e40-1f2f163c33b7\",\"type\":\"GlyphRenderer\"},{\"id\":\"e50c218b-e879-4337-b1fd-fffc87f4a32e\",\"type\":\"GlyphRenderer\"}],\"title\":{\"id\":\"f3f4b654-bb51-43df-a7ab-b0b5e34cf16f\",\"type\":\"Title\"},\"tool_events\":{\"id\":\"09a49e3a-a4f5-478e-825f-66c172dd7cb8\",\"type\":\"ToolEvents\"},\"toolbar\":{\"id\":\"5ac824e3-feab-4905-b64a-ccfb00221955\",\"type\":\"Toolbar\"},\"toolbar_location\":null,\"x_range\":{\"id\":\"d9742a26-5113-4a8a-bebc-54b69176f88e\",\"type\":\"DataRange1d\"},\"y_range\":{\"id\":\"15ef5971-acca-4844-8135-c5d189d5ea4a\",\"type\":\"DataRange1d\"}},\"id\":\"028c8921-0561-43ae-80bd-a48234a38eb4\",\"subtype\":\"Figure\",\"type\":\"Plot\"},{\"attributes\":{\"line_color\":{\"value\":\"#B3E2CD\"},\"x\":{\"field\":\"x\"},\"y\":{\"field\":\"y\"}},\"id\":\"da83467e-4318-476d-b03c-56d58f7a5628\",\"type\":\"Line\"},{\"attributes\":{\"callback\":null,\"column_names\":[\"x\",\"y\"],\"data\":{\"x\":[0.0,0.015150997099321807,0.030301994198643614,0.04545299129796542,0.06060398839728723,0.07575498549660903,0.09090598259593084,0.10605697969525266,0.12120797679457446,0.13635897389389626,0.15150997099321806,0.16666096809253989,0.18181196519186169,0.19696296229118349,0.2121139593905053,0.2272649564898271,0.2424159535891489,0.25756695068847074,0.2727179477877925,0.28786894488711434],\"y\":[0.0,0.0,0.0,0.0,0.0,0.0,0.0,0.0,0.0,0.0,0.0,0.0,0.0,0.0,0.0,0.0,0.0,0.0,0.0,0.0]}},\"id\":\"b274a538-8242-4c63-891b-80ceb14cc15c\",\"type\":\"ColumnDataSource\"},{\"attributes\":{\"bottom_units\":\"screen\",\"fill_alpha\":{\"value\":0.5},\"fill_color\":{\"value\":\"lightgrey\"},\"left_units\":\"screen\",\"level\":\"overlay\",\"line_alpha\":{\"value\":1.0},\"line_color\":{\"value\":\"black\"},\"line_dash\":[4,4],\"line_width\":{\"value\":2},\"plot\":null,\"render_mode\":\"css\",\"right_units\":\"screen\",\"top_units\":\"screen\"},\"id\":\"d7f8e81b-6691-4730-a21a-87bbe987bdb1\",\"type\":\"BoxAnnotation\"},{\"attributes\":{\"data_source\":{\"id\":\"cd4d5fe0-8571-4f64-baae-63d9c3b86539\",\"type\":\"ColumnDataSource\"},\"glyph\":{\"id\":\"9cd39cee-a7f9-4a57-bd30-bea0884a0887\",\"type\":\"Line\"},\"hover_glyph\":null,\"nonselection_glyph\":{\"id\":\"42c71cd3-574d-4cfc-9eb0-b5bbdea0c378\",\"type\":\"Line\"},\"selection_glyph\":null},\"id\":\"495de424-a148-4e76-93b7-5e9292a34f79\",\"type\":\"GlyphRenderer\"},{\"attributes\":{},\"id\":\"26fff790-8293-4a81-9822-84f6890d030c\",\"type\":\"BasicTicker\"},{\"attributes\":{\"callback\":null},\"id\":\"d1340684-99ac-4067-a21a-ecbefdf915d0\",\"type\":\"DataRange1d\"},{\"attributes\":{\"callback\":null},\"id\":\"2983abee-ed39-4672-8100-819682a55673\",\"type\":\"DataRange1d\"},{\"attributes\":{\"axis_label\":\"DM_MNXM754\",\"formatter\":{\"id\":\"e61d95db-ba08-470b-bd8f-d06ea96ee695\",\"type\":\"BasicTickFormatter\"},\"plot\":{\"id\":\"f0e01ed6-de63-4744-875d-13ca1d8598aa\",\"subtype\":\"Figure\",\"type\":\"Plot\"},\"ticker\":{\"id\":\"26fff790-8293-4a81-9822-84f6890d030c\",\"type\":\"BasicTicker\"}},\"id\":\"33c6d146-bc09-4271-8861-6c2c9d33d854\",\"type\":\"LinearAxis\"},{\"attributes\":{\"callback\":null,\"column_names\":[\"x\",\"y\"],\"data\":{\"x\":[0.28786570370402054,0.28786570370402054],\"y\":[-3.6570746431152656e-13,0.0]}},\"id\":\"38ebdeda-932e-4443-812f-61112ca69d7f\",\"type\":\"ColumnDataSource\"},{\"attributes\":{\"below\":[{\"id\":\"42b2f0c8-11fd-4cd2-9d40-48d2129e008d\",\"type\":\"LinearAxis\"}],\"left\":[{\"id\":\"98600f63-fbb2-41f2-8b93-ac04b4cfcd3a\",\"type\":\"LinearAxis\"}],\"plot_height\":278,\"plot_width\":450,\"renderers\":[{\"id\":\"42b2f0c8-11fd-4cd2-9d40-48d2129e008d\",\"type\":\"LinearAxis\"},{\"id\":\"efa11eb3-4ab5-447e-9447-433038156d53\",\"type\":\"Grid\"},{\"id\":\"98600f63-fbb2-41f2-8b93-ac04b4cfcd3a\",\"type\":\"LinearAxis\"},{\"id\":\"970d2b29-17c2-4711-9b95-9b2c9e1e7436\",\"type\":\"Grid\"},{\"id\":\"4fd87c60-4a53-4cbe-8141-3b2f785f001d\",\"type\":\"BoxAnnotation\"},{\"id\":\"7c66c0e6-0110-4de1-973c-4578e4fc06fa\",\"type\":\"Legend\"},{\"id\":\"6e02923c-1227-4814-aeaa-1302087b6838\",\"type\":\"GlyphRenderer\"},{\"id\":\"05e2d566-5e02-4e53-bb38-fc7cde4ee96d\",\"type\":\"GlyphRenderer\"},{\"id\":\"c0dcc0a5-065b-4baf-9de5-e30954b9e46b\",\"type\":\"GlyphRenderer\"},{\"id\":\"595f3063-8cda-4ac4-86da-aaf455daf0f1\",\"type\":\"GlyphRenderer\"}],\"title\":{\"id\":\"5c92e15b-c9e6-462a-96ad-8471efafcc55\",\"type\":\"Title\"},\"tool_events\":{\"id\":\"e291afad-a287-49b0-b5c3-c2aa0c642f0a\",\"type\":\"ToolEvents\"},\"toolbar\":{\"id\":\"1bbc0ef9-0325-43ad-b1d7-7ce0e3d567c5\",\"type\":\"Toolbar\"},\"toolbar_location\":null,\"x_range\":{\"id\":\"5f393970-ded1-4792-801a-8a1c58f1b476\",\"type\":\"DataRange1d\"},\"y_range\":{\"id\":\"d1340684-99ac-4067-a21a-ecbefdf915d0\",\"type\":\"DataRange1d\"}},\"id\":\"56d6828a-a396-4a32-85ab-098137b3c043\",\"subtype\":\"Figure\",\"type\":\"Plot\"}],\"root_ids\":[\"c01c26ed-50c4-4920-9bc5-67cd7fe86e16\"]},\"title\":\"Bokeh Application\",\"version\":\"0.12.1\"}};\n",
       "            var render_items = [{\"docid\":\"e049b165-6565-4b5a-816b-78130fcdb913\",\"elementid\":\"dfc9c1b1-0e54-42cb-89e9-080440d3fddb\",\"modelid\":\"c01c26ed-50c4-4920-9bc5-67cd7fe86e16\",\"notebook_comms_target\":\"650a9b6f-ddd3-4d53-9268-7a72f1d4c6a0\"}];\n",
       "            \n",
       "            Bokeh.embed.embed_items(docs_json, render_items);\n",
       "        });\n",
       "      },\n",
       "      function(Bokeh) {\n",
       "      }\n",
       "    ];\n",
       "  \n",
       "    function run_inline_js() {\n",
       "      for (var i = 0; i < inline_js.length; i++) {\n",
       "        inline_js[i](window.Bokeh);\n",
       "      }\n",
       "    }\n",
       "  \n",
       "    if (window._bokeh_is_loading === 0) {\n",
       "      console.log(\"Bokeh: BokehJS loaded, going straight to plotting\");\n",
       "      run_inline_js();\n",
       "    } else {\n",
       "      load_libs(js_urls, function() {\n",
       "        console.log(\"Bokeh: BokehJS plotting callback run at\", now());\n",
       "        run_inline_js();\n",
       "      });\n",
       "    }\n",
       "  }(this));\n",
       "</script>"
      ]
     },
     "metadata": {},
     "output_type": "display_data"
    }
   ],
   "source": [
    "pathways.plot_production_envelopes(model, objective=model.reactions.BIOMASS_SC5_notrace)"
   ]
  },
  {
   "cell_type": "markdown",
   "metadata": {
    "collapsed": true
   },
   "source": []
  }
 ],
 "metadata": {
  "anaconda-cloud": {},
  "kernelspec": {
   "display_name": "Python [default]",
   "language": "python",
   "name": "python3"
  },
  "language_info": {
   "codemirror_mode": {
    "name": "ipython",
    "version": 3
   },
   "file_extension": ".py",
   "mimetype": "text/x-python",
   "name": "python",
   "nbconvert_exporter": "python",
   "pygments_lexer": "ipython3",
   "version": "3.4.5"
  }
 },
 "nbformat": 4,
 "nbformat_minor": 1
}
