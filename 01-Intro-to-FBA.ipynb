{
 "cells": [
  {
   "cell_type": "markdown",
   "metadata": {
    "toc": true
   },
   "source": [
    "<h1>Table of Contents<span class=\"tocSkip\"></span></h1>\n",
    "<div class=\"toc\"><ul class=\"toc-item\"><li><span><a href=\"#ABC-model-of-metabolism\" data-toc-modified-id=\"ABC-model-of-metabolism-1\"><span class=\"toc-item-num\">1&nbsp;&nbsp;</span>ABC model of metabolism</a></span><ul class=\"toc-item\"><li><span><a href=\"#Implementation-of-the-ABC-model-using-Cobrapy\" data-toc-modified-id=\"Implementation-of-the-ABC-model-using-Cobrapy-1.1\"><span class=\"toc-item-num\">1.1&nbsp;&nbsp;</span>Implementation of the ABC model using Cobrapy</a></span></li></ul></li><li><span><a href=\"#Steady-state-analysis-of-the-ABC-model\" data-toc-modified-id=\"Steady-state-analysis-of-the-ABC-model-2\"><span class=\"toc-item-num\">2&nbsp;&nbsp;</span>Steady state analysis of the ABC model</a></span></li><li><span><a href=\"#Cell-factory-design-questions-for-the-ABC-model\" data-toc-modified-id=\"Cell-factory-design-questions-for-the-ABC-model-3\"><span class=\"toc-item-num\">3&nbsp;&nbsp;</span>Cell factory design questions for the ABC model</a></span><ul class=\"toc-item\"><li><span><a href=\"#What-is-the-maximum-achievable-growth-rate?\" data-toc-modified-id=\"What-is-the-maximum-achievable-growth-rate?-3.1\"><span class=\"toc-item-num\">3.1&nbsp;&nbsp;</span>What is the maximum achievable growth rate?</a></span><ul class=\"toc-item\"><li><span><a href=\"#Cobrapy-implementation-of-the-optimization-problem\" data-toc-modified-id=\"Cobrapy-implementation-of-the-optimization-problem-3.1.1\"><span class=\"toc-item-num\">3.1.1&nbsp;&nbsp;</span>Cobrapy implementation of the optimization problem</a></span></li><li><span><a href=\"#We-can-also-visualize-the-fluxes-on-the-network\" data-toc-modified-id=\"We-can-also-visualize-the-fluxes-on-the-network-3.1.2\"><span class=\"toc-item-num\">3.1.2&nbsp;&nbsp;</span>We can also visualize the fluxes on the network</a></span></li></ul></li><li><span><a href=\"#What-is-the-maximum-bioproduct-yield?\" data-toc-modified-id=\"What-is-the-maximum-bioproduct-yield?-3.2\"><span class=\"toc-item-num\">3.2&nbsp;&nbsp;</span>What is the maximum bioproduct yield?</a></span></li><li><span><a href=\"#How-can-we-shift-environmental-conditions-to-optimize-bioproduct-yield?\" data-toc-modified-id=\"How-can-we-shift-environmental-conditions-to-optimize-bioproduct-yield?-3.3\"><span class=\"toc-item-num\">3.3&nbsp;&nbsp;</span>How can we shift environmental conditions to optimize bioproduct yield?</a></span></li><li><span><a href=\"#How-can-we-use-gene-knockouts-to-optimize-bioproduct-yield?\" data-toc-modified-id=\"How-can-we-use-gene-knockouts-to-optimize-bioproduct-yield?-3.4\"><span class=\"toc-item-num\">3.4&nbsp;&nbsp;</span>How can we use gene knockouts to optimize bioproduct yield?</a></span></li><li><span><a href=\"#How-can-we-balance-the-tradeoff-between-growth-rate-and-bioproduct-yield?\" data-toc-modified-id=\"How-can-we-balance-the-tradeoff-between-growth-rate-and-bioproduct-yield?-3.5\"><span class=\"toc-item-num\">3.5&nbsp;&nbsp;</span>How can we balance the tradeoff between growth rate and bioproduct yield?</a></span></li></ul></li></ul></div>"
   ]
  },
  {
   "cell_type": "markdown",
   "metadata": {},
   "source": [
    "# ABC model of metabolism\n",
    "\n",
    "Consider a cell, where we track all the metabolites going into and out of the cell through reactions.\n",
    "![ABC_network.png](ABC/Metabolic-network.JPG)\n"
   ]
  },
  {
   "cell_type": "markdown",
   "metadata": {},
   "source": [
    "The chemical equations for the ABC model are:\n",
    "\n",
    "$$\n",
    "\\begin{array}{lrcl}\n",
    " R_1: & & \\overset{v_1}{\\rightarrow} & A \\\\\n",
    " R_2: & A & \\overset{v_2}{\\rightarrow} & B \\\\\n",
    " R_3: & A & \\overset{v_3}{\\rightarrow} & C \\\\\n",
    " R_4: & B + E & \\overset{v_4}{\\rightarrow}& 2D\\\\\n",
    " R_5:  & &\\overset{v_5}{\\rightarrow} & E \\\\\n",
    " R_6: & 2B & \\overset{v_6}{\\rightarrow} & C + F \\\\\n",
    " R_7: & C & \\overset{v_7}{\\rightarrow} & D \\\\\n",
    " R_8: & D & \\overset{v_8}{\\rightarrow} &  \\\\\n",
    " R_9: & F & \\overset{v_9}{\\rightarrow} &  \\\\\n",
    "\\end{array}\n",
    "$$\n",
    "\n",
    "where $R_j$ are the reaction equations, the $v_j$ are the reaction rates, or fluxes, and the arrow direction indicates the reaction is irreversible.\n",
    "These chemical equations can also be represented as a Stoichiometric matrix $S$:\n",
    " \n",
    "$$\n",
    "S = \\left[ {\\begin{array}{cccccccccc}\n",
    "  & R_1 & R_2 & R_3 & R_4 & R_5 & R_6 & R_7 & R_8 & R_9 \\\\\n",
    "A & 1   & -1  & -1  & 0   & 0   & 0   & 0   & 0   & 0   \\\\\n",
    "B & 0   &  1  & 0   & -1  & 0   & -2  & 0   & 0   & 0   \\\\\n",
    "C & 0   &  0  & 1   & 0   & 0   & 1   & -1  & 0   & 0   \\\\\n",
    "D & 0   &  0  & 0   & 2   & 0   & 0   &  1  & -1  & 0   \\\\\n",
    "E & 0   &  0  & 0   & -1   & 1   & 0   &  0  & 0  & 0   \\\\\n",
    "F & 0   &  0  & 0   &  0   & 0   & 1   &  0  & 0  & -1   \\\\\n",
    "\\end{array}}\\right]\n",
    "$$\n",
    "\n",
    "where each column corresponds to a reaction, each row corresponds to a metabolite, and the element corresponds to the stoichiometry of each metabolite in that reaction. The number is negative if the metabolite is a reactant of the reaction, positive if it is a product of the reaction, and zero, otherwise.\n",
    "\n",
    "## Implementation of the ABC model using Cobrapy"
   ]
  },
  {
   "cell_type": "code",
   "execution_count": null,
   "metadata": {
    "ExecuteTime": {
     "end_time": "2019-02-26T18:50:56.485816Z",
     "start_time": "2019-02-26T18:50:53.913765Z"
    }
   },
   "outputs": [],
   "source": [
    "import cobra\n",
    "abc_model = cobra.Model('ABC_model')\n",
    "\n",
    "A  = cobra.Metabolite('A',compartment='c')\n",
    "B  = cobra.Metabolite('B',compartment='c')\n",
    "C  = cobra.Metabolite('C',compartment='c')\n",
    "D  = cobra.Metabolite('D',compartment='c')\n",
    "E  = cobra.Metabolite('E',compartment='c')\n",
    "F  = cobra.Metabolite('F',compartment='c')\n",
    "\n",
    "abc_model.add_metabolites([A,B,C,D,E,F])\n",
    "\n",
    "R_1 = cobra.Reaction('R_1')\n",
    "R_2 = cobra.Reaction('R_2')\n",
    "R_3 = cobra.Reaction('R_3')\n",
    "R_4 = cobra.Reaction('R_4')\n",
    "R_5 = cobra.Reaction('R_5')\n",
    "R_6 = cobra.Reaction('R_6')\n",
    "R_7 = cobra.Reaction('R_7')\n",
    "R_8 = cobra.Reaction('R_8')\n",
    "R_9 = cobra.Reaction('R_9')\n",
    "\n",
    "abc_model.add_reactions([R_1, R_2, R_3, R_4, R_5, R_6, R_7, R_8, R_9])\n",
    "\n",
    "R_1.build_reaction_from_string('--> A')\n",
    "R_2.build_reaction_from_string('A --> B')\n",
    "R_3.build_reaction_from_string('A --> C')\n",
    "R_4.build_reaction_from_string('B + E --> 2 D')\n",
    "R_5.build_reaction_from_string('--> E')\n",
    "R_6.build_reaction_from_string('2 B --> C + F')\n",
    "R_7.build_reaction_from_string('C --> D')\n",
    "R_8.build_reaction_from_string('D -->')\n",
    "R_9.build_reaction_from_string('F -->')\n",
    "\n",
    "cobra.io.save_json_model(abc_model, 'ABC/abc_model.json')\n",
    "cobra.util.array.create_stoichiometric_matrix(abc_model, \n",
    "                                              array_type='DataFrame').astype(int)"
   ]
  },
  {
   "cell_type": "markdown",
   "metadata": {},
   "source": [
    "# Steady state analysis of the ABC model\n",
    "\n",
    "![steady state pools of water](ABC/Pamukkale.jpg)\n",
    "\n",
    "Like the terraced pools of water in the geothermal hot springs of [Pamukkale, Turkey](https://rustytraveltrunk.com/pamukkale/), when the metabolic network is in steady state, the concentrations of the internal metabolites do not change. Therefore\n",
    "$$ \\frac{d\\vec{c}}{dt} = S\\cdot\\vec{v} = 0$$\n",
    "where $\\frac{d\\vec{c}}{dt}$ represents the change in metabolite concentrations with respect to time, and $\\vec{v}$ are the  reaction rates (also known as fluxes), and $S$ is the stoichiometric matrix.\n",
    "\n",
    "\n",
    "$$\n",
    "\\left[ {\\begin{array}{c}\n",
    "\\frac{dA}{dt} \\\\ \\frac{dB}{dt} \\\\ \\frac{dC}{dt} \\\\ \\frac{dD}{dt} \\\\ \\frac{dE}{dt} \\\\ \\frac{dF}{dt} \\\\\n",
    "\\end{array}}\\right] = \n",
    "S\\cdot\\vec{v} = \\left[ {\\begin{array}{cccccccccc}\n",
    "  & R_1 & R_2 & R_3 & R_4 & R_5 & R_6 & R_7 & R_8 & R_9 \\\\\n",
    "A & 1   & -1  & -1  & 0   & 0   & 0   & 0   & 0   & 0   \\\\\n",
    "B & 0   &  1  & 0   & -1  & 0   & -2  & 0   & 0   & 0   \\\\\n",
    "C & 0   &  0  & 1   & 0   & 0   & 1   & -1  & 0   & 0   \\\\\n",
    "D & 0   &  0  & 0   & 2   & 0   & 0   &  1  & -1  & 0   \\\\\n",
    "E & 0   &  0  & 0   & -1   & 1   & 0   &  0  & 0  & 0   \\\\\n",
    "F & 0   &  0  & 0   &  0   & 0   & 1   &  0  & 0  & -1   \\\\\n",
    "\\end{array}}\\right]\\cdot\\left[ {\\begin{array}{c}\n",
    "v_1 \\\\ v_2 \\\\ v_3 \\\\ v_4 \\\\ v_5 \\\\ v_6 \\\\ v_7 \\\\ v_8 \\\\ v_9 \\\\\n",
    "\\end{array}}\\right] = \\left[ {\\begin{array}{c}\n",
    "v_1 - v_2 - v_3 \\\\ v_2 - v_4 - 2v_6 \\\\ v_3 + v_6 - v_7 \\\\ 2v_4 + v_7 - v_8 \\\\ -v_4 + v_5 \\\\ v_6 - v_9 \\\\\n",
    "\\end{array}}\\right] = 0\n",
    "$$"
   ]
  },
  {
   "cell_type": "markdown",
   "metadata": {},
   "source": [
    "\n",
    "\n",
    "![ELMO](ABC/ELMO.JPG)\n",
    "\n",
    "For the ABC model, all feasible steady-state flux distributions can be decomposed into non-negative combinations of just 3 elementary modes. Although elementary modes are useful conceptual framework for analyzing small networks, they are not practical for genome-scale network analysis because the number of elementary modes increases exponentially with the size of the network.  Nevertheless, for this ABC model keeping in mind these three elementary modes will be helpful when solving the cell factory design problems below.\n"
   ]
  },
  {
   "cell_type": "markdown",
   "metadata": {},
   "source": [
    "# Cell factory design questions for the ABC model\n",
    "\n",
    "1. What is the maximum achievable growth rate?\n",
    "2. What is the maximum bioproduct yield?\n",
    "3. How can we alter experimental conditions to achieve maximum bioproduct yield?\n",
    "4. How do we use gene knockouts to achieve maximum bioproduct yield?\n",
    "5. How can we balance the tradeoff between growth rate and bioproduct yield?\n",
    "\n",
    "\n",
    "## What is the maximum achievable growth rate?\n",
    "\n",
    "Suppose that the uptake rate of $A$ is limited to $10 \\frac{mmol}{hour}$, and $D$ is biomass. What is the maximum growth rate achievable given the constraints of this network?  We can find the answer by solving the following optimization problem:\n",
    "$$\\begin{array}{ll}\n",
    "    \\underset{\\vec{v}}{\\mbox{maximize}}   & v_{8} \\\\\n",
    "    \\mbox{subject to}  & S\\cdot \\vec{v} = 0 \\\\\n",
    "    & 0 \\leq \\vec{v}  \\\\\n",
    "    & v_1 \\leq 10 \\\\\n",
    "\\end{array}$$\n",
    "\n",
    "### Cobrapy implementation of the optimization problem"
   ]
  },
  {
   "cell_type": "code",
   "execution_count": null,
   "metadata": {
    "ExecuteTime": {
     "end_time": "2019-02-26T19:00:57.773474Z",
     "start_time": "2019-02-26T19:00:57.736506Z"
    }
   },
   "outputs": [],
   "source": [
    "abc_model = cobra.io.load_json_model('ABC/abc_model.json')\n",
    "abc_model.objective = R_8\n",
    "abc_model.reactions.R_1.upper_bound = 10\n",
    "abc_model.optimize()"
   ]
  },
  {
   "cell_type": "markdown",
   "metadata": {},
   "source": [
    "### We can also visualize the fluxes on the network"
   ]
  },
  {
   "cell_type": "code",
   "execution_count": null,
   "metadata": {
    "ExecuteTime": {
     "end_time": "2019-02-26T19:02:00.031334Z",
     "start_time": "2019-02-26T19:01:59.927992Z"
    },
    "scrolled": false
   },
   "outputs": [],
   "source": [
    "import escher\n",
    "reaction_scale = [ { 'type': 'min',  'color': '#c8c8c8', 'size': 12 },\n",
    "                   { 'type': 'mean', 'color': '#9696ff', 'size': 20 },\n",
    "                   { 'type': 'max',  'color': '#ff0000', 'size': 25 } ]\n",
    "escher.Builder(map_json='ABC/abc_map.json',\n",
    "               model=abc_model,\n",
    "               reaction_data=abc_model.optimize().fluxes.to_dict(),\n",
    "               reaction_scale=reaction_scale\n",
    "              ).display_in_notebook()"
   ]
  },
  {
   "cell_type": "markdown",
   "metadata": {},
   "source": [
    "\n",
    "\n",
    "\n",
    "## What is the maximum bioproduct yield?\n",
    "\n",
    "Since we are interested in microbial cell factories, let's think of $F$ as a high-value product.\n",
    "What happens to the flux distribution and the growth rate if we maximize the production of $F$?\n",
    "\n",
    "$$\\begin{array}{ll}\n",
    "    \\underset{\\vec{\\bf v}}{\\mbox{maximize}}   & v_9 \\\\\n",
    "    \\mbox{subject to}  & S\\cdot v = 0 \\\\\n",
    "    & 0 \\leq v  \\\\\n",
    "    & v_1 \\leq 10 \\\\\n",
    "\\end{array}$$"
   ]
  },
  {
   "cell_type": "code",
   "execution_count": null,
   "metadata": {
    "ExecuteTime": {
     "end_time": "2019-02-26T19:06:00.578013Z",
     "start_time": "2019-02-26T19:06:00.552052Z"
    }
   },
   "outputs": [],
   "source": [
    "abc_model = cobra.io.load_json_model('ABC/abc_model.json')\n",
    "abc_model.objective = R_9\n",
    "abc_model.reactions.R_1.upper_bound = 10\n",
    "R9_solution = abc_model.optimize()\n",
    "display(R9_solution)\n",
    "escher.Builder(map_json='ABC/abc_map.json',\n",
    "               model=abc_model,\n",
    "               reaction_data=R9_solution.fluxes.to_dict(),\n",
    "               reaction_scale=reaction_scale\n",
    "              ).display_in_notebook()"
   ]
  },
  {
   "cell_type": "markdown",
   "metadata": {},
   "source": [
    "## How can we shift environmental conditions to optimize bioproduct yield?\n",
    "\n",
    "We see from the previous exercise that if the cell wanted to produce the product, then there is a pathway that enables growth and bioproduction. But cells don't want to produce bioproducts, they just want to grow.  How can we persuade the cell to meet our objective?  In the ABC model, let's imagine that $E$ plays the role of oxygen in the metabolism of a facultative aerobe: having some makes the growth rate increase, but it is not strictly necessary for growth. What happens to the flux distribution if the cell tries to grow without $E$ (an-$E$-robically?)  Will this result in the desired pathway being utilized?\n",
    "\n",
    "$$\\begin{array}{ll}\n",
    "    \\underset{\\vec{\\bf v}}{\\mbox{maximize}}   & v_{8} \\\\\n",
    "    \\mbox{subject to}  & S\\cdot v = 0 \\\\\n",
    "    & 0 \\leq v  \\\\\n",
    "    & v_1 \\leq 10 \\\\\n",
    "    & v_5 \\leq 0 \\\\\n",
    "\\end{array}$$\n"
   ]
  },
  {
   "cell_type": "code",
   "execution_count": null,
   "metadata": {
    "ExecuteTime": {
     "end_time": "2019-02-26T19:08:02.938807Z",
     "start_time": "2019-02-26T19:08:02.918788Z"
    }
   },
   "outputs": [],
   "source": [
    "abc_model = cobra.io.load_json_model('ABC/ABC_model.json')\n",
    "abc_model.objective = R_8\n",
    "abc_model.reactions.R_1.upper_bound = 10\n",
    "abc_model.reactions.R_5.upper_bound = 0\n",
    "no_R5_solution = abc_model.optimize()\n",
    "display(no_R5_solution)\n",
    "\n",
    "escher.Builder(map_json='ABC/abc_map.json',\n",
    "               model=abc_model,\n",
    "               reaction_data=no_R5_solution.fluxes.to_dict(), \n",
    "               reaction_scale=reaction_scale,\n",
    "              ).display_in_notebook()"
   ]
  },
  {
   "cell_type": "markdown",
   "metadata": {},
   "source": [
    "## How can we use gene knockouts to optimize bioproduct yield?\n",
    "\n",
    "As we discovered in the previous exercise, even with a small network, it isn't always obvious how to align the evolutionary objective of the cell with our engineering objective.  However, by knocking out the genes that enable alternate pathways, we can sculpt the metabolic network towards our objectives.\n",
    "\n",
    "$$\\begin{array}{ll}\n",
    "    \\underset{\\vec{\\bf v}}{\\mbox{maximize}}   & v_{8} \\\\\n",
    "    \\mbox{subject to}  & S\\cdot v = 0 \\\\\n",
    "    & 0 \\leq v  \\\\\n",
    "    & v_1 \\leq 10 \\\\\n",
    "    & v_5 \\leq 0 \\\\\n",
    "    & v_3 \\leq 0 \\\\\n",
    "\\end{array}$$\n"
   ]
  },
  {
   "cell_type": "code",
   "execution_count": null,
   "metadata": {
    "ExecuteTime": {
     "end_time": "2019-02-26T19:21:02.335964Z",
     "start_time": "2019-02-26T19:21:02.312763Z"
    }
   },
   "outputs": [],
   "source": [
    "abc_model = cobra.io.load_json_model('ABC/ABC_model.json')\n",
    "abc_model.objective = R_8\n",
    "abc_model.reactions.R_1.upper_bound = 10\n",
    "abc_model.reactions.R_5.upper_bound = 0\n",
    "abc_model.reactions.R_3.upper_bound = 0\n",
    "\n",
    "display(abc_model.optimize())\n",
    "escher.Builder(map_json='ABC/abc_map.json',\n",
    "               model=abc_model,\n",
    "               reaction_data=abc_model.optimize().fluxes.to_dict(), \n",
    "               reaction_scale=reaction_scale\n",
    "              ).display_in_notebook()"
   ]
  },
  {
   "cell_type": "markdown",
   "metadata": {},
   "source": [
    "## How can we balance the tradeoff between growth rate and bioproduct yield?\n",
    "\n",
    "By knocking out $R_3$, we are able to maximize bioproduction, but growth rate is pretty low. We can balance the tradeoff between growth and bioproduction by modulating the uptake of $E$. \n",
    "\n",
    "\n",
    "$$\\begin{array}{ll}\n",
    "    \\underset{\\vec{\\bf v}}{\\mbox{maximize}}   & v_{8} \\\\\n",
    "    \\mbox{subject to}  & S\\cdot v = 0 \\\\\n",
    "    & 0 \\leq v  \\\\\n",
    "    & v_1 \\leq 10 \\\\\n",
    "    & v_5 \\leq 5 \\\\\n",
    "    & v_3 \\leq 0 \\\\\n",
    "\\end{array}$$"
   ]
  },
  {
   "cell_type": "code",
   "execution_count": null,
   "metadata": {
    "ExecuteTime": {
     "end_time": "2019-02-26T19:21:53.955687Z",
     "start_time": "2019-02-26T19:21:53.934183Z"
    }
   },
   "outputs": [],
   "source": [
    "abc_model = cobra.io.load_json_model('ABC/ABC_model.json')\n",
    "abc_model.objective = R_8\n",
    "abc_model.reactions.R_1.upper_bound = 10\n",
    "abc_model.reactions.R_5.upper_bound = 5\n",
    "abc_model.reactions.R_3.upper_bound = 0\n",
    "display(abc_model.optimize())\n",
    "escher.Builder(map_json='ABC/abc_map.json',\n",
    "               model=abc_model,\n",
    "               reaction_data=abc_model.optimize().fluxes.to_dict(), \n",
    "               reaction_scale=reaction_scale\n",
    "              ).display_in_notebook()"
   ]
  },
  {
   "cell_type": "markdown",
   "metadata": {},
   "source": [
    "How much bioproduct ($F$) flux do we get per carbon source ($A$)?  How much does growth rate increase compared to the case where we are maximizing bioproduct yield?  Is this a reasonable tradeoff?"
   ]
  }
 ],
 "metadata": {
  "anaconda-cloud": {},
  "kernelspec": {
   "display_name": "Cell factory design course",
   "language": "python",
   "name": "cell-factory-design-course"
  },
  "language_info": {
   "codemirror_mode": {
    "name": "ipython",
    "version": 3
   },
   "file_extension": ".py",
   "mimetype": "text/x-python",
   "name": "python",
   "nbconvert_exporter": "python",
   "pygments_lexer": "ipython3",
   "version": "3.6.0"
  },
  "toc": {
   "base_numbering": 1,
   "nav_menu": {},
   "number_sections": true,
   "sideBar": true,
   "skip_h1_title": false,
   "title_cell": "Table of Contents",
   "title_sidebar": "Contents",
   "toc_cell": true,
   "toc_position": {},
   "toc_section_display": true,
   "toc_window_display": false
  },
  "varInspector": {
   "cols": {
    "lenName": 16,
    "lenType": 16,
    "lenVar": 40
   },
   "kernels_config": {
    "python": {
     "delete_cmd_postfix": "",
     "delete_cmd_prefix": "del ",
     "library": "var_list.py",
     "varRefreshCmd": "print(var_dic_list())"
    },
    "r": {
     "delete_cmd_postfix": ") ",
     "delete_cmd_prefix": "rm(",
     "library": "var_list.r",
     "varRefreshCmd": "cat(var_dic_list()) "
    }
   },
   "types_to_exclude": [
    "module",
    "function",
    "builtin_function_or_method",
    "instance",
    "_Feature"
   ],
   "window_display": false
  }
 },
 "nbformat": 4,
 "nbformat_minor": 2
}
