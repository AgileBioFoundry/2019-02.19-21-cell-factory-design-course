{
 "cells": [
  {
   "cell_type": "markdown",
   "metadata": {
    "toc": true
   },
   "source": [
    "<h1>Table of Contents<span class=\"tocSkip\"></span></h1>\n",
    "<div class=\"toc\"><ul class=\"toc-item\"><li><span><a href=\"#Gene-essentiality\" data-toc-modified-id=\"Gene-essentiality-1\"><span class=\"toc-item-num\">1&nbsp;&nbsp;</span>Gene essentiality</a></span><ul class=\"toc-item\"><li><span><a href=\"#Knocking-out-a-single-gene\" data-toc-modified-id=\"Knocking-out-a-single-gene-1.1\"><span class=\"toc-item-num\">1.1&nbsp;&nbsp;</span>Knocking out a single gene</a></span></li><li><span><a href=\"#Perform-all-possible-single-gene-deletions\" data-toc-modified-id=\"Perform-all-possible-single-gene-deletions-1.2\"><span class=\"toc-item-num\">1.2&nbsp;&nbsp;</span>Perform all possible single gene deletions</a></span></li><li><span><a href=\"#Exercises\" data-toc-modified-id=\"Exercises-1.3\"><span class=\"toc-item-num\">1.3&nbsp;&nbsp;</span>Exercises</a></span></li><li><span><a href=\"#Gene-essentiality-with-respect-to-each-biomass-precursor\" data-toc-modified-id=\"Gene-essentiality-with-respect-to-each-biomass-precursor-1.4\"><span class=\"toc-item-num\">1.4&nbsp;&nbsp;</span>Gene essentiality with respect to each biomass precursor</a></span></li></ul></li></ul></div>"
   ]
  },
  {
   "cell_type": "markdown",
   "metadata": {},
   "source": [
    "# Gene essentiality"
   ]
  },
  {
   "cell_type": "code",
   "execution_count": null,
   "metadata": {
    "ExecuteTime": {
     "end_time": "2019-02-20T23:10:21.630040Z",
     "start_time": "2019-02-20T23:10:18.810158Z"
    }
   },
   "outputs": [],
   "source": [
    "import matplotlib.pyplot as plt\n",
    "plt.style.use('ggplot')\n",
    "from pandas import DataFrame\n",
    "import pandas as pd\n",
    "from cobra.io import read_sbml_model\n",
    "%matplotlib inline\n",
    "model = read_sbml_model('data/e_coli_core.xml.gz')"
   ]
  },
  {
   "cell_type": "markdown",
   "metadata": {},
   "source": [
    "## Knocking out a single gene"
   ]
  },
  {
   "cell_type": "markdown",
   "metadata": {},
   "source": [
    "In the model, exactly one gene is associated with reaction with [phosphoglycerate kinase](http://bigg.ucsd.edu/universal/reactions/PGK) (PGK)."
   ]
  },
  {
   "cell_type": "code",
   "execution_count": null,
   "metadata": {
    "ExecuteTime": {
     "end_time": "2019-02-20T23:10:23.991732Z",
     "start_time": "2019-02-20T23:10:23.985173Z"
    }
   },
   "outputs": [],
   "source": [
    "model.reactions.PGK.genes"
   ]
  },
  {
   "cell_type": "markdown",
   "metadata": {},
   "source": [
    "Checking the name of this gene in the model (the id is the Blattner number b2926), reveals that it is indeed [pgk](http://ecocyc.org/gene?orgid=ECOLI&id=EG10703)."
   ]
  },
  {
   "cell_type": "code",
   "execution_count": null,
   "metadata": {
    "ExecuteTime": {
     "end_time": "2019-02-20T23:10:25.792567Z",
     "start_time": "2019-02-20T23:10:25.787798Z"
    }
   },
   "outputs": [],
   "source": [
    "model.genes.b2926.name"
   ]
  },
  {
   "cell_type": "markdown",
   "metadata": {},
   "source": [
    "Is [pgk](http://ecocyc.org/gene?orgid=ECOLI&id=EG10703) essential? Let's find out."
   ]
  },
  {
   "cell_type": "code",
   "execution_count": null,
   "metadata": {
    "ExecuteTime": {
     "end_time": "2019-02-20T23:10:27.726485Z",
     "start_time": "2019-02-20T23:10:27.721051Z"
    }
   },
   "outputs": [],
   "source": [
    "with model as pgk_mutant:\n",
    "    pgk_mutant.genes.b2926.knock_out()\n",
    "    print(pgk_mutant.slim_optimize())"
   ]
  },
  {
   "cell_type": "markdown",
   "metadata": {},
   "source": [
    "Yes, it is."
   ]
  },
  {
   "cell_type": "markdown",
   "metadata": {},
   "source": [
    "## Perform all possible single gene deletions"
   ]
  },
  {
   "cell_type": "markdown",
   "metadata": {},
   "source": [
    "Using a `for` loop allows to iterate over all genes in the model and knock out each one of them individually. We're using the model as a context to undo every gene deletion before proceeding to the next knockout."
   ]
  },
  {
   "cell_type": "code",
   "execution_count": null,
   "metadata": {
    "ExecuteTime": {
     "end_time": "2019-02-20T23:10:30.633880Z",
     "start_time": "2019-02-20T23:10:30.587183Z"
    }
   },
   "outputs": [],
   "source": [
    "essentiality = {}\n",
    "for gene in model.genes:\n",
    "    with model:\n",
    "        gene.knock_out()\n",
    "        essentiality[gene] = model.slim_optimize(error_value=0.)"
   ]
  },
  {
   "cell_type": "code",
   "execution_count": null,
   "metadata": {
    "ExecuteTime": {
     "end_time": "2019-02-20T23:10:51.346275Z",
     "start_time": "2019-02-20T23:10:51.337263Z"
    },
    "scrolled": true
   },
   "outputs": [],
   "source": [
    "df = DataFrame.from_dict(essentiality, orient='index')\n",
    "df = df.rename(columns={0: 'growth'})\n",
    "df = df.sort_values('growth')"
   ]
  },
  {
   "cell_type": "code",
   "execution_count": null,
   "metadata": {
    "ExecuteTime": {
     "end_time": "2019-02-20T23:10:53.210675Z",
     "start_time": "2019-02-20T23:10:52.983586Z"
    }
   },
   "outputs": [],
   "source": [
    "df.plot.hist()"
   ]
  },
  {
   "cell_type": "code",
   "execution_count": null,
   "metadata": {
    "ExecuteTime": {
     "end_time": "2019-02-20T23:10:58.021561Z",
     "start_time": "2019-02-20T23:10:56.195739Z"
    }
   },
   "outputs": [],
   "source": [
    "ax = df.plot.bar().axes\n",
    "ax.figure.set_size_inches(16, 9)"
   ]
  },
  {
   "cell_type": "markdown",
   "metadata": {},
   "source": [
    "## Exercises\n",
    "\n",
    "1. How many genes are in each category (essential and non-essential)? How many non-essential genes show a reduced growth rate?\n",
    "2. Determine the essentialiy of genes for all other available carbon sources (if this is too complicated, determine the essentiality profile for one other carbon source).\n",
    "\n",
    "Hints:\n",
    "* Sometimes an optimal solution cannot be found for certain knockouts (an exception is raised). Use `try` and `except` to catch infeasible solutions."
   ]
  },
  {
   "cell_type": "code",
   "execution_count": null,
   "metadata": {
    "ExecuteTime": {
     "end_time": "2019-02-20T23:11:01.558491Z",
     "start_time": "2019-02-20T23:11:01.554627Z"
    }
   },
   "outputs": [],
   "source": [
    "carbon_exchanges = ['EX_ac_e', 'EX_etoh_e', 'EX_for_e',\n",
    "                    'EX_fru_e', 'EX_fum_e', 'EX_glc__D_e',\n",
    "                    'EX_lac__D_e', 'EX_mal__L_e', 'EX_pyr_e', 'EX_succ_e']"
   ]
  },
  {
   "cell_type": "markdown",
   "metadata": {},
   "source": [
    "## Gene essentiality with respect to each biomass precursor"
   ]
  },
  {
   "cell_type": "code",
   "execution_count": null,
   "metadata": {
    "ExecuteTime": {
     "end_time": "2019-02-20T23:11:03.589962Z",
     "start_time": "2019-02-20T23:11:03.584922Z"
    }
   },
   "outputs": [],
   "source": [
    "biomass_precursors = model.reactions.BIOMASS_Ecoli_core_w_GAM.reactants\n",
    "len(biomass_precursors)"
   ]
  },
  {
   "cell_type": "code",
   "execution_count": null,
   "metadata": {
    "ExecuteTime": {
     "end_time": "2019-02-20T23:11:17.420270Z",
     "start_time": "2019-02-20T23:11:11.923725Z"
    }
   },
   "outputs": [],
   "source": [
    "precursor_production = pd.DataFrame(columns=['knocked_gene', 'precursor', 'max_production'])\n",
    "index = 0\n",
    "for precursor in biomass_precursors:\n",
    "    print('Determining essentiality profile for precursor: ' + precursor.id)\n",
    "    with model:\n",
    "        model.objective = model.add_boundary(precursor, type='demand')\n",
    "        for gene in model.genes:\n",
    "            with model:\n",
    "                gene.knock_out()\n",
    "                precursor_production.loc[index] = gene.name, precursor.id, model.slim_optimize(error_value=0.)\n",
    "                index += 1"
   ]
  },
  {
   "cell_type": "code",
   "execution_count": null,
   "metadata": {
    "ExecuteTime": {
     "end_time": "2019-02-20T23:11:43.105373Z",
     "start_time": "2019-02-20T23:11:43.099385Z"
    }
   },
   "outputs": [],
   "source": [
    "precursor_production['can_produce'] = precursor_production['max_production'].apply(lambda x: 0 if x < 0.05 else 1)"
   ]
  },
  {
   "cell_type": "code",
   "execution_count": null,
   "metadata": {
    "ExecuteTime": {
     "end_time": "2019-02-20T23:11:45.253927Z",
     "start_time": "2019-02-20T23:11:45.220889Z"
    }
   },
   "outputs": [],
   "source": [
    "precursor_production"
   ]
  },
  {
   "cell_type": "code",
   "execution_count": null,
   "metadata": {
    "ExecuteTime": {
     "end_time": "2019-02-20T23:11:49.685495Z",
     "start_time": "2019-02-20T23:11:49.374041Z"
    }
   },
   "outputs": [],
   "source": [
    "import plotly.graph_objs as go\n",
    "from plotly.offline import init_notebook_mode, iplot\n",
    "init_notebook_mode(connected=True)"
   ]
  },
  {
   "cell_type": "code",
   "execution_count": null,
   "metadata": {
    "ExecuteTime": {
     "end_time": "2019-02-20T23:11:51.029729Z",
     "start_time": "2019-02-20T23:11:50.988538Z"
    }
   },
   "outputs": [],
   "source": [
    "df = precursor_production.pivot(index='precursor', columns='knocked_gene', values='can_produce')\n",
    "data = [go.Heatmap(z=df.values.tolist())]\n",
    "layout = go.Layout(xaxis=dict(title='knocked genes'), yaxis=dict(title='precursor'))\n",
    "fig = go.Figure(data=data, layout=layout)\n",
    "iplot(fig)"
   ]
  }
 ],
 "metadata": {
  "anaconda-cloud": {},
  "kernelspec": {
   "display_name": "Cell factory design course",
   "language": "python",
   "name": "cell-factory-design-course"
  },
  "language_info": {
   "codemirror_mode": {
    "name": "ipython",
    "version": 3
   },
   "file_extension": ".py",
   "mimetype": "text/x-python",
   "name": "python",
   "nbconvert_exporter": "python",
   "pygments_lexer": "ipython3",
   "version": "3.6.0"
  },
  "toc": {
   "base_numbering": 1,
   "nav_menu": {},
   "number_sections": true,
   "sideBar": true,
   "skip_h1_title": false,
   "title_cell": "Table of Contents",
   "title_sidebar": "Contents",
   "toc_cell": true,
   "toc_position": {},
   "toc_section_display": true,
   "toc_window_display": false
  },
  "varInspector": {
   "cols": {
    "lenName": 16,
    "lenType": 16,
    "lenVar": 40
   },
   "kernels_config": {
    "python": {
     "delete_cmd_postfix": "",
     "delete_cmd_prefix": "del ",
     "library": "var_list.py",
     "varRefreshCmd": "print(var_dic_list())"
    },
    "r": {
     "delete_cmd_postfix": ") ",
     "delete_cmd_prefix": "rm(",
     "library": "var_list.r",
     "varRefreshCmd": "cat(var_dic_list()) "
    }
   },
   "types_to_exclude": [
    "module",
    "function",
    "builtin_function_or_method",
    "instance",
    "_Feature"
   ],
   "window_display": false
  }
 },
 "nbformat": 4,
 "nbformat_minor": 2
}
