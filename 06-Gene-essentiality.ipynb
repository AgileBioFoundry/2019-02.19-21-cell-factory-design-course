{
 "cells": [
  {
   "cell_type": "markdown",
   "metadata": {},
   "source": [
    "# Gene essentiality"
   ]
  },
  {
   "cell_type": "code",
   "execution_count": 1,
   "metadata": {
    "collapsed": false
   },
   "outputs": [
    {
     "data": {
      "text/html": []
     },
     "metadata": {},
     "output_type": "display_data"
    },
    {
     "data": {
      "application/javascript": [
       "\n",
       "(function(global) {\n",
       "  function now() {\n",
       "    return new Date();\n",
       "  }\n",
       "\n",
       "  var force = \"1\";\n",
       "\n",
       "  if (typeof (window._bokeh_onload_callbacks) === \"undefined\" || force !== \"\") {\n",
       "    window._bokeh_onload_callbacks = [];\n",
       "    window._bokeh_is_loading = undefined;\n",
       "  }\n",
       "\n",
       "\n",
       "  \n",
       "  if (typeof (window._bokeh_timeout) === \"undefined\" || force !== \"\") {\n",
       "    window._bokeh_timeout = Date.now() + 5000;\n",
       "    window._bokeh_failed_load = false;\n",
       "  }\n",
       "\n",
       "  var NB_LOAD_WARNING = {'data': {'text/html':\n",
       "     \"<div style='background-color: #fdd'>\\n\"+\n",
       "     \"<p>\\n\"+\n",
       "     \"BokehJS does not appear to have successfully loaded. If loading BokehJS from CDN, this \\n\"+\n",
       "     \"may be due to a slow or bad network connection. Possible fixes:\\n\"+\n",
       "     \"</p>\\n\"+\n",
       "     \"<ul>\\n\"+\n",
       "     \"<li>re-rerun `output_notebook()` to attempt to load from CDN again, or</li>\\n\"+\n",
       "     \"<li>use INLINE resources instead, as so:</li>\\n\"+\n",
       "     \"</ul>\\n\"+\n",
       "     \"<code>\\n\"+\n",
       "     \"from bokeh.resources import INLINE\\n\"+\n",
       "     \"output_notebook(resources=INLINE)\\n\"+\n",
       "     \"</code>\\n\"+\n",
       "     \"</div>\"}};\n",
       "\n",
       "  function display_loaded() {\n",
       "    if (window.Bokeh !== undefined) {\n",
       "      Bokeh.$(\"#\").text(\"BokehJS successfully loaded.\");\n",
       "    } else if (Date.now() < window._bokeh_timeout) {\n",
       "      setTimeout(display_loaded, 100)\n",
       "    }\n",
       "  }\n",
       "\n",
       "  function run_callbacks() {\n",
       "    window._bokeh_onload_callbacks.forEach(function(callback) { callback() });\n",
       "    delete window._bokeh_onload_callbacks\n",
       "    console.info(\"Bokeh: all callbacks have finished\");\n",
       "  }\n",
       "\n",
       "  function load_libs(js_urls, callback) {\n",
       "    window._bokeh_onload_callbacks.push(callback);\n",
       "    if (window._bokeh_is_loading > 0) {\n",
       "      console.log(\"Bokeh: BokehJS is being loaded, scheduling callback at\", now());\n",
       "      return null;\n",
       "    }\n",
       "    if (js_urls == null || js_urls.length === 0) {\n",
       "      run_callbacks();\n",
       "      return null;\n",
       "    }\n",
       "    console.log(\"Bokeh: BokehJS not loaded, scheduling load and callback at\", now());\n",
       "    window._bokeh_is_loading = js_urls.length;\n",
       "    for (var i = 0; i < js_urls.length; i++) {\n",
       "      var url = js_urls[i];\n",
       "      var s = document.createElement('script');\n",
       "      s.src = url;\n",
       "      s.async = false;\n",
       "      s.onreadystatechange = s.onload = function() {\n",
       "        window._bokeh_is_loading--;\n",
       "        if (window._bokeh_is_loading === 0) {\n",
       "          console.log(\"Bokeh: all BokehJS libraries loaded\");\n",
       "          run_callbacks()\n",
       "        }\n",
       "      };\n",
       "      s.onerror = function() {\n",
       "        console.warn(\"failed to load library \" + url);\n",
       "      };\n",
       "      console.log(\"Bokeh: injecting script tag for BokehJS library: \", url);\n",
       "      document.getElementsByTagName(\"head\")[0].appendChild(s);\n",
       "    }\n",
       "  };\n",
       "\n",
       "  var js_urls = ['https://cdn.pydata.org/bokeh/release/bokeh-0.12.2.min.js', 'https://cdn.pydata.org/bokeh/release/bokeh-widgets-0.12.2.min.js', 'https://cdn.pydata.org/bokeh/release/bokeh-compiler-0.12.2.min.js'];\n",
       "\n",
       "  var inline_js = [\n",
       "    function(Bokeh) {\n",
       "      Bokeh.set_log_level(\"info\");\n",
       "    },\n",
       "    \n",
       "    function(Bokeh) {\n",
       "      \n",
       "      Bokeh.$(\"#2803f6fa-00a2-479d-b45d-be4323d8b572\").text(\"BokehJS is loading...\");\n",
       "    },\n",
       "    function(Bokeh) {\n",
       "      console.log(\"Bokeh: injecting CSS: https://cdn.pydata.org/bokeh/release/bokeh-0.12.2.min.css\");\n",
       "      Bokeh.embed.inject_css(\"https://cdn.pydata.org/bokeh/release/bokeh-0.12.2.min.css\");\n",
       "      console.log(\"Bokeh: injecting CSS: https://cdn.pydata.org/bokeh/release/bokeh-widgets-0.12.2.min.css\");\n",
       "      Bokeh.embed.inject_css(\"https://cdn.pydata.org/bokeh/release/bokeh-widgets-0.12.2.min.css\");\n",
       "    }\n",
       "  ];\n",
       "\n",
       "  function run_inline_js() {\n",
       "    \n",
       "    if ((window.Bokeh !== undefined) || (force === \"1\")) {\n",
       "      for (var i = 0; i < inline_js.length; i++) {\n",
       "        inline_js[i](window.Bokeh);\n",
       "      }} else if (Date.now() < window._bokeh_timeout) {\n",
       "      setTimeout(run_inline_js, 100);\n",
       "    } else if (!window._bokeh_failed_load) {\n",
       "      console.log(\"Bokeh: BokehJS failed to load within specified timeout.\");\n",
       "      window._bokeh_failed_load = true;\n",
       "    } else if (!force) {\n",
       "      var cell = $(\"#\").parents('.cell').data().cell;\n",
       "      cell.output_area.append_execute_result(NB_LOAD_WARNING)\n",
       "    }\n",
       "\n",
       "  }\n",
       "\n",
       "  if (window._bokeh_is_loading === 0) {\n",
       "    console.log(\"Bokeh: BokehJS loaded, going straight to plotting\");\n",
       "    run_inline_js();\n",
       "  } else {\n",
       "    load_libs(js_urls, function() {\n",
       "      console.log(\"Bokeh: BokehJS plotting callback run at\", now());\n",
       "      run_inline_js();\n",
       "    });\n",
       "  }\n",
       "}(this));"
      ]
     },
     "metadata": {},
     "output_type": "display_data"
    },
    {
     "data": {
      "text/html": []
     },
     "metadata": {},
     "output_type": "display_data"
    },
    {
     "data": {
      "application/javascript": [
       "\n",
       "(function(global) {\n",
       "  function now() {\n",
       "    return new Date();\n",
       "  }\n",
       "\n",
       "  var force = \"1\";\n",
       "\n",
       "  if (typeof (window._bokeh_onload_callbacks) === \"undefined\" || force !== \"\") {\n",
       "    window._bokeh_onload_callbacks = [];\n",
       "    window._bokeh_is_loading = undefined;\n",
       "  }\n",
       "\n",
       "\n",
       "  \n",
       "  if (typeof (window._bokeh_timeout) === \"undefined\" || force !== \"\") {\n",
       "    window._bokeh_timeout = Date.now() + 5000;\n",
       "    window._bokeh_failed_load = false;\n",
       "  }\n",
       "\n",
       "  var NB_LOAD_WARNING = {'data': {'text/html':\n",
       "     \"<div style='background-color: #fdd'>\\n\"+\n",
       "     \"<p>\\n\"+\n",
       "     \"BokehJS does not appear to have successfully loaded. If loading BokehJS from CDN, this \\n\"+\n",
       "     \"may be due to a slow or bad network connection. Possible fixes:\\n\"+\n",
       "     \"</p>\\n\"+\n",
       "     \"<ul>\\n\"+\n",
       "     \"<li>re-rerun `output_notebook()` to attempt to load from CDN again, or</li>\\n\"+\n",
       "     \"<li>use INLINE resources instead, as so:</li>\\n\"+\n",
       "     \"</ul>\\n\"+\n",
       "     \"<code>\\n\"+\n",
       "     \"from bokeh.resources import INLINE\\n\"+\n",
       "     \"output_notebook(resources=INLINE)\\n\"+\n",
       "     \"</code>\\n\"+\n",
       "     \"</div>\"}};\n",
       "\n",
       "  function display_loaded() {\n",
       "    if (window.Bokeh !== undefined) {\n",
       "      Bokeh.$(\"#\").text(\"BokehJS successfully loaded.\");\n",
       "    } else if (Date.now() < window._bokeh_timeout) {\n",
       "      setTimeout(display_loaded, 100)\n",
       "    }\n",
       "  }\n",
       "\n",
       "  function run_callbacks() {\n",
       "    window._bokeh_onload_callbacks.forEach(function(callback) { callback() });\n",
       "    delete window._bokeh_onload_callbacks\n",
       "    console.info(\"Bokeh: all callbacks have finished\");\n",
       "  }\n",
       "\n",
       "  function load_libs(js_urls, callback) {\n",
       "    window._bokeh_onload_callbacks.push(callback);\n",
       "    if (window._bokeh_is_loading > 0) {\n",
       "      console.log(\"Bokeh: BokehJS is being loaded, scheduling callback at\", now());\n",
       "      return null;\n",
       "    }\n",
       "    if (js_urls == null || js_urls.length === 0) {\n",
       "      run_callbacks();\n",
       "      return null;\n",
       "    }\n",
       "    console.log(\"Bokeh: BokehJS not loaded, scheduling load and callback at\", now());\n",
       "    window._bokeh_is_loading = js_urls.length;\n",
       "    for (var i = 0; i < js_urls.length; i++) {\n",
       "      var url = js_urls[i];\n",
       "      var s = document.createElement('script');\n",
       "      s.src = url;\n",
       "      s.async = false;\n",
       "      s.onreadystatechange = s.onload = function() {\n",
       "        window._bokeh_is_loading--;\n",
       "        if (window._bokeh_is_loading === 0) {\n",
       "          console.log(\"Bokeh: all BokehJS libraries loaded\");\n",
       "          run_callbacks()\n",
       "        }\n",
       "      };\n",
       "      s.onerror = function() {\n",
       "        console.warn(\"failed to load library \" + url);\n",
       "      };\n",
       "      console.log(\"Bokeh: injecting script tag for BokehJS library: \", url);\n",
       "      document.getElementsByTagName(\"head\")[0].appendChild(s);\n",
       "    }\n",
       "  };\n",
       "\n",
       "  var js_urls = ['https://cdn.pydata.org/bokeh/release/bokeh-0.12.2.min.js', 'https://cdn.pydata.org/bokeh/release/bokeh-widgets-0.12.2.min.js', 'https://cdn.pydata.org/bokeh/release/bokeh-compiler-0.12.2.min.js'];\n",
       "\n",
       "  var inline_js = [\n",
       "    function(Bokeh) {\n",
       "      Bokeh.set_log_level(\"info\");\n",
       "    },\n",
       "    \n",
       "    function(Bokeh) {\n",
       "      \n",
       "      Bokeh.$(\"#c8f9fbbc-774a-4b03-bdb3-ed22e99eb3ce\").text(\"BokehJS is loading...\");\n",
       "    },\n",
       "    function(Bokeh) {\n",
       "      console.log(\"Bokeh: injecting CSS: https://cdn.pydata.org/bokeh/release/bokeh-0.12.2.min.css\");\n",
       "      Bokeh.embed.inject_css(\"https://cdn.pydata.org/bokeh/release/bokeh-0.12.2.min.css\");\n",
       "      console.log(\"Bokeh: injecting CSS: https://cdn.pydata.org/bokeh/release/bokeh-widgets-0.12.2.min.css\");\n",
       "      Bokeh.embed.inject_css(\"https://cdn.pydata.org/bokeh/release/bokeh-widgets-0.12.2.min.css\");\n",
       "    }\n",
       "  ];\n",
       "\n",
       "  function run_inline_js() {\n",
       "    \n",
       "    if ((window.Bokeh !== undefined) || (force === \"1\")) {\n",
       "      for (var i = 0; i < inline_js.length; i++) {\n",
       "        inline_js[i](window.Bokeh);\n",
       "      }} else if (Date.now() < window._bokeh_timeout) {\n",
       "      setTimeout(run_inline_js, 100);\n",
       "    } else if (!window._bokeh_failed_load) {\n",
       "      console.log(\"Bokeh: BokehJS failed to load within specified timeout.\");\n",
       "      window._bokeh_failed_load = true;\n",
       "    } else if (!force) {\n",
       "      var cell = $(\"#\").parents('.cell').data().cell;\n",
       "      cell.output_area.append_execute_result(NB_LOAD_WARNING)\n",
       "    }\n",
       "\n",
       "  }\n",
       "\n",
       "  if (window._bokeh_is_loading === 0) {\n",
       "    console.log(\"Bokeh: BokehJS loaded, going straight to plotting\");\n",
       "    run_inline_js();\n",
       "  } else {\n",
       "    load_libs(js_urls, function() {\n",
       "      console.log(\"Bokeh: BokehJS plotting callback run at\", now());\n",
       "      run_inline_js();\n",
       "    });\n",
       "  }\n",
       "}(this));"
      ]
     },
     "metadata": {},
     "output_type": "display_data"
    }
   ],
   "source": [
    "import matplotlib.pyplot as plt\n",
    "plt.style.use('ggplot')\n",
    "from pandas import DataFrame\n",
    "from cameo import load_model, fba\n",
    "from cameo.util import TimeMachine\n",
    "from cameo import exceptions\n",
    "model = load_model('data/e_coli_core.xml.gz')"
   ]
  },
  {
   "cell_type": "markdown",
   "metadata": {},
   "source": [
    "## Knocking out a single gene"
   ]
  },
  {
   "cell_type": "markdown",
   "metadata": {},
   "source": [
    "In the model, exactly one gene is associated with reaction with [phosphoglycerate kinase](http://bigg.ucsd.edu/universal/reactions/PGK) (PGK)."
   ]
  },
  {
   "cell_type": "code",
   "execution_count": 2,
   "metadata": {
    "collapsed": false
   },
   "outputs": [
    {
     "data": {
      "text/plain": [
       "frozenset({<Gene b2926 at 0x11e36c518>})"
      ]
     },
     "execution_count": 2,
     "metadata": {},
     "output_type": "execute_result"
    }
   ],
   "source": [
    "model.reactions.PGK.genes"
   ]
  },
  {
   "cell_type": "markdown",
   "metadata": {},
   "source": [
    "Checking the name of this gene in the model (the id is the Blattner number b2926), reveals that it is indeed [pgk](http://ecocyc.org/gene?orgid=ECOLI&id=EG10703)."
   ]
  },
  {
   "cell_type": "code",
   "execution_count": 3,
   "metadata": {
    "collapsed": false
   },
   "outputs": [
    {
     "data": {
      "text/plain": [
       "'pgk'"
      ]
     },
     "execution_count": 3,
     "metadata": {},
     "output_type": "execute_result"
    }
   ],
   "source": [
    "model.genes.b2926.name"
   ]
  },
  {
   "cell_type": "markdown",
   "metadata": {},
   "source": [
    "Is [pgk](http://ecocyc.org/gene?orgid=ECOLI&id=EG10703) essential? Let's find out."
   ]
  },
  {
   "cell_type": "code",
   "execution_count": 4,
   "metadata": {
    "collapsed": false
   },
   "outputs": [
    {
     "data": {
      "text/plain": [
       "0.0"
      ]
     },
     "execution_count": 4,
     "metadata": {},
     "output_type": "execute_result"
    }
   ],
   "source": [
    "pgk_mutant = model.copy()\n",
    "pgk_mutant.genes.b2926.knock_out()\n",
    "pgk_mutant.solve().objective_value"
   ]
  },
  {
   "cell_type": "markdown",
   "metadata": {},
   "source": [
    "Yes, it is."
   ]
  },
  {
   "cell_type": "markdown",
   "metadata": {
    "collapsed": false
   },
   "source": [
    "## Perform all possible single gene deletions"
   ]
  },
  {
   "cell_type": "markdown",
   "metadata": {},
   "source": [
    "Using a `for` loop allows to iterate over all genes in the model and knock out each one of them individually. We're using `TimeMachine` to undo every gene deletion before proceeding to the next knockout."
   ]
  },
  {
   "cell_type": "code",
   "execution_count": 5,
   "metadata": {
    "collapsed": false
   },
   "outputs": [],
   "source": [
    "essentiality = {}\n",
    "for gene in model.genes:\n",
    "    with TimeMachine() as tm:\n",
    "        gene.knock_out(time_machine=tm)\n",
    "        try:\n",
    "            solution = model.solve()\n",
    "        except exceptions.Infeasible:\n",
    "            solution\n",
    "        else:\n",
    "            essentiality[gene] = solution.objective_value"
   ]
  },
  {
   "cell_type": "code",
   "execution_count": 7,
   "metadata": {
    "collapsed": false
   },
   "outputs": [
    {
     "data": {
      "text/plain": [
       "{<Gene b2925 at 0x11e3432b0>: 0.8739215069684304,\n",
       " <Gene b3916 at 0x11e36c048>: 0.8739215069684296,\n",
       " <Gene b1101 at 0x11e365d68>: 0.8739215069684296,\n",
       " <Gene b2280 at 0x11e2c4828>: 0.21166294973530198,\n",
       " <Gene b0118 at 0x11e3600f0>: 0.8739215069684304,\n",
       " <Gene b3612 at 0x11e36c7f0>: 0.8739215069684296,\n",
       " <Gene b2579 at 0x11e36c2b0>: 0.8739215069684296,\n",
       " <Gene b2297 at 0x11e36cfd0>: 0.8739215069684296,\n",
       " <Gene b1773 at 0x11e343668>: 0.8739215069684304,\n",
       " <Gene b1812 at 0x11e36a208>: 0.8739215069684296,\n",
       " <Gene b3732 at 0x11e35b198>: 0.3742298749331099,\n",
       " <Gene b2914 at 0x11e36e5c0>: 0.8739215069684296,\n",
       " <Gene b1241 at 0x11e35b1d0>: 0.8739215069684304,\n",
       " <Gene b3734 at 0x11e35b208>: 0.3742298749331099,\n",
       " <Gene b0485 at 0x11e36a240>: 0.8739215069684296,\n",
       " <Gene b0811 at 0x11e365278>: 0.8739215069684296,\n",
       " <Gene b0767 at 0x11e36c668>: 0.8638133095040011,\n",
       " <Gene b0979 at 0x11e351748>: 0.8739215069684304,\n",
       " <Gene b1276 at 0x11e3602b0>: 0.8739215069684304,\n",
       " <Gene b0723 at 0x11e36e978>: 0.8142975075325386,\n",
       " <Gene b0356 at 0x11e35b2e8>: 0.8739215069684304,\n",
       " <Gene b0116 at 0x11e2c4dd8>: 0.7823510529477393,\n",
       " <Gene b3213 at 0x11e36a320>: 0.8739215069684296,\n",
       " <Gene b0728 at 0x11e36eb38>: 0.8583074080226916,\n",
       " <Gene b3212 at 0x11e36a358>: 0.8739215069684296,\n",
       " <Gene b0810 at 0x11e365390>: 0.8739215069684296,\n",
       " <Gene b3739 at 0x11e35b940>: 0.8739215069684304,\n",
       " <Gene b0875 at 0x11e36a7f0>: 0.8739215069684296,\n",
       " <Gene b3919 at 0x11e3703c8>: 0.70403694785902,\n",
       " <Gene b1602 at 0x11e36ee80>: 0.8739215069684296,\n",
       " <Gene b3735 at 0x11e35b358>: 0.3742298749331099,\n",
       " <Gene b2463 at 0x11e2c4400>: 0.8739215069684296,\n",
       " <Gene b0733 at 0x11e351438>: 0.8739215069684304,\n",
       " <Gene b3925 at 0x11e343278>: 0.8739215069684304,\n",
       " <Gene b4152 at 0x11e340e10>: 0.8739215069684304,\n",
       " <Gene b3386 at 0x11e36e4a8>: 0.8739215069684296,\n",
       " <Gene b3731 at 0x11e35b7b8>: 0.3742298749331099,\n",
       " <Gene b0727 at 0x11e35ba90>: 0.8583074080226889,\n",
       " <Gene b2029 at 0x11e36a668>: 0.8638133095040019,\n",
       " <Gene b1479 at 0x11e2c4278>: 0.8739215069684296,\n",
       " <Gene b4077 at 0x11e36a518>: 0.8739215069684296,\n",
       " <Gene b1702 at 0x11e36cdd8>: 0.8739215069684296,\n",
       " <Gene b1612 at 0x11e340630>: 0.8739215069684304,\n",
       " <Gene b1817 at 0x11e365550>: 0.8739215069684304,\n",
       " <Gene b2282 at 0x11e2c4588>: 0.21166294973530198,\n",
       " <Gene b0722 at 0x11e36e908>: 0.8142975075325386,\n",
       " <Gene b3236 at 0x11e2c40f0>: 0.8258192905969879,\n",
       " <Gene b2283 at 0x11e2c45c0>: 0.21166294973530198,\n",
       " <Gene b0451 at 0x11e2c4ba8>: 0.8739215069684296,\n",
       " <Gene b2277 at 0x11e2c45f8>: 0.21166294973530198,\n",
       " <Gene b2987 at 0x11e36c908>: 0.8739215069684296,\n",
       " <Gene b2287 at 0x11e2c4630>: 0.21166294973530198,\n",
       " <Gene b0902 at 0x11e36c278>: 0.8739215069684296,\n",
       " <Gene b0809 at 0x11e365358>: 0.8739215069684296,\n",
       " <Gene b2278 at 0x11e2c4668>: 0.21166294973530198,\n",
       " <Gene b2296 at 0x11e3606a0>: 0.8739215069684304,\n",
       " <Gene b2281 at 0x11e2c46d8>: 0.21166294973530198,\n",
       " <Gene b2279 at 0x11e2c4710>: 0.21166294973530198,\n",
       " <Gene b2284 at 0x11e2c4748>: 0.21166294973530198,\n",
       " <Gene b3962 at 0x11e2c4a20>: 0.8739215069684296,\n",
       " <Gene b3738 at 0x11e35b780>: 0.3742298749331099,\n",
       " <Gene b4122 at 0x11e340940>: 0.8739215069684304,\n",
       " <Gene b2276 at 0x11e2c47b8>: 0.21166294973530198,\n",
       " <Gene b3528 at 0x11e36e6a0>: 0.8739215069684304,\n",
       " <Gene b2288 at 0x11e2c47f0>: 0.21166294973530198,\n",
       " <Gene b0474 at 0x11e35b828>: 0.8739215069684304,\n",
       " <Gene b1603 at 0x11e36eeb8>: 0.8739215069684296,\n",
       " <Gene b2465 at 0x11e370278>: 0.8739215069684296,\n",
       " <Gene b0114 at 0x11e2c4e10>: 0.7966959254309578,\n",
       " <Gene b1136 at 0x11e36a908>: 0.0,\n",
       " <Gene b4025 at 0x11e36c438>: 0.8631595522084232,\n",
       " <Gene b1849 at 0x11e360940>: 0.8739215069684304,\n",
       " <Gene b2285 at 0x11e2c46a0>: 0.21166294973530198,\n",
       " <Gene b3737 at 0x11e35b978>: 0.3742298749331099,\n",
       " <Gene b3951 at 0x11e36c240>: 0.8739215069684296,\n",
       " <Gene b0720 at 0x11e351ef0>: 0.0,\n",
       " <Gene b1621 at 0x11e365c50>: 0.8739215069684296,\n",
       " <Gene b3603 at 0x11e351a20>: 0.8739215069684304,\n",
       " <Gene b0721 at 0x11e36e9b0>: 0.8142975075325386,\n",
       " <Gene b3956 at 0x11e36ca90>: 0.8707448062160617,\n",
       " <Gene b2975 at 0x11e351a58>: 0.8739215069684304,\n",
       " <Gene b4395 at 0x11e36c828>: 0.8739215069684296,\n",
       " <Gene b4232 at 0x11e343710>: 0.8739215069684304,\n",
       " <Gene b1818 at 0x11e365a90>: 0.8739215069684304,\n",
       " <Gene b4301 at 0x11e36e470>: 0.8739215069684296,\n",
       " <Gene b0726 at 0x11e35bf28>: 0.8583074080226889,\n",
       " <Gene b0755 at 0x11e36c7b8>: 0.8739215069684296,\n",
       " <Gene b1524 at 0x11e36a1d0>: 0.8739215069684296,\n",
       " <Gene b0729 at 0x11e36eb00>: 0.8583074080226916,\n",
       " <Gene b0734 at 0x11e351c88>: 0.8739215069684304,\n",
       " <Gene b2779 at 0x11e351b38>: 0.0,\n",
       " <Gene b2492 at 0x11e340b70>: 0.8739215069684304,\n",
       " <Gene b0115 at 0x11e2c4da0>: 0.7966959254309578,\n",
       " <Gene b3870 at 0x11e365748>: 0.8739215069684296,\n",
       " <Gene b2133 at 0x11e36aba8>: 0.8739215069684296,\n",
       " <Gene b1380 at 0x11e36abe0>: 0.8739215069684296,\n",
       " <Gene b2935 at 0x11e370240>: 0.8739215069684296,\n",
       " <Gene b2097 at 0x11e343208>: 0.8739215069684304,\n",
       " <Gene b3493 at 0x11e36c940>: 0.8739215069684296,\n",
       " <Gene b1478 at 0x11e35b7f0>: 0.8739215069684304,\n",
       " <Gene b4090 at 0x11e36e588>: 0.8739215069684296,\n",
       " <Gene b0978 at 0x11e351c50>: 0.8739215069684304,\n",
       " <Gene b4151 at 0x11e340208>: 0.8739215069684304,\n",
       " <Gene b2417 at 0x11e365c88>: 0.8739215069684296,\n",
       " <Gene b0903 at 0x11e36c2e8>: 0.8739215069684296,\n",
       " <Gene s0001 at 0x11e2c4cc0>: 0.211140652572116,\n",
       " <Gene b2587 at 0x11e35ba20>: 0.8739215069684304,\n",
       " <Gene b2286 at 0x11e2c4780>: 0.21166294973530198,\n",
       " <Gene b1676 at 0x11e36e198>: 0.8739215069684296,\n",
       " <Gene b0904 at 0x11e340780>: 0.8739215069684304,\n",
       " <Gene b0724 at 0x11e36e940>: 0.8142975075325386,\n",
       " <Gene b1819 at 0x11e365d30>: 0.8739215069684304,\n",
       " <Gene b2976 at 0x11e36ad68>: 0.8739215069684296,\n",
       " <Gene b3952 at 0x11e36c1d0>: 0.8739215069684296,\n",
       " <Gene b3115 at 0x11e360a90>: 0.8739215069684304,\n",
       " <Gene b4154 at 0x11e340da0>: 0.8739215069684304,\n",
       " <Gene b0008 at 0x11e36ecf8>: 0.8739215069684296,\n",
       " <Gene b1854 at 0x11e36e1d0>: 0.8739215069684296,\n",
       " <Gene b0351 at 0x1128c4dd8>: 0.8739215069684304,\n",
       " <Gene b1852 at 0x11e277e10>: 0.8638133095040005,\n",
       " <Gene b3114 at 0x11e36c208>: 0.8739215069684296,\n",
       " <Gene b1611 at 0x11e3407b8>: 0.8739215069684304,\n",
       " <Gene b4153 at 0x11e340e48>: 0.8739215069684304,\n",
       " <Gene b2926 at 0x11e36c518>: 0.0,\n",
       " <Gene b4014 at 0x11e36ada0>: 0.8739215069684296,\n",
       " <Gene b3736 at 0x11e35b278>: 0.3742298749331099,\n",
       " <Gene b2458 at 0x11e36e048>: 0.8739215069684296,\n",
       " <Gene b1779 at 0x11e277ef0>: 0.0,\n",
       " <Gene b3733 at 0x11e357f28>: 0.3742298749331099,\n",
       " <Gene b2464 at 0x11e36ed30>: 0.8739215069684296,\n",
       " <Gene b4015 at 0x11e36aa90>: 0.8739215069684296,\n",
       " <Gene b3403 at 0x11e36cc50>: 0.8739215069684296,\n",
       " <Gene b1761 at 0x11e365f98>: 0.8513885233462052,\n",
       " <Gene b1297 at 0x11e3657f0>: 0.8739215069684296,\n",
       " <Gene b1723 at 0x11e2c4fd0>: 0.8739215069684296}"
      ]
     },
     "execution_count": 7,
     "metadata": {},
     "output_type": "execute_result"
    }
   ],
   "source": [
    "essentiality"
   ]
  },
  {
   "cell_type": "code",
   "execution_count": 8,
   "metadata": {
    "collapsed": false,
    "scrolled": true
   },
   "outputs": [],
   "source": [
    "df = DataFrame.from_dict(essentiality, orient='index')\n",
    "df = df.rename(columns={0: 'growth'})\n",
    "df = df.sort_values('growth')"
   ]
  },
  {
   "cell_type": "code",
   "execution_count": 9,
   "metadata": {
    "collapsed": false
   },
   "outputs": [
    {
     "data": {
      "text/plain": [
       "<matplotlib.axes._subplots.AxesSubplot at 0x11b864e80>"
      ]
     },
     "execution_count": 9,
     "metadata": {},
     "output_type": "execute_result"
    },
    {
     "data": {
      "image/png": "[encoded data removed]",
      "text/plain": [
       "<matplotlib.figure.Figure at 0x1128c4cf8>"
      ]
     },
     "metadata": {},
     "output_type": "display_data"
    }
   ],
   "source": [
    "df.plot.hist()"
   ]
  },
  {
   "cell_type": "code",
   "execution_count": 10,
   "metadata": {
    "collapsed": false
   },
   "outputs": [
    {
     "data": {
      "image/png": "[encoded data removed]",
      "text/plain": [
       "<matplotlib.figure.Figure at 0x11e2a1550>"
      ]
     },
     "metadata": {},
     "output_type": "display_data"
    }
   ],
   "source": [
    "ax = df.plot.bar().axes\n",
    "ax.figure.set_size_inches(16, 9)"
   ]
  },
  {
   "cell_type": "markdown",
   "metadata": {},
   "source": [
    "## Exercises\n",
    "\n",
    "1. How many genes are in each category (essential and non-essential)? How many non-essential genes show a reduced growth rate?\n",
    "2. Determine the essentialiy of genes for all other available carbon sources (if this is too complicated, determine the essentiality profile for one other carbon source).\n",
    "\n",
    "Hints:\n",
    "* Sometimes an optimal solution cannot be found for certain knockouts (an exception is raised). Use `try` and `except` to catch infeasible solutions."
   ]
  },
  {
   "cell_type": "code",
   "execution_count": 11,
   "metadata": {
    "collapsed": true
   },
   "outputs": [],
   "source": [
    "carbon_exchanges = ['EX_ac_e', 'EX_etoh_e', 'EX_for_e',\n",
    "                    'EX_fru_e', 'EX_fum_e', 'EX_glc__D_e',\n",
    "                    'EX_lac__D_e', 'EX_mal__L_e', 'EX_pyr_e', 'EX_succ_e']"
   ]
  },
  {
   "cell_type": "markdown",
   "metadata": {},
   "source": [
    "## Gene essentiality with respect to each biomass precursor"
   ]
  },
  {
   "cell_type": "code",
   "execution_count": 12,
   "metadata": {
    "collapsed": false
   },
   "outputs": [
    {
     "data": {
      "text/plain": [
       "16"
      ]
     },
     "execution_count": 12,
     "metadata": {},
     "output_type": "execute_result"
    }
   ],
   "source": [
    "biomass_precursors = model.reactions.BIOMASS_Ecoli_core_w_GAM.reactants\n",
    "len(biomass_precursors)"
   ]
  },
  {
   "cell_type": "code",
   "execution_count": 13,
   "metadata": {
    "collapsed": false
   },
   "outputs": [
    {
     "data": {
      "text/plain": [
       "[<Metabolite g3p_c at 0x11e370400>,\n",
       " <Metabolite oaa_c at 0x11e36cc88>,\n",
       " <Metabolite 3pg_c at 0x11e36c898>,\n",
       " <Metabolite g6p_c at 0x11e36c4a8>,\n",
       " <Metabolite accoa_c at 0x11e36e0f0>,\n",
       " <Metabolite r5p_c at 0x11e370128>,\n",
       " <Metabolite pep_c at 0x11e36e2e8>,\n",
       " <Metabolite glu__L_c at 0x11e36a588>,\n",
       " <Metabolite h2o_c at 0x11e36ce48>,\n",
       " <Metabolite e4p_c at 0x11e3702b0>,\n",
       " <Metabolite f6p_c at 0x11e3702e8>,\n",
       " <Metabolite pyr_c at 0x11e36e358>,\n",
       " <Metabolite nadph_c at 0x11e36ef60>,\n",
       " <Metabolite atp_c at 0x11e36eb70>,\n",
       " <Metabolite gln__L_c at 0x11e36a390>,\n",
       " <Metabolite nad_c at 0x11e36efd0>]"
      ]
     },
     "execution_count": 13,
     "metadata": {},
     "output_type": "execute_result"
    }
   ],
   "source": [
    "biomass_precursors"
   ]
  },
  {
   "cell_type": "code",
   "execution_count": 14,
   "metadata": {
    "collapsed": false
   },
   "outputs": [
    {
     "name": "stdout",
     "output_type": "stream",
     "text": [
      "Determining essentiality profile for precursor: g3p_c\n",
      "Determining essentiality profile for precursor: oaa_c\n",
      "Determining essentiality profile for precursor: 3pg_c\n",
      "Determining essentiality profile for precursor: g6p_c\n",
      "Determining essentiality profile for precursor: accoa_c\n",
      "Determining essentiality profile for precursor: r5p_c\n",
      "Determining essentiality profile for precursor: pep_c\n",
      "Determining essentiality profile for precursor: glu__L_c\n",
      "Determining essentiality profile for precursor: h2o_c\n",
      "Determining essentiality profile for precursor: e4p_c\n",
      "Determining essentiality profile for precursor: f6p_c\n",
      "Determining essentiality profile for precursor: pyr_c\n",
      "Determining essentiality profile for precursor: nadph_c\n",
      "Determining essentiality profile for precursor: atp_c\n",
      "Determining essentiality profile for precursor: gln__L_c\n",
      "Determining essentiality profile for precursor: nad_c\n"
     ]
    }
   ],
   "source": [
    "model_copy = model.copy()\n",
    "precursor_essentiality = {}\n",
    "for precursor in biomass_precursors:\n",
    "    print('Determining essentiality profile for precursor: ' + precursor.id)\n",
    "    precursor_essentiality[precursor.name] = {}\n",
    "    demand = model_copy.add_exchange(precursor)\n",
    "    model_copy.objective = demand\n",
    "    for gene in model_copy.genes:\n",
    "        with TimeMachine() as tm:\n",
    "            gene.knock_out(time_machine=tm)\n",
    "            try:\n",
    "                solution = model_copy.solve()\n",
    "            except:\n",
    "                precursor_essentiality[precursor.name][gene.name] = 0\n",
    "            else:\n",
    "                precursor_essentiality[precursor.name][gene.name] = solution.objective_value"
   ]
  },
  {
   "cell_type": "code",
   "execution_count": 15,
   "metadata": {
    "collapsed": false
   },
   "outputs": [],
   "source": [
    "df = DataFrame.from_dict(precursor_essentiality)\n",
    "df = df.applymap(lambda x: 0 if x < 0.05 else 1)"
   ]
  },
  {
   "cell_type": "code",
   "execution_count": 16,
   "metadata": {
    "collapsed": false
   },
   "outputs": [
    {
     "data": {
      "image/png": "[encoded data removed]",
      "text/plain": [
       "<matplotlib.figure.Figure at 0x1211913c8>"
      ]
     },
     "metadata": {},
     "output_type": "display_data"
    }
   ],
   "source": [
    "from matplotlib import pyplot as plt\n",
    "from matplotlib import colorbar\n",
    "x = plt.matshow(df, cmap='gray')\n",
    "ax = x.axes\n",
    "ax.grid(color='gray')\n",
    "# plt.colorbar(mappable=x, ax=ax)\n",
    "ax.figure.set_figwidth(8)\n",
    "ax.set_aspect(.1)\n",
    "ax.set_xlabel('Precursors')\n",
    "ax.set_ylabel('Genes')\n",
    "plt.show()"
   ]
  },
  {
   "cell_type": "code",
   "execution_count": null,
   "metadata": {
    "collapsed": true
   },
   "outputs": [],
   "source": []
  }
 ],
 "metadata": {
  "anaconda-cloud": {},
  "kernelspec": {
   "display_name": "Python [default]",
   "language": "python",
   "name": "python3"
  },
  "language_info": {
   "codemirror_mode": {
    "name": "ipython",
    "version": 3
   },
   "file_extension": ".py",
   "mimetype": "text/x-python",
   "name": "python",
   "nbconvert_exporter": "python",
   "pygments_lexer": "ipython3",
   "version": "3.4.5"
  }
 },
 "nbformat": 4,
 "nbformat_minor": 0
}
